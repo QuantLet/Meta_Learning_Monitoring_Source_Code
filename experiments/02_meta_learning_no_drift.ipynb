{
 "cells": [
  {
   "cell_type": "code",
   "execution_count": 13,
   "metadata": {},
   "outputs": [],
   "source": [
    "############################\n",
    "######### SETTINGS #########\n",
    "############################\n",
    "\n",
    "#%pip install lightgbm\n",
    "\n",
    "# Dependencies\n",
    "import pandas as pd\n",
    "from sklearn.feature_extraction.text import TfidfVectorizer\n",
    "from sklearn.svm import SVR\n",
    "from sklearn.model_selection import train_test_split\n",
    "from sklearn.metrics import classification_report\n",
    "\n",
    "from sklearn.metrics import mean_absolute_error, mean_squared_error\n",
    "import math\n",
    "\n",
    "import numpy as np\n",
    "import pandas as pd\n",
    "from datasets import Dataset\n",
    "from sklearn.model_selection import KFold\n",
    "from tqdm import tqdm\n",
    "tqdm.pandas()\n",
    "\n",
    "import seaborn as sns\n",
    "import evaluate\n",
    "\n",
    "# Constants\n",
    "RS = 42\n"
   ]
  },
  {
   "cell_type": "code",
   "execution_count": 2,
   "metadata": {},
   "outputs": [],
   "source": [
    "############################\n",
    "######## FUNCTIONS #########\n",
    "############################"
   ]
  },
  {
   "cell_type": "code",
   "execution_count": 68,
   "metadata": {},
   "outputs": [],
   "source": [
    "cv_df = pd.read_csv(\"./experiments/csv_results/cv_results.csv\")\n",
    "test_df = pd.read_csv(\"./experiments/csv_results/test_df.csv\")"
   ]
  },
  {
   "cell_type": "code",
   "execution_count": 69,
   "metadata": {},
   "outputs": [],
   "source": [
    "from sklearn.ensemble import GradientBoostingRegressor"
   ]
  },
  {
   "cell_type": "code",
   "execution_count": 70,
   "metadata": {},
   "outputs": [],
   "source": [
    "############################\n",
    "######### CV TRAINING ######\n",
    "############################\n",
    "\n",
    "kf = KFold(n_splits=3, random_state=RS, shuffle=True)\n",
    "\n",
    "y_model = [\"predictions_ft_rouge\", \"predictions_zs_rouge\"]\n",
    "\n",
    "full_results = {} \n",
    "for column in y_model:\n",
    "    for fold in range(0, 3):\n",
    "        X_train = cv_df.loc[cv_df.fold!=fold, \"input_sequence\"]\n",
    "        X_val = cv_df.loc[cv_df.fold==fold, \"input_sequence\"]\n",
    "        \n",
    "        y_train = cv_df.loc[cv_df.fold!=fold, f\"fold_{column}\"]\n",
    "        y_val = cv_df.loc[cv_df.fold==fold, f\"fold_{column}\"]\n",
    "\n",
    "        X_test = test_df.loc[:, \"input_sequence\"]\n",
    "        y_test = test_df.loc[:, column]\n",
    "\n",
    "        # TF-IDF Vectorization\n",
    "        vectorizer = TfidfVectorizer()\n",
    "        X_train_tfidf = vectorizer.fit_transform(X_train)\n",
    "        X_val_tfidf = vectorizer.transform(X_val)\n",
    "        X_test_tfidf = vectorizer.transform(X_test)\n",
    "\n",
    "        # SVM Model\n",
    "        svm = GradientBoostingRegressor()#SVR(kernel='linear')\n",
    "        svm.fit(X_train_tfidf, y_train)\n",
    "\n",
    "        # Predictions and evaluation\n",
    "        y_pred = svm.predict(X_val_tfidf)\n",
    "        preds_df = pd.DataFrame(data={\"label\": y_val, \"pred\": y_pred})\n",
    "        preds_df[\"i_mae\"] = preds_df.apply(lambda x: abs(x[\"label\"]-x[\"pred\"]), axis=1)\n",
    "        preds_df[\"base_avg\"] = preds_df.label.mean()\n",
    "        preds_df[\"base_i_mae\"] = preds_df.apply(lambda x: abs(x[\"label\"]-x[\"base_avg\"]), axis=1)\n",
    "\n",
    "\n",
    "        # Test predictions\n",
    "        y_test_pred = svm.predict(X_test_tfidf)\n",
    "\n",
    "        if fold==0:\n",
    "            results = preds_df.copy()\n",
    "            test_preds = [y_test_pred]\n",
    "        else: \n",
    "            results = pd.concat([results, preds_df])\n",
    "            test_preds.append(y_test_pred)\n",
    "    \n",
    "    full_results[column] = {\"cv_results\" : results, \"test_preds\": np.array(test_preds).mean(axis=0)}\n"
   ]
  },
  {
   "cell_type": "code",
   "execution_count": 72,
   "metadata": {},
   "outputs": [],
   "source": [
    "cv_df[\"predictions_meta_zs\"] = full_results[\"predictions_zs_rouge\"][\"cv_results\"][\"pred\"]\n",
    "cv_df[\"predictions_meta_ft\"] = full_results[\"predictions_ft_rouge\"][\"cv_results\"][\"pred\"]\n",
    "\n",
    "test_df[\"predictions_meta_zs\"] = full_results[\"predictions_zs_rouge\"][\"test_preds\"]\n",
    "test_df[\"predictions_meta_ft\"] = full_results[\"predictions_ft_rouge\"][\"test_preds\"]"
   ]
  },
  {
   "cell_type": "code",
   "execution_count": 73,
   "metadata": {},
   "outputs": [],
   "source": [
    "rouge = evaluate.load('rouge')"
   ]
  },
  {
   "cell_type": "code",
   "execution_count": 62,
   "metadata": {},
   "outputs": [],
   "source": [
    "# cv_df[\"FTvsZS\"] = cv_df[\"fold_predictions_ft_rouge\"] > cv_df[\"fold_predictions_zs_rouge\"]\n",
    "# cv_df.loc[cv_df[\"FTvsZS\"], \"ModelUsed\"] = \"FT\"\n",
    "# cv_df.loc[~cv_df[\"FTvsZS\"], \"ModelUsed\"] = \"ZS\"\n",
    "# cv_df.loc[cv_df[\"ModelUsed\"]==\"ZS\", \"MetaPred\"] = cv_df.loc[cv_df[\"ModelUsed\"]==\"ZS\", \"fold_predictions_zs\"]\n",
    "# cv_df.loc[cv_df[\"ModelUsed\"]==\"FT\", \"MetaPred\"] = cv_df.loc[cv_df[\"ModelUsed\"]==\"FT\", \"fold_predictions_ft\"]\n",
    "\n",
    "# cv_df.loc[:, \"meta_rouge\"] = rouge.compute(references=cv_df[\"output_sequence\"], predictions=cv_df[\"MetaPred\"], use_aggregator=False)[\"rouge1\"]\n",
    "\n",
    "# test_df[\"FTvsZS\"] = test_df[\"predictions_ft_rouge\"] > test_df[\"predictions_zs_rouge\"]\n",
    "# test_df.loc[test_df[\"FTvsZS\"], \"ModelUsed\"] = \"FT\"\n",
    "# test_df.loc[~test_df[\"FTvsZS\"], \"ModelUsed\"] = \"ZS\"\n",
    "# test_df.loc[test_df[\"ModelUsed\"]==\"ZS\", \"MetaPred\"] = test_df.loc[test_df[\"ModelUsed\"]==\"ZS\", \"predictions_zs\"]\n",
    "# test_df.loc[test_df[\"ModelUsed\"]==\"FT\", \"MetaPred\"] = test_df.loc[test_df[\"ModelUsed\"]==\"FT\", \"predictions_ft\"]\n",
    "\n",
    "# test_df.loc[:, \"meta_rouge\"] = rouge.compute(references=test_df[\"output_sequence\"], predictions=test_df[\"MetaPred\"], use_aggregator=False)[\"rouge1\"]\n",
    "\n",
    "# cv_df.meta_rouge.mean()\n",
    "# test_df.meta_rouge.mean()"
   ]
  },
  {
   "cell_type": "code",
   "execution_count": 74,
   "metadata": {},
   "outputs": [],
   "source": [
    "cv_df[\"FTvsZS\"] = cv_df[\"predictions_meta_ft\"] > cv_df[\"predictions_meta_zs\"]\n",
    "cv_df.loc[cv_df[\"FTvsZS\"], \"ModelUsed\"] = \"FT\"\n",
    "cv_df.loc[~cv_df[\"FTvsZS\"], \"ModelUsed\"] = \"ZS\"\n",
    "cv_df.loc[cv_df[\"ModelUsed\"]==\"ZS\", \"MetaPred\"] = cv_df.loc[cv_df[\"ModelUsed\"]==\"ZS\", \"fold_predictions_zs\"]\n",
    "cv_df.loc[cv_df[\"ModelUsed\"]==\"FT\", \"MetaPred\"] = cv_df.loc[cv_df[\"ModelUsed\"]==\"FT\", \"fold_predictions_ft\"]\n",
    "\n",
    "cv_df.loc[:, \"meta_rouge\"] = rouge.compute(references=cv_df[\"output_sequence\"], predictions=cv_df[\"MetaPred\"], use_aggregator=False)[\"rouge1\"]"
   ]
  },
  {
   "cell_type": "code",
   "execution_count": 75,
   "metadata": {},
   "outputs": [],
   "source": [
    "test_df[\"FTvsZS\"] = test_df[\"predictions_meta_ft\"] > test_df[\"predictions_meta_zs\"]\n",
    "test_df.loc[test_df[\"FTvsZS\"], \"ModelUsed\"] = \"FT\"\n",
    "test_df.loc[~test_df[\"FTvsZS\"], \"ModelUsed\"] = \"ZS\"\n",
    "test_df.loc[test_df[\"ModelUsed\"]==\"ZS\", \"MetaPred\"] = test_df.loc[test_df[\"ModelUsed\"]==\"ZS\", \"predictions_zs\"]\n",
    "test_df.loc[test_df[\"ModelUsed\"]==\"FT\", \"MetaPred\"] = test_df.loc[test_df[\"ModelUsed\"]==\"FT\", \"predictions_ft\"]\n",
    "\n",
    "test_df.loc[:, \"meta_rouge\"] = rouge.compute(references=test_df[\"output_sequence\"], predictions=test_df[\"MetaPred\"], use_aggregator=False)[\"rouge1\"]"
   ]
  },
  {
   "cell_type": "code",
   "execution_count": 76,
   "metadata": {},
   "outputs": [
    {
     "name": "stdout",
     "output_type": "stream",
     "text": [
      "Cross Validation Rouge Meta-Approach 0.39594524943456555\n",
      "Test Rouge Meta-Approach 0.4208453737174197\n"
     ]
    }
   ],
   "source": [
    "print(f\"Cross Validation Rouge Meta-Approach {cv_df.loc[:, 'meta_rouge'].mean()}\")\n",
    "print(f\"Test Rouge Meta-Approach {test_df.loc[:, 'meta_rouge'].mean()}\")"
   ]
  },
  {
   "cell_type": "code",
   "execution_count": null,
   "metadata": {},
   "outputs": [],
   "source": []
  }
 ],
 "metadata": {
  "kernelspec": {
   "display_name": "dd_spek",
   "language": "python",
   "name": "python3"
  },
  "language_info": {
   "codemirror_mode": {
    "name": "ipython",
    "version": 3
   },
   "file_extension": ".py",
   "mimetype": "text/x-python",
   "name": "python",
   "nbconvert_exporter": "python",
   "pygments_lexer": "ipython3",
   "version": "3.11.8"
  }
 },
 "nbformat": 4,
 "nbformat_minor": 2
}
