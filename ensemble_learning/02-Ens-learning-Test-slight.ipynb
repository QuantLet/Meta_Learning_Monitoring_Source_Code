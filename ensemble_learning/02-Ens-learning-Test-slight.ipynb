{
 "cells": [
  {
   "cell_type": "markdown",
   "metadata": {},
   "source": [
    "### 1. Settings"
   ]
  },
  {
   "cell_type": "code",
   "execution_count": 1,
   "metadata": {},
   "outputs": [
    {
     "name": "stderr",
     "output_type": "stream",
     "text": [
      "[nltk_data] Downloading package punkt to\n",
      "[nltk_data]     /home/RDC/zinovyee.hub/nltk_data...\n",
      "[nltk_data]   Package punkt is already up-to-date!\n",
      "/home/RDC/zinovyee.hub/.conda/envs/ensemble/lib/python3.10/site-packages/huggingface_hub/file_download.py:1132: FutureWarning: `resume_download` is deprecated and will be removed in version 1.0.0. Downloads always resume when possible. If you want to force a new download, use `force_download=True`.\n",
      "  warnings.warn(\n"
     ]
    }
   ],
   "source": [
    "#####################################\n",
    "##########  DEPENDECIES ############\n",
    "#####################################\n",
    "\n",
    "import os\n",
    "import pickle\n",
    "import numpy as np\n",
    "from tqdm import tqdm # type: ignore\n",
    "import pandas as pd\n",
    "import copy\n",
    "from datetime import date\n",
    "\n",
    "from datasets import load_dataset, DatasetDict, Dataset\n",
    "from transformers import DataCollatorForSeq2Seq, Seq2SeqTrainer, Seq2SeqTrainingArguments\n",
    "from sklearn.model_selection import KFold # type: ignore\n",
    "import evaluate\n",
    "\n",
    "from transformers import AutoModelForSeq2SeqLM, AutoTokenizer\n",
    "\n",
    "import utils.prep as pr\n",
    "import utils.eval as ev\n",
    "import utils.inference as infer\n",
    "\n",
    "from sklearn.feature_extraction.text import TfidfVectorizer\n",
    "\n",
    "from sklearn.svm import SVR\n",
    "from sklearn.linear_model import LinearRegression\n",
    "from sklearn.ensemble import RandomForestRegressor\n",
    "from sklearn.metrics import mean_squared_error, mean_absolute_error\n",
    "import math\n",
    "\n",
    "from lightgbm import LGBMRegressor\n",
    "from catboost import CatBoostRegressor\n",
    "from scipy.sparse import hstack\n",
    "\n",
    "tqdm.pandas()\n",
    "\n",
    "os.environ[\"TOKENIZERS_PARALLELISM\"] = \"false\"\n",
    "os.environ[\"WANDB_DISABLED\"] = \"true\"\n",
    "os.environ[\"CUDA_VISIBLE_DEVICES\"] = \"2\"\n",
    "\n",
    "import torch\n",
    "#####################################\n",
    "############  CONSTANTS #############\n",
    "#####################################\n",
    "RS = 42\n",
    "\n",
    "MODEL = \"CodeT5\"\n",
    "BATCH_SIZE = 15\n",
    "DECODER_LENGTH = 20\n",
    "ENCODER_LENGTH = 30\n",
    "ANALYSIS_POSTFIX = f\"mined_slight_2024-07-28\"\n",
    "DATE_STR = 20240721\n",
    "SEMANTIC_DRIFT = True\n",
    "model_name=\"Salesforce/codet5-base-multi-sum\"\n",
    "\n",
    "FULL_TRAIN_ARGS = {\n",
    "    \"BATCH_SIZE\": BATCH_SIZE,\n",
    "    \"DECODER_LENGTH\": DECODER_LENGTH,\n",
    "    \"ENCODER_LENGTH\": ENCODER_LENGTH,\n",
    "    \"MODEL\": MODEL,\n",
    "    \"SEQ_TRAINER_ARGS\": {\n",
    "        \"overwrite_output_dir\": True,\n",
    "        \"num_train_epochs\": [0, 1, 5, 8, 10, 16],\n",
    "        \"do_train\": True,\n",
    "        \"do_eval\": True,\n",
    "        \"per_device_train_batch_size\": 4,\n",
    "        \"per_device_eval_batch_size\": 4,\n",
    "        \"learning_rate\": 6e-6,\n",
    "        \"warmup_steps\": 500,\n",
    "        \"weight_decay\": 0.1,\n",
    "        \"label_smoothing_factor\": 0.1,\n",
    "        \"predict_with_generate\": True,\n",
    "        \"logging_steps\": 100,\n",
    "        \"save_total_limit\": 1,\n",
    "        \"save_strategy\": \"no\",\n",
    "        \"logging_strategy\": \"epoch\",\n",
    "        \"evaluation_strategy\": \"epoch\",\n",
    "        \"load_best_model_at_end\": False,\n",
    "        \"output_dir\" : 'reports/results',\n",
    "        \"logging_dir\" : \"reports/logs\",\n",
    "    },\n",
    "}\n",
    "\n",
    "tokenizer = AutoTokenizer.from_pretrained(model_name, skip_special_tokens=False)\n",
    "model = AutoModelForSeq2SeqLM.from_pretrained(model_name)"
   ]
  },
  {
   "cell_type": "markdown",
   "metadata": {},
   "source": [
    "### 2. Conala data. Preprocessing."
   ]
  },
  {
   "cell_type": "code",
   "execution_count": 2,
   "metadata": {},
   "outputs": [
    {
     "name": "stdout",
     "output_type": "stream",
     "text": [
      "Train Data:  (7942, 11)\n",
      "Test Data:  (2058, 11)\n"
     ]
    },
    {
     "data": {
      "application/vnd.jupyter.widget-view+json": {
       "model_id": "0ba53eb22fc24408be5549f2c7372adc",
       "version_major": 2,
       "version_minor": 0
      },
      "text/plain": [
       "Filter:   0%|          | 0/7942 [00:00<?, ? examples/s]"
      ]
     },
     "metadata": {},
     "output_type": "display_data"
    },
    {
     "data": {
      "application/vnd.jupyter.widget-view+json": {
       "model_id": "d94bdc8df9744d1088fd1dbc4c85eb04",
       "version_major": 2,
       "version_minor": 0
      },
      "text/plain": [
       "Filter:   0%|          | 0/7942 [00:00<?, ? examples/s]"
      ]
     },
     "metadata": {},
     "output_type": "display_data"
    },
    {
     "data": {
      "application/vnd.jupyter.widget-view+json": {
       "model_id": "8620601105844d78a623d91a3214729f",
       "version_major": 2,
       "version_minor": 0
      },
      "text/plain": [
       "Map:   0%|          | 0/7942 [00:00<?, ? examples/s]"
      ]
     },
     "metadata": {},
     "output_type": "display_data"
    },
    {
     "data": {
      "application/vnd.jupyter.widget-view+json": {
       "model_id": "ee1096ef5d7b46b79b78621fd2185c98",
       "version_major": 2,
       "version_minor": 0
      },
      "text/plain": [
       "Filter:   0%|          | 0/2058 [00:00<?, ? examples/s]"
      ]
     },
     "metadata": {},
     "output_type": "display_data"
    },
    {
     "data": {
      "application/vnd.jupyter.widget-view+json": {
       "model_id": "2ef4d93e190741bca1906cbb91707748",
       "version_major": 2,
       "version_minor": 0
      },
      "text/plain": [
       "Filter:   0%|          | 0/2058 [00:00<?, ? examples/s]"
      ]
     },
     "metadata": {},
     "output_type": "display_data"
    },
    {
     "data": {
      "application/vnd.jupyter.widget-view+json": {
       "model_id": "b6b66186aa6c471dbec5f0078d39c08d",
       "version_major": 2,
       "version_minor": 0
      },
      "text/plain": [
       "Map:   0%|          | 0/2058 [00:00<?, ? examples/s]"
      ]
     },
     "metadata": {},
     "output_type": "display_data"
    }
   ],
   "source": [
    "\n",
    "dataset = pd.read_csv(f\"../data/processed/conala/{DATE_STR}/conala_mined_clustered.csv\")\n",
    "\n",
    "if SEMANTIC_DRIFT:\n",
    "    dataset_4_cl = dataset[dataset.cluster==4].sample(n=2000, random_state=RS)\n",
    "    dataset_non_4_cl = dataset[dataset.cluster!=4].sample(n=8000, random_state=RS)\n",
    "\n",
    "    qids_4_cl = sorted(dataset_4_cl.question_id.unique())\n",
    "    train_idx_4_cl, test_idx_4_cl = qids_4_cl[int(len(qids_4_cl)*0.9):], qids_4_cl[:int(len(qids_4_cl)*0.9)]\n",
    "\n",
    "    qids_non4_cl = sorted(dataset_non_4_cl.question_id.unique())\n",
    "    train_idx_non4_cl, test_idx_non4_cl = qids_non4_cl[:int(len(qids_non4_cl)*0.968)], qids_non4_cl[int(len(qids_non4_cl)*0.968):]\n",
    "\n",
    "    test_idx_non4_cl.append(train_idx_non4_cl[0])\n",
    "    train_idx_non4_cl.pop(0)\n",
    "    \n",
    "    \n",
    "    train_dataset_4cl = dataset_4_cl[dataset_4_cl.question_id.isin(train_idx_4_cl)]\n",
    "    test_dataset_4cl = dataset_4_cl[dataset_4_cl.question_id.isin(test_idx_4_cl)]\n",
    "\n",
    "    train_dataset_non4cl = dataset_non_4_cl[dataset_non_4_cl.question_id.isin(train_idx_non4_cl)]\n",
    "    test_dataset_non4cl = dataset_non_4_cl[dataset_non_4_cl.question_id.isin(test_idx_non4_cl)]\n",
    "\n",
    "    train_dataset = pd.concat([train_dataset_4cl, train_dataset_non4cl], axis=0).sample(frac=1, random_state=RS).reset_index(drop=True)\n",
    "    test_dataset = pd.concat([test_dataset_4cl, test_dataset_non4cl], axis=0).sample(frac=1, random_state=RS).reset_index(drop=True)\n",
    "       \n",
    "else:\n",
    "    qids = sorted(dataset.question_id.unique())\n",
    "    train_idx, test_idx = qids[:int(len(qids)*0.8)], qids[int(len(qids)*0.8):]\n",
    "    train_dataset = dataset[dataset.question_id.isin(train_idx)]\n",
    "    test_dataset = dataset[dataset.question_id.isin(test_idx)]\n",
    "\n",
    "\n",
    "print(\"Train Data: \", train_dataset.shape)\n",
    "print(\"Test Data: \", test_dataset.shape)\n",
    "\n",
    "train_dataset = Dataset.from_pandas(train_dataset.sample(frac=1, random_state=RS).reset_index(drop=True))\n",
    "test_dataset = Dataset.from_pandas(test_dataset.sample(frac=1, random_state=RS).reset_index(drop=True))\n",
    "\n",
    "train_data = pr.preprocess_dataset(train_dataset, tokenizer=tokenizer, intent_colum_name=\"intent\")\n",
    "test_data = pr.preprocess_dataset(test_dataset, tokenizer=tokenizer, intent_colum_name=\"intent\")\n",
    "test_df = pd.DataFrame(test_data)\n",
    "test_df[\"id\"] = test_df.index\n",
    "\n",
    "device = torch.device(\"cuda\" if torch.cuda.is_available() else \"cpu\")\n",
    "rouge = evaluate.load('rouge')"
   ]
  },
  {
   "cell_type": "code",
   "execution_count": 3,
   "metadata": {},
   "outputs": [],
   "source": [
    "def pred_perf(X, model): \n",
    "    global ANALYSIS_POSTFIX\n",
    "    with open(f'./models/reg_{model}_{ANALYSIS_POSTFIX}.pkl','rb') as f:\n",
    "            reg = pickle.load(f)\n",
    "\n",
    "    y_pred = reg.predict(X)\n",
    "    y_pred[y_pred<0] = 0\n",
    "    return y_pred"
   ]
  },
  {
   "cell_type": "code",
   "execution_count": 4,
   "metadata": {},
   "outputs": [
    {
     "name": "stdout",
     "output_type": "stream",
     "text": [
      "svm\n",
      "catboost\n"
     ]
    }
   ],
   "source": [
    "### Step 1. PREDICT PERFORMANCE\n",
    "\n",
    "# TRAIN ON ALL PREDICTIONS AT ONCE\n",
    "\n",
    "t_models = [\"svm\", \"catboost\"]\n",
    "\n",
    "for epoch_i, epoch_set in enumerate(sorted(FULL_TRAIN_ARGS[\"SEQ_TRAINER_ARGS\"][\"num_train_epochs\"])):\n",
    "\n",
    "    set_df = test_df.copy()\n",
    "    set_df[\"epoch_set\"] = epoch_set\n",
    "    # Prepare the input data\n",
    "    with open(f\"./models/vectorizer_{ANALYSIS_POSTFIX}.pkl\", \"rb\") as file:\n",
    "        vectorizer = pickle.load(file)\n",
    "\n",
    "    if epoch_set==0:\n",
    "        meta_preds_df = set_df.copy()\n",
    "    else: \n",
    "        meta_preds_df = pd.concat([meta_preds_df, set_df])\n",
    "         \n",
    "X_test_tfidf = vectorizer.transform(meta_preds_df.loc[:, \"input_sequence\"])\n",
    "X_test_column_sparse = pd.get_dummies(meta_preds_df.loc[:, \"epoch_set\"], sparse=True).sparse.to_coo().tocsr()\n",
    "X_test = hstack([X_test_column_sparse, X_test_tfidf])\n",
    "#y_test = test_df.loc[:, \"rouge\"]\n",
    "\n",
    "models_preds = []\n",
    "for model in t_models:\n",
    "    print(model)\n",
    "    meta_preds_df[f\"{model}_preds\"] = pred_perf(X_test, model)\n",
    "\n",
    "meta_preds_df = meta_preds_df.reset_index(drop=True)\n",
    "\n",
    "########## SAVE THE FILE\n",
    "\n",
    "with open(f'reports/results/test_results_s2_{ANALYSIS_POSTFIX}.pickle', 'wb') as handle:\n",
    "    pickle.dump(meta_preds_df, handle, protocol=pickle.HIGHEST_PROTOCOL)"
   ]
  },
  {
   "cell_type": "code",
   "execution_count": 5,
   "metadata": {},
   "outputs": [
    {
     "data": {
      "text/plain": [
       "epoch_set\n",
       "0     0.111018\n",
       "1     0.249436\n",
       "5     0.267315\n",
       "8     0.267315\n",
       "10    0.267315\n",
       "16    0.267441\n",
       "Name: catboost_preds, dtype: float64"
      ]
     },
     "execution_count": 5,
     "metadata": {},
     "output_type": "execute_result"
    }
   ],
   "source": [
    "meta_preds_df.groupby(\"epoch_set\").catboost_preds.mean()"
   ]
  },
  {
   "cell_type": "markdown",
   "metadata": {},
   "source": []
  },
  {
   "cell_type": "code",
   "execution_count": 6,
   "metadata": {},
   "outputs": [],
   "source": [
    "models_index = meta_preds_df.groupby(\"id\")[\"catboost_preds\"].idxmax()\n",
    "optimal_ensemble = meta_preds_df.iloc[models_index][[\"id\", \"epoch_set\"]]\n",
    "optimal_ensemble_map = dict(zip(optimal_ensemble.id, optimal_ensemble.epoch_set))"
   ]
  },
  {
   "cell_type": "code",
   "execution_count": 7,
   "metadata": {},
   "outputs": [
    {
     "name": "stdout",
     "output_type": "stream",
     "text": [
      "TRAINING EPOCH SET 0\n",
      "TRAINING EPOCHS 0\n",
      "LOADING MODEL Salesforce/codet5-base-multi-sum\n"
     ]
    },
    {
     "name": "stderr",
     "output_type": "stream",
     "text": [
      "/home/RDC/zinovyee.hub/.conda/envs/ensemble/lib/python3.10/site-packages/huggingface_hub/file_download.py:1132: FutureWarning: `resume_download` is deprecated and will be removed in version 1.0.0. Downloads always resume when possible. If you want to force a new download, use `force_download=True`.\n",
      "  warnings.warn(\n"
     ]
    },
    {
     "name": "stdout",
     "output_type": "stream",
     "text": [
      "cuda\n"
     ]
    },
    {
     "name": "stderr",
     "output_type": "stream",
     "text": [
      "Using the `WANDB_DISABLED` environment variable is deprecated and will be removed in v5. Use the --report_to flag to control the integrations used for logging result (for instance --report_to none).\n",
      "/home/RDC/zinovyee.hub/.conda/envs/ensemble/lib/python3.10/site-packages/accelerate/accelerator.py:444: FutureWarning: Passing the following arguments to `Accelerator` is deprecated and will be removed in version 1.0 of Accelerate: dict_keys(['dispatch_batches', 'split_batches', 'even_batches', 'use_seedable_sampler']). Please pass an `accelerate.DataLoaderConfiguration` instead: \n",
      "dataloader_config = DataLoaderConfiguration(dispatch_batches=None, split_batches=False, even_batches=True, use_seedable_sampler=True)\n",
      "  warnings.warn(\n",
      "/home/RDC/zinovyee.hub/.conda/envs/ensemble/lib/python3.10/site-packages/transformers/utils/import_utils.py:616: FutureWarning: `torch._dynamo.external_utils.is_compiling` is deprecated. Use `torch.compiler.is_compiling` instead.\n",
      "  return dynamo.is_compiling()\n"
     ]
    },
    {
     "name": "stdout",
     "output_type": "stream",
     "text": [
      "TRAINING EPOCH SET 1\n",
      "TRAINING EPOCHS 1\n",
      "LOADING MODEL Salesforce/codet5-base-multi-sum\n"
     ]
    },
    {
     "name": "stderr",
     "output_type": "stream",
     "text": [
      "/home/RDC/zinovyee.hub/.conda/envs/ensemble/lib/python3.10/site-packages/huggingface_hub/file_download.py:1132: FutureWarning: `resume_download` is deprecated and will be removed in version 1.0.0. Downloads always resume when possible. If you want to force a new download, use `force_download=True`.\n",
      "  warnings.warn(\n",
      "Using the `WANDB_DISABLED` environment variable is deprecated and will be removed in v5. Use the --report_to flag to control the integrations used for logging result (for instance --report_to none).\n"
     ]
    },
    {
     "name": "stdout",
     "output_type": "stream",
     "text": [
      "cuda\n"
     ]
    },
    {
     "name": "stderr",
     "output_type": "stream",
     "text": [
      "/home/RDC/zinovyee.hub/.conda/envs/ensemble/lib/python3.10/site-packages/accelerate/accelerator.py:444: FutureWarning: Passing the following arguments to `Accelerator` is deprecated and will be removed in version 1.0 of Accelerate: dict_keys(['dispatch_batches', 'split_batches', 'even_batches', 'use_seedable_sampler']). Please pass an `accelerate.DataLoaderConfiguration` instead: \n",
      "dataloader_config = DataLoaderConfiguration(dispatch_batches=None, split_batches=False, even_batches=True, use_seedable_sampler=True)\n",
      "  warnings.warn(\n"
     ]
    },
    {
     "data": {
      "text/html": [
       "\n",
       "    <div>\n",
       "      \n",
       "      <progress value='1986' max='1986' style='width:300px; height:20px; vertical-align: middle;'></progress>\n",
       "      [1986/1986 05:41, Epoch 1/1]\n",
       "    </div>\n",
       "    <table border=\"1\" class=\"dataframe\">\n",
       "  <thead>\n",
       " <tr style=\"text-align: left;\">\n",
       "      <th>Epoch</th>\n",
       "      <th>Training Loss</th>\n",
       "      <th>Validation Loss</th>\n",
       "      <th>Rouge1</th>\n",
       "      <th>Rouge2</th>\n",
       "      <th>Rougel</th>\n",
       "      <th>Rougelsum</th>\n",
       "      <th>Gen Len</th>\n",
       "      <th>Bleu</th>\n",
       "      <th>Brevity Penalty</th>\n",
       "      <th>Length Ratio</th>\n",
       "      <th>Translation Length</th>\n",
       "      <th>Reference Length</th>\n",
       "    </tr>\n",
       "  </thead>\n",
       "  <tbody>\n",
       "    <tr>\n",
       "      <td>1</td>\n",
       "      <td>5.040800</td>\n",
       "      <td>4.599920</td>\n",
       "      <td>0.261300</td>\n",
       "      <td>0.066700</td>\n",
       "      <td>0.229800</td>\n",
       "      <td>0.229700</td>\n",
       "      <td>14.359100</td>\n",
       "      <td>0.021900</td>\n",
       "      <td>1.000000</td>\n",
       "      <td>1.173300</td>\n",
       "      <td>23360</td>\n",
       "      <td>19909</td>\n",
       "    </tr>\n",
       "  </tbody>\n",
       "</table><p>"
      ],
      "text/plain": [
       "<IPython.core.display.HTML object>"
      ]
     },
     "metadata": {},
     "output_type": "display_data"
    },
    {
     "name": "stderr",
     "output_type": "stream",
     "text": [
      "/home/RDC/zinovyee.hub/.conda/envs/ensemble/lib/python3.10/site-packages/transformers/utils/import_utils.py:616: FutureWarning: `torch._dynamo.external_utils.is_compiling` is deprecated. Use `torch.compiler.is_compiling` instead.\n",
      "  return dynamo.is_compiling()\n",
      "/home/RDC/zinovyee.hub/.conda/envs/ensemble/lib/python3.10/site-packages/transformers/generation/utils.py:1132: UserWarning: Using the model-agnostic default `max_length` (=20) to control the generation length. We recommend setting `max_new_tokens` to control the maximum length of the generation.\n",
      "  warnings.warn(\n"
     ]
    },
    {
     "name": "stdout",
     "output_type": "stream",
     "text": [
      "TRAINING EPOCH SET 5\n",
      "TRAINING EPOCHS 4\n",
      "LOADING MODEL ./models/1_epoch_set\n",
      "cuda\n"
     ]
    },
    {
     "name": "stderr",
     "output_type": "stream",
     "text": [
      "Using the `WANDB_DISABLED` environment variable is deprecated and will be removed in v5. Use the --report_to flag to control the integrations used for logging result (for instance --report_to none).\n",
      "/home/RDC/zinovyee.hub/.conda/envs/ensemble/lib/python3.10/site-packages/accelerate/accelerator.py:444: FutureWarning: Passing the following arguments to `Accelerator` is deprecated and will be removed in version 1.0 of Accelerate: dict_keys(['dispatch_batches', 'split_batches', 'even_batches', 'use_seedable_sampler']). Please pass an `accelerate.DataLoaderConfiguration` instead: \n",
      "dataloader_config = DataLoaderConfiguration(dispatch_batches=None, split_batches=False, even_batches=True, use_seedable_sampler=True)\n",
      "  warnings.warn(\n"
     ]
    },
    {
     "data": {
      "text/html": [
       "\n",
       "    <div>\n",
       "      \n",
       "      <progress value='7944' max='7944' style='width:300px; height:20px; vertical-align: middle;'></progress>\n",
       "      [7944/7944 23:51, Epoch 4/4]\n",
       "    </div>\n",
       "    <table border=\"1\" class=\"dataframe\">\n",
       "  <thead>\n",
       " <tr style=\"text-align: left;\">\n",
       "      <th>Epoch</th>\n",
       "      <th>Training Loss</th>\n",
       "      <th>Validation Loss</th>\n",
       "      <th>Rouge1</th>\n",
       "      <th>Rouge2</th>\n",
       "      <th>Rougel</th>\n",
       "      <th>Rougelsum</th>\n",
       "      <th>Gen Len</th>\n",
       "      <th>Bleu</th>\n",
       "      <th>Brevity Penalty</th>\n",
       "      <th>Length Ratio</th>\n",
       "      <th>Translation Length</th>\n",
       "      <th>Reference Length</th>\n",
       "    </tr>\n",
       "  </thead>\n",
       "  <tbody>\n",
       "    <tr>\n",
       "      <td>1</td>\n",
       "      <td>4.610700</td>\n",
       "      <td>4.472607</td>\n",
       "      <td>0.257100</td>\n",
       "      <td>0.068000</td>\n",
       "      <td>0.227700</td>\n",
       "      <td>0.227900</td>\n",
       "      <td>14.889700</td>\n",
       "      <td>0.022400</td>\n",
       "      <td>1.000000</td>\n",
       "      <td>1.236900</td>\n",
       "      <td>24625</td>\n",
       "      <td>19909</td>\n",
       "    </tr>\n",
       "    <tr>\n",
       "      <td>2</td>\n",
       "      <td>4.515000</td>\n",
       "      <td>4.419823</td>\n",
       "      <td>0.254700</td>\n",
       "      <td>0.068700</td>\n",
       "      <td>0.227200</td>\n",
       "      <td>0.227200</td>\n",
       "      <td>14.828500</td>\n",
       "      <td>0.022600</td>\n",
       "      <td>1.000000</td>\n",
       "      <td>1.219200</td>\n",
       "      <td>24273</td>\n",
       "      <td>19909</td>\n",
       "    </tr>\n",
       "    <tr>\n",
       "      <td>3</td>\n",
       "      <td>4.421900</td>\n",
       "      <td>4.398048</td>\n",
       "      <td>0.257800</td>\n",
       "      <td>0.069700</td>\n",
       "      <td>0.228700</td>\n",
       "      <td>0.228800</td>\n",
       "      <td>14.788600</td>\n",
       "      <td>0.024000</td>\n",
       "      <td>1.000000</td>\n",
       "      <td>1.210700</td>\n",
       "      <td>24103</td>\n",
       "      <td>19909</td>\n",
       "    </tr>\n",
       "    <tr>\n",
       "      <td>4</td>\n",
       "      <td>4.372700</td>\n",
       "      <td>4.392119</td>\n",
       "      <td>0.256700</td>\n",
       "      <td>0.070600</td>\n",
       "      <td>0.228200</td>\n",
       "      <td>0.228300</td>\n",
       "      <td>14.775500</td>\n",
       "      <td>0.025300</td>\n",
       "      <td>1.000000</td>\n",
       "      <td>1.210200</td>\n",
       "      <td>24093</td>\n",
       "      <td>19909</td>\n",
       "    </tr>\n",
       "  </tbody>\n",
       "</table><p>"
      ],
      "text/plain": [
       "<IPython.core.display.HTML object>"
      ]
     },
     "metadata": {},
     "output_type": "display_data"
    },
    {
     "name": "stderr",
     "output_type": "stream",
     "text": [
      "/home/RDC/zinovyee.hub/.conda/envs/ensemble/lib/python3.10/site-packages/transformers/utils/import_utils.py:616: FutureWarning: `torch._dynamo.external_utils.is_compiling` is deprecated. Use `torch.compiler.is_compiling` instead.\n",
      "  return dynamo.is_compiling()\n",
      "/home/RDC/zinovyee.hub/.conda/envs/ensemble/lib/python3.10/site-packages/transformers/generation/utils.py:1132: UserWarning: Using the model-agnostic default `max_length` (=20) to control the generation length. We recommend setting `max_new_tokens` to control the maximum length of the generation.\n",
      "  warnings.warn(\n"
     ]
    },
    {
     "name": "stdout",
     "output_type": "stream",
     "text": [
      "TRAINING EPOCH SET 8\n",
      "TRAINING EPOCHS 3\n",
      "LOADING MODEL ./models/5_epoch_set\n",
      "cuda\n"
     ]
    },
    {
     "name": "stderr",
     "output_type": "stream",
     "text": [
      "Using the `WANDB_DISABLED` environment variable is deprecated and will be removed in v5. Use the --report_to flag to control the integrations used for logging result (for instance --report_to none).\n",
      "/home/RDC/zinovyee.hub/.conda/envs/ensemble/lib/python3.10/site-packages/accelerate/accelerator.py:444: FutureWarning: Passing the following arguments to `Accelerator` is deprecated and will be removed in version 1.0 of Accelerate: dict_keys(['dispatch_batches', 'split_batches', 'even_batches', 'use_seedable_sampler']). Please pass an `accelerate.DataLoaderConfiguration` instead: \n",
      "dataloader_config = DataLoaderConfiguration(dispatch_batches=None, split_batches=False, even_batches=True, use_seedable_sampler=True)\n",
      "  warnings.warn(\n"
     ]
    },
    {
     "data": {
      "text/html": [
       "\n",
       "    <div>\n",
       "      \n",
       "      <progress value='5958' max='5958' style='width:300px; height:20px; vertical-align: middle;'></progress>\n",
       "      [5958/5958 18:32, Epoch 3/3]\n",
       "    </div>\n",
       "    <table border=\"1\" class=\"dataframe\">\n",
       "  <thead>\n",
       " <tr style=\"text-align: left;\">\n",
       "      <th>Epoch</th>\n",
       "      <th>Training Loss</th>\n",
       "      <th>Validation Loss</th>\n",
       "      <th>Rouge1</th>\n",
       "      <th>Rouge2</th>\n",
       "      <th>Rougel</th>\n",
       "      <th>Rougelsum</th>\n",
       "      <th>Gen Len</th>\n",
       "      <th>Bleu</th>\n",
       "      <th>Brevity Penalty</th>\n",
       "      <th>Length Ratio</th>\n",
       "      <th>Translation Length</th>\n",
       "      <th>Reference Length</th>\n",
       "    </tr>\n",
       "  </thead>\n",
       "  <tbody>\n",
       "    <tr>\n",
       "      <td>1</td>\n",
       "      <td>4.189400</td>\n",
       "      <td>4.384966</td>\n",
       "      <td>0.258000</td>\n",
       "      <td>0.070900</td>\n",
       "      <td>0.229600</td>\n",
       "      <td>0.229700</td>\n",
       "      <td>14.982000</td>\n",
       "      <td>0.025100</td>\n",
       "      <td>1.000000</td>\n",
       "      <td>1.232300</td>\n",
       "      <td>24533</td>\n",
       "      <td>19909</td>\n",
       "    </tr>\n",
       "    <tr>\n",
       "      <td>2</td>\n",
       "      <td>4.169600</td>\n",
       "      <td>4.369865</td>\n",
       "      <td>0.258400</td>\n",
       "      <td>0.071600</td>\n",
       "      <td>0.229800</td>\n",
       "      <td>0.229900</td>\n",
       "      <td>14.903300</td>\n",
       "      <td>0.025900</td>\n",
       "      <td>1.000000</td>\n",
       "      <td>1.214900</td>\n",
       "      <td>24187</td>\n",
       "      <td>19909</td>\n",
       "    </tr>\n",
       "    <tr>\n",
       "      <td>3</td>\n",
       "      <td>4.154300</td>\n",
       "      <td>4.366175</td>\n",
       "      <td>0.256600</td>\n",
       "      <td>0.071200</td>\n",
       "      <td>0.229300</td>\n",
       "      <td>0.229400</td>\n",
       "      <td>14.901400</td>\n",
       "      <td>0.025700</td>\n",
       "      <td>1.000000</td>\n",
       "      <td>1.216400</td>\n",
       "      <td>24217</td>\n",
       "      <td>19909</td>\n",
       "    </tr>\n",
       "  </tbody>\n",
       "</table><p>"
      ],
      "text/plain": [
       "<IPython.core.display.HTML object>"
      ]
     },
     "metadata": {},
     "output_type": "display_data"
    },
    {
     "name": "stderr",
     "output_type": "stream",
     "text": [
      "/home/RDC/zinovyee.hub/.conda/envs/ensemble/lib/python3.10/site-packages/transformers/utils/import_utils.py:616: FutureWarning: `torch._dynamo.external_utils.is_compiling` is deprecated. Use `torch.compiler.is_compiling` instead.\n",
      "  return dynamo.is_compiling()\n",
      "/home/RDC/zinovyee.hub/.conda/envs/ensemble/lib/python3.10/site-packages/transformers/generation/utils.py:1132: UserWarning: Using the model-agnostic default `max_length` (=20) to control the generation length. We recommend setting `max_new_tokens` to control the maximum length of the generation.\n",
      "  warnings.warn(\n"
     ]
    },
    {
     "name": "stdout",
     "output_type": "stream",
     "text": [
      "TRAINING EPOCH SET 10\n",
      "TRAINING EPOCHS 2\n",
      "LOADING MODEL ./models/8_epoch_set\n"
     ]
    },
    {
     "name": "stderr",
     "output_type": "stream",
     "text": [
      "Using the `WANDB_DISABLED` environment variable is deprecated and will be removed in v5. Use the --report_to flag to control the integrations used for logging result (for instance --report_to none).\n"
     ]
    },
    {
     "name": "stdout",
     "output_type": "stream",
     "text": [
      "cuda\n"
     ]
    },
    {
     "name": "stderr",
     "output_type": "stream",
     "text": [
      "/home/RDC/zinovyee.hub/.conda/envs/ensemble/lib/python3.10/site-packages/accelerate/accelerator.py:444: FutureWarning: Passing the following arguments to `Accelerator` is deprecated and will be removed in version 1.0 of Accelerate: dict_keys(['dispatch_batches', 'split_batches', 'even_batches', 'use_seedable_sampler']). Please pass an `accelerate.DataLoaderConfiguration` instead: \n",
      "dataloader_config = DataLoaderConfiguration(dispatch_batches=None, split_batches=False, even_batches=True, use_seedable_sampler=True)\n",
      "  warnings.warn(\n"
     ]
    },
    {
     "data": {
      "text/html": [
       "\n",
       "    <div>\n",
       "      \n",
       "      <progress value='3972' max='3972' style='width:300px; height:20px; vertical-align: middle;'></progress>\n",
       "      [3972/3972 12:29, Epoch 2/2]\n",
       "    </div>\n",
       "    <table border=\"1\" class=\"dataframe\">\n",
       "  <thead>\n",
       " <tr style=\"text-align: left;\">\n",
       "      <th>Epoch</th>\n",
       "      <th>Training Loss</th>\n",
       "      <th>Validation Loss</th>\n",
       "      <th>Rouge1</th>\n",
       "      <th>Rouge2</th>\n",
       "      <th>Rougel</th>\n",
       "      <th>Rougelsum</th>\n",
       "      <th>Gen Len</th>\n",
       "      <th>Bleu</th>\n",
       "      <th>Brevity Penalty</th>\n",
       "      <th>Length Ratio</th>\n",
       "      <th>Translation Length</th>\n",
       "      <th>Reference Length</th>\n",
       "    </tr>\n",
       "  </thead>\n",
       "  <tbody>\n",
       "    <tr>\n",
       "      <td>1</td>\n",
       "      <td>3.884300</td>\n",
       "      <td>4.400117</td>\n",
       "      <td>0.256100</td>\n",
       "      <td>0.069200</td>\n",
       "      <td>0.226500</td>\n",
       "      <td>0.226700</td>\n",
       "      <td>14.868300</td>\n",
       "      <td>0.025100</td>\n",
       "      <td>1.000000</td>\n",
       "      <td>1.212100</td>\n",
       "      <td>24131</td>\n",
       "      <td>19909</td>\n",
       "    </tr>\n",
       "    <tr>\n",
       "      <td>2</td>\n",
       "      <td>3.925000</td>\n",
       "      <td>4.392230</td>\n",
       "      <td>0.255400</td>\n",
       "      <td>0.069300</td>\n",
       "      <td>0.226300</td>\n",
       "      <td>0.226400</td>\n",
       "      <td>15.062200</td>\n",
       "      <td>0.025300</td>\n",
       "      <td>1.000000</td>\n",
       "      <td>1.227200</td>\n",
       "      <td>24433</td>\n",
       "      <td>19909</td>\n",
       "    </tr>\n",
       "  </tbody>\n",
       "</table><p>"
      ],
      "text/plain": [
       "<IPython.core.display.HTML object>"
      ]
     },
     "metadata": {},
     "output_type": "display_data"
    },
    {
     "name": "stderr",
     "output_type": "stream",
     "text": [
      "/home/RDC/zinovyee.hub/.conda/envs/ensemble/lib/python3.10/site-packages/transformers/utils/import_utils.py:616: FutureWarning: `torch._dynamo.external_utils.is_compiling` is deprecated. Use `torch.compiler.is_compiling` instead.\n",
      "  return dynamo.is_compiling()\n",
      "/home/RDC/zinovyee.hub/.conda/envs/ensemble/lib/python3.10/site-packages/transformers/generation/utils.py:1132: UserWarning: Using the model-agnostic default `max_length` (=20) to control the generation length. We recommend setting `max_new_tokens` to control the maximum length of the generation.\n",
      "  warnings.warn(\n"
     ]
    },
    {
     "name": "stdout",
     "output_type": "stream",
     "text": [
      "TRAINING EPOCH SET 16\n",
      "TRAINING EPOCHS 6\n",
      "LOADING MODEL ./models/10_epoch_set\n",
      "cuda\n"
     ]
    },
    {
     "name": "stderr",
     "output_type": "stream",
     "text": [
      "Using the `WANDB_DISABLED` environment variable is deprecated and will be removed in v5. Use the --report_to flag to control the integrations used for logging result (for instance --report_to none).\n",
      "/home/RDC/zinovyee.hub/.conda/envs/ensemble/lib/python3.10/site-packages/accelerate/accelerator.py:444: FutureWarning: Passing the following arguments to `Accelerator` is deprecated and will be removed in version 1.0 of Accelerate: dict_keys(['dispatch_batches', 'split_batches', 'even_batches', 'use_seedable_sampler']). Please pass an `accelerate.DataLoaderConfiguration` instead: \n",
      "dataloader_config = DataLoaderConfiguration(dispatch_batches=None, split_batches=False, even_batches=True, use_seedable_sampler=True)\n",
      "  warnings.warn(\n"
     ]
    },
    {
     "data": {
      "text/html": [
       "\n",
       "    <div>\n",
       "      \n",
       "      <progress value='11916' max='11916' style='width:300px; height:20px; vertical-align: middle;'></progress>\n",
       "      [11916/11916 35:29, Epoch 6/6]\n",
       "    </div>\n",
       "    <table border=\"1\" class=\"dataframe\">\n",
       "  <thead>\n",
       " <tr style=\"text-align: left;\">\n",
       "      <th>Epoch</th>\n",
       "      <th>Training Loss</th>\n",
       "      <th>Validation Loss</th>\n",
       "      <th>Rouge1</th>\n",
       "      <th>Rouge2</th>\n",
       "      <th>Rougel</th>\n",
       "      <th>Rougelsum</th>\n",
       "      <th>Gen Len</th>\n",
       "      <th>Bleu</th>\n",
       "      <th>Brevity Penalty</th>\n",
       "      <th>Length Ratio</th>\n",
       "      <th>Translation Length</th>\n",
       "      <th>Reference Length</th>\n",
       "    </tr>\n",
       "  </thead>\n",
       "  <tbody>\n",
       "    <tr>\n",
       "      <td>1</td>\n",
       "      <td>3.618100</td>\n",
       "      <td>4.455664</td>\n",
       "      <td>0.250200</td>\n",
       "      <td>0.063800</td>\n",
       "      <td>0.219100</td>\n",
       "      <td>0.219300</td>\n",
       "      <td>14.472300</td>\n",
       "      <td>0.023700</td>\n",
       "      <td>1.000000</td>\n",
       "      <td>1.177200</td>\n",
       "      <td>23436</td>\n",
       "      <td>19909</td>\n",
       "    </tr>\n",
       "    <tr>\n",
       "      <td>2</td>\n",
       "      <td>3.776000</td>\n",
       "      <td>4.384403</td>\n",
       "      <td>0.259700</td>\n",
       "      <td>0.069900</td>\n",
       "      <td>0.228000</td>\n",
       "      <td>0.228000</td>\n",
       "      <td>14.850300</td>\n",
       "      <td>0.025200</td>\n",
       "      <td>1.000000</td>\n",
       "      <td>1.210600</td>\n",
       "      <td>24101</td>\n",
       "      <td>19909</td>\n",
       "    </tr>\n",
       "    <tr>\n",
       "      <td>3</td>\n",
       "      <td>3.915700</td>\n",
       "      <td>4.355989</td>\n",
       "      <td>0.255300</td>\n",
       "      <td>0.068700</td>\n",
       "      <td>0.225400</td>\n",
       "      <td>0.225300</td>\n",
       "      <td>15.012600</td>\n",
       "      <td>0.023900</td>\n",
       "      <td>1.000000</td>\n",
       "      <td>1.220000</td>\n",
       "      <td>24289</td>\n",
       "      <td>19909</td>\n",
       "    </tr>\n",
       "    <tr>\n",
       "      <td>4</td>\n",
       "      <td>3.951300</td>\n",
       "      <td>4.348635</td>\n",
       "      <td>0.254200</td>\n",
       "      <td>0.068400</td>\n",
       "      <td>0.224000</td>\n",
       "      <td>0.224100</td>\n",
       "      <td>14.933900</td>\n",
       "      <td>0.024400</td>\n",
       "      <td>1.000000</td>\n",
       "      <td>1.208200</td>\n",
       "      <td>24054</td>\n",
       "      <td>19909</td>\n",
       "    </tr>\n",
       "    <tr>\n",
       "      <td>5</td>\n",
       "      <td>3.934800</td>\n",
       "      <td>4.347013</td>\n",
       "      <td>0.256900</td>\n",
       "      <td>0.069400</td>\n",
       "      <td>0.227300</td>\n",
       "      <td>0.227400</td>\n",
       "      <td>14.952400</td>\n",
       "      <td>0.024200</td>\n",
       "      <td>1.000000</td>\n",
       "      <td>1.213500</td>\n",
       "      <td>24159</td>\n",
       "      <td>19909</td>\n",
       "    </tr>\n",
       "    <tr>\n",
       "      <td>6</td>\n",
       "      <td>3.909600</td>\n",
       "      <td>4.350342</td>\n",
       "      <td>0.256700</td>\n",
       "      <td>0.070400</td>\n",
       "      <td>0.227300</td>\n",
       "      <td>0.227400</td>\n",
       "      <td>14.878000</td>\n",
       "      <td>0.024400</td>\n",
       "      <td>1.000000</td>\n",
       "      <td>1.204600</td>\n",
       "      <td>23983</td>\n",
       "      <td>19909</td>\n",
       "    </tr>\n",
       "  </tbody>\n",
       "</table><p>"
      ],
      "text/plain": [
       "<IPython.core.display.HTML object>"
      ]
     },
     "metadata": {},
     "output_type": "display_data"
    },
    {
     "name": "stderr",
     "output_type": "stream",
     "text": [
      "/home/RDC/zinovyee.hub/.conda/envs/ensemble/lib/python3.10/site-packages/transformers/utils/import_utils.py:616: FutureWarning: `torch._dynamo.external_utils.is_compiling` is deprecated. Use `torch.compiler.is_compiling` instead.\n",
      "  return dynamo.is_compiling()\n",
      "/home/RDC/zinovyee.hub/.conda/envs/ensemble/lib/python3.10/site-packages/transformers/generation/utils.py:1132: UserWarning: Using the model-agnostic default `max_length` (=20) to control the generation length. We recommend setting `max_new_tokens` to control the maximum length of the generation.\n",
      "  warnings.warn(\n"
     ]
    }
   ],
   "source": [
    "results = {}\n",
    "latest_run_epoch = 0\n",
    "\n",
    "for epoch_i, epoch_set in enumerate(sorted(FULL_TRAIN_ARGS[\"SEQ_TRAINER_ARGS\"][\"num_train_epochs\"])):\n",
    "\n",
    "    set_df = test_df.copy()\n",
    "    print(f\"TRAINING EPOCH SET {epoch_set}\")\n",
    "\n",
    "    TRAIN_ARGS = copy.deepcopy(FULL_TRAIN_ARGS)\n",
    "    MODEL_PATH = f\"./models/{epoch_set}_epoch_set\"\n",
    "    \n",
    "\n",
    "    results[epoch_set] = {}\n",
    "\n",
    "    if epoch_set > 1: \n",
    "        TRAIN_ARGS[\"SEQ_TRAINER_ARGS\"][\"num_train_epochs\"] = epoch_set - latest_run_epoch\n",
    "    else:\n",
    "        TRAIN_ARGS[\"SEQ_TRAINER_ARGS\"][\"num_train_epochs\"] = epoch_set\n",
    "    \n",
    "    print(f'TRAINING EPOCHS {TRAIN_ARGS[\"SEQ_TRAINER_ARGS\"][\"num_train_epochs\"]}')\n",
    "\n",
    "    if epoch_set > 1: \n",
    "        model_name = f\"./models/{latest_run_epoch}_epoch_set\"\n",
    "\n",
    "    print(f\"LOADING MODEL {model_name}\")\n",
    "\n",
    "    model = AutoModelForSeq2SeqLM.from_pretrained(model_name)\n",
    "    print(device)\n",
    "    model.to(device)\n",
    "\n",
    "    data_collator = DataCollatorForSeq2Seq(tokenizer, model=model)\n",
    "    compute_metrics = ev.compute_metric_with_params(tokenizer) \n",
    "\n",
    "    if not os.path.exists(f'reports/'): \n",
    "        os.mkdir(f'reports/')\n",
    "\n",
    "    training_args = Seq2SeqTrainingArguments(\n",
    "            **TRAIN_ARGS[\"SEQ_TRAINER_ARGS\"],\n",
    "        )\n",
    "    \n",
    "    trainer = Seq2SeqTrainer(\n",
    "        model=model,\n",
    "        args=training_args,\n",
    "        data_collator=data_collator,\n",
    "        train_dataset=train_data,\n",
    "        eval_dataset=test_data,\n",
    "        tokenizer=tokenizer,\n",
    "        compute_metrics=compute_metrics,\n",
    "    )\n",
    "\n",
    "    if epoch_set!=0:\n",
    "        trainer.train()\n",
    "\n",
    "    text = list(test_df[\"input_sequence\"].values)\n",
    "    summaries = infer.generate_summary(text, model, tokenizer, TRAIN_ARGS[\"ENCODER_LENGTH\"], TRAIN_ARGS[\"DECODER_LENGTH\"])\n",
    "    \n",
    "    \n",
    "    set_df[\"epoch_set\"] = epoch_set\n",
    "    set_df[\"prediction\"] = summaries[1]\n",
    "    set_df[\"rouge\"] = rouge.compute(predictions=set_df[\"prediction\"], \n",
    "                references=set_df[\"output_sequence\"],\n",
    "                use_stemmer=True, \n",
    "                use_aggregator=False,\n",
    "                rouge_types=[\"rouge1\"])[\"rouge1\"]\n",
    "\n",
    "    if epoch_set==0:\n",
    "        test_result_df = set_df.copy()\n",
    "    else: \n",
    "        test_result_df = pd.concat([test_result_df, set_df])\n",
    "\n",
    "\n",
    "    \n",
    "    ########## SAVE EPOCH SET MODEL\n",
    "    if not os.path.exists(MODEL_PATH): \n",
    "        os.mkdir(MODEL_PATH)\n",
    "\n",
    "    trainer.save_model(MODEL_PATH)\n",
    "\n",
    "    latest_run_epoch = epoch_set\n",
    "\n",
    "\n",
    "########## SAVE THE FILE\n",
    "\n",
    "with open(f'reports/results/test_results_df_{ANALYSIS_POSTFIX}.pickle', 'wb') as handle:\n",
    "    pickle.dump(test_result_df, handle, protocol=pickle.HIGHEST_PROTOCOL)"
   ]
  },
  {
   "cell_type": "code",
   "execution_count": 8,
   "metadata": {},
   "outputs": [
    {
     "name": "stderr",
     "output_type": "stream",
     "text": [
      "/tmp/ipykernel_3087819/1808062630.py:5: SettingWithCopyWarning: \n",
      "A value is trying to be set on a copy of a slice from a DataFrame.\n",
      "Try using .loc[row_indexer,col_indexer] = value instead\n",
      "\n",
      "See the caveats in the documentation: https://pandas.pydata.org/pandas-docs/stable/user_guide/indexing.html#returning-a-view-versus-a-copy\n",
      "  ensemble_preds[\"epoch_set\"] = \"ensemble\"\n"
     ]
    }
   ],
   "source": [
    "### ENSEMBLE COMPUTE\n",
    "test_result_df[\"opt_es_id\"] = test_result_df.id.map(optimal_ensemble_map)\n",
    "ensemble_preds = test_result_df.loc[test_result_df[\"epoch_set\"]==test_result_df[\"opt_es_id\"], :]\n",
    "ensemble_preds[\"rouge\"].mean()\n",
    "ensemble_preds[\"epoch_set\"] = \"ensemble\"\n",
    "test_result_df = pd.concat([test_result_df, ensemble_preds], axis=0)"
   ]
  },
  {
   "cell_type": "code",
   "execution_count": 9,
   "metadata": {},
   "outputs": [
    {
     "name": "stdout",
     "output_type": "stream",
     "text": [
      "Mean\n",
      "epoch_set\n",
      "0           0.095639\n",
      "1           0.262157\n",
      "5           0.260724\n",
      "8           0.261350\n",
      "10          0.261802\n",
      "16          0.262084\n",
      "ensemble    0.262084\n",
      "Name: rouge, dtype: float64\n",
      "STD\n",
      "epoch_set\n",
      "0           0.118727\n",
      "1           0.156247\n",
      "5           0.157876\n",
      "8           0.158168\n",
      "10          0.156939\n",
      "16          0.156622\n",
      "ensemble    0.156622\n",
      "Name: rouge, dtype: float64\n"
     ]
    }
   ],
   "source": [
    "########## ROUGE PER SETTING\n",
    "\n",
    "print(\"Mean\")\n",
    "print(test_result_df.groupby(\"epoch_set\")[\"rouge\"].mean())\n",
    "\n",
    "print(\"STD\")\n",
    "print(test_result_df.groupby(\"epoch_set\")[\"rouge\"].std())"
   ]
  },
  {
   "cell_type": "code",
   "execution_count": 10,
   "metadata": {},
   "outputs": [
    {
     "data": {
      "text/plain": [
       "opt_es_id\n",
       "16    14406\n",
       "Name: count, dtype: int64"
      ]
     },
     "execution_count": 10,
     "metadata": {},
     "output_type": "execute_result"
    }
   ],
   "source": [
    "test_result_df.opt_es_id.value_counts()"
   ]
  }
 ],
 "metadata": {
  "kernelspec": {
   "display_name": "ensemble",
   "language": "python",
   "name": "ensemble"
  },
  "language_info": {
   "codemirror_mode": {
    "name": "ipython",
    "version": 3
   },
   "file_extension": ".py",
   "mimetype": "text/x-python",
   "name": "python",
   "nbconvert_exporter": "python",
   "pygments_lexer": "ipython3",
   "version": "3.10.14"
  }
 },
 "nbformat": 4,
 "nbformat_minor": 4
}
