{
 "cells": [
  {
   "cell_type": "markdown",
   "metadata": {},
   "source": [
    "### 1. Settings"
   ]
  },
  {
   "cell_type": "code",
   "execution_count": 1,
   "metadata": {},
   "outputs": [
    {
     "name": "stderr",
     "output_type": "stream",
     "text": [
      "[nltk_data] Downloading package punkt to\n",
      "[nltk_data]     /home/RDC/zinovyee.hub/nltk_data...\n",
      "[nltk_data]   Package punkt is already up-to-date!\n"
     ]
    }
   ],
   "source": [
    "#####################################\n",
    "##########  DEPENDECIES ############\n",
    "#####################################\n",
    "\n",
    "import os\n",
    "import pickle\n",
    "from tqdm import tqdm # type: ignore\n",
    "from datetime import date\n",
    "\n",
    "import evaluate\n",
    "\n",
    "from transformers import AutoModelForSeq2SeqLM, AutoTokenizer\n",
    "\n",
    "import utils.prep as pr\n",
    "import utils.eval as ev\n",
    "import utils.inference as infer\n",
    "from utils.sampling import create_splits, prep_cv_validation\n",
    "from utils.training import cv_cluster_set, cv_training_epochs_sets\n",
    "from utils.training import results_dict_todf, cv_step_2, full_step_2\n",
    "\n",
    "tqdm.pandas()\n",
    "import warnings\n",
    "warnings.filterwarnings(\"ignore\")\n",
    "\n",
    "os.environ[\"TOKENIZERS_PARALLELISM\"] = \"false\"\n",
    "os.environ[\"WANDB_DISABLED\"] = \"true\"\n",
    "os.environ[\"CUDA_VISIBLE_DEVICES\"] = \"0\"\n",
    "\n",
    "import torch\n",
    "#####################################\n",
    "############  CONSTANTS #############\n",
    "#####################################\n",
    "RS = 42\n",
    "\n",
    "MODEL = \"CodeT5\"\n",
    "BATCH_SIZE = 16\n",
    "DECODER_LENGTH = 20\n",
    "ENCODER_LENGTH = 30\n",
    "ANALYSIS_POSTFIX = f\"mined_no_drift_{str(date.today())}\"\n",
    "DATE_STR = 20240721\n",
    "SEMANTIC_DRIFT = True\n",
    "model_name=\"Salesforce/codet5-base-multi-sum\"\n",
    "\n",
    "FULL_TRAIN_ARGS = {\n",
    "    \"BATCH_SIZE\": BATCH_SIZE,\n",
    "    \"DECODER_LENGTH\": DECODER_LENGTH,\n",
    "    \"ENCODER_LENGTH\": ENCODER_LENGTH,\n",
    "    \"MODEL\": MODEL,\n",
    "    \"SEQ_TRAINER_ARGS\": {\n",
    "        \"overwrite_output_dir\": True,\n",
    "        \"num_train_epochs\": [0, 1, 5, 8, 10, 16],\n",
    "        \"do_train\": True,\n",
    "        \"do_eval\": True,\n",
    "        \"per_device_train_batch_size\": 4,\n",
    "        \"per_device_eval_batch_size\": 4,\n",
    "        \"learning_rate\": 6e-6,\n",
    "        \"warmup_steps\": 500,\n",
    "        \"weight_decay\": 0.1,\n",
    "        \"label_smoothing_factor\": 0.1,\n",
    "        \"predict_with_generate\": True,\n",
    "        \"logging_steps\": 100,\n",
    "        \"save_total_limit\": 1,\n",
    "        \"save_strategy\": \"no\",\n",
    "        \"logging_strategy\": \"epoch\",\n",
    "        \"evaluation_strategy\": \"epoch\",\n",
    "        \"load_best_model_at_end\": False,\n",
    "        \"output_dir\" : 'reports/results',\n",
    "        \"logging_dir\" : \"reports/logs\",\n",
    "    },\n",
    "}\n",
    "\n",
    "tokenizer = AutoTokenizer.from_pretrained(model_name, skip_special_tokens=False)\n",
    "model = AutoModelForSeq2SeqLM.from_pretrained(model_name)\n",
    "device = torch.device(\"cuda\" if torch.cuda.is_available() else \"cpu\")\n",
    "rouge = evaluate.load('rouge')"
   ]
  },
  {
   "cell_type": "markdown",
   "metadata": {},
   "source": [
    "### 2. Conala data. Preprocessing. "
   ]
  },
  {
   "cell_type": "code",
   "execution_count": 2,
   "metadata": {},
   "outputs": [],
   "source": [
    "experiment_config = {\n",
    "    \"DATE_STR\" : \"20240721\",\n",
    "    \"RS\" : 42,\n",
    "    \"DRIFT_TYPE\" : \"sudden\",\n",
    "    \"NFOLD\" : 3,\n",
    "    \"FULL_TRAIN_ARGS\" : FULL_TRAIN_ARGS,\n",
    "    \"MODEL_NAME\" : model_name,\n",
    "    \"ANALYSIS_POSTFIX\" : ANALYSIS_POSTFIX,\n",
    "    \"CLUSTER_EPOCHS\" : 1,\n",
    "}"
   ]
  },
  {
   "cell_type": "code",
   "execution_count": 3,
   "metadata": {},
   "outputs": [
    {
     "name": "stdout",
     "output_type": "stream",
     "text": [
      "Train Data:  (7942, 11)\n",
      "Test Data:  (2058, 11)\n",
      "Train Data: Cluster cluster\n",
      "2    3632\n",
      "3    2204\n",
      "1    1672\n",
      "0     414\n",
      "4      20\n",
      "Name: count, dtype: int64\n",
      "Test Data: Cluster cluster\n",
      "4    1980\n",
      "3      39\n",
      "2      25\n",
      "1      12\n",
      "0       2\n",
      "Name: count, dtype: int64\n"
     ]
    },
    {
     "data": {
      "application/vnd.jupyter.widget-view+json": {
       "model_id": "a6e40d44592c46679a24dd4d0f595407",
       "version_major": 2,
       "version_minor": 0
      },
      "text/plain": [
       "Filter:   0%|          | 0/2058 [00:00<?, ? examples/s]"
      ]
     },
     "metadata": {},
     "output_type": "display_data"
    },
    {
     "data": {
      "application/vnd.jupyter.widget-view+json": {
       "model_id": "087dac664ae541f3a7c7967fa86c069c",
       "version_major": 2,
       "version_minor": 0
      },
      "text/plain": [
       "Filter:   0%|          | 0/2058 [00:00<?, ? examples/s]"
      ]
     },
     "metadata": {},
     "output_type": "display_data"
    },
    {
     "data": {
      "application/vnd.jupyter.widget-view+json": {
       "model_id": "7a5994bba68f4dd0b073c73aa7de4b37",
       "version_major": 2,
       "version_minor": 0
      },
      "text/plain": [
       "Map:   0%|          | 0/2058 [00:00<?, ? examples/s]"
      ]
     },
     "metadata": {},
     "output_type": "display_data"
    },
    {
     "name": "stdout",
     "output_type": "stream",
     "text": [
      "Fold 0\n",
      "Fold 1\n",
      "Fold 2\n"
     ]
    }
   ],
   "source": [
    "sampling_dict = create_splits(experiment_config=experiment_config, tokenizer=tokenizer, test=False)\n",
    "train_dataset, test_data, test_df = sampling_dict[\"train_data\"], sampling_dict[\"test_data\"], sampling_dict[\"test_df\"]\n",
    "\n",
    "splits, questions_list = prep_cv_validation(train_dataset=train_dataset, \n",
    "                            experiment_config=experiment_config)"
   ]
  },
  {
   "cell_type": "code",
   "execution_count": 5,
   "metadata": {},
   "outputs": [
    {
     "name": "stdout",
     "output_type": "stream",
     "text": [
      "Fold 0\n"
     ]
    },
    {
     "data": {
      "application/vnd.jupyter.widget-view+json": {
       "model_id": "ff549e69857749c393fe97f25aeb772c",
       "version_major": 2,
       "version_minor": 0
      },
      "text/plain": [
       "Filter:   0%|          | 0/7942 [00:00<?, ? examples/s]"
      ]
     },
     "metadata": {},
     "output_type": "display_data"
    },
    {
     "data": {
      "application/vnd.jupyter.widget-view+json": {
       "model_id": "6b320038bf7d4de5bd2e793c2a8461dc",
       "version_major": 2,
       "version_minor": 0
      },
      "text/plain": [
       "Filter:   0%|          | 0/7942 [00:00<?, ? examples/s]"
      ]
     },
     "metadata": {},
     "output_type": "display_data"
    },
    {
     "data": {
      "application/vnd.jupyter.widget-view+json": {
       "model_id": "440978079aab4bc1a39fc37a2c46a92c",
       "version_major": 2,
       "version_minor": 0
      },
      "text/plain": [
       "Filter:   0%|          | 0/5298 [00:00<?, ? examples/s]"
      ]
     },
     "metadata": {},
     "output_type": "display_data"
    },
    {
     "data": {
      "application/vnd.jupyter.widget-view+json": {
       "model_id": "eab38523889f4e118994ae4ccd82b90b",
       "version_major": 2,
       "version_minor": 0
      },
      "text/plain": [
       "Filter:   0%|          | 0/5298 [00:00<?, ? examples/s]"
      ]
     },
     "metadata": {},
     "output_type": "display_data"
    },
    {
     "data": {
      "application/vnd.jupyter.widget-view+json": {
       "model_id": "12aa67a172bf4b3a9c8cb939b4956f92",
       "version_major": 2,
       "version_minor": 0
      },
      "text/plain": [
       "Map:   0%|          | 0/5298 [00:00<?, ? examples/s]"
      ]
     },
     "metadata": {},
     "output_type": "display_data"
    },
    {
     "data": {
      "application/vnd.jupyter.widget-view+json": {
       "model_id": "f464afed033f4ad1ba64cbc8eeab2f13",
       "version_major": 2,
       "version_minor": 0
      },
      "text/plain": [
       "Filter:   0%|          | 0/2644 [00:00<?, ? examples/s]"
      ]
     },
     "metadata": {},
     "output_type": "display_data"
    },
    {
     "data": {
      "application/vnd.jupyter.widget-view+json": {
       "model_id": "cf823a00827f4d2c9d9a5ef7bf9125dc",
       "version_major": 2,
       "version_minor": 0
      },
      "text/plain": [
       "Filter:   0%|          | 0/2644 [00:00<?, ? examples/s]"
      ]
     },
     "metadata": {},
     "output_type": "display_data"
    },
    {
     "data": {
      "application/vnd.jupyter.widget-view+json": {
       "model_id": "41e409bb847746dda637426e436b8f59",
       "version_major": 2,
       "version_minor": 0
      },
      "text/plain": [
       "Map:   0%|          | 0/2644 [00:00<?, ? examples/s]"
      ]
     },
     "metadata": {},
     "output_type": "display_data"
    },
    {
     "name": "stdout",
     "output_type": "stream",
     "text": [
      "TRAINING EPOCH SET 0\n",
      "TRAINING EPOCHS 0\n",
      "LOADING MODEL Salesforce/codet5-base-multi-sum\n",
      "cuda\n"
     ]
    },
    {
     "name": "stderr",
     "output_type": "stream",
     "text": [
      "Using the `WANDB_DISABLED` environment variable is deprecated and will be removed in v5. Use the --report_to flag to control the integrations used for logging result (for instance --report_to none).\n"
     ]
    },
    {
     "name": "stdout",
     "output_type": "stream",
     "text": [
      "TRAINING EPOCH SET 1\n",
      "TRAINING EPOCHS 1\n",
      "LOADING MODEL Salesforce/codet5-base-multi-sum\n",
      "cuda\n"
     ]
    },
    {
     "name": "stderr",
     "output_type": "stream",
     "text": [
      "Using the `WANDB_DISABLED` environment variable is deprecated and will be removed in v5. Use the --report_to flag to control the integrations used for logging result (for instance --report_to none).\n"
     ]
    },
    {
     "data": {
      "text/html": [
       "\n",
       "    <div>\n",
       "      \n",
       "      <progress value='1325' max='1325' style='width:300px; height:20px; vertical-align: middle;'></progress>\n",
       "      [1325/1325 05:56, Epoch 1/1]\n",
       "    </div>\n",
       "    <table border=\"1\" class=\"dataframe\">\n",
       "  <thead>\n",
       " <tr style=\"text-align: left;\">\n",
       "      <th>Epoch</th>\n",
       "      <th>Training Loss</th>\n",
       "      <th>Validation Loss</th>\n",
       "      <th>Rouge1</th>\n",
       "      <th>Rouge2</th>\n",
       "      <th>Rougel</th>\n",
       "      <th>Rougelsum</th>\n",
       "      <th>Gen Len</th>\n",
       "      <th>Bleu</th>\n",
       "      <th>Brevity Penalty</th>\n",
       "      <th>Length Ratio</th>\n",
       "      <th>Translation Length</th>\n",
       "      <th>Reference Length</th>\n",
       "    </tr>\n",
       "  </thead>\n",
       "  <tbody>\n",
       "    <tr>\n",
       "      <td>1</td>\n",
       "      <td>5.181700</td>\n",
       "      <td>4.698771</td>\n",
       "      <td>0.248700</td>\n",
       "      <td>0.061600</td>\n",
       "      <td>0.221200</td>\n",
       "      <td>0.221300</td>\n",
       "      <td>14.164900</td>\n",
       "      <td>0.021500</td>\n",
       "      <td>1.000000</td>\n",
       "      <td>1.162500</td>\n",
       "      <td>29444</td>\n",
       "      <td>25328</td>\n",
       "    </tr>\n",
       "  </tbody>\n",
       "</table><p>"
      ],
      "text/plain": [
       "<IPython.core.display.HTML object>"
      ]
     },
     "metadata": {},
     "output_type": "display_data"
    },
    {
     "name": "stdout",
     "output_type": "stream",
     "text": [
      "TRAINING EPOCH SET 5\n",
      "TRAINING EPOCHS 4\n",
      "LOADING MODEL ./tmp/\n",
      "cuda\n"
     ]
    },
    {
     "name": "stderr",
     "output_type": "stream",
     "text": [
      "Using the `WANDB_DISABLED` environment variable is deprecated and will be removed in v5. Use the --report_to flag to control the integrations used for logging result (for instance --report_to none).\n"
     ]
    },
    {
     "data": {
      "text/html": [
       "\n",
       "    <div>\n",
       "      \n",
       "      <progress value='5300' max='5300' style='width:300px; height:20px; vertical-align: middle;'></progress>\n",
       "      [5300/5300 24:10, Epoch 4/4]\n",
       "    </div>\n",
       "    <table border=\"1\" class=\"dataframe\">\n",
       "  <thead>\n",
       " <tr style=\"text-align: left;\">\n",
       "      <th>Epoch</th>\n",
       "      <th>Training Loss</th>\n",
       "      <th>Validation Loss</th>\n",
       "      <th>Rouge1</th>\n",
       "      <th>Rouge2</th>\n",
       "      <th>Rougel</th>\n",
       "      <th>Rougelsum</th>\n",
       "      <th>Gen Len</th>\n",
       "      <th>Bleu</th>\n",
       "      <th>Brevity Penalty</th>\n",
       "      <th>Length Ratio</th>\n",
       "      <th>Translation Length</th>\n",
       "      <th>Reference Length</th>\n",
       "    </tr>\n",
       "  </thead>\n",
       "  <tbody>\n",
       "    <tr>\n",
       "      <td>1</td>\n",
       "      <td>4.679800</td>\n",
       "      <td>4.561677</td>\n",
       "      <td>0.259900</td>\n",
       "      <td>0.066600</td>\n",
       "      <td>0.229800</td>\n",
       "      <td>0.229900</td>\n",
       "      <td>14.152800</td>\n",
       "      <td>0.020700</td>\n",
       "      <td>1.000000</td>\n",
       "      <td>1.157200</td>\n",
       "      <td>29309</td>\n",
       "      <td>25328</td>\n",
       "    </tr>\n",
       "    <tr>\n",
       "      <td>2</td>\n",
       "      <td>4.581600</td>\n",
       "      <td>4.505205</td>\n",
       "      <td>0.265000</td>\n",
       "      <td>0.069700</td>\n",
       "      <td>0.233600</td>\n",
       "      <td>0.233500</td>\n",
       "      <td>14.056400</td>\n",
       "      <td>0.022500</td>\n",
       "      <td>1.000000</td>\n",
       "      <td>1.144100</td>\n",
       "      <td>28979</td>\n",
       "      <td>25328</td>\n",
       "    </tr>\n",
       "    <tr>\n",
       "      <td>3</td>\n",
       "      <td>4.484600</td>\n",
       "      <td>4.484755</td>\n",
       "      <td>0.267400</td>\n",
       "      <td>0.071500</td>\n",
       "      <td>0.235200</td>\n",
       "      <td>0.235200</td>\n",
       "      <td>14.006100</td>\n",
       "      <td>0.023300</td>\n",
       "      <td>1.000000</td>\n",
       "      <td>1.134400</td>\n",
       "      <td>28732</td>\n",
       "      <td>25328</td>\n",
       "    </tr>\n",
       "    <tr>\n",
       "      <td>4</td>\n",
       "      <td>4.433700</td>\n",
       "      <td>4.477675</td>\n",
       "      <td>0.268700</td>\n",
       "      <td>0.072800</td>\n",
       "      <td>0.236600</td>\n",
       "      <td>0.236700</td>\n",
       "      <td>14.090000</td>\n",
       "      <td>0.024300</td>\n",
       "      <td>1.000000</td>\n",
       "      <td>1.144200</td>\n",
       "      <td>28981</td>\n",
       "      <td>25328</td>\n",
       "    </tr>\n",
       "  </tbody>\n",
       "</table><p>"
      ],
      "text/plain": [
       "<IPython.core.display.HTML object>"
      ]
     },
     "metadata": {},
     "output_type": "display_data"
    },
    {
     "name": "stdout",
     "output_type": "stream",
     "text": [
      "TRAINING EPOCH SET 8\n",
      "TRAINING EPOCHS 3\n",
      "LOADING MODEL ./tmp/\n",
      "cuda\n"
     ]
    },
    {
     "name": "stderr",
     "output_type": "stream",
     "text": [
      "Using the `WANDB_DISABLED` environment variable is deprecated and will be removed in v5. Use the --report_to flag to control the integrations used for logging result (for instance --report_to none).\n"
     ]
    },
    {
     "data": {
      "text/html": [
       "\n",
       "    <div>\n",
       "      \n",
       "      <progress value='3975' max='3975' style='width:300px; height:20px; vertical-align: middle;'></progress>\n",
       "      [3975/3975 18:30, Epoch 3/3]\n",
       "    </div>\n",
       "    <table border=\"1\" class=\"dataframe\">\n",
       "  <thead>\n",
       " <tr style=\"text-align: left;\">\n",
       "      <th>Epoch</th>\n",
       "      <th>Training Loss</th>\n",
       "      <th>Validation Loss</th>\n",
       "      <th>Rouge1</th>\n",
       "      <th>Rouge2</th>\n",
       "      <th>Rougel</th>\n",
       "      <th>Rougelsum</th>\n",
       "      <th>Gen Len</th>\n",
       "      <th>Bleu</th>\n",
       "      <th>Brevity Penalty</th>\n",
       "      <th>Length Ratio</th>\n",
       "      <th>Translation Length</th>\n",
       "      <th>Reference Length</th>\n",
       "    </tr>\n",
       "  </thead>\n",
       "  <tbody>\n",
       "    <tr>\n",
       "      <td>1</td>\n",
       "      <td>4.242900</td>\n",
       "      <td>4.479573</td>\n",
       "      <td>0.265800</td>\n",
       "      <td>0.069300</td>\n",
       "      <td>0.232700</td>\n",
       "      <td>0.232700</td>\n",
       "      <td>14.148300</td>\n",
       "      <td>0.023200</td>\n",
       "      <td>1.000000</td>\n",
       "      <td>1.147700</td>\n",
       "      <td>29068</td>\n",
       "      <td>25328</td>\n",
       "    </tr>\n",
       "    <tr>\n",
       "      <td>2</td>\n",
       "      <td>4.218500</td>\n",
       "      <td>4.470181</td>\n",
       "      <td>0.270300</td>\n",
       "      <td>0.072400</td>\n",
       "      <td>0.236700</td>\n",
       "      <td>0.236600</td>\n",
       "      <td>14.034400</td>\n",
       "      <td>0.023300</td>\n",
       "      <td>1.000000</td>\n",
       "      <td>1.135600</td>\n",
       "      <td>28762</td>\n",
       "      <td>25328</td>\n",
       "    </tr>\n",
       "    <tr>\n",
       "      <td>3</td>\n",
       "      <td>4.204300</td>\n",
       "      <td>4.465900</td>\n",
       "      <td>0.269200</td>\n",
       "      <td>0.071600</td>\n",
       "      <td>0.235400</td>\n",
       "      <td>0.235300</td>\n",
       "      <td>14.166000</td>\n",
       "      <td>0.022700</td>\n",
       "      <td>1.000000</td>\n",
       "      <td>1.147300</td>\n",
       "      <td>29058</td>\n",
       "      <td>25328</td>\n",
       "    </tr>\n",
       "  </tbody>\n",
       "</table><p>"
      ],
      "text/plain": [
       "<IPython.core.display.HTML object>"
      ]
     },
     "metadata": {},
     "output_type": "display_data"
    },
    {
     "name": "stdout",
     "output_type": "stream",
     "text": [
      "TRAINING EPOCH SET 10\n",
      "TRAINING EPOCHS 2\n",
      "LOADING MODEL ./tmp/\n",
      "cuda\n"
     ]
    },
    {
     "name": "stderr",
     "output_type": "stream",
     "text": [
      "Using the `WANDB_DISABLED` environment variable is deprecated and will be removed in v5. Use the --report_to flag to control the integrations used for logging result (for instance --report_to none).\n"
     ]
    },
    {
     "data": {
      "text/html": [
       "\n",
       "    <div>\n",
       "      \n",
       "      <progress value='2650' max='2650' style='width:300px; height:20px; vertical-align: middle;'></progress>\n",
       "      [2650/2650 12:26, Epoch 2/2]\n",
       "    </div>\n",
       "    <table border=\"1\" class=\"dataframe\">\n",
       "  <thead>\n",
       " <tr style=\"text-align: left;\">\n",
       "      <th>Epoch</th>\n",
       "      <th>Training Loss</th>\n",
       "      <th>Validation Loss</th>\n",
       "      <th>Rouge1</th>\n",
       "      <th>Rouge2</th>\n",
       "      <th>Rougel</th>\n",
       "      <th>Rougelsum</th>\n",
       "      <th>Gen Len</th>\n",
       "      <th>Bleu</th>\n",
       "      <th>Brevity Penalty</th>\n",
       "      <th>Length Ratio</th>\n",
       "      <th>Translation Length</th>\n",
       "      <th>Reference Length</th>\n",
       "    </tr>\n",
       "  </thead>\n",
       "  <tbody>\n",
       "    <tr>\n",
       "      <td>1</td>\n",
       "      <td>3.938800</td>\n",
       "      <td>4.506500</td>\n",
       "      <td>0.263100</td>\n",
       "      <td>0.067200</td>\n",
       "      <td>0.231100</td>\n",
       "      <td>0.231100</td>\n",
       "      <td>14.069200</td>\n",
       "      <td>0.022400</td>\n",
       "      <td>1.000000</td>\n",
       "      <td>1.136000</td>\n",
       "      <td>28773</td>\n",
       "      <td>25328</td>\n",
       "    </tr>\n",
       "    <tr>\n",
       "      <td>2</td>\n",
       "      <td>3.958400</td>\n",
       "      <td>4.504560</td>\n",
       "      <td>0.267700</td>\n",
       "      <td>0.069600</td>\n",
       "      <td>0.234000</td>\n",
       "      <td>0.233900</td>\n",
       "      <td>13.939100</td>\n",
       "      <td>0.022900</td>\n",
       "      <td>1.000000</td>\n",
       "      <td>1.123700</td>\n",
       "      <td>28461</td>\n",
       "      <td>25328</td>\n",
       "    </tr>\n",
       "  </tbody>\n",
       "</table><p>"
      ],
      "text/plain": [
       "<IPython.core.display.HTML object>"
      ]
     },
     "metadata": {},
     "output_type": "display_data"
    },
    {
     "name": "stdout",
     "output_type": "stream",
     "text": [
      "TRAINING EPOCH SET 16\n",
      "TRAINING EPOCHS 6\n",
      "LOADING MODEL ./tmp/\n",
      "cuda\n"
     ]
    },
    {
     "name": "stderr",
     "output_type": "stream",
     "text": [
      "Using the `WANDB_DISABLED` environment variable is deprecated and will be removed in v5. Use the --report_to flag to control the integrations used for logging result (for instance --report_to none).\n"
     ]
    },
    {
     "data": {
      "text/html": [
       "\n",
       "    <div>\n",
       "      \n",
       "      <progress value='7950' max='7950' style='width:300px; height:20px; vertical-align: middle;'></progress>\n",
       "      [7950/7950 37:20, Epoch 6/6]\n",
       "    </div>\n",
       "    <table border=\"1\" class=\"dataframe\">\n",
       "  <thead>\n",
       " <tr style=\"text-align: left;\">\n",
       "      <th>Epoch</th>\n",
       "      <th>Training Loss</th>\n",
       "      <th>Validation Loss</th>\n",
       "      <th>Rouge1</th>\n",
       "      <th>Rouge2</th>\n",
       "      <th>Rougel</th>\n",
       "      <th>Rougelsum</th>\n",
       "      <th>Gen Len</th>\n",
       "      <th>Bleu</th>\n",
       "      <th>Brevity Penalty</th>\n",
       "      <th>Length Ratio</th>\n",
       "      <th>Translation Length</th>\n",
       "      <th>Reference Length</th>\n",
       "    </tr>\n",
       "  </thead>\n",
       "  <tbody>\n",
       "    <tr>\n",
       "      <td>1</td>\n",
       "      <td>3.675100</td>\n",
       "      <td>4.572701</td>\n",
       "      <td>0.258200</td>\n",
       "      <td>0.066500</td>\n",
       "      <td>0.227100</td>\n",
       "      <td>0.227200</td>\n",
       "      <td>13.948200</td>\n",
       "      <td>0.020600</td>\n",
       "      <td>1.000000</td>\n",
       "      <td>1.120300</td>\n",
       "      <td>28375</td>\n",
       "      <td>25328</td>\n",
       "    </tr>\n",
       "    <tr>\n",
       "      <td>2</td>\n",
       "      <td>3.798000</td>\n",
       "      <td>4.518637</td>\n",
       "      <td>0.265900</td>\n",
       "      <td>0.068800</td>\n",
       "      <td>0.232900</td>\n",
       "      <td>0.232800</td>\n",
       "      <td>13.993900</td>\n",
       "      <td>0.021800</td>\n",
       "      <td>1.000000</td>\n",
       "      <td>1.128000</td>\n",
       "      <td>28571</td>\n",
       "      <td>25328</td>\n",
       "    </tr>\n",
       "    <tr>\n",
       "      <td>3</td>\n",
       "      <td>3.954000</td>\n",
       "      <td>4.486600</td>\n",
       "      <td>0.268300</td>\n",
       "      <td>0.070900</td>\n",
       "      <td>0.235000</td>\n",
       "      <td>0.235100</td>\n",
       "      <td>13.934600</td>\n",
       "      <td>0.022300</td>\n",
       "      <td>1.000000</td>\n",
       "      <td>1.121000</td>\n",
       "      <td>28393</td>\n",
       "      <td>25328</td>\n",
       "    </tr>\n",
       "    <tr>\n",
       "      <td>4</td>\n",
       "      <td>3.997600</td>\n",
       "      <td>4.470000</td>\n",
       "      <td>0.266100</td>\n",
       "      <td>0.070900</td>\n",
       "      <td>0.233100</td>\n",
       "      <td>0.233300</td>\n",
       "      <td>13.924000</td>\n",
       "      <td>0.022400</td>\n",
       "      <td>1.000000</td>\n",
       "      <td>1.120300</td>\n",
       "      <td>28375</td>\n",
       "      <td>25328</td>\n",
       "    </tr>\n",
       "    <tr>\n",
       "      <td>5</td>\n",
       "      <td>3.979300</td>\n",
       "      <td>4.476360</td>\n",
       "      <td>0.266700</td>\n",
       "      <td>0.070100</td>\n",
       "      <td>0.233600</td>\n",
       "      <td>0.233700</td>\n",
       "      <td>14.000400</td>\n",
       "      <td>0.021600</td>\n",
       "      <td>1.000000</td>\n",
       "      <td>1.125800</td>\n",
       "      <td>28514</td>\n",
       "      <td>25328</td>\n",
       "    </tr>\n",
       "    <tr>\n",
       "      <td>6</td>\n",
       "      <td>3.953300</td>\n",
       "      <td>4.479221</td>\n",
       "      <td>0.265400</td>\n",
       "      <td>0.069000</td>\n",
       "      <td>0.232100</td>\n",
       "      <td>0.232300</td>\n",
       "      <td>13.987500</td>\n",
       "      <td>0.021000</td>\n",
       "      <td>1.000000</td>\n",
       "      <td>1.126900</td>\n",
       "      <td>28543</td>\n",
       "      <td>25328</td>\n",
       "    </tr>\n",
       "  </tbody>\n",
       "</table><p>"
      ],
      "text/plain": [
       "<IPython.core.display.HTML object>"
      ]
     },
     "metadata": {},
     "output_type": "display_data"
    },
    {
     "name": "stdout",
     "output_type": "stream",
     "text": [
      "Fold 1\n"
     ]
    },
    {
     "data": {
      "application/vnd.jupyter.widget-view+json": {
       "model_id": "5f8d3d75dad04bd3af7faf48b1daf864",
       "version_major": 2,
       "version_minor": 0
      },
      "text/plain": [
       "Filter:   0%|          | 0/7942 [00:00<?, ? examples/s]"
      ]
     },
     "metadata": {},
     "output_type": "display_data"
    },
    {
     "data": {
      "application/vnd.jupyter.widget-view+json": {
       "model_id": "02acc46b321c4e5bbe6ae4e838b9b539",
       "version_major": 2,
       "version_minor": 0
      },
      "text/plain": [
       "Filter:   0%|          | 0/7942 [00:00<?, ? examples/s]"
      ]
     },
     "metadata": {},
     "output_type": "display_data"
    },
    {
     "data": {
      "application/vnd.jupyter.widget-view+json": {
       "model_id": "115a5943b0ac4ecfba3366c5ab0bad37",
       "version_major": 2,
       "version_minor": 0
      },
      "text/plain": [
       "Filter:   0%|          | 0/5295 [00:00<?, ? examples/s]"
      ]
     },
     "metadata": {},
     "output_type": "display_data"
    },
    {
     "data": {
      "application/vnd.jupyter.widget-view+json": {
       "model_id": "143bb98d33964971b2d05af112cf885b",
       "version_major": 2,
       "version_minor": 0
      },
      "text/plain": [
       "Filter:   0%|          | 0/5295 [00:00<?, ? examples/s]"
      ]
     },
     "metadata": {},
     "output_type": "display_data"
    },
    {
     "data": {
      "application/vnd.jupyter.widget-view+json": {
       "model_id": "3ca2ed9136754497bf199346261d712b",
       "version_major": 2,
       "version_minor": 0
      },
      "text/plain": [
       "Map:   0%|          | 0/5295 [00:00<?, ? examples/s]"
      ]
     },
     "metadata": {},
     "output_type": "display_data"
    },
    {
     "data": {
      "application/vnd.jupyter.widget-view+json": {
       "model_id": "d212fa373d23452490e0e45a5eb94904",
       "version_major": 2,
       "version_minor": 0
      },
      "text/plain": [
       "Filter:   0%|          | 0/2647 [00:00<?, ? examples/s]"
      ]
     },
     "metadata": {},
     "output_type": "display_data"
    },
    {
     "data": {
      "application/vnd.jupyter.widget-view+json": {
       "model_id": "e81ddd0356b34639ad78b70b074d301d",
       "version_major": 2,
       "version_minor": 0
      },
      "text/plain": [
       "Filter:   0%|          | 0/2647 [00:00<?, ? examples/s]"
      ]
     },
     "metadata": {},
     "output_type": "display_data"
    },
    {
     "data": {
      "application/vnd.jupyter.widget-view+json": {
       "model_id": "b4d97d07dc7446fcbf2a00cac37ddb33",
       "version_major": 2,
       "version_minor": 0
      },
      "text/plain": [
       "Map:   0%|          | 0/2647 [00:00<?, ? examples/s]"
      ]
     },
     "metadata": {},
     "output_type": "display_data"
    },
    {
     "name": "stdout",
     "output_type": "stream",
     "text": [
      "TRAINING EPOCH SET 0\n",
      "TRAINING EPOCHS 0\n",
      "LOADING MODEL Salesforce/codet5-base-multi-sum\n",
      "cuda\n"
     ]
    },
    {
     "name": "stderr",
     "output_type": "stream",
     "text": [
      "Using the `WANDB_DISABLED` environment variable is deprecated and will be removed in v5. Use the --report_to flag to control the integrations used for logging result (for instance --report_to none).\n"
     ]
    },
    {
     "name": "stdout",
     "output_type": "stream",
     "text": [
      "TRAINING EPOCH SET 1\n",
      "TRAINING EPOCHS 1\n",
      "LOADING MODEL Salesforce/codet5-base-multi-sum\n",
      "cuda\n"
     ]
    },
    {
     "name": "stderr",
     "output_type": "stream",
     "text": [
      "Using the `WANDB_DISABLED` environment variable is deprecated and will be removed in v5. Use the --report_to flag to control the integrations used for logging result (for instance --report_to none).\n"
     ]
    },
    {
     "data": {
      "text/html": [
       "\n",
       "    <div>\n",
       "      \n",
       "      <progress value='1324' max='1324' style='width:300px; height:20px; vertical-align: middle;'></progress>\n",
       "      [1324/1324 06:12, Epoch 1/1]\n",
       "    </div>\n",
       "    <table border=\"1\" class=\"dataframe\">\n",
       "  <thead>\n",
       " <tr style=\"text-align: left;\">\n",
       "      <th>Epoch</th>\n",
       "      <th>Training Loss</th>\n",
       "      <th>Validation Loss</th>\n",
       "      <th>Rouge1</th>\n",
       "      <th>Rouge2</th>\n",
       "      <th>Rougel</th>\n",
       "      <th>Rougelsum</th>\n",
       "      <th>Gen Len</th>\n",
       "      <th>Bleu</th>\n",
       "      <th>Brevity Penalty</th>\n",
       "      <th>Length Ratio</th>\n",
       "      <th>Translation Length</th>\n",
       "      <th>Reference Length</th>\n",
       "    </tr>\n",
       "  </thead>\n",
       "  <tbody>\n",
       "    <tr>\n",
       "      <td>1</td>\n",
       "      <td>5.170800</td>\n",
       "      <td>4.710202</td>\n",
       "      <td>0.249200</td>\n",
       "      <td>0.061000</td>\n",
       "      <td>0.221700</td>\n",
       "      <td>0.221900</td>\n",
       "      <td>14.038500</td>\n",
       "      <td>0.019500</td>\n",
       "      <td>1.000000</td>\n",
       "      <td>1.142600</td>\n",
       "      <td>29242</td>\n",
       "      <td>25592</td>\n",
       "    </tr>\n",
       "  </tbody>\n",
       "</table><p>"
      ],
      "text/plain": [
       "<IPython.core.display.HTML object>"
      ]
     },
     "metadata": {},
     "output_type": "display_data"
    },
    {
     "name": "stdout",
     "output_type": "stream",
     "text": [
      "TRAINING EPOCH SET 5\n",
      "TRAINING EPOCHS 4\n",
      "LOADING MODEL ./tmp/\n",
      "cuda\n"
     ]
    },
    {
     "name": "stderr",
     "output_type": "stream",
     "text": [
      "Using the `WANDB_DISABLED` environment variable is deprecated and will be removed in v5. Use the --report_to flag to control the integrations used for logging result (for instance --report_to none).\n"
     ]
    },
    {
     "data": {
      "text/html": [
       "\n",
       "    <div>\n",
       "      \n",
       "      <progress value='5296' max='5296' style='width:300px; height:20px; vertical-align: middle;'></progress>\n",
       "      [5296/5296 24:50, Epoch 4/4]\n",
       "    </div>\n",
       "    <table border=\"1\" class=\"dataframe\">\n",
       "  <thead>\n",
       " <tr style=\"text-align: left;\">\n",
       "      <th>Epoch</th>\n",
       "      <th>Training Loss</th>\n",
       "      <th>Validation Loss</th>\n",
       "      <th>Rouge1</th>\n",
       "      <th>Rouge2</th>\n",
       "      <th>Rougel</th>\n",
       "      <th>Rougelsum</th>\n",
       "      <th>Gen Len</th>\n",
       "      <th>Bleu</th>\n",
       "      <th>Brevity Penalty</th>\n",
       "      <th>Length Ratio</th>\n",
       "      <th>Translation Length</th>\n",
       "      <th>Reference Length</th>\n",
       "    </tr>\n",
       "  </thead>\n",
       "  <tbody>\n",
       "    <tr>\n",
       "      <td>1</td>\n",
       "      <td>4.670600</td>\n",
       "      <td>4.571948</td>\n",
       "      <td>0.270100</td>\n",
       "      <td>0.071600</td>\n",
       "      <td>0.237500</td>\n",
       "      <td>0.237400</td>\n",
       "      <td>14.083100</td>\n",
       "      <td>0.024600</td>\n",
       "      <td>1.000000</td>\n",
       "      <td>1.140100</td>\n",
       "      <td>29178</td>\n",
       "      <td>25592</td>\n",
       "    </tr>\n",
       "    <tr>\n",
       "      <td>2</td>\n",
       "      <td>4.571000</td>\n",
       "      <td>4.509912</td>\n",
       "      <td>0.272100</td>\n",
       "      <td>0.073300</td>\n",
       "      <td>0.238200</td>\n",
       "      <td>0.238300</td>\n",
       "      <td>13.969800</td>\n",
       "      <td>0.026200</td>\n",
       "      <td>1.000000</td>\n",
       "      <td>1.128600</td>\n",
       "      <td>28884</td>\n",
       "      <td>25592</td>\n",
       "    </tr>\n",
       "    <tr>\n",
       "      <td>3</td>\n",
       "      <td>4.479200</td>\n",
       "      <td>4.487250</td>\n",
       "      <td>0.273400</td>\n",
       "      <td>0.073300</td>\n",
       "      <td>0.239400</td>\n",
       "      <td>0.239400</td>\n",
       "      <td>14.107300</td>\n",
       "      <td>0.025300</td>\n",
       "      <td>1.000000</td>\n",
       "      <td>1.138000</td>\n",
       "      <td>29124</td>\n",
       "      <td>25592</td>\n",
       "    </tr>\n",
       "    <tr>\n",
       "      <td>4</td>\n",
       "      <td>4.422200</td>\n",
       "      <td>4.483542</td>\n",
       "      <td>0.275500</td>\n",
       "      <td>0.073400</td>\n",
       "      <td>0.240500</td>\n",
       "      <td>0.240700</td>\n",
       "      <td>14.071000</td>\n",
       "      <td>0.025600</td>\n",
       "      <td>1.000000</td>\n",
       "      <td>1.133200</td>\n",
       "      <td>29000</td>\n",
       "      <td>25592</td>\n",
       "    </tr>\n",
       "  </tbody>\n",
       "</table><p>"
      ],
      "text/plain": [
       "<IPython.core.display.HTML object>"
      ]
     },
     "metadata": {},
     "output_type": "display_data"
    },
    {
     "name": "stdout",
     "output_type": "stream",
     "text": [
      "TRAINING EPOCH SET 8\n",
      "TRAINING EPOCHS 3\n",
      "LOADING MODEL ./tmp/\n",
      "cuda\n"
     ]
    },
    {
     "name": "stderr",
     "output_type": "stream",
     "text": [
      "Using the `WANDB_DISABLED` environment variable is deprecated and will be removed in v5. Use the --report_to flag to control the integrations used for logging result (for instance --report_to none).\n"
     ]
    },
    {
     "data": {
      "text/html": [
       "\n",
       "    <div>\n",
       "      \n",
       "      <progress value='3972' max='3972' style='width:300px; height:20px; vertical-align: middle;'></progress>\n",
       "      [3972/3972 18:36, Epoch 3/3]\n",
       "    </div>\n",
       "    <table border=\"1\" class=\"dataframe\">\n",
       "  <thead>\n",
       " <tr style=\"text-align: left;\">\n",
       "      <th>Epoch</th>\n",
       "      <th>Training Loss</th>\n",
       "      <th>Validation Loss</th>\n",
       "      <th>Rouge1</th>\n",
       "      <th>Rouge2</th>\n",
       "      <th>Rougel</th>\n",
       "      <th>Rougelsum</th>\n",
       "      <th>Gen Len</th>\n",
       "      <th>Bleu</th>\n",
       "      <th>Brevity Penalty</th>\n",
       "      <th>Length Ratio</th>\n",
       "      <th>Translation Length</th>\n",
       "      <th>Reference Length</th>\n",
       "    </tr>\n",
       "  </thead>\n",
       "  <tbody>\n",
       "    <tr>\n",
       "      <td>1</td>\n",
       "      <td>4.231500</td>\n",
       "      <td>4.491459</td>\n",
       "      <td>0.275900</td>\n",
       "      <td>0.073400</td>\n",
       "      <td>0.240400</td>\n",
       "      <td>0.240600</td>\n",
       "      <td>14.171100</td>\n",
       "      <td>0.026400</td>\n",
       "      <td>1.000000</td>\n",
       "      <td>1.140400</td>\n",
       "      <td>29184</td>\n",
       "      <td>25592</td>\n",
       "    </tr>\n",
       "    <tr>\n",
       "      <td>2</td>\n",
       "      <td>4.207300</td>\n",
       "      <td>4.473559</td>\n",
       "      <td>0.275200</td>\n",
       "      <td>0.072700</td>\n",
       "      <td>0.240200</td>\n",
       "      <td>0.240000</td>\n",
       "      <td>14.060800</td>\n",
       "      <td>0.026600</td>\n",
       "      <td>1.000000</td>\n",
       "      <td>1.128600</td>\n",
       "      <td>28884</td>\n",
       "      <td>25592</td>\n",
       "    </tr>\n",
       "    <tr>\n",
       "      <td>3</td>\n",
       "      <td>4.197600</td>\n",
       "      <td>4.472107</td>\n",
       "      <td>0.276200</td>\n",
       "      <td>0.072600</td>\n",
       "      <td>0.241100</td>\n",
       "      <td>0.241100</td>\n",
       "      <td>14.025700</td>\n",
       "      <td>0.026000</td>\n",
       "      <td>1.000000</td>\n",
       "      <td>1.123200</td>\n",
       "      <td>28746</td>\n",
       "      <td>25592</td>\n",
       "    </tr>\n",
       "  </tbody>\n",
       "</table><p>"
      ],
      "text/plain": [
       "<IPython.core.display.HTML object>"
      ]
     },
     "metadata": {},
     "output_type": "display_data"
    },
    {
     "name": "stdout",
     "output_type": "stream",
     "text": [
      "TRAINING EPOCH SET 10\n",
      "TRAINING EPOCHS 2\n",
      "LOADING MODEL ./tmp/\n",
      "cuda\n"
     ]
    },
    {
     "name": "stderr",
     "output_type": "stream",
     "text": [
      "Using the `WANDB_DISABLED` environment variable is deprecated and will be removed in v5. Use the --report_to flag to control the integrations used for logging result (for instance --report_to none).\n"
     ]
    },
    {
     "data": {
      "text/html": [
       "\n",
       "    <div>\n",
       "      \n",
       "      <progress value='2648' max='2648' style='width:300px; height:20px; vertical-align: middle;'></progress>\n",
       "      [2648/2648 12:42, Epoch 2/2]\n",
       "    </div>\n",
       "    <table border=\"1\" class=\"dataframe\">\n",
       "  <thead>\n",
       " <tr style=\"text-align: left;\">\n",
       "      <th>Epoch</th>\n",
       "      <th>Training Loss</th>\n",
       "      <th>Validation Loss</th>\n",
       "      <th>Rouge1</th>\n",
       "      <th>Rouge2</th>\n",
       "      <th>Rougel</th>\n",
       "      <th>Rougelsum</th>\n",
       "      <th>Gen Len</th>\n",
       "      <th>Bleu</th>\n",
       "      <th>Brevity Penalty</th>\n",
       "      <th>Length Ratio</th>\n",
       "      <th>Translation Length</th>\n",
       "      <th>Reference Length</th>\n",
       "    </tr>\n",
       "  </thead>\n",
       "  <tbody>\n",
       "    <tr>\n",
       "      <td>1</td>\n",
       "      <td>3.924200</td>\n",
       "      <td>4.526834</td>\n",
       "      <td>0.270900</td>\n",
       "      <td>0.069700</td>\n",
       "      <td>0.236700</td>\n",
       "      <td>0.236800</td>\n",
       "      <td>14.157200</td>\n",
       "      <td>0.024400</td>\n",
       "      <td>1.000000</td>\n",
       "      <td>1.135100</td>\n",
       "      <td>29050</td>\n",
       "      <td>25592</td>\n",
       "    </tr>\n",
       "    <tr>\n",
       "      <td>2</td>\n",
       "      <td>3.946700</td>\n",
       "      <td>4.513162</td>\n",
       "      <td>0.271100</td>\n",
       "      <td>0.069300</td>\n",
       "      <td>0.236900</td>\n",
       "      <td>0.236900</td>\n",
       "      <td>13.986800</td>\n",
       "      <td>0.024100</td>\n",
       "      <td>1.000000</td>\n",
       "      <td>1.117700</td>\n",
       "      <td>28603</td>\n",
       "      <td>25592</td>\n",
       "    </tr>\n",
       "  </tbody>\n",
       "</table><p>"
      ],
      "text/plain": [
       "<IPython.core.display.HTML object>"
      ]
     },
     "metadata": {},
     "output_type": "display_data"
    },
    {
     "name": "stdout",
     "output_type": "stream",
     "text": [
      "TRAINING EPOCH SET 16\n",
      "TRAINING EPOCHS 6\n",
      "LOADING MODEL ./tmp/\n",
      "cuda\n"
     ]
    },
    {
     "name": "stderr",
     "output_type": "stream",
     "text": [
      "Using the `WANDB_DISABLED` environment variable is deprecated and will be removed in v5. Use the --report_to flag to control the integrations used for logging result (for instance --report_to none).\n"
     ]
    },
    {
     "data": {
      "text/html": [
       "\n",
       "    <div>\n",
       "      \n",
       "      <progress value='7944' max='7944' style='width:300px; height:20px; vertical-align: middle;'></progress>\n",
       "      [7944/7944 37:16, Epoch 6/6]\n",
       "    </div>\n",
       "    <table border=\"1\" class=\"dataframe\">\n",
       "  <thead>\n",
       " <tr style=\"text-align: left;\">\n",
       "      <th>Epoch</th>\n",
       "      <th>Training Loss</th>\n",
       "      <th>Validation Loss</th>\n",
       "      <th>Rouge1</th>\n",
       "      <th>Rouge2</th>\n",
       "      <th>Rougel</th>\n",
       "      <th>Rougelsum</th>\n",
       "      <th>Gen Len</th>\n",
       "      <th>Bleu</th>\n",
       "      <th>Brevity Penalty</th>\n",
       "      <th>Length Ratio</th>\n",
       "      <th>Translation Length</th>\n",
       "      <th>Reference Length</th>\n",
       "    </tr>\n",
       "  </thead>\n",
       "  <tbody>\n",
       "    <tr>\n",
       "      <td>1</td>\n",
       "      <td>3.657800</td>\n",
       "      <td>4.604552</td>\n",
       "      <td>0.266300</td>\n",
       "      <td>0.066700</td>\n",
       "      <td>0.232000</td>\n",
       "      <td>0.232000</td>\n",
       "      <td>14.109900</td>\n",
       "      <td>0.022400</td>\n",
       "      <td>1.000000</td>\n",
       "      <td>1.132200</td>\n",
       "      <td>28975</td>\n",
       "      <td>25592</td>\n",
       "    </tr>\n",
       "    <tr>\n",
       "      <td>2</td>\n",
       "      <td>3.785200</td>\n",
       "      <td>4.518794</td>\n",
       "      <td>0.270000</td>\n",
       "      <td>0.069200</td>\n",
       "      <td>0.235900</td>\n",
       "      <td>0.236000</td>\n",
       "      <td>14.090300</td>\n",
       "      <td>0.024300</td>\n",
       "      <td>1.000000</td>\n",
       "      <td>1.132300</td>\n",
       "      <td>28977</td>\n",
       "      <td>25592</td>\n",
       "    </tr>\n",
       "    <tr>\n",
       "      <td>3</td>\n",
       "      <td>3.945100</td>\n",
       "      <td>4.487727</td>\n",
       "      <td>0.268600</td>\n",
       "      <td>0.069700</td>\n",
       "      <td>0.236100</td>\n",
       "      <td>0.236000</td>\n",
       "      <td>14.034000</td>\n",
       "      <td>0.025400</td>\n",
       "      <td>1.000000</td>\n",
       "      <td>1.121900</td>\n",
       "      <td>28711</td>\n",
       "      <td>25592</td>\n",
       "    </tr>\n",
       "    <tr>\n",
       "      <td>4</td>\n",
       "      <td>3.978200</td>\n",
       "      <td>4.487778</td>\n",
       "      <td>0.270900</td>\n",
       "      <td>0.069500</td>\n",
       "      <td>0.236500</td>\n",
       "      <td>0.236600</td>\n",
       "      <td>14.156400</td>\n",
       "      <td>0.024500</td>\n",
       "      <td>1.000000</td>\n",
       "      <td>1.136800</td>\n",
       "      <td>29094</td>\n",
       "      <td>25592</td>\n",
       "    </tr>\n",
       "    <tr>\n",
       "      <td>5</td>\n",
       "      <td>3.961500</td>\n",
       "      <td>4.488613</td>\n",
       "      <td>0.269900</td>\n",
       "      <td>0.070100</td>\n",
       "      <td>0.236600</td>\n",
       "      <td>0.236700</td>\n",
       "      <td>14.101200</td>\n",
       "      <td>0.024700</td>\n",
       "      <td>1.000000</td>\n",
       "      <td>1.126300</td>\n",
       "      <td>28825</td>\n",
       "      <td>25592</td>\n",
       "    </tr>\n",
       "    <tr>\n",
       "      <td>6</td>\n",
       "      <td>3.933800</td>\n",
       "      <td>4.492178</td>\n",
       "      <td>0.269700</td>\n",
       "      <td>0.070100</td>\n",
       "      <td>0.236100</td>\n",
       "      <td>0.236300</td>\n",
       "      <td>14.137100</td>\n",
       "      <td>0.024800</td>\n",
       "      <td>1.000000</td>\n",
       "      <td>1.131600</td>\n",
       "      <td>28961</td>\n",
       "      <td>25592</td>\n",
       "    </tr>\n",
       "  </tbody>\n",
       "</table><p>"
      ],
      "text/plain": [
       "<IPython.core.display.HTML object>"
      ]
     },
     "metadata": {},
     "output_type": "display_data"
    },
    {
     "name": "stdout",
     "output_type": "stream",
     "text": [
      "Fold 2\n"
     ]
    },
    {
     "data": {
      "application/vnd.jupyter.widget-view+json": {
       "model_id": "904349819b3648d1a2b13cbd8a27fc57",
       "version_major": 2,
       "version_minor": 0
      },
      "text/plain": [
       "Filter:   0%|          | 0/7942 [00:00<?, ? examples/s]"
      ]
     },
     "metadata": {},
     "output_type": "display_data"
    },
    {
     "data": {
      "application/vnd.jupyter.widget-view+json": {
       "model_id": "c50fa49f77c540b58194d5b84ce73cea",
       "version_major": 2,
       "version_minor": 0
      },
      "text/plain": [
       "Filter:   0%|          | 0/7942 [00:00<?, ? examples/s]"
      ]
     },
     "metadata": {},
     "output_type": "display_data"
    },
    {
     "data": {
      "application/vnd.jupyter.widget-view+json": {
       "model_id": "99fee91c19b246eaa908344972947302",
       "version_major": 2,
       "version_minor": 0
      },
      "text/plain": [
       "Filter:   0%|          | 0/5291 [00:00<?, ? examples/s]"
      ]
     },
     "metadata": {},
     "output_type": "display_data"
    },
    {
     "data": {
      "application/vnd.jupyter.widget-view+json": {
       "model_id": "2db818162f1943d79c336f11dd2ef6ae",
       "version_major": 2,
       "version_minor": 0
      },
      "text/plain": [
       "Filter:   0%|          | 0/5291 [00:00<?, ? examples/s]"
      ]
     },
     "metadata": {},
     "output_type": "display_data"
    },
    {
     "data": {
      "application/vnd.jupyter.widget-view+json": {
       "model_id": "22b0e0a37d1f4730943b06a11b3a9439",
       "version_major": 2,
       "version_minor": 0
      },
      "text/plain": [
       "Map:   0%|          | 0/5291 [00:00<?, ? examples/s]"
      ]
     },
     "metadata": {},
     "output_type": "display_data"
    },
    {
     "data": {
      "application/vnd.jupyter.widget-view+json": {
       "model_id": "bcf40333c90a49508c1c8823414e2d4f",
       "version_major": 2,
       "version_minor": 0
      },
      "text/plain": [
       "Filter:   0%|          | 0/2651 [00:00<?, ? examples/s]"
      ]
     },
     "metadata": {},
     "output_type": "display_data"
    },
    {
     "data": {
      "application/vnd.jupyter.widget-view+json": {
       "model_id": "9cef3d9c4e7d4b52b292987487d998e9",
       "version_major": 2,
       "version_minor": 0
      },
      "text/plain": [
       "Filter:   0%|          | 0/2651 [00:00<?, ? examples/s]"
      ]
     },
     "metadata": {},
     "output_type": "display_data"
    },
    {
     "data": {
      "application/vnd.jupyter.widget-view+json": {
       "model_id": "df9f566745ad4f8cb04bafb744aa461c",
       "version_major": 2,
       "version_minor": 0
      },
      "text/plain": [
       "Map:   0%|          | 0/2651 [00:00<?, ? examples/s]"
      ]
     },
     "metadata": {},
     "output_type": "display_data"
    },
    {
     "name": "stdout",
     "output_type": "stream",
     "text": [
      "TRAINING EPOCH SET 0\n",
      "TRAINING EPOCHS 0\n",
      "LOADING MODEL Salesforce/codet5-base-multi-sum\n",
      "cuda\n"
     ]
    },
    {
     "name": "stderr",
     "output_type": "stream",
     "text": [
      "Using the `WANDB_DISABLED` environment variable is deprecated and will be removed in v5. Use the --report_to flag to control the integrations used for logging result (for instance --report_to none).\n"
     ]
    },
    {
     "name": "stdout",
     "output_type": "stream",
     "text": [
      "TRAINING EPOCH SET 1\n",
      "TRAINING EPOCHS 1\n",
      "LOADING MODEL Salesforce/codet5-base-multi-sum\n",
      "cuda\n"
     ]
    },
    {
     "name": "stderr",
     "output_type": "stream",
     "text": [
      "Using the `WANDB_DISABLED` environment variable is deprecated and will be removed in v5. Use the --report_to flag to control the integrations used for logging result (for instance --report_to none).\n"
     ]
    },
    {
     "data": {
      "text/html": [
       "\n",
       "    <div>\n",
       "      \n",
       "      <progress value='1323' max='1323' style='width:300px; height:20px; vertical-align: middle;'></progress>\n",
       "      [1323/1323 06:12, Epoch 1/1]\n",
       "    </div>\n",
       "    <table border=\"1\" class=\"dataframe\">\n",
       "  <thead>\n",
       " <tr style=\"text-align: left;\">\n",
       "      <th>Epoch</th>\n",
       "      <th>Training Loss</th>\n",
       "      <th>Validation Loss</th>\n",
       "      <th>Rouge1</th>\n",
       "      <th>Rouge2</th>\n",
       "      <th>Rougel</th>\n",
       "      <th>Rougelsum</th>\n",
       "      <th>Gen Len</th>\n",
       "      <th>Bleu</th>\n",
       "      <th>Brevity Penalty</th>\n",
       "      <th>Length Ratio</th>\n",
       "      <th>Translation Length</th>\n",
       "      <th>Reference Length</th>\n",
       "    </tr>\n",
       "  </thead>\n",
       "  <tbody>\n",
       "    <tr>\n",
       "      <td>1</td>\n",
       "      <td>5.180000</td>\n",
       "      <td>4.713183</td>\n",
       "      <td>0.240300</td>\n",
       "      <td>0.061700</td>\n",
       "      <td>0.215900</td>\n",
       "      <td>0.216000</td>\n",
       "      <td>14.017000</td>\n",
       "      <td>0.020200</td>\n",
       "      <td>1.000000</td>\n",
       "      <td>1.157900</td>\n",
       "      <td>29271</td>\n",
       "      <td>25280</td>\n",
       "    </tr>\n",
       "  </tbody>\n",
       "</table><p>"
      ],
      "text/plain": [
       "<IPython.core.display.HTML object>"
      ]
     },
     "metadata": {},
     "output_type": "display_data"
    },
    {
     "name": "stdout",
     "output_type": "stream",
     "text": [
      "TRAINING EPOCH SET 5\n",
      "TRAINING EPOCHS 4\n",
      "LOADING MODEL ./tmp/\n",
      "cuda\n"
     ]
    },
    {
     "name": "stderr",
     "output_type": "stream",
     "text": [
      "Using the `WANDB_DISABLED` environment variable is deprecated and will be removed in v5. Use the --report_to flag to control the integrations used for logging result (for instance --report_to none).\n"
     ]
    },
    {
     "data": {
      "text/html": [
       "\n",
       "    <div>\n",
       "      \n",
       "      <progress value='5292' max='5292' style='width:300px; height:20px; vertical-align: middle;'></progress>\n",
       "      [5292/5292 25:01, Epoch 4/4]\n",
       "    </div>\n",
       "    <table border=\"1\" class=\"dataframe\">\n",
       "  <thead>\n",
       " <tr style=\"text-align: left;\">\n",
       "      <th>Epoch</th>\n",
       "      <th>Training Loss</th>\n",
       "      <th>Validation Loss</th>\n",
       "      <th>Rouge1</th>\n",
       "      <th>Rouge2</th>\n",
       "      <th>Rougel</th>\n",
       "      <th>Rougelsum</th>\n",
       "      <th>Gen Len</th>\n",
       "      <th>Bleu</th>\n",
       "      <th>Brevity Penalty</th>\n",
       "      <th>Length Ratio</th>\n",
       "      <th>Translation Length</th>\n",
       "      <th>Reference Length</th>\n",
       "    </tr>\n",
       "  </thead>\n",
       "  <tbody>\n",
       "    <tr>\n",
       "      <td>1</td>\n",
       "      <td>4.678800</td>\n",
       "      <td>4.577013</td>\n",
       "      <td>0.260800</td>\n",
       "      <td>0.072200</td>\n",
       "      <td>0.232000</td>\n",
       "      <td>0.232000</td>\n",
       "      <td>14.021900</td>\n",
       "      <td>0.024500</td>\n",
       "      <td>1.000000</td>\n",
       "      <td>1.148500</td>\n",
       "      <td>29033</td>\n",
       "      <td>25280</td>\n",
       "    </tr>\n",
       "    <tr>\n",
       "      <td>2</td>\n",
       "      <td>4.574500</td>\n",
       "      <td>4.520506</td>\n",
       "      <td>0.269400</td>\n",
       "      <td>0.073800</td>\n",
       "      <td>0.238000</td>\n",
       "      <td>0.238100</td>\n",
       "      <td>13.941500</td>\n",
       "      <td>0.024900</td>\n",
       "      <td>1.000000</td>\n",
       "      <td>1.138200</td>\n",
       "      <td>28773</td>\n",
       "      <td>25280</td>\n",
       "    </tr>\n",
       "    <tr>\n",
       "      <td>3</td>\n",
       "      <td>4.469600</td>\n",
       "      <td>4.501167</td>\n",
       "      <td>0.273700</td>\n",
       "      <td>0.075300</td>\n",
       "      <td>0.241800</td>\n",
       "      <td>0.241700</td>\n",
       "      <td>14.143000</td>\n",
       "      <td>0.025200</td>\n",
       "      <td>1.000000</td>\n",
       "      <td>1.157100</td>\n",
       "      <td>29252</td>\n",
       "      <td>25280</td>\n",
       "    </tr>\n",
       "    <tr>\n",
       "      <td>4</td>\n",
       "      <td>4.422700</td>\n",
       "      <td>4.495306</td>\n",
       "      <td>0.273600</td>\n",
       "      <td>0.075100</td>\n",
       "      <td>0.241300</td>\n",
       "      <td>0.241400</td>\n",
       "      <td>14.093200</td>\n",
       "      <td>0.024500</td>\n",
       "      <td>1.000000</td>\n",
       "      <td>1.151700</td>\n",
       "      <td>29114</td>\n",
       "      <td>25280</td>\n",
       "    </tr>\n",
       "  </tbody>\n",
       "</table><p>"
      ],
      "text/plain": [
       "<IPython.core.display.HTML object>"
      ]
     },
     "metadata": {},
     "output_type": "display_data"
    },
    {
     "name": "stdout",
     "output_type": "stream",
     "text": [
      "TRAINING EPOCH SET 8\n",
      "TRAINING EPOCHS 3\n",
      "LOADING MODEL ./tmp/\n",
      "cuda\n"
     ]
    },
    {
     "name": "stderr",
     "output_type": "stream",
     "text": [
      "Using the `WANDB_DISABLED` environment variable is deprecated and will be removed in v5. Use the --report_to flag to control the integrations used for logging result (for instance --report_to none).\n"
     ]
    },
    {
     "data": {
      "text/html": [
       "\n",
       "    <div>\n",
       "      \n",
       "      <progress value='3969' max='3969' style='width:300px; height:20px; vertical-align: middle;'></progress>\n",
       "      [3969/3969 18:43, Epoch 3/3]\n",
       "    </div>\n",
       "    <table border=\"1\" class=\"dataframe\">\n",
       "  <thead>\n",
       " <tr style=\"text-align: left;\">\n",
       "      <th>Epoch</th>\n",
       "      <th>Training Loss</th>\n",
       "      <th>Validation Loss</th>\n",
       "      <th>Rouge1</th>\n",
       "      <th>Rouge2</th>\n",
       "      <th>Rougel</th>\n",
       "      <th>Rougelsum</th>\n",
       "      <th>Gen Len</th>\n",
       "      <th>Bleu</th>\n",
       "      <th>Brevity Penalty</th>\n",
       "      <th>Length Ratio</th>\n",
       "      <th>Translation Length</th>\n",
       "      <th>Reference Length</th>\n",
       "    </tr>\n",
       "  </thead>\n",
       "  <tbody>\n",
       "    <tr>\n",
       "      <td>1</td>\n",
       "      <td>4.241100</td>\n",
       "      <td>4.499412</td>\n",
       "      <td>0.268200</td>\n",
       "      <td>0.073500</td>\n",
       "      <td>0.237200</td>\n",
       "      <td>0.237200</td>\n",
       "      <td>14.003400</td>\n",
       "      <td>0.023800</td>\n",
       "      <td>1.000000</td>\n",
       "      <td>1.137200</td>\n",
       "      <td>28748</td>\n",
       "      <td>25280</td>\n",
       "    </tr>\n",
       "    <tr>\n",
       "      <td>2</td>\n",
       "      <td>4.208900</td>\n",
       "      <td>4.486858</td>\n",
       "      <td>0.271000</td>\n",
       "      <td>0.073900</td>\n",
       "      <td>0.239200</td>\n",
       "      <td>0.239200</td>\n",
       "      <td>13.969400</td>\n",
       "      <td>0.024700</td>\n",
       "      <td>1.000000</td>\n",
       "      <td>1.136200</td>\n",
       "      <td>28722</td>\n",
       "      <td>25280</td>\n",
       "    </tr>\n",
       "    <tr>\n",
       "      <td>3</td>\n",
       "      <td>4.188600</td>\n",
       "      <td>4.485295</td>\n",
       "      <td>0.270300</td>\n",
       "      <td>0.074000</td>\n",
       "      <td>0.238200</td>\n",
       "      <td>0.238300</td>\n",
       "      <td>14.064500</td>\n",
       "      <td>0.024500</td>\n",
       "      <td>1.000000</td>\n",
       "      <td>1.145100</td>\n",
       "      <td>28949</td>\n",
       "      <td>25280</td>\n",
       "    </tr>\n",
       "  </tbody>\n",
       "</table><p>"
      ],
      "text/plain": [
       "<IPython.core.display.HTML object>"
      ]
     },
     "metadata": {},
     "output_type": "display_data"
    },
    {
     "name": "stdout",
     "output_type": "stream",
     "text": [
      "TRAINING EPOCH SET 10\n",
      "TRAINING EPOCHS 2\n",
      "LOADING MODEL ./tmp/\n",
      "cuda\n"
     ]
    },
    {
     "name": "stderr",
     "output_type": "stream",
     "text": [
      "Using the `WANDB_DISABLED` environment variable is deprecated and will be removed in v5. Use the --report_to flag to control the integrations used for logging result (for instance --report_to none).\n"
     ]
    },
    {
     "data": {
      "text/html": [
       "\n",
       "    <div>\n",
       "      \n",
       "      <progress value='2646' max='2646' style='width:300px; height:20px; vertical-align: middle;'></progress>\n",
       "      [2646/2646 12:28, Epoch 2/2]\n",
       "    </div>\n",
       "    <table border=\"1\" class=\"dataframe\">\n",
       "  <thead>\n",
       " <tr style=\"text-align: left;\">\n",
       "      <th>Epoch</th>\n",
       "      <th>Training Loss</th>\n",
       "      <th>Validation Loss</th>\n",
       "      <th>Rouge1</th>\n",
       "      <th>Rouge2</th>\n",
       "      <th>Rougel</th>\n",
       "      <th>Rougelsum</th>\n",
       "      <th>Gen Len</th>\n",
       "      <th>Bleu</th>\n",
       "      <th>Brevity Penalty</th>\n",
       "      <th>Length Ratio</th>\n",
       "      <th>Translation Length</th>\n",
       "      <th>Reference Length</th>\n",
       "    </tr>\n",
       "  </thead>\n",
       "  <tbody>\n",
       "    <tr>\n",
       "      <td>1</td>\n",
       "      <td>3.937100</td>\n",
       "      <td>4.532994</td>\n",
       "      <td>0.264300</td>\n",
       "      <td>0.070400</td>\n",
       "      <td>0.232800</td>\n",
       "      <td>0.233000</td>\n",
       "      <td>13.984200</td>\n",
       "      <td>0.023800</td>\n",
       "      <td>1.000000</td>\n",
       "      <td>1.130300</td>\n",
       "      <td>28574</td>\n",
       "      <td>25280</td>\n",
       "    </tr>\n",
       "    <tr>\n",
       "      <td>2</td>\n",
       "      <td>3.949500</td>\n",
       "      <td>4.521092</td>\n",
       "      <td>0.266700</td>\n",
       "      <td>0.070500</td>\n",
       "      <td>0.234300</td>\n",
       "      <td>0.234600</td>\n",
       "      <td>13.960800</td>\n",
       "      <td>0.023500</td>\n",
       "      <td>1.000000</td>\n",
       "      <td>1.131200</td>\n",
       "      <td>28596</td>\n",
       "      <td>25280</td>\n",
       "    </tr>\n",
       "  </tbody>\n",
       "</table><p>"
      ],
      "text/plain": [
       "<IPython.core.display.HTML object>"
      ]
     },
     "metadata": {},
     "output_type": "display_data"
    },
    {
     "name": "stdout",
     "output_type": "stream",
     "text": [
      "TRAINING EPOCH SET 16\n",
      "TRAINING EPOCHS 6\n",
      "LOADING MODEL ./tmp/\n",
      "cuda\n"
     ]
    },
    {
     "name": "stderr",
     "output_type": "stream",
     "text": [
      "Using the `WANDB_DISABLED` environment variable is deprecated and will be removed in v5. Use the --report_to flag to control the integrations used for logging result (for instance --report_to none).\n"
     ]
    },
    {
     "data": {
      "text/html": [
       "\n",
       "    <div>\n",
       "      \n",
       "      <progress value='7938' max='7938' style='width:300px; height:20px; vertical-align: middle;'></progress>\n",
       "      [7938/7938 37:26, Epoch 6/6]\n",
       "    </div>\n",
       "    <table border=\"1\" class=\"dataframe\">\n",
       "  <thead>\n",
       " <tr style=\"text-align: left;\">\n",
       "      <th>Epoch</th>\n",
       "      <th>Training Loss</th>\n",
       "      <th>Validation Loss</th>\n",
       "      <th>Rouge1</th>\n",
       "      <th>Rouge2</th>\n",
       "      <th>Rougel</th>\n",
       "      <th>Rougelsum</th>\n",
       "      <th>Gen Len</th>\n",
       "      <th>Bleu</th>\n",
       "      <th>Brevity Penalty</th>\n",
       "      <th>Length Ratio</th>\n",
       "      <th>Translation Length</th>\n",
       "      <th>Reference Length</th>\n",
       "    </tr>\n",
       "  </thead>\n",
       "  <tbody>\n",
       "    <tr>\n",
       "      <td>1</td>\n",
       "      <td>3.676500</td>\n",
       "      <td>4.609656</td>\n",
       "      <td>0.259800</td>\n",
       "      <td>0.068200</td>\n",
       "      <td>0.228300</td>\n",
       "      <td>0.228600</td>\n",
       "      <td>13.983400</td>\n",
       "      <td>0.023000</td>\n",
       "      <td>1.000000</td>\n",
       "      <td>1.125200</td>\n",
       "      <td>28446</td>\n",
       "      <td>25280</td>\n",
       "    </tr>\n",
       "    <tr>\n",
       "      <td>2</td>\n",
       "      <td>3.790000</td>\n",
       "      <td>4.533356</td>\n",
       "      <td>0.267100</td>\n",
       "      <td>0.071800</td>\n",
       "      <td>0.234400</td>\n",
       "      <td>0.234500</td>\n",
       "      <td>13.784200</td>\n",
       "      <td>0.024400</td>\n",
       "      <td>1.000000</td>\n",
       "      <td>1.113100</td>\n",
       "      <td>28140</td>\n",
       "      <td>25280</td>\n",
       "    </tr>\n",
       "    <tr>\n",
       "      <td>3</td>\n",
       "      <td>3.935400</td>\n",
       "      <td>4.508908</td>\n",
       "      <td>0.269600</td>\n",
       "      <td>0.072400</td>\n",
       "      <td>0.236500</td>\n",
       "      <td>0.236600</td>\n",
       "      <td>14.063400</td>\n",
       "      <td>0.025000</td>\n",
       "      <td>1.000000</td>\n",
       "      <td>1.140800</td>\n",
       "      <td>28840</td>\n",
       "      <td>25280</td>\n",
       "    </tr>\n",
       "    <tr>\n",
       "      <td>4</td>\n",
       "      <td>3.980200</td>\n",
       "      <td>4.499930</td>\n",
       "      <td>0.266900</td>\n",
       "      <td>0.071400</td>\n",
       "      <td>0.235000</td>\n",
       "      <td>0.235100</td>\n",
       "      <td>13.969400</td>\n",
       "      <td>0.024300</td>\n",
       "      <td>1.000000</td>\n",
       "      <td>1.132200</td>\n",
       "      <td>28621</td>\n",
       "      <td>25280</td>\n",
       "    </tr>\n",
       "    <tr>\n",
       "      <td>5</td>\n",
       "      <td>3.964000</td>\n",
       "      <td>4.499954</td>\n",
       "      <td>0.267300</td>\n",
       "      <td>0.071500</td>\n",
       "      <td>0.234500</td>\n",
       "      <td>0.234500</td>\n",
       "      <td>14.120300</td>\n",
       "      <td>0.024500</td>\n",
       "      <td>1.000000</td>\n",
       "      <td>1.145300</td>\n",
       "      <td>28953</td>\n",
       "      <td>25280</td>\n",
       "    </tr>\n",
       "    <tr>\n",
       "      <td>6</td>\n",
       "      <td>3.939900</td>\n",
       "      <td>4.503712</td>\n",
       "      <td>0.266900</td>\n",
       "      <td>0.071500</td>\n",
       "      <td>0.234200</td>\n",
       "      <td>0.234200</td>\n",
       "      <td>14.041500</td>\n",
       "      <td>0.024800</td>\n",
       "      <td>1.000000</td>\n",
       "      <td>1.138800</td>\n",
       "      <td>28789</td>\n",
       "      <td>25280</td>\n",
       "    </tr>\n",
       "  </tbody>\n",
       "</table><p>"
      ],
      "text/plain": [
       "<IPython.core.display.HTML object>"
      ]
     },
     "metadata": {},
     "output_type": "display_data"
    }
   ],
   "source": [
    "fold_results = cv_training_epochs_sets(experiment_config=experiment_config,\n",
    "                            splits=splits,\n",
    "                            questions_list=questions_list,\n",
    "                            train_dataset=train_dataset,\n",
    "                            tokenizer=tokenizer)"
   ]
  },
  {
   "cell_type": "code",
   "execution_count": 11,
   "metadata": {},
   "outputs": [
    {
     "data": {
      "application/vnd.jupyter.widget-view+json": {
       "model_id": "3b94043796924c8abcfca12b61daca63",
       "version_major": 2,
       "version_minor": 0
      },
      "text/plain": [
       "Filter:   0%|          | 0/5291 [00:00<?, ? examples/s]"
      ]
     },
     "metadata": {},
     "output_type": "display_data"
    },
    {
     "data": {
      "application/vnd.jupyter.widget-view+json": {
       "model_id": "c6ac7e5aa6174163a7af7776d9c8e6b9",
       "version_major": 2,
       "version_minor": 0
      },
      "text/plain": [
       "Filter:   0%|          | 0/5291 [00:00<?, ? examples/s]"
      ]
     },
     "metadata": {},
     "output_type": "display_data"
    },
    {
     "data": {
      "application/vnd.jupyter.widget-view+json": {
       "model_id": "7b92e6f522c04b3abb0f8f6ff4b77d8f",
       "version_major": 2,
       "version_minor": 0
      },
      "text/plain": [
       "Map:   0%|          | 0/5291 [00:00<?, ? examples/s]"
      ]
     },
     "metadata": {},
     "output_type": "display_data"
    },
    {
     "name": "stdout",
     "output_type": "stream",
     "text": [
      "Fold 0\n"
     ]
    },
    {
     "data": {
      "application/vnd.jupyter.widget-view+json": {
       "model_id": "8361a7673b244b698d67595e9f33e239",
       "version_major": 2,
       "version_minor": 0
      },
      "text/plain": [
       "Filter:   0%|          | 0/7942 [00:00<?, ? examples/s]"
      ]
     },
     "metadata": {},
     "output_type": "display_data"
    },
    {
     "data": {
      "application/vnd.jupyter.widget-view+json": {
       "model_id": "6f9a3d38808840c5aeba5ca9a61eb9df",
       "version_major": 2,
       "version_minor": 0
      },
      "text/plain": [
       "Filter:   0%|          | 0/7942 [00:00<?, ? examples/s]"
      ]
     },
     "metadata": {},
     "output_type": "display_data"
    },
    {
     "data": {
      "application/vnd.jupyter.widget-view+json": {
       "model_id": "177e15db9ca9463b9de7c629e810db58",
       "version_major": 2,
       "version_minor": 0
      },
      "text/plain": [
       "Filter:   0%|          | 0/2644 [00:00<?, ? examples/s]"
      ]
     },
     "metadata": {},
     "output_type": "display_data"
    },
    {
     "data": {
      "application/vnd.jupyter.widget-view+json": {
       "model_id": "644deb273222455da57ebaade80a05c7",
       "version_major": 2,
       "version_minor": 0
      },
      "text/plain": [
       "Filter:   0%|          | 0/2644 [00:00<?, ? examples/s]"
      ]
     },
     "metadata": {},
     "output_type": "display_data"
    },
    {
     "data": {
      "application/vnd.jupyter.widget-view+json": {
       "model_id": "a2927ba366ed460ebfc7ef645900a408",
       "version_major": 2,
       "version_minor": 0
      },
      "text/plain": [
       "Map:   0%|          | 0/2644 [00:00<?, ? examples/s]"
      ]
     },
     "metadata": {},
     "output_type": "display_data"
    },
    {
     "name": "stdout",
     "output_type": "stream",
     "text": [
      "TRAINING CLUSTER SET 1 FOR EPOCHS1\n",
      "LOADING MODEL Salesforce/codet5-base-multi-sum\n",
      "cuda\n"
     ]
    },
    {
     "name": "stderr",
     "output_type": "stream",
     "text": [
      "Using the `WANDB_DISABLED` environment variable is deprecated and will be removed in v5. Use the --report_to flag to control the integrations used for logging result (for instance --report_to none).\n"
     ]
    },
    {
     "data": {
      "text/html": [
       "\n",
       "    <div>\n",
       "      \n",
       "      <progress value='1323' max='1323' style='width:300px; height:20px; vertical-align: middle;'></progress>\n",
       "      [1323/1323 06:02, Epoch 1/1]\n",
       "    </div>\n",
       "    <table border=\"1\" class=\"dataframe\">\n",
       "  <thead>\n",
       " <tr style=\"text-align: left;\">\n",
       "      <th>Epoch</th>\n",
       "      <th>Training Loss</th>\n",
       "      <th>Validation Loss</th>\n",
       "      <th>Rouge1</th>\n",
       "      <th>Rouge2</th>\n",
       "      <th>Rougel</th>\n",
       "      <th>Rougelsum</th>\n",
       "      <th>Gen Len</th>\n",
       "      <th>Bleu</th>\n",
       "      <th>Brevity Penalty</th>\n",
       "      <th>Length Ratio</th>\n",
       "      <th>Translation Length</th>\n",
       "      <th>Reference Length</th>\n",
       "    </tr>\n",
       "  </thead>\n",
       "  <tbody>\n",
       "    <tr>\n",
       "      <td>1</td>\n",
       "      <td>5.114600</td>\n",
       "      <td>4.729678</td>\n",
       "      <td>0.234700</td>\n",
       "      <td>0.054500</td>\n",
       "      <td>0.209600</td>\n",
       "      <td>0.209700</td>\n",
       "      <td>13.234900</td>\n",
       "      <td>0.019300</td>\n",
       "      <td>1.000000</td>\n",
       "      <td>1.076500</td>\n",
       "      <td>27266</td>\n",
       "      <td>25328</td>\n",
       "    </tr>\n",
       "  </tbody>\n",
       "</table><p>"
      ],
      "text/plain": [
       "<IPython.core.display.HTML object>"
      ]
     },
     "metadata": {},
     "output_type": "display_data"
    },
    {
     "name": "stdout",
     "output_type": "stream",
     "text": [
      "Fold 1\n"
     ]
    },
    {
     "data": {
      "application/vnd.jupyter.widget-view+json": {
       "model_id": "90326574aef74d65a83fc3cd908652c2",
       "version_major": 2,
       "version_minor": 0
      },
      "text/plain": [
       "Filter:   0%|          | 0/7942 [00:00<?, ? examples/s]"
      ]
     },
     "metadata": {},
     "output_type": "display_data"
    },
    {
     "data": {
      "application/vnd.jupyter.widget-view+json": {
       "model_id": "2fa8e52157994abca4a04dcdd6877c02",
       "version_major": 2,
       "version_minor": 0
      },
      "text/plain": [
       "Filter:   0%|          | 0/7942 [00:00<?, ? examples/s]"
      ]
     },
     "metadata": {},
     "output_type": "display_data"
    },
    {
     "data": {
      "application/vnd.jupyter.widget-view+json": {
       "model_id": "7fb950c544724d4c843d926a3860b660",
       "version_major": 2,
       "version_minor": 0
      },
      "text/plain": [
       "Filter:   0%|          | 0/2647 [00:00<?, ? examples/s]"
      ]
     },
     "metadata": {},
     "output_type": "display_data"
    },
    {
     "data": {
      "application/vnd.jupyter.widget-view+json": {
       "model_id": "f19a24f950d7442981c25f7428dfb53f",
       "version_major": 2,
       "version_minor": 0
      },
      "text/plain": [
       "Filter:   0%|          | 0/2647 [00:00<?, ? examples/s]"
      ]
     },
     "metadata": {},
     "output_type": "display_data"
    },
    {
     "data": {
      "application/vnd.jupyter.widget-view+json": {
       "model_id": "0f23f1fe752b40458057b44d06c464a2",
       "version_major": 2,
       "version_minor": 0
      },
      "text/plain": [
       "Map:   0%|          | 0/2647 [00:00<?, ? examples/s]"
      ]
     },
     "metadata": {},
     "output_type": "display_data"
    },
    {
     "name": "stdout",
     "output_type": "stream",
     "text": [
      "TRAINING CLUSTER SET 1 FOR EPOCHS1\n",
      "LOADING MODEL Salesforce/codet5-base-multi-sum\n",
      "cuda\n"
     ]
    },
    {
     "name": "stderr",
     "output_type": "stream",
     "text": [
      "Using the `WANDB_DISABLED` environment variable is deprecated and will be removed in v5. Use the --report_to flag to control the integrations used for logging result (for instance --report_to none).\n"
     ]
    },
    {
     "name": "stdout",
     "output_type": "stream",
     "text": [
      "Fold 2\n"
     ]
    },
    {
     "data": {
      "application/vnd.jupyter.widget-view+json": {
       "model_id": "ee382b5a93934a528ba941708e864c6e",
       "version_major": 2,
       "version_minor": 0
      },
      "text/plain": [
       "Filter:   0%|          | 0/7942 [00:00<?, ? examples/s]"
      ]
     },
     "metadata": {},
     "output_type": "display_data"
    },
    {
     "data": {
      "application/vnd.jupyter.widget-view+json": {
       "model_id": "910dcc5e9a924af29c50625881ad51fd",
       "version_major": 2,
       "version_minor": 0
      },
      "text/plain": [
       "Filter:   0%|          | 0/7942 [00:00<?, ? examples/s]"
      ]
     },
     "metadata": {},
     "output_type": "display_data"
    },
    {
     "data": {
      "application/vnd.jupyter.widget-view+json": {
       "model_id": "b043dd4c4c5a4bd28c2dfdd459b65857",
       "version_major": 2,
       "version_minor": 0
      },
      "text/plain": [
       "Filter:   0%|          | 0/2651 [00:00<?, ? examples/s]"
      ]
     },
     "metadata": {},
     "output_type": "display_data"
    },
    {
     "data": {
      "application/vnd.jupyter.widget-view+json": {
       "model_id": "4eae9852df6f4547bdeda472f2875151",
       "version_major": 2,
       "version_minor": 0
      },
      "text/plain": [
       "Filter:   0%|          | 0/2651 [00:00<?, ? examples/s]"
      ]
     },
     "metadata": {},
     "output_type": "display_data"
    },
    {
     "data": {
      "application/vnd.jupyter.widget-view+json": {
       "model_id": "325477c35ff949668b3a5e338e4ff427",
       "version_major": 2,
       "version_minor": 0
      },
      "text/plain": [
       "Map:   0%|          | 0/2651 [00:00<?, ? examples/s]"
      ]
     },
     "metadata": {},
     "output_type": "display_data"
    },
    {
     "name": "stdout",
     "output_type": "stream",
     "text": [
      "TRAINING CLUSTER SET 1 FOR EPOCHS1\n",
      "LOADING MODEL Salesforce/codet5-base-multi-sum\n",
      "cuda\n"
     ]
    },
    {
     "name": "stderr",
     "output_type": "stream",
     "text": [
      "Using the `WANDB_DISABLED` environment variable is deprecated and will be removed in v5. Use the --report_to flag to control the integrations used for logging result (for instance --report_to none).\n"
     ]
    },
    {
     "data": {
      "application/vnd.jupyter.widget-view+json": {
       "model_id": "6cb47e07adcd4efba12235a2c7b18789",
       "version_major": 2,
       "version_minor": 0
      },
      "text/plain": [
       "Filter:   0%|          | 0/5291 [00:00<?, ? examples/s]"
      ]
     },
     "metadata": {},
     "output_type": "display_data"
    },
    {
     "data": {
      "application/vnd.jupyter.widget-view+json": {
       "model_id": "87a426d6145741359f45fd5f4463eac2",
       "version_major": 2,
       "version_minor": 0
      },
      "text/plain": [
       "Filter:   0%|          | 0/5291 [00:00<?, ? examples/s]"
      ]
     },
     "metadata": {},
     "output_type": "display_data"
    },
    {
     "data": {
      "application/vnd.jupyter.widget-view+json": {
       "model_id": "bae2f8f5e2c44ec7b45feca58555eec9",
       "version_major": 2,
       "version_minor": 0
      },
      "text/plain": [
       "Map:   0%|          | 0/5291 [00:00<?, ? examples/s]"
      ]
     },
     "metadata": {},
     "output_type": "display_data"
    },
    {
     "name": "stdout",
     "output_type": "stream",
     "text": [
      "Fold 0\n"
     ]
    },
    {
     "data": {
      "application/vnd.jupyter.widget-view+json": {
       "model_id": "e5b00491573c4d20a61752ea8088fb78",
       "version_major": 2,
       "version_minor": 0
      },
      "text/plain": [
       "Filter:   0%|          | 0/7942 [00:00<?, ? examples/s]"
      ]
     },
     "metadata": {},
     "output_type": "display_data"
    },
    {
     "data": {
      "application/vnd.jupyter.widget-view+json": {
       "model_id": "1011829281c44103aa40765d6b100a38",
       "version_major": 2,
       "version_minor": 0
      },
      "text/plain": [
       "Filter:   0%|          | 0/7942 [00:00<?, ? examples/s]"
      ]
     },
     "metadata": {},
     "output_type": "display_data"
    },
    {
     "data": {
      "application/vnd.jupyter.widget-view+json": {
       "model_id": "4196e7db429840ff842b733775ff7f6e",
       "version_major": 2,
       "version_minor": 0
      },
      "text/plain": [
       "Filter:   0%|          | 0/2644 [00:00<?, ? examples/s]"
      ]
     },
     "metadata": {},
     "output_type": "display_data"
    },
    {
     "data": {
      "application/vnd.jupyter.widget-view+json": {
       "model_id": "2bf290c1fd60444a9659023e94294dca",
       "version_major": 2,
       "version_minor": 0
      },
      "text/plain": [
       "Filter:   0%|          | 0/2644 [00:00<?, ? examples/s]"
      ]
     },
     "metadata": {},
     "output_type": "display_data"
    },
    {
     "data": {
      "application/vnd.jupyter.widget-view+json": {
       "model_id": "860d0627428b473ca5843406dadbe443",
       "version_major": 2,
       "version_minor": 0
      },
      "text/plain": [
       "Map:   0%|          | 0/2644 [00:00<?, ? examples/s]"
      ]
     },
     "metadata": {},
     "output_type": "display_data"
    },
    {
     "name": "stdout",
     "output_type": "stream",
     "text": [
      "TRAINING CLUSTER SET 4 FOR EPOCHS1\n",
      "LOADING MODEL Salesforce/codet5-base-multi-sum\n",
      "cuda\n"
     ]
    },
    {
     "name": "stderr",
     "output_type": "stream",
     "text": [
      "Using the `WANDB_DISABLED` environment variable is deprecated and will be removed in v5. Use the --report_to flag to control the integrations used for logging result (for instance --report_to none).\n"
     ]
    },
    {
     "data": {
      "text/html": [
       "\n",
       "    <div>\n",
       "      \n",
       "      <progress value='1323' max='1323' style='width:300px; height:20px; vertical-align: middle;'></progress>\n",
       "      [1323/1323 05:52, Epoch 1/1]\n",
       "    </div>\n",
       "    <table border=\"1\" class=\"dataframe\">\n",
       "  <thead>\n",
       " <tr style=\"text-align: left;\">\n",
       "      <th>Epoch</th>\n",
       "      <th>Training Loss</th>\n",
       "      <th>Validation Loss</th>\n",
       "      <th>Rouge1</th>\n",
       "      <th>Rouge2</th>\n",
       "      <th>Rougel</th>\n",
       "      <th>Rougelsum</th>\n",
       "      <th>Gen Len</th>\n",
       "      <th>Bleu</th>\n",
       "      <th>Brevity Penalty</th>\n",
       "      <th>Length Ratio</th>\n",
       "      <th>Translation Length</th>\n",
       "      <th>Reference Length</th>\n",
       "    </tr>\n",
       "  </thead>\n",
       "  <tbody>\n",
       "    <tr>\n",
       "      <td>1</td>\n",
       "      <td>5.055700</td>\n",
       "      <td>4.754361</td>\n",
       "      <td>0.220800</td>\n",
       "      <td>0.049800</td>\n",
       "      <td>0.196100</td>\n",
       "      <td>0.196200</td>\n",
       "      <td>12.529100</td>\n",
       "      <td>0.017300</td>\n",
       "      <td>1.000000</td>\n",
       "      <td>1.022400</td>\n",
       "      <td>25895</td>\n",
       "      <td>25328</td>\n",
       "    </tr>\n",
       "  </tbody>\n",
       "</table><p>"
      ],
      "text/plain": [
       "<IPython.core.display.HTML object>"
      ]
     },
     "metadata": {},
     "output_type": "display_data"
    },
    {
     "name": "stdout",
     "output_type": "stream",
     "text": [
      "Fold 1\n"
     ]
    },
    {
     "data": {
      "application/vnd.jupyter.widget-view+json": {
       "model_id": "2771ffa0b44141c9b3a7fc3d36bb7c57",
       "version_major": 2,
       "version_minor": 0
      },
      "text/plain": [
       "Filter:   0%|          | 0/7942 [00:00<?, ? examples/s]"
      ]
     },
     "metadata": {},
     "output_type": "display_data"
    },
    {
     "data": {
      "application/vnd.jupyter.widget-view+json": {
       "model_id": "bac7b17c6b0b4a2c9c461283117bf327",
       "version_major": 2,
       "version_minor": 0
      },
      "text/plain": [
       "Filter:   0%|          | 0/7942 [00:00<?, ? examples/s]"
      ]
     },
     "metadata": {},
     "output_type": "display_data"
    },
    {
     "data": {
      "application/vnd.jupyter.widget-view+json": {
       "model_id": "c37da88b41994411b2cb18a404faba56",
       "version_major": 2,
       "version_minor": 0
      },
      "text/plain": [
       "Filter:   0%|          | 0/2647 [00:00<?, ? examples/s]"
      ]
     },
     "metadata": {},
     "output_type": "display_data"
    },
    {
     "data": {
      "application/vnd.jupyter.widget-view+json": {
       "model_id": "ebbfa437137244458c3e7a18e0a33d17",
       "version_major": 2,
       "version_minor": 0
      },
      "text/plain": [
       "Filter:   0%|          | 0/2647 [00:00<?, ? examples/s]"
      ]
     },
     "metadata": {},
     "output_type": "display_data"
    },
    {
     "data": {
      "application/vnd.jupyter.widget-view+json": {
       "model_id": "da1b622303124f9897fd2e2ea07bc283",
       "version_major": 2,
       "version_minor": 0
      },
      "text/plain": [
       "Map:   0%|          | 0/2647 [00:00<?, ? examples/s]"
      ]
     },
     "metadata": {},
     "output_type": "display_data"
    },
    {
     "name": "stdout",
     "output_type": "stream",
     "text": [
      "TRAINING CLUSTER SET 4 FOR EPOCHS1\n",
      "LOADING MODEL Salesforce/codet5-base-multi-sum\n",
      "cuda\n"
     ]
    },
    {
     "name": "stderr",
     "output_type": "stream",
     "text": [
      "Using the `WANDB_DISABLED` environment variable is deprecated and will be removed in v5. Use the --report_to flag to control the integrations used for logging result (for instance --report_to none).\n"
     ]
    },
    {
     "name": "stdout",
     "output_type": "stream",
     "text": [
      "Fold 2\n"
     ]
    },
    {
     "data": {
      "application/vnd.jupyter.widget-view+json": {
       "model_id": "995ac14a31b147d1a700ef3ad4e2dbe6",
       "version_major": 2,
       "version_minor": 0
      },
      "text/plain": [
       "Filter:   0%|          | 0/7942 [00:00<?, ? examples/s]"
      ]
     },
     "metadata": {},
     "output_type": "display_data"
    },
    {
     "data": {
      "application/vnd.jupyter.widget-view+json": {
       "model_id": "ebd7f0584d54461a9bd336221e61f2ba",
       "version_major": 2,
       "version_minor": 0
      },
      "text/plain": [
       "Filter:   0%|          | 0/7942 [00:00<?, ? examples/s]"
      ]
     },
     "metadata": {},
     "output_type": "display_data"
    },
    {
     "data": {
      "application/vnd.jupyter.widget-view+json": {
       "model_id": "7475734cb0b3491db78b819860b6d07d",
       "version_major": 2,
       "version_minor": 0
      },
      "text/plain": [
       "Filter:   0%|          | 0/2651 [00:00<?, ? examples/s]"
      ]
     },
     "metadata": {},
     "output_type": "display_data"
    },
    {
     "data": {
      "application/vnd.jupyter.widget-view+json": {
       "model_id": "c4eafff795744976a222ad024d7cdde1",
       "version_major": 2,
       "version_minor": 0
      },
      "text/plain": [
       "Filter:   0%|          | 0/2651 [00:00<?, ? examples/s]"
      ]
     },
     "metadata": {},
     "output_type": "display_data"
    },
    {
     "data": {
      "application/vnd.jupyter.widget-view+json": {
       "model_id": "643ebe9333364e93b73bfedff83ab0f7",
       "version_major": 2,
       "version_minor": 0
      },
      "text/plain": [
       "Map:   0%|          | 0/2651 [00:00<?, ? examples/s]"
      ]
     },
     "metadata": {},
     "output_type": "display_data"
    },
    {
     "name": "stdout",
     "output_type": "stream",
     "text": [
      "TRAINING CLUSTER SET 4 FOR EPOCHS1\n",
      "LOADING MODEL Salesforce/codet5-base-multi-sum\n",
      "cuda\n"
     ]
    },
    {
     "name": "stderr",
     "output_type": "stream",
     "text": [
      "Using the `WANDB_DISABLED` environment variable is deprecated and will be removed in v5. Use the --report_to flag to control the integrations used for logging result (for instance --report_to none).\n"
     ]
    },
    {
     "data": {
      "application/vnd.jupyter.widget-view+json": {
       "model_id": "7eece2bb6dc647b193cd8122cedc030c",
       "version_major": 2,
       "version_minor": 0
      },
      "text/plain": [
       "Filter:   0%|          | 0/5291 [00:00<?, ? examples/s]"
      ]
     },
     "metadata": {},
     "output_type": "display_data"
    },
    {
     "data": {
      "application/vnd.jupyter.widget-view+json": {
       "model_id": "38eeba0d05804ab3be5d78e1ba24ea4b",
       "version_major": 2,
       "version_minor": 0
      },
      "text/plain": [
       "Filter:   0%|          | 0/5291 [00:00<?, ? examples/s]"
      ]
     },
     "metadata": {},
     "output_type": "display_data"
    },
    {
     "data": {
      "application/vnd.jupyter.widget-view+json": {
       "model_id": "d84913438878419188685668be1fed95",
       "version_major": 2,
       "version_minor": 0
      },
      "text/plain": [
       "Map:   0%|          | 0/5291 [00:00<?, ? examples/s]"
      ]
     },
     "metadata": {},
     "output_type": "display_data"
    },
    {
     "name": "stdout",
     "output_type": "stream",
     "text": [
      "Fold 0\n"
     ]
    },
    {
     "data": {
      "application/vnd.jupyter.widget-view+json": {
       "model_id": "93eba96252e44b07812e721521bb28f3",
       "version_major": 2,
       "version_minor": 0
      },
      "text/plain": [
       "Filter:   0%|          | 0/7942 [00:00<?, ? examples/s]"
      ]
     },
     "metadata": {},
     "output_type": "display_data"
    },
    {
     "data": {
      "application/vnd.jupyter.widget-view+json": {
       "model_id": "36fdbf2415ba4330bde21efec4552ab8",
       "version_major": 2,
       "version_minor": 0
      },
      "text/plain": [
       "Filter:   0%|          | 0/7942 [00:00<?, ? examples/s]"
      ]
     },
     "metadata": {},
     "output_type": "display_data"
    },
    {
     "data": {
      "application/vnd.jupyter.widget-view+json": {
       "model_id": "9d907714c46447ef82b0bca79d9431aa",
       "version_major": 2,
       "version_minor": 0
      },
      "text/plain": [
       "Filter:   0%|          | 0/2644 [00:00<?, ? examples/s]"
      ]
     },
     "metadata": {},
     "output_type": "display_data"
    },
    {
     "data": {
      "application/vnd.jupyter.widget-view+json": {
       "model_id": "18d68505130249d190d1ab6fb1bd0baa",
       "version_major": 2,
       "version_minor": 0
      },
      "text/plain": [
       "Filter:   0%|          | 0/2644 [00:00<?, ? examples/s]"
      ]
     },
     "metadata": {},
     "output_type": "display_data"
    },
    {
     "data": {
      "application/vnd.jupyter.widget-view+json": {
       "model_id": "2c37d36de85a4d509f30a56492ad2e3e",
       "version_major": 2,
       "version_minor": 0
      },
      "text/plain": [
       "Map:   0%|          | 0/2644 [00:00<?, ? examples/s]"
      ]
     },
     "metadata": {},
     "output_type": "display_data"
    },
    {
     "name": "stdout",
     "output_type": "stream",
     "text": [
      "TRAINING CLUSTER SET 3 FOR EPOCHS1\n",
      "LOADING MODEL Salesforce/codet5-base-multi-sum\n",
      "cuda\n"
     ]
    },
    {
     "name": "stderr",
     "output_type": "stream",
     "text": [
      "Using the `WANDB_DISABLED` environment variable is deprecated and will be removed in v5. Use the --report_to flag to control the integrations used for logging result (for instance --report_to none).\n"
     ]
    },
    {
     "data": {
      "text/html": [
       "\n",
       "    <div>\n",
       "      \n",
       "      <progress value='1323' max='1323' style='width:300px; height:20px; vertical-align: middle;'></progress>\n",
       "      [1323/1323 05:46, Epoch 1/1]\n",
       "    </div>\n",
       "    <table border=\"1\" class=\"dataframe\">\n",
       "  <thead>\n",
       " <tr style=\"text-align: left;\">\n",
       "      <th>Epoch</th>\n",
       "      <th>Training Loss</th>\n",
       "      <th>Validation Loss</th>\n",
       "      <th>Rouge1</th>\n",
       "      <th>Rouge2</th>\n",
       "      <th>Rougel</th>\n",
       "      <th>Rougelsum</th>\n",
       "      <th>Gen Len</th>\n",
       "      <th>Bleu</th>\n",
       "      <th>Brevity Penalty</th>\n",
       "      <th>Length Ratio</th>\n",
       "      <th>Translation Length</th>\n",
       "      <th>Reference Length</th>\n",
       "    </tr>\n",
       "  </thead>\n",
       "  <tbody>\n",
       "    <tr>\n",
       "      <td>1</td>\n",
       "      <td>5.109000</td>\n",
       "      <td>4.724148</td>\n",
       "      <td>0.226800</td>\n",
       "      <td>0.053200</td>\n",
       "      <td>0.200000</td>\n",
       "      <td>0.200200</td>\n",
       "      <td>13.228100</td>\n",
       "      <td>0.017100</td>\n",
       "      <td>1.000000</td>\n",
       "      <td>1.087200</td>\n",
       "      <td>27537</td>\n",
       "      <td>25328</td>\n",
       "    </tr>\n",
       "  </tbody>\n",
       "</table><p>"
      ],
      "text/plain": [
       "<IPython.core.display.HTML object>"
      ]
     },
     "metadata": {},
     "output_type": "display_data"
    },
    {
     "name": "stdout",
     "output_type": "stream",
     "text": [
      "Fold 1\n"
     ]
    },
    {
     "data": {
      "application/vnd.jupyter.widget-view+json": {
       "model_id": "c6573081f7fe4ff3b5489aac8fa30046",
       "version_major": 2,
       "version_minor": 0
      },
      "text/plain": [
       "Filter:   0%|          | 0/7942 [00:00<?, ? examples/s]"
      ]
     },
     "metadata": {},
     "output_type": "display_data"
    },
    {
     "data": {
      "application/vnd.jupyter.widget-view+json": {
       "model_id": "c75b7d6d40ac4c7aa2c2acc4603d00ab",
       "version_major": 2,
       "version_minor": 0
      },
      "text/plain": [
       "Filter:   0%|          | 0/7942 [00:00<?, ? examples/s]"
      ]
     },
     "metadata": {},
     "output_type": "display_data"
    },
    {
     "data": {
      "application/vnd.jupyter.widget-view+json": {
       "model_id": "4da49a647fa24960a8f9a2c03a9e4e02",
       "version_major": 2,
       "version_minor": 0
      },
      "text/plain": [
       "Filter:   0%|          | 0/2647 [00:00<?, ? examples/s]"
      ]
     },
     "metadata": {},
     "output_type": "display_data"
    },
    {
     "data": {
      "application/vnd.jupyter.widget-view+json": {
       "model_id": "420b8d6471d348a2bca4cf4bd4002cff",
       "version_major": 2,
       "version_minor": 0
      },
      "text/plain": [
       "Filter:   0%|          | 0/2647 [00:00<?, ? examples/s]"
      ]
     },
     "metadata": {},
     "output_type": "display_data"
    },
    {
     "data": {
      "application/vnd.jupyter.widget-view+json": {
       "model_id": "2ce1084a774e42ae9a67826f206497c7",
       "version_major": 2,
       "version_minor": 0
      },
      "text/plain": [
       "Map:   0%|          | 0/2647 [00:00<?, ? examples/s]"
      ]
     },
     "metadata": {},
     "output_type": "display_data"
    },
    {
     "name": "stdout",
     "output_type": "stream",
     "text": [
      "TRAINING CLUSTER SET 3 FOR EPOCHS1\n",
      "LOADING MODEL Salesforce/codet5-base-multi-sum\n",
      "cuda\n"
     ]
    },
    {
     "name": "stderr",
     "output_type": "stream",
     "text": [
      "Using the `WANDB_DISABLED` environment variable is deprecated and will be removed in v5. Use the --report_to flag to control the integrations used for logging result (for instance --report_to none).\n"
     ]
    },
    {
     "name": "stdout",
     "output_type": "stream",
     "text": [
      "Fold 2\n"
     ]
    },
    {
     "data": {
      "application/vnd.jupyter.widget-view+json": {
       "model_id": "87069674d8bd4ac68b464ded08eb6f77",
       "version_major": 2,
       "version_minor": 0
      },
      "text/plain": [
       "Filter:   0%|          | 0/7942 [00:00<?, ? examples/s]"
      ]
     },
     "metadata": {},
     "output_type": "display_data"
    },
    {
     "data": {
      "application/vnd.jupyter.widget-view+json": {
       "model_id": "30080b2500424738968aeaa5a812584b",
       "version_major": 2,
       "version_minor": 0
      },
      "text/plain": [
       "Filter:   0%|          | 0/7942 [00:00<?, ? examples/s]"
      ]
     },
     "metadata": {},
     "output_type": "display_data"
    },
    {
     "data": {
      "application/vnd.jupyter.widget-view+json": {
       "model_id": "b4f993a4df8540569c44398dba239cbc",
       "version_major": 2,
       "version_minor": 0
      },
      "text/plain": [
       "Filter:   0%|          | 0/2651 [00:00<?, ? examples/s]"
      ]
     },
     "metadata": {},
     "output_type": "display_data"
    },
    {
     "data": {
      "application/vnd.jupyter.widget-view+json": {
       "model_id": "3cec69427b43450185b22b8d22f74d33",
       "version_major": 2,
       "version_minor": 0
      },
      "text/plain": [
       "Filter:   0%|          | 0/2651 [00:00<?, ? examples/s]"
      ]
     },
     "metadata": {},
     "output_type": "display_data"
    },
    {
     "data": {
      "application/vnd.jupyter.widget-view+json": {
       "model_id": "b16b4094c1c54af4b6c6182feca86c65",
       "version_major": 2,
       "version_minor": 0
      },
      "text/plain": [
       "Map:   0%|          | 0/2651 [00:00<?, ? examples/s]"
      ]
     },
     "metadata": {},
     "output_type": "display_data"
    },
    {
     "name": "stdout",
     "output_type": "stream",
     "text": [
      "TRAINING CLUSTER SET 3 FOR EPOCHS1\n"
     ]
    },
    {
     "name": "stderr",
     "output_type": "stream",
     "text": [
      "Using the `WANDB_DISABLED` environment variable is deprecated and will be removed in v5. Use the --report_to flag to control the integrations used for logging result (for instance --report_to none).\n"
     ]
    },
    {
     "name": "stdout",
     "output_type": "stream",
     "text": [
      "LOADING MODEL Salesforce/codet5-base-multi-sum\n",
      "cuda\n"
     ]
    }
   ],
   "source": [
    "for cluster_idx in [1, 4, 3]:\n",
    "    fold_results = cv_cluster_set(experiment_config=experiment_config,\n",
    "                                    splits=splits,\n",
    "                                    questions_list=questions_list,\n",
    "                                    train_dataset=train_dataset,\n",
    "                                    tokenizer=tokenizer,\n",
    "                                    fold_results=fold_results,\n",
    "                                    cluster_id=cluster_idx)\n",
    "\n",
    "cv_df = results_dict_todf(fold_results)\n",
    "\n",
    "########## SAVE THE FILE\n",
    "\n",
    "with open(f'reports/results/cv_result_{ANALYSIS_POSTFIX}.pickle', 'wb') as handle:\n",
    "    pickle.dump(cv_df, handle, protocol=pickle.HIGHEST_PROTOCOL)"
   ]
  },
  {
   "cell_type": "code",
   "execution_count": 12,
   "metadata": {},
   "outputs": [
    {
     "data": {
      "text/plain": [
       "dict_keys([0, 1, 5, 8, 10, 16, 'cluster_1', 'cluster_4', 'cluster_3'])"
      ]
     },
     "execution_count": 12,
     "metadata": {},
     "output_type": "execute_result"
    }
   ],
   "source": [
    "fold_results.keys()"
   ]
  },
  {
   "cell_type": "code",
   "execution_count": 13,
   "metadata": {},
   "outputs": [
    {
     "name": "stdout",
     "output_type": "stream",
     "text": [
      "Mean\n",
      "model_set\n",
      "0            0.113737\n",
      "1            0.247452\n",
      "5            0.273484\n",
      "8            0.273170\n",
      "10           0.270033\n",
      "16           0.268677\n",
      "cluster_1    0.154332\n",
      "cluster_3    0.151154\n",
      "cluster_4    0.149859\n",
      "Name: rouge, dtype: float64\n",
      "STD\n",
      "model_set\n",
      "0            0.124526\n",
      "1            0.157347\n",
      "5            0.158682\n",
      "8            0.158973\n",
      "10           0.158828\n",
      "16           0.158742\n",
      "cluster_1    0.148038\n",
      "cluster_3    0.146543\n",
      "cluster_4    0.145705\n",
      "Name: rouge, dtype: float64\n"
     ]
    }
   ],
   "source": [
    "print(\"Mean\")\n",
    "print(cv_df.groupby([\"model_set\"])[\"rouge\"].mean())\n",
    "\n",
    "print(\"STD\")\n",
    "print(cv_df.groupby(\"model_set\")[\"rouge\"].std())"
   ]
  },
  {
   "cell_type": "code",
   "execution_count": 6,
   "metadata": {},
   "outputs": [],
   "source": [
    "########## LOAD CV RESULTS\n",
    "\n",
    "import pickle\n",
    "with open(f'reports/results/cv_result_{ANALYSIS_POSTFIX}.pickle', 'rb') as handle:\n",
    "    cv_df = pickle.load(handle)"
   ]
  },
  {
   "cell_type": "markdown",
   "metadata": {},
   "source": [
    "### Step 2. Learn performance"
   ]
  },
  {
   "cell_type": "code",
   "execution_count": null,
   "metadata": {
    "scrolled": true
   },
   "outputs": [
    {
     "name": "stdout",
     "output_type": "stream",
     "text": [
      "0\n",
      "lr\n",
      "svm\n"
     ]
    }
   ],
   "source": [
    "cv_df, model_results = cv_step_2(experiment_config=experiment_config, cv_df=cv_df)\n",
    "\n",
    "with open(f'reports/results/s2_model_results_{ANALYSIS_POSTFIX}.pickle', 'wb') as handle:\n",
    "    pickle.dump(model_results, handle, protocol=pickle.HIGHEST_PROTOCOL)\n",
    "\n",
    "with open(f'reports/results/cd_df_with_s2_{ANALYSIS_POSTFIX}.pickle', 'wb') as handle:\n",
    "    pickle.dump(cv_df, handle, protocol=pickle.HIGHEST_PROTOCOL)\n",
    "\n",
    "print(\"Mean\")\n",
    "print(cv_df.groupby([\"model_set\"])[\"rouge\"].mean())\n",
    "\n",
    "print(\"STD\")\n",
    "print(cv_df.groupby(\"model_set\")[\"rouge\"].std())"
   ]
  },
  {
   "cell_type": "code",
   "execution_count": 4,
   "metadata": {},
   "outputs": [],
   "source": [
    "### TO SAVE THE VECTORIZER AND STEP 2 MODELS\n",
    "\n",
    "with open(f'reports/results/cd_df_with_s2_{ANALYSIS_POSTFIX}.pickle', 'rb') as handle:\n",
    "    cv_df = pickle.load(handle)"
   ]
  },
  {
   "cell_type": "code",
   "execution_count": 5,
   "metadata": {},
   "outputs": [
    {
     "name": "stdout",
     "output_type": "stream",
     "text": [
      "lr\n",
      "svm\n",
      "lgbm\n",
      "[LightGBM] [Info] Auto-choosing row-wise multi-threading, the overhead of testing was 4.989763 seconds.\n",
      "You can set `force_row_wise=true` to remove the overhead.\n",
      "And if memory is not enough, you can set `force_col_wise=true`.\n",
      "[LightGBM] [Info] Total Bins 21187\n",
      "[LightGBM] [Info] Number of data points in the train set: 71478, number of used features: 1422\n",
      "[LightGBM] [Info] Start training from score 0.211322\n",
      "catboost\n",
      "Learning rate set to 0.080378\n",
      "0:\tlearn: 0.1619674\ttotal: 68.3ms\tremaining: 1m 8s\n",
      "1:\tlearn: 0.1603686\ttotal: 82.6ms\tremaining: 41.2s\n",
      "2:\tlearn: 0.1590035\ttotal: 94.8ms\tremaining: 31.5s\n",
      "3:\tlearn: 0.1578352\ttotal: 106ms\tremaining: 26.4s\n",
      "4:\tlearn: 0.1568431\ttotal: 116ms\tremaining: 23.1s\n",
      "5:\tlearn: 0.1559708\ttotal: 127ms\tremaining: 21s\n",
      "6:\tlearn: 0.1552563\ttotal: 137ms\tremaining: 19.5s\n",
      "7:\tlearn: 0.1545913\ttotal: 148ms\tremaining: 18.4s\n",
      "8:\tlearn: 0.1540291\ttotal: 159ms\tremaining: 17.5s\n",
      "9:\tlearn: 0.1535557\ttotal: 170ms\tremaining: 16.8s\n",
      "10:\tlearn: 0.1531613\ttotal: 180ms\tremaining: 16.2s\n",
      "11:\tlearn: 0.1527998\ttotal: 191ms\tremaining: 15.7s\n",
      "12:\tlearn: 0.1525858\ttotal: 201ms\tremaining: 15.3s\n",
      "13:\tlearn: 0.1523901\ttotal: 212ms\tremaining: 15s\n",
      "14:\tlearn: 0.1521146\ttotal: 224ms\tremaining: 14.7s\n",
      "15:\tlearn: 0.1518789\ttotal: 234ms\tremaining: 14.4s\n",
      "16:\tlearn: 0.1516724\ttotal: 245ms\tremaining: 14.2s\n",
      "17:\tlearn: 0.1514951\ttotal: 256ms\tremaining: 13.9s\n",
      "18:\tlearn: 0.1513726\ttotal: 267ms\tremaining: 13.8s\n",
      "19:\tlearn: 0.1512551\ttotal: 278ms\tremaining: 13.6s\n",
      "20:\tlearn: 0.1511707\ttotal: 290ms\tremaining: 13.5s\n",
      "21:\tlearn: 0.1510226\ttotal: 303ms\tremaining: 13.5s\n",
      "22:\tlearn: 0.1509447\ttotal: 313ms\tremaining: 13.3s\n",
      "23:\tlearn: 0.1508427\ttotal: 324ms\tremaining: 13.2s\n",
      "24:\tlearn: 0.1507673\ttotal: 335ms\tremaining: 13s\n",
      "25:\tlearn: 0.1506798\ttotal: 345ms\tremaining: 12.9s\n",
      "26:\tlearn: 0.1505964\ttotal: 355ms\tremaining: 12.8s\n",
      "27:\tlearn: 0.1505263\ttotal: 367ms\tremaining: 12.7s\n",
      "28:\tlearn: 0.1504527\ttotal: 377ms\tremaining: 12.6s\n",
      "29:\tlearn: 0.1503703\ttotal: 388ms\tremaining: 12.5s\n",
      "30:\tlearn: 0.1502991\ttotal: 398ms\tremaining: 12.4s\n",
      "31:\tlearn: 0.1502226\ttotal: 409ms\tremaining: 12.4s\n",
      "32:\tlearn: 0.1501594\ttotal: 419ms\tremaining: 12.3s\n",
      "33:\tlearn: 0.1500891\ttotal: 429ms\tremaining: 12.2s\n",
      "34:\tlearn: 0.1500312\ttotal: 440ms\tremaining: 12.1s\n",
      "35:\tlearn: 0.1499674\ttotal: 450ms\tremaining: 12.1s\n",
      "36:\tlearn: 0.1499160\ttotal: 460ms\tremaining: 12s\n",
      "37:\tlearn: 0.1498195\ttotal: 472ms\tremaining: 11.9s\n",
      "38:\tlearn: 0.1497670\ttotal: 483ms\tremaining: 11.9s\n",
      "39:\tlearn: 0.1497070\ttotal: 493ms\tremaining: 11.8s\n",
      "40:\tlearn: 0.1496506\ttotal: 503ms\tremaining: 11.8s\n",
      "41:\tlearn: 0.1495806\ttotal: 513ms\tremaining: 11.7s\n",
      "42:\tlearn: 0.1495318\ttotal: 524ms\tremaining: 11.7s\n",
      "43:\tlearn: 0.1494715\ttotal: 534ms\tremaining: 11.6s\n",
      "44:\tlearn: 0.1494138\ttotal: 544ms\tremaining: 11.6s\n",
      "45:\tlearn: 0.1493668\ttotal: 555ms\tremaining: 11.5s\n",
      "46:\tlearn: 0.1493203\ttotal: 565ms\tremaining: 11.5s\n",
      "47:\tlearn: 0.1492419\ttotal: 575ms\tremaining: 11.4s\n",
      "48:\tlearn: 0.1491863\ttotal: 586ms\tremaining: 11.4s\n",
      "49:\tlearn: 0.1491383\ttotal: 596ms\tremaining: 11.3s\n",
      "50:\tlearn: 0.1490822\ttotal: 607ms\tremaining: 11.3s\n",
      "51:\tlearn: 0.1490251\ttotal: 617ms\tremaining: 11.3s\n",
      "52:\tlearn: 0.1489792\ttotal: 628ms\tremaining: 11.2s\n",
      "53:\tlearn: 0.1489336\ttotal: 638ms\tremaining: 11.2s\n",
      "54:\tlearn: 0.1488855\ttotal: 649ms\tremaining: 11.1s\n",
      "55:\tlearn: 0.1488486\ttotal: 659ms\tremaining: 11.1s\n",
      "56:\tlearn: 0.1488066\ttotal: 669ms\tremaining: 11.1s\n",
      "57:\tlearn: 0.1487704\ttotal: 680ms\tremaining: 11s\n",
      "58:\tlearn: 0.1487232\ttotal: 691ms\tremaining: 11s\n",
      "59:\tlearn: 0.1486751\ttotal: 701ms\tremaining: 11s\n",
      "60:\tlearn: 0.1486322\ttotal: 712ms\tremaining: 11s\n",
      "61:\tlearn: 0.1485916\ttotal: 722ms\tremaining: 10.9s\n",
      "62:\tlearn: 0.1485511\ttotal: 732ms\tremaining: 10.9s\n",
      "63:\tlearn: 0.1485132\ttotal: 743ms\tremaining: 10.9s\n",
      "64:\tlearn: 0.1484738\ttotal: 753ms\tremaining: 10.8s\n",
      "65:\tlearn: 0.1484289\ttotal: 764ms\tremaining: 10.8s\n",
      "66:\tlearn: 0.1483907\ttotal: 774ms\tremaining: 10.8s\n",
      "67:\tlearn: 0.1483474\ttotal: 785ms\tremaining: 10.8s\n",
      "68:\tlearn: 0.1483026\ttotal: 796ms\tremaining: 10.7s\n",
      "69:\tlearn: 0.1482591\ttotal: 806ms\tremaining: 10.7s\n",
      "70:\tlearn: 0.1482193\ttotal: 816ms\tremaining: 10.7s\n",
      "71:\tlearn: 0.1481798\ttotal: 827ms\tremaining: 10.7s\n",
      "72:\tlearn: 0.1481418\ttotal: 838ms\tremaining: 10.6s\n",
      "73:\tlearn: 0.1481106\ttotal: 849ms\tremaining: 10.6s\n",
      "74:\tlearn: 0.1480722\ttotal: 859ms\tremaining: 10.6s\n",
      "75:\tlearn: 0.1480300\ttotal: 869ms\tremaining: 10.6s\n",
      "76:\tlearn: 0.1479906\ttotal: 883ms\tremaining: 10.6s\n",
      "77:\tlearn: 0.1479542\ttotal: 893ms\tremaining: 10.6s\n",
      "78:\tlearn: 0.1478997\ttotal: 903ms\tremaining: 10.5s\n",
      "79:\tlearn: 0.1478338\ttotal: 913ms\tremaining: 10.5s\n",
      "80:\tlearn: 0.1477985\ttotal: 925ms\tremaining: 10.5s\n",
      "81:\tlearn: 0.1477581\ttotal: 936ms\tremaining: 10.5s\n",
      "82:\tlearn: 0.1477249\ttotal: 949ms\tremaining: 10.5s\n",
      "83:\tlearn: 0.1476926\ttotal: 959ms\tremaining: 10.5s\n",
      "84:\tlearn: 0.1476578\ttotal: 970ms\tremaining: 10.4s\n",
      "85:\tlearn: 0.1476240\ttotal: 980ms\tremaining: 10.4s\n",
      "86:\tlearn: 0.1475971\ttotal: 991ms\tremaining: 10.4s\n",
      "87:\tlearn: 0.1475630\ttotal: 1s\tremaining: 10.4s\n",
      "88:\tlearn: 0.1475360\ttotal: 1.01s\tremaining: 10.4s\n",
      "89:\tlearn: 0.1474990\ttotal: 1.02s\tremaining: 10.3s\n",
      "90:\tlearn: 0.1474533\ttotal: 1.03s\tremaining: 10.3s\n",
      "91:\tlearn: 0.1474147\ttotal: 1.04s\tremaining: 10.3s\n",
      "92:\tlearn: 0.1473866\ttotal: 1.05s\tremaining: 10.3s\n",
      "93:\tlearn: 0.1473549\ttotal: 1.07s\tremaining: 10.3s\n",
      "94:\tlearn: 0.1473050\ttotal: 1.08s\tremaining: 10.3s\n",
      "95:\tlearn: 0.1472624\ttotal: 1.09s\tremaining: 10.2s\n",
      "96:\tlearn: 0.1472287\ttotal: 1.1s\tremaining: 10.2s\n",
      "97:\tlearn: 0.1471975\ttotal: 1.11s\tremaining: 10.2s\n",
      "98:\tlearn: 0.1471518\ttotal: 1.12s\tremaining: 10.2s\n",
      "99:\tlearn: 0.1471188\ttotal: 1.13s\tremaining: 10.2s\n",
      "100:\tlearn: 0.1470848\ttotal: 1.14s\tremaining: 10.1s\n",
      "101:\tlearn: 0.1470482\ttotal: 1.15s\tremaining: 10.1s\n",
      "102:\tlearn: 0.1470177\ttotal: 1.16s\tremaining: 10.1s\n",
      "103:\tlearn: 0.1469863\ttotal: 1.17s\tremaining: 10.1s\n",
      "104:\tlearn: 0.1469532\ttotal: 1.18s\tremaining: 10.1s\n",
      "105:\tlearn: 0.1469252\ttotal: 1.2s\tremaining: 10.1s\n",
      "106:\tlearn: 0.1468951\ttotal: 1.21s\tremaining: 10.1s\n",
      "107:\tlearn: 0.1468649\ttotal: 1.22s\tremaining: 10s\n",
      "108:\tlearn: 0.1468342\ttotal: 1.23s\tremaining: 10s\n",
      "109:\tlearn: 0.1468016\ttotal: 1.24s\tremaining: 10s\n",
      "110:\tlearn: 0.1467771\ttotal: 1.25s\tremaining: 10s\n",
      "111:\tlearn: 0.1467529\ttotal: 1.26s\tremaining: 9.99s\n",
      "112:\tlearn: 0.1467152\ttotal: 1.27s\tremaining: 9.97s\n",
      "113:\tlearn: 0.1466843\ttotal: 1.28s\tremaining: 9.96s\n",
      "114:\tlearn: 0.1466575\ttotal: 1.29s\tremaining: 9.95s\n",
      "115:\tlearn: 0.1466280\ttotal: 1.3s\tremaining: 9.93s\n",
      "116:\tlearn: 0.1465966\ttotal: 1.31s\tremaining: 9.92s\n",
      "117:\tlearn: 0.1465675\ttotal: 1.32s\tremaining: 9.9s\n",
      "118:\tlearn: 0.1465388\ttotal: 1.33s\tremaining: 9.89s\n",
      "119:\tlearn: 0.1465086\ttotal: 1.34s\tremaining: 9.87s\n",
      "120:\tlearn: 0.1464780\ttotal: 1.36s\tremaining: 9.85s\n",
      "121:\tlearn: 0.1464523\ttotal: 1.37s\tremaining: 9.85s\n",
      "122:\tlearn: 0.1464194\ttotal: 1.38s\tremaining: 9.83s\n",
      "123:\tlearn: 0.1463885\ttotal: 1.39s\tremaining: 9.81s\n",
      "124:\tlearn: 0.1463610\ttotal: 1.4s\tremaining: 9.8s\n",
      "125:\tlearn: 0.1463274\ttotal: 1.41s\tremaining: 9.78s\n",
      "126:\tlearn: 0.1462931\ttotal: 1.42s\tremaining: 9.77s\n",
      "127:\tlearn: 0.1462606\ttotal: 1.43s\tremaining: 9.75s\n",
      "128:\tlearn: 0.1462315\ttotal: 1.44s\tremaining: 9.73s\n",
      "129:\tlearn: 0.1462009\ttotal: 1.45s\tremaining: 9.72s\n",
      "130:\tlearn: 0.1461709\ttotal: 1.46s\tremaining: 9.71s\n",
      "131:\tlearn: 0.1461397\ttotal: 1.48s\tremaining: 9.71s\n",
      "132:\tlearn: 0.1461067\ttotal: 1.49s\tremaining: 9.69s\n",
      "133:\tlearn: 0.1460757\ttotal: 1.5s\tremaining: 9.68s\n",
      "134:\tlearn: 0.1460459\ttotal: 1.51s\tremaining: 9.67s\n",
      "135:\tlearn: 0.1460189\ttotal: 1.52s\tremaining: 9.65s\n",
      "136:\tlearn: 0.1459884\ttotal: 1.53s\tremaining: 9.63s\n",
      "137:\tlearn: 0.1459578\ttotal: 1.54s\tremaining: 9.63s\n",
      "138:\tlearn: 0.1459243\ttotal: 1.55s\tremaining: 9.61s\n",
      "139:\tlearn: 0.1458941\ttotal: 1.56s\tremaining: 9.6s\n",
      "140:\tlearn: 0.1458660\ttotal: 1.57s\tremaining: 9.58s\n",
      "141:\tlearn: 0.1458395\ttotal: 1.58s\tremaining: 9.57s\n",
      "142:\tlearn: 0.1458105\ttotal: 1.59s\tremaining: 9.56s\n",
      "143:\tlearn: 0.1457807\ttotal: 1.6s\tremaining: 9.54s\n",
      "144:\tlearn: 0.1457514\ttotal: 1.62s\tremaining: 9.53s\n",
      "145:\tlearn: 0.1457239\ttotal: 1.63s\tremaining: 9.52s\n",
      "146:\tlearn: 0.1456973\ttotal: 1.64s\tremaining: 9.5s\n",
      "147:\tlearn: 0.1456711\ttotal: 1.65s\tremaining: 9.48s\n",
      "148:\tlearn: 0.1456459\ttotal: 1.66s\tremaining: 9.47s\n",
      "149:\tlearn: 0.1456135\ttotal: 1.67s\tremaining: 9.45s\n",
      "150:\tlearn: 0.1455866\ttotal: 1.68s\tremaining: 9.44s\n",
      "151:\tlearn: 0.1455574\ttotal: 1.69s\tremaining: 9.43s\n",
      "152:\tlearn: 0.1455252\ttotal: 1.7s\tremaining: 9.41s\n",
      "153:\tlearn: 0.1454994\ttotal: 1.71s\tremaining: 9.4s\n",
      "154:\tlearn: 0.1454735\ttotal: 1.72s\tremaining: 9.39s\n",
      "155:\tlearn: 0.1454299\ttotal: 1.73s\tremaining: 9.37s\n",
      "156:\tlearn: 0.1453937\ttotal: 1.74s\tremaining: 9.36s\n",
      "157:\tlearn: 0.1453711\ttotal: 1.75s\tremaining: 9.35s\n",
      "158:\tlearn: 0.1453426\ttotal: 1.76s\tremaining: 9.33s\n",
      "159:\tlearn: 0.1453116\ttotal: 1.77s\tremaining: 9.32s\n",
      "160:\tlearn: 0.1452829\ttotal: 1.78s\tremaining: 9.3s\n",
      "161:\tlearn: 0.1452344\ttotal: 1.8s\tremaining: 9.29s\n",
      "162:\tlearn: 0.1452084\ttotal: 1.81s\tremaining: 9.28s\n",
      "163:\tlearn: 0.1451753\ttotal: 1.82s\tremaining: 9.26s\n",
      "164:\tlearn: 0.1451426\ttotal: 1.83s\tremaining: 9.24s\n",
      "165:\tlearn: 0.1451126\ttotal: 1.84s\tremaining: 9.23s\n",
      "166:\tlearn: 0.1450755\ttotal: 1.85s\tremaining: 9.22s\n",
      "167:\tlearn: 0.1450356\ttotal: 1.86s\tremaining: 9.2s\n",
      "168:\tlearn: 0.1450110\ttotal: 1.87s\tremaining: 9.19s\n",
      "169:\tlearn: 0.1449836\ttotal: 1.88s\tremaining: 9.18s\n",
      "170:\tlearn: 0.1449490\ttotal: 1.89s\tremaining: 9.16s\n",
      "171:\tlearn: 0.1449120\ttotal: 1.9s\tremaining: 9.15s\n",
      "172:\tlearn: 0.1448802\ttotal: 1.91s\tremaining: 9.14s\n",
      "173:\tlearn: 0.1448533\ttotal: 1.92s\tremaining: 9.13s\n",
      "174:\tlearn: 0.1448228\ttotal: 1.93s\tremaining: 9.11s\n",
      "175:\tlearn: 0.1447975\ttotal: 1.94s\tremaining: 9.1s\n",
      "176:\tlearn: 0.1447770\ttotal: 1.95s\tremaining: 9.08s\n",
      "177:\tlearn: 0.1447514\ttotal: 1.96s\tremaining: 9.07s\n",
      "178:\tlearn: 0.1447199\ttotal: 1.97s\tremaining: 9.05s\n",
      "179:\tlearn: 0.1447003\ttotal: 1.98s\tremaining: 9.04s\n",
      "180:\tlearn: 0.1446797\ttotal: 1.99s\tremaining: 9.02s\n",
      "181:\tlearn: 0.1446340\ttotal: 2s\tremaining: 9.01s\n",
      "182:\tlearn: 0.1446030\ttotal: 2.02s\tremaining: 9s\n",
      "183:\tlearn: 0.1445851\ttotal: 2.02s\tremaining: 8.98s\n",
      "184:\tlearn: 0.1445585\ttotal: 2.04s\tremaining: 8.97s\n",
      "185:\tlearn: 0.1445329\ttotal: 2.05s\tremaining: 8.96s\n",
      "186:\tlearn: 0.1444933\ttotal: 2.06s\tremaining: 8.95s\n",
      "187:\tlearn: 0.1444709\ttotal: 2.07s\tremaining: 8.94s\n",
      "188:\tlearn: 0.1444360\ttotal: 2.08s\tremaining: 8.94s\n",
      "189:\tlearn: 0.1444118\ttotal: 2.09s\tremaining: 8.93s\n",
      "190:\tlearn: 0.1443883\ttotal: 2.1s\tremaining: 8.91s\n",
      "191:\tlearn: 0.1443531\ttotal: 2.12s\tremaining: 8.9s\n",
      "192:\tlearn: 0.1443133\ttotal: 2.13s\tremaining: 8.89s\n",
      "193:\tlearn: 0.1442905\ttotal: 2.14s\tremaining: 8.87s\n",
      "194:\tlearn: 0.1442660\ttotal: 2.15s\tremaining: 8.86s\n",
      "195:\tlearn: 0.1442449\ttotal: 2.16s\tremaining: 8.85s\n",
      "196:\tlearn: 0.1442159\ttotal: 2.17s\tremaining: 8.84s\n",
      "197:\tlearn: 0.1441755\ttotal: 2.18s\tremaining: 8.82s\n",
      "198:\tlearn: 0.1441152\ttotal: 2.19s\tremaining: 8.81s\n",
      "199:\tlearn: 0.1440914\ttotal: 2.2s\tremaining: 8.8s\n",
      "200:\tlearn: 0.1440644\ttotal: 2.21s\tremaining: 8.79s\n",
      "201:\tlearn: 0.1440229\ttotal: 2.22s\tremaining: 8.77s\n",
      "202:\tlearn: 0.1439941\ttotal: 2.23s\tremaining: 8.76s\n",
      "203:\tlearn: 0.1439498\ttotal: 2.24s\tremaining: 8.75s\n",
      "204:\tlearn: 0.1439214\ttotal: 2.25s\tremaining: 8.73s\n",
      "205:\tlearn: 0.1438868\ttotal: 2.26s\tremaining: 8.72s\n",
      "206:\tlearn: 0.1438641\ttotal: 2.27s\tremaining: 8.71s\n",
      "207:\tlearn: 0.1438277\ttotal: 2.29s\tremaining: 8.7s\n",
      "208:\tlearn: 0.1438047\ttotal: 2.3s\tremaining: 8.69s\n",
      "209:\tlearn: 0.1437801\ttotal: 2.31s\tremaining: 8.68s\n",
      "210:\tlearn: 0.1437585\ttotal: 2.32s\tremaining: 8.67s\n",
      "211:\tlearn: 0.1437234\ttotal: 2.33s\tremaining: 8.66s\n",
      "212:\tlearn: 0.1436990\ttotal: 2.34s\tremaining: 8.65s\n",
      "213:\tlearn: 0.1436737\ttotal: 2.35s\tremaining: 8.63s\n",
      "214:\tlearn: 0.1436513\ttotal: 2.36s\tremaining: 8.62s\n",
      "215:\tlearn: 0.1436069\ttotal: 2.37s\tremaining: 8.61s\n",
      "216:\tlearn: 0.1435878\ttotal: 2.38s\tremaining: 8.6s\n",
      "217:\tlearn: 0.1435659\ttotal: 2.39s\tremaining: 8.59s\n",
      "218:\tlearn: 0.1435280\ttotal: 2.4s\tremaining: 8.57s\n",
      "219:\tlearn: 0.1435053\ttotal: 2.41s\tremaining: 8.56s\n",
      "220:\tlearn: 0.1434851\ttotal: 2.42s\tremaining: 8.55s\n",
      "221:\tlearn: 0.1434635\ttotal: 2.43s\tremaining: 8.53s\n",
      "222:\tlearn: 0.1434317\ttotal: 2.44s\tremaining: 8.52s\n",
      "223:\tlearn: 0.1434134\ttotal: 2.46s\tremaining: 8.51s\n",
      "224:\tlearn: 0.1433822\ttotal: 2.46s\tremaining: 8.49s\n",
      "225:\tlearn: 0.1433367\ttotal: 2.48s\tremaining: 8.48s\n",
      "226:\tlearn: 0.1433022\ttotal: 2.49s\tremaining: 8.47s\n",
      "227:\tlearn: 0.1432707\ttotal: 2.5s\tremaining: 8.46s\n",
      "228:\tlearn: 0.1432293\ttotal: 2.51s\tremaining: 8.45s\n",
      "229:\tlearn: 0.1432044\ttotal: 2.52s\tremaining: 8.44s\n",
      "230:\tlearn: 0.1431864\ttotal: 2.53s\tremaining: 8.42s\n",
      "231:\tlearn: 0.1431616\ttotal: 2.54s\tremaining: 8.41s\n",
      "232:\tlearn: 0.1431369\ttotal: 2.55s\tremaining: 8.4s\n",
      "233:\tlearn: 0.1431148\ttotal: 2.56s\tremaining: 8.38s\n",
      "234:\tlearn: 0.1430900\ttotal: 2.57s\tremaining: 8.37s\n",
      "235:\tlearn: 0.1430569\ttotal: 2.58s\tremaining: 8.36s\n",
      "236:\tlearn: 0.1430362\ttotal: 2.59s\tremaining: 8.35s\n",
      "237:\tlearn: 0.1430070\ttotal: 2.6s\tremaining: 8.34s\n",
      "238:\tlearn: 0.1429830\ttotal: 2.61s\tremaining: 8.32s\n",
      "239:\tlearn: 0.1429574\ttotal: 2.63s\tremaining: 8.31s\n",
      "240:\tlearn: 0.1429312\ttotal: 2.63s\tremaining: 8.3s\n",
      "241:\tlearn: 0.1429096\ttotal: 2.65s\tremaining: 8.29s\n",
      "242:\tlearn: 0.1428692\ttotal: 2.66s\tremaining: 8.28s\n",
      "243:\tlearn: 0.1428420\ttotal: 2.67s\tremaining: 8.26s\n",
      "244:\tlearn: 0.1428227\ttotal: 2.68s\tremaining: 8.25s\n",
      "245:\tlearn: 0.1428004\ttotal: 2.69s\tremaining: 8.24s\n",
      "246:\tlearn: 0.1427795\ttotal: 2.7s\tremaining: 8.22s\n",
      "247:\tlearn: 0.1427494\ttotal: 2.71s\tremaining: 8.21s\n",
      "248:\tlearn: 0.1427270\ttotal: 2.72s\tremaining: 8.2s\n",
      "249:\tlearn: 0.1427078\ttotal: 2.73s\tremaining: 8.19s\n",
      "250:\tlearn: 0.1426907\ttotal: 2.74s\tremaining: 8.18s\n",
      "251:\tlearn: 0.1426724\ttotal: 2.75s\tremaining: 8.16s\n",
      "252:\tlearn: 0.1426587\ttotal: 2.76s\tremaining: 8.15s\n",
      "253:\tlearn: 0.1426334\ttotal: 2.77s\tremaining: 8.14s\n",
      "254:\tlearn: 0.1426127\ttotal: 2.78s\tremaining: 8.12s\n",
      "255:\tlearn: 0.1425839\ttotal: 2.79s\tremaining: 8.12s\n",
      "256:\tlearn: 0.1425610\ttotal: 2.8s\tremaining: 8.1s\n",
      "257:\tlearn: 0.1425395\ttotal: 2.81s\tremaining: 8.09s\n",
      "258:\tlearn: 0.1425176\ttotal: 2.82s\tremaining: 8.08s\n",
      "259:\tlearn: 0.1424922\ttotal: 2.83s\tremaining: 8.07s\n",
      "260:\tlearn: 0.1424711\ttotal: 2.85s\tremaining: 8.05s\n",
      "261:\tlearn: 0.1424253\ttotal: 2.85s\tremaining: 8.04s\n",
      "262:\tlearn: 0.1423940\ttotal: 2.87s\tremaining: 8.03s\n",
      "263:\tlearn: 0.1423587\ttotal: 2.88s\tremaining: 8.02s\n",
      "264:\tlearn: 0.1423387\ttotal: 2.89s\tremaining: 8.01s\n",
      "265:\tlearn: 0.1423186\ttotal: 2.9s\tremaining: 7.99s\n",
      "266:\tlearn: 0.1422861\ttotal: 2.91s\tremaining: 7.98s\n",
      "267:\tlearn: 0.1422683\ttotal: 2.92s\tremaining: 7.97s\n",
      "268:\tlearn: 0.1422545\ttotal: 2.93s\tremaining: 7.96s\n",
      "269:\tlearn: 0.1422256\ttotal: 2.94s\tremaining: 7.95s\n",
      "270:\tlearn: 0.1422019\ttotal: 2.95s\tremaining: 7.94s\n",
      "271:\tlearn: 0.1421864\ttotal: 2.96s\tremaining: 7.93s\n",
      "272:\tlearn: 0.1421620\ttotal: 2.97s\tremaining: 7.92s\n",
      "273:\tlearn: 0.1421443\ttotal: 2.98s\tremaining: 7.91s\n",
      "274:\tlearn: 0.1421189\ttotal: 3s\tremaining: 7.9s\n",
      "275:\tlearn: 0.1421055\ttotal: 3s\tremaining: 7.88s\n",
      "276:\tlearn: 0.1420810\ttotal: 3.02s\tremaining: 7.87s\n",
      "277:\tlearn: 0.1420596\ttotal: 3.03s\tremaining: 7.86s\n",
      "278:\tlearn: 0.1420277\ttotal: 3.04s\tremaining: 7.85s\n",
      "279:\tlearn: 0.1420064\ttotal: 3.05s\tremaining: 7.84s\n",
      "280:\tlearn: 0.1419762\ttotal: 3.06s\tremaining: 7.83s\n",
      "281:\tlearn: 0.1419582\ttotal: 3.07s\tremaining: 7.81s\n",
      "282:\tlearn: 0.1419400\ttotal: 3.08s\tremaining: 7.8s\n",
      "283:\tlearn: 0.1419134\ttotal: 3.09s\tremaining: 7.79s\n",
      "284:\tlearn: 0.1418922\ttotal: 3.1s\tremaining: 7.78s\n",
      "285:\tlearn: 0.1418603\ttotal: 3.11s\tremaining: 7.76s\n",
      "286:\tlearn: 0.1418354\ttotal: 3.12s\tremaining: 7.75s\n",
      "287:\tlearn: 0.1418115\ttotal: 3.13s\tremaining: 7.74s\n",
      "288:\tlearn: 0.1417906\ttotal: 3.14s\tremaining: 7.73s\n",
      "289:\tlearn: 0.1417744\ttotal: 3.15s\tremaining: 7.72s\n",
      "290:\tlearn: 0.1417541\ttotal: 3.16s\tremaining: 7.71s\n",
      "291:\tlearn: 0.1417194\ttotal: 3.17s\tremaining: 7.69s\n",
      "292:\tlearn: 0.1416881\ttotal: 3.18s\tremaining: 7.68s\n",
      "293:\tlearn: 0.1416706\ttotal: 3.19s\tremaining: 7.67s\n",
      "294:\tlearn: 0.1416553\ttotal: 3.21s\tremaining: 7.66s\n",
      "295:\tlearn: 0.1416147\ttotal: 3.21s\tremaining: 7.65s\n",
      "296:\tlearn: 0.1415837\ttotal: 3.23s\tremaining: 7.64s\n",
      "297:\tlearn: 0.1415619\ttotal: 3.24s\tremaining: 7.62s\n",
      "298:\tlearn: 0.1415435\ttotal: 3.25s\tremaining: 7.61s\n",
      "299:\tlearn: 0.1415263\ttotal: 3.26s\tremaining: 7.6s\n",
      "300:\tlearn: 0.1415051\ttotal: 3.27s\tremaining: 7.59s\n",
      "301:\tlearn: 0.1414837\ttotal: 3.28s\tremaining: 7.58s\n",
      "302:\tlearn: 0.1414699\ttotal: 3.29s\tremaining: 7.56s\n",
      "303:\tlearn: 0.1414484\ttotal: 3.3s\tremaining: 7.55s\n",
      "304:\tlearn: 0.1414261\ttotal: 3.31s\tremaining: 7.54s\n",
      "305:\tlearn: 0.1414060\ttotal: 3.32s\tremaining: 7.53s\n",
      "306:\tlearn: 0.1413912\ttotal: 3.33s\tremaining: 7.52s\n",
      "307:\tlearn: 0.1413733\ttotal: 3.34s\tremaining: 7.51s\n",
      "308:\tlearn: 0.1413408\ttotal: 3.35s\tremaining: 7.49s\n",
      "309:\tlearn: 0.1413180\ttotal: 3.36s\tremaining: 7.48s\n",
      "310:\tlearn: 0.1412804\ttotal: 3.37s\tremaining: 7.47s\n",
      "311:\tlearn: 0.1412601\ttotal: 3.38s\tremaining: 7.46s\n",
      "312:\tlearn: 0.1412421\ttotal: 3.39s\tremaining: 7.45s\n",
      "313:\tlearn: 0.1412169\ttotal: 3.4s\tremaining: 7.43s\n",
      "314:\tlearn: 0.1411976\ttotal: 3.41s\tremaining: 7.42s\n",
      "315:\tlearn: 0.1411748\ttotal: 3.42s\tremaining: 7.41s\n",
      "316:\tlearn: 0.1411425\ttotal: 3.43s\tremaining: 7.4s\n",
      "317:\tlearn: 0.1411271\ttotal: 3.44s\tremaining: 7.38s\n",
      "318:\tlearn: 0.1410934\ttotal: 3.45s\tremaining: 7.37s\n",
      "319:\tlearn: 0.1410741\ttotal: 3.46s\tremaining: 7.36s\n",
      "320:\tlearn: 0.1410539\ttotal: 3.48s\tremaining: 7.35s\n",
      "321:\tlearn: 0.1410343\ttotal: 3.49s\tremaining: 7.34s\n",
      "322:\tlearn: 0.1410139\ttotal: 3.5s\tremaining: 7.33s\n",
      "323:\tlearn: 0.1409958\ttotal: 3.51s\tremaining: 7.32s\n",
      "324:\tlearn: 0.1409765\ttotal: 3.52s\tremaining: 7.3s\n",
      "325:\tlearn: 0.1409548\ttotal: 3.53s\tremaining: 7.29s\n",
      "326:\tlearn: 0.1408995\ttotal: 3.54s\tremaining: 7.29s\n",
      "327:\tlearn: 0.1408564\ttotal: 3.55s\tremaining: 7.28s\n",
      "328:\tlearn: 0.1408420\ttotal: 3.56s\tremaining: 7.26s\n",
      "329:\tlearn: 0.1408242\ttotal: 3.57s\tremaining: 7.25s\n",
      "330:\tlearn: 0.1407957\ttotal: 3.58s\tremaining: 7.24s\n",
      "331:\tlearn: 0.1407716\ttotal: 3.59s\tremaining: 7.23s\n",
      "332:\tlearn: 0.1407548\ttotal: 3.6s\tremaining: 7.22s\n",
      "333:\tlearn: 0.1407298\ttotal: 3.62s\tremaining: 7.21s\n",
      "334:\tlearn: 0.1406981\ttotal: 3.63s\tremaining: 7.2s\n",
      "335:\tlearn: 0.1406752\ttotal: 3.64s\tremaining: 7.19s\n",
      "336:\tlearn: 0.1406574\ttotal: 3.65s\tremaining: 7.17s\n",
      "337:\tlearn: 0.1406374\ttotal: 3.66s\tremaining: 7.16s\n",
      "338:\tlearn: 0.1406151\ttotal: 3.67s\tremaining: 7.15s\n",
      "339:\tlearn: 0.1406032\ttotal: 3.68s\tremaining: 7.14s\n",
      "340:\tlearn: 0.1405744\ttotal: 3.69s\tremaining: 7.13s\n",
      "341:\tlearn: 0.1405514\ttotal: 3.7s\tremaining: 7.11s\n",
      "342:\tlearn: 0.1405359\ttotal: 3.71s\tremaining: 7.1s\n",
      "343:\tlearn: 0.1405151\ttotal: 3.72s\tremaining: 7.09s\n",
      "344:\tlearn: 0.1404954\ttotal: 3.73s\tremaining: 7.08s\n",
      "345:\tlearn: 0.1404704\ttotal: 3.74s\tremaining: 7.07s\n",
      "346:\tlearn: 0.1404516\ttotal: 3.75s\tremaining: 7.06s\n",
      "347:\tlearn: 0.1404223\ttotal: 3.76s\tremaining: 7.04s\n",
      "348:\tlearn: 0.1403997\ttotal: 3.77s\tremaining: 7.03s\n",
      "349:\tlearn: 0.1403817\ttotal: 3.78s\tremaining: 7.02s\n",
      "350:\tlearn: 0.1403634\ttotal: 3.79s\tremaining: 7.01s\n",
      "351:\tlearn: 0.1403474\ttotal: 3.8s\tremaining: 7s\n",
      "352:\tlearn: 0.1403187\ttotal: 3.81s\tremaining: 6.98s\n",
      "353:\tlearn: 0.1402978\ttotal: 3.82s\tremaining: 6.97s\n",
      "354:\tlearn: 0.1402831\ttotal: 3.83s\tremaining: 6.96s\n",
      "355:\tlearn: 0.1402644\ttotal: 3.84s\tremaining: 6.95s\n",
      "356:\tlearn: 0.1402465\ttotal: 3.85s\tremaining: 6.94s\n",
      "357:\tlearn: 0.1402121\ttotal: 3.86s\tremaining: 6.92s\n",
      "358:\tlearn: 0.1401911\ttotal: 3.87s\tremaining: 6.91s\n",
      "359:\tlearn: 0.1401650\ttotal: 3.88s\tremaining: 6.9s\n",
      "360:\tlearn: 0.1401280\ttotal: 3.89s\tremaining: 6.89s\n",
      "361:\tlearn: 0.1401096\ttotal: 3.9s\tremaining: 6.88s\n",
      "362:\tlearn: 0.1400827\ttotal: 3.91s\tremaining: 6.87s\n",
      "363:\tlearn: 0.1400612\ttotal: 3.92s\tremaining: 6.86s\n",
      "364:\tlearn: 0.1400444\ttotal: 3.93s\tremaining: 6.84s\n",
      "365:\tlearn: 0.1400240\ttotal: 3.94s\tremaining: 6.83s\n",
      "366:\tlearn: 0.1400064\ttotal: 3.95s\tremaining: 6.82s\n",
      "367:\tlearn: 0.1399874\ttotal: 3.96s\tremaining: 6.81s\n",
      "368:\tlearn: 0.1399696\ttotal: 3.98s\tremaining: 6.8s\n",
      "369:\tlearn: 0.1399467\ttotal: 3.98s\tremaining: 6.79s\n",
      "370:\tlearn: 0.1399290\ttotal: 4s\tremaining: 6.77s\n",
      "371:\tlearn: 0.1399089\ttotal: 4s\tremaining: 6.76s\n",
      "372:\tlearn: 0.1398914\ttotal: 4.02s\tremaining: 6.75s\n",
      "373:\tlearn: 0.1398717\ttotal: 4.03s\tremaining: 6.74s\n",
      "374:\tlearn: 0.1398581\ttotal: 4.04s\tremaining: 6.73s\n",
      "375:\tlearn: 0.1398402\ttotal: 4.05s\tremaining: 6.72s\n",
      "376:\tlearn: 0.1398207\ttotal: 4.06s\tremaining: 6.71s\n",
      "377:\tlearn: 0.1397969\ttotal: 4.07s\tremaining: 6.69s\n",
      "378:\tlearn: 0.1397633\ttotal: 4.08s\tremaining: 6.68s\n",
      "379:\tlearn: 0.1397370\ttotal: 4.09s\tremaining: 6.67s\n",
      "380:\tlearn: 0.1397196\ttotal: 4.1s\tremaining: 6.66s\n",
      "381:\tlearn: 0.1397027\ttotal: 4.11s\tremaining: 6.65s\n",
      "382:\tlearn: 0.1396744\ttotal: 4.12s\tremaining: 6.64s\n",
      "383:\tlearn: 0.1396553\ttotal: 4.13s\tremaining: 6.63s\n",
      "384:\tlearn: 0.1396367\ttotal: 4.14s\tremaining: 6.62s\n",
      "385:\tlearn: 0.1396131\ttotal: 4.15s\tremaining: 6.6s\n",
      "386:\tlearn: 0.1395840\ttotal: 4.16s\tremaining: 6.59s\n",
      "387:\tlearn: 0.1395640\ttotal: 4.17s\tremaining: 6.58s\n",
      "388:\tlearn: 0.1395435\ttotal: 4.18s\tremaining: 6.57s\n",
      "389:\tlearn: 0.1395291\ttotal: 4.19s\tremaining: 6.56s\n",
      "390:\tlearn: 0.1395135\ttotal: 4.2s\tremaining: 6.55s\n",
      "391:\tlearn: 0.1394931\ttotal: 4.21s\tremaining: 6.54s\n",
      "392:\tlearn: 0.1394666\ttotal: 4.22s\tremaining: 6.52s\n",
      "393:\tlearn: 0.1394484\ttotal: 4.23s\tremaining: 6.51s\n",
      "394:\tlearn: 0.1394320\ttotal: 4.24s\tremaining: 6.5s\n",
      "395:\tlearn: 0.1394110\ttotal: 4.25s\tremaining: 6.49s\n",
      "396:\tlearn: 0.1393999\ttotal: 4.26s\tremaining: 6.48s\n",
      "397:\tlearn: 0.1393856\ttotal: 4.27s\tremaining: 6.47s\n",
      "398:\tlearn: 0.1393500\ttotal: 4.29s\tremaining: 6.45s\n",
      "399:\tlearn: 0.1393313\ttotal: 4.29s\tremaining: 6.44s\n",
      "400:\tlearn: 0.1393145\ttotal: 4.31s\tremaining: 6.43s\n",
      "401:\tlearn: 0.1392977\ttotal: 4.32s\tremaining: 6.42s\n",
      "402:\tlearn: 0.1392799\ttotal: 4.33s\tremaining: 6.41s\n",
      "403:\tlearn: 0.1392541\ttotal: 4.34s\tremaining: 6.4s\n",
      "404:\tlearn: 0.1392395\ttotal: 4.35s\tremaining: 6.39s\n",
      "405:\tlearn: 0.1392237\ttotal: 4.36s\tremaining: 6.38s\n",
      "406:\tlearn: 0.1392091\ttotal: 4.37s\tremaining: 6.37s\n",
      "407:\tlearn: 0.1391899\ttotal: 4.38s\tremaining: 6.35s\n",
      "408:\tlearn: 0.1391707\ttotal: 4.39s\tremaining: 6.34s\n",
      "409:\tlearn: 0.1391541\ttotal: 4.4s\tremaining: 6.33s\n",
      "410:\tlearn: 0.1391341\ttotal: 4.41s\tremaining: 6.32s\n",
      "411:\tlearn: 0.1391081\ttotal: 4.42s\tremaining: 6.31s\n",
      "412:\tlearn: 0.1390855\ttotal: 4.43s\tremaining: 6.3s\n",
      "413:\tlearn: 0.1390681\ttotal: 4.44s\tremaining: 6.29s\n",
      "414:\tlearn: 0.1390432\ttotal: 4.45s\tremaining: 6.28s\n",
      "415:\tlearn: 0.1390277\ttotal: 4.46s\tremaining: 6.27s\n",
      "416:\tlearn: 0.1390110\ttotal: 4.47s\tremaining: 6.26s\n",
      "417:\tlearn: 0.1389977\ttotal: 4.48s\tremaining: 6.24s\n",
      "418:\tlearn: 0.1389637\ttotal: 4.5s\tremaining: 6.23s\n",
      "419:\tlearn: 0.1389463\ttotal: 4.51s\tremaining: 6.22s\n",
      "420:\tlearn: 0.1389310\ttotal: 4.52s\tremaining: 6.21s\n",
      "421:\tlearn: 0.1389140\ttotal: 4.53s\tremaining: 6.2s\n",
      "422:\tlearn: 0.1388969\ttotal: 4.54s\tremaining: 6.19s\n",
      "423:\tlearn: 0.1388710\ttotal: 4.55s\tremaining: 6.18s\n",
      "424:\tlearn: 0.1388524\ttotal: 4.56s\tremaining: 6.17s\n",
      "425:\tlearn: 0.1388386\ttotal: 4.57s\tremaining: 6.16s\n",
      "426:\tlearn: 0.1388216\ttotal: 4.58s\tremaining: 6.15s\n",
      "427:\tlearn: 0.1388029\ttotal: 4.59s\tremaining: 6.14s\n",
      "428:\tlearn: 0.1387776\ttotal: 4.61s\tremaining: 6.13s\n",
      "429:\tlearn: 0.1387549\ttotal: 4.62s\tremaining: 6.12s\n",
      "430:\tlearn: 0.1387354\ttotal: 4.63s\tremaining: 6.11s\n",
      "431:\tlearn: 0.1387167\ttotal: 4.64s\tremaining: 6.1s\n",
      "432:\tlearn: 0.1386954\ttotal: 4.65s\tremaining: 6.09s\n",
      "433:\tlearn: 0.1386803\ttotal: 4.66s\tremaining: 6.08s\n",
      "434:\tlearn: 0.1386637\ttotal: 4.67s\tremaining: 6.06s\n",
      "435:\tlearn: 0.1386493\ttotal: 4.68s\tremaining: 6.05s\n",
      "436:\tlearn: 0.1386239\ttotal: 4.69s\tremaining: 6.04s\n",
      "437:\tlearn: 0.1386039\ttotal: 4.7s\tremaining: 6.03s\n",
      "438:\tlearn: 0.1385881\ttotal: 4.71s\tremaining: 6.02s\n",
      "439:\tlearn: 0.1385632\ttotal: 4.72s\tremaining: 6.01s\n",
      "440:\tlearn: 0.1385479\ttotal: 4.74s\tremaining: 6s\n",
      "441:\tlearn: 0.1385248\ttotal: 4.75s\tremaining: 6s\n",
      "442:\tlearn: 0.1385057\ttotal: 4.76s\tremaining: 5.98s\n",
      "443:\tlearn: 0.1384904\ttotal: 4.77s\tremaining: 5.97s\n",
      "444:\tlearn: 0.1384665\ttotal: 4.78s\tremaining: 5.96s\n",
      "445:\tlearn: 0.1384463\ttotal: 4.79s\tremaining: 5.95s\n",
      "446:\tlearn: 0.1384311\ttotal: 4.8s\tremaining: 5.94s\n",
      "447:\tlearn: 0.1384136\ttotal: 4.81s\tremaining: 5.93s\n",
      "448:\tlearn: 0.1383979\ttotal: 4.82s\tremaining: 5.92s\n",
      "449:\tlearn: 0.1383826\ttotal: 4.83s\tremaining: 5.9s\n",
      "450:\tlearn: 0.1383507\ttotal: 4.84s\tremaining: 5.89s\n",
      "451:\tlearn: 0.1383360\ttotal: 4.85s\tremaining: 5.88s\n",
      "452:\tlearn: 0.1383108\ttotal: 4.86s\tremaining: 5.87s\n",
      "453:\tlearn: 0.1382717\ttotal: 4.87s\tremaining: 5.86s\n",
      "454:\tlearn: 0.1382492\ttotal: 4.88s\tremaining: 5.85s\n",
      "455:\tlearn: 0.1382192\ttotal: 4.89s\tremaining: 5.84s\n",
      "456:\tlearn: 0.1382034\ttotal: 4.9s\tremaining: 5.83s\n",
      "457:\tlearn: 0.1381768\ttotal: 4.91s\tremaining: 5.81s\n",
      "458:\tlearn: 0.1381585\ttotal: 4.92s\tremaining: 5.8s\n",
      "459:\tlearn: 0.1381447\ttotal: 4.93s\tremaining: 5.79s\n",
      "460:\tlearn: 0.1381221\ttotal: 4.94s\tremaining: 5.78s\n",
      "461:\tlearn: 0.1381063\ttotal: 4.96s\tremaining: 5.77s\n",
      "462:\tlearn: 0.1380880\ttotal: 4.97s\tremaining: 5.76s\n",
      "463:\tlearn: 0.1380612\ttotal: 4.98s\tremaining: 5.75s\n",
      "464:\tlearn: 0.1380483\ttotal: 4.99s\tremaining: 5.74s\n",
      "465:\tlearn: 0.1380314\ttotal: 5s\tremaining: 5.73s\n",
      "466:\tlearn: 0.1380148\ttotal: 5.01s\tremaining: 5.72s\n",
      "467:\tlearn: 0.1379991\ttotal: 5.02s\tremaining: 5.71s\n",
      "468:\tlearn: 0.1379798\ttotal: 5.03s\tremaining: 5.69s\n",
      "469:\tlearn: 0.1379636\ttotal: 5.04s\tremaining: 5.68s\n",
      "470:\tlearn: 0.1379470\ttotal: 5.05s\tremaining: 5.67s\n",
      "471:\tlearn: 0.1379262\ttotal: 5.06s\tremaining: 5.66s\n",
      "472:\tlearn: 0.1379047\ttotal: 5.07s\tremaining: 5.65s\n",
      "473:\tlearn: 0.1378904\ttotal: 5.08s\tremaining: 5.64s\n",
      "474:\tlearn: 0.1378740\ttotal: 5.09s\tremaining: 5.63s\n",
      "475:\tlearn: 0.1378586\ttotal: 5.1s\tremaining: 5.62s\n",
      "476:\tlearn: 0.1378448\ttotal: 5.11s\tremaining: 5.61s\n",
      "477:\tlearn: 0.1378290\ttotal: 5.12s\tremaining: 5.59s\n",
      "478:\tlearn: 0.1378126\ttotal: 5.13s\tremaining: 5.58s\n",
      "479:\tlearn: 0.1377967\ttotal: 5.14s\tremaining: 5.57s\n",
      "480:\tlearn: 0.1377807\ttotal: 5.15s\tremaining: 5.56s\n",
      "481:\tlearn: 0.1377584\ttotal: 5.17s\tremaining: 5.55s\n",
      "482:\tlearn: 0.1377434\ttotal: 5.18s\tremaining: 5.54s\n",
      "483:\tlearn: 0.1377229\ttotal: 5.19s\tremaining: 5.53s\n",
      "484:\tlearn: 0.1377079\ttotal: 5.2s\tremaining: 5.52s\n",
      "485:\tlearn: 0.1376891\ttotal: 5.21s\tremaining: 5.51s\n",
      "486:\tlearn: 0.1376718\ttotal: 5.22s\tremaining: 5.5s\n",
      "487:\tlearn: 0.1376473\ttotal: 5.23s\tremaining: 5.48s\n",
      "488:\tlearn: 0.1376300\ttotal: 5.24s\tremaining: 5.47s\n",
      "489:\tlearn: 0.1376140\ttotal: 5.25s\tremaining: 5.46s\n",
      "490:\tlearn: 0.1375979\ttotal: 5.26s\tremaining: 5.45s\n",
      "491:\tlearn: 0.1375841\ttotal: 5.27s\tremaining: 5.44s\n",
      "492:\tlearn: 0.1375608\ttotal: 5.28s\tremaining: 5.43s\n",
      "493:\tlearn: 0.1375484\ttotal: 5.29s\tremaining: 5.42s\n",
      "494:\tlearn: 0.1375252\ttotal: 5.3s\tremaining: 5.41s\n",
      "495:\tlearn: 0.1374997\ttotal: 5.31s\tremaining: 5.39s\n",
      "496:\tlearn: 0.1374812\ttotal: 5.32s\tremaining: 5.38s\n",
      "497:\tlearn: 0.1374567\ttotal: 5.33s\tremaining: 5.37s\n",
      "498:\tlearn: 0.1374409\ttotal: 5.34s\tremaining: 5.36s\n",
      "499:\tlearn: 0.1374265\ttotal: 5.35s\tremaining: 5.35s\n",
      "500:\tlearn: 0.1374123\ttotal: 5.36s\tremaining: 5.34s\n",
      "501:\tlearn: 0.1374014\ttotal: 5.38s\tremaining: 5.33s\n",
      "502:\tlearn: 0.1373897\ttotal: 5.38s\tremaining: 5.32s\n",
      "503:\tlearn: 0.1373683\ttotal: 5.4s\tremaining: 5.31s\n",
      "504:\tlearn: 0.1373544\ttotal: 5.41s\tremaining: 5.3s\n",
      "505:\tlearn: 0.1373381\ttotal: 5.42s\tremaining: 5.29s\n",
      "506:\tlearn: 0.1373212\ttotal: 5.43s\tremaining: 5.28s\n",
      "507:\tlearn: 0.1373067\ttotal: 5.44s\tremaining: 5.27s\n",
      "508:\tlearn: 0.1372814\ttotal: 5.45s\tremaining: 5.25s\n",
      "509:\tlearn: 0.1372645\ttotal: 5.46s\tremaining: 5.24s\n",
      "510:\tlearn: 0.1372479\ttotal: 5.47s\tremaining: 5.23s\n",
      "511:\tlearn: 0.1372330\ttotal: 5.48s\tremaining: 5.22s\n",
      "512:\tlearn: 0.1371986\ttotal: 5.49s\tremaining: 5.21s\n",
      "513:\tlearn: 0.1371835\ttotal: 5.5s\tremaining: 5.2s\n",
      "514:\tlearn: 0.1371589\ttotal: 5.51s\tremaining: 5.19s\n",
      "515:\tlearn: 0.1371418\ttotal: 5.52s\tremaining: 5.18s\n",
      "516:\tlearn: 0.1371241\ttotal: 5.53s\tremaining: 5.17s\n",
      "517:\tlearn: 0.1371093\ttotal: 5.54s\tremaining: 5.16s\n",
      "518:\tlearn: 0.1370946\ttotal: 5.55s\tremaining: 5.15s\n",
      "519:\tlearn: 0.1370797\ttotal: 5.57s\tremaining: 5.14s\n",
      "520:\tlearn: 0.1370645\ttotal: 5.58s\tremaining: 5.13s\n",
      "521:\tlearn: 0.1370496\ttotal: 5.59s\tremaining: 5.12s\n",
      "522:\tlearn: 0.1370356\ttotal: 5.6s\tremaining: 5.11s\n",
      "523:\tlearn: 0.1370116\ttotal: 5.61s\tremaining: 5.09s\n",
      "524:\tlearn: 0.1369948\ttotal: 5.62s\tremaining: 5.08s\n",
      "525:\tlearn: 0.1369802\ttotal: 5.63s\tremaining: 5.07s\n",
      "526:\tlearn: 0.1369552\ttotal: 5.64s\tremaining: 5.06s\n",
      "527:\tlearn: 0.1369366\ttotal: 5.65s\tremaining: 5.05s\n",
      "528:\tlearn: 0.1369218\ttotal: 5.66s\tremaining: 5.04s\n",
      "529:\tlearn: 0.1369066\ttotal: 5.67s\tremaining: 5.03s\n",
      "530:\tlearn: 0.1368867\ttotal: 5.68s\tremaining: 5.02s\n",
      "531:\tlearn: 0.1368693\ttotal: 5.69s\tremaining: 5.01s\n",
      "532:\tlearn: 0.1368459\ttotal: 5.7s\tremaining: 5s\n",
      "533:\tlearn: 0.1368268\ttotal: 5.71s\tremaining: 4.99s\n",
      "534:\tlearn: 0.1368053\ttotal: 5.72s\tremaining: 4.97s\n",
      "535:\tlearn: 0.1367911\ttotal: 5.74s\tremaining: 4.97s\n",
      "536:\tlearn: 0.1367757\ttotal: 5.75s\tremaining: 4.96s\n",
      "537:\tlearn: 0.1367548\ttotal: 5.76s\tremaining: 4.94s\n",
      "538:\tlearn: 0.1367323\ttotal: 5.77s\tremaining: 4.93s\n",
      "539:\tlearn: 0.1367193\ttotal: 5.78s\tremaining: 4.92s\n",
      "540:\tlearn: 0.1366953\ttotal: 5.79s\tremaining: 4.91s\n",
      "541:\tlearn: 0.1366790\ttotal: 5.8s\tremaining: 4.9s\n",
      "542:\tlearn: 0.1366647\ttotal: 5.81s\tremaining: 4.89s\n",
      "543:\tlearn: 0.1366506\ttotal: 5.82s\tremaining: 4.88s\n",
      "544:\tlearn: 0.1366366\ttotal: 5.83s\tremaining: 4.87s\n",
      "545:\tlearn: 0.1366209\ttotal: 5.84s\tremaining: 4.86s\n",
      "546:\tlearn: 0.1366018\ttotal: 5.85s\tremaining: 4.85s\n",
      "547:\tlearn: 0.1365866\ttotal: 5.86s\tremaining: 4.83s\n",
      "548:\tlearn: 0.1365731\ttotal: 5.87s\tremaining: 4.82s\n",
      "549:\tlearn: 0.1365585\ttotal: 5.88s\tremaining: 4.81s\n",
      "550:\tlearn: 0.1365455\ttotal: 5.89s\tremaining: 4.8s\n",
      "551:\tlearn: 0.1365167\ttotal: 5.9s\tremaining: 4.79s\n",
      "552:\tlearn: 0.1365023\ttotal: 5.91s\tremaining: 4.78s\n",
      "553:\tlearn: 0.1364915\ttotal: 5.92s\tremaining: 4.77s\n",
      "554:\tlearn: 0.1364792\ttotal: 5.93s\tremaining: 4.76s\n",
      "555:\tlearn: 0.1364653\ttotal: 5.94s\tremaining: 4.75s\n",
      "556:\tlearn: 0.1364525\ttotal: 5.95s\tremaining: 4.73s\n",
      "557:\tlearn: 0.1364353\ttotal: 5.96s\tremaining: 4.72s\n",
      "558:\tlearn: 0.1364207\ttotal: 5.97s\tremaining: 4.71s\n",
      "559:\tlearn: 0.1364010\ttotal: 5.99s\tremaining: 4.7s\n",
      "560:\tlearn: 0.1363874\ttotal: 6s\tremaining: 4.69s\n",
      "561:\tlearn: 0.1363694\ttotal: 6.01s\tremaining: 4.68s\n",
      "562:\tlearn: 0.1363447\ttotal: 6.02s\tremaining: 4.67s\n",
      "563:\tlearn: 0.1363309\ttotal: 6.03s\tremaining: 4.66s\n",
      "564:\tlearn: 0.1363193\ttotal: 6.04s\tremaining: 4.65s\n",
      "565:\tlearn: 0.1363003\ttotal: 6.05s\tremaining: 4.64s\n",
      "566:\tlearn: 0.1362858\ttotal: 6.06s\tremaining: 4.62s\n",
      "567:\tlearn: 0.1362746\ttotal: 6.07s\tremaining: 4.61s\n",
      "568:\tlearn: 0.1362583\ttotal: 6.08s\tremaining: 4.6s\n",
      "569:\tlearn: 0.1362442\ttotal: 6.09s\tremaining: 4.59s\n",
      "570:\tlearn: 0.1362163\ttotal: 6.1s\tremaining: 4.58s\n",
      "571:\tlearn: 0.1361967\ttotal: 6.11s\tremaining: 4.57s\n",
      "572:\tlearn: 0.1361675\ttotal: 6.12s\tremaining: 4.56s\n",
      "573:\tlearn: 0.1361531\ttotal: 6.13s\tremaining: 4.55s\n",
      "574:\tlearn: 0.1361426\ttotal: 6.14s\tremaining: 4.54s\n",
      "575:\tlearn: 0.1361285\ttotal: 6.15s\tremaining: 4.53s\n",
      "576:\tlearn: 0.1361081\ttotal: 6.16s\tremaining: 4.51s\n",
      "577:\tlearn: 0.1360928\ttotal: 6.17s\tremaining: 4.5s\n",
      "578:\tlearn: 0.1360801\ttotal: 6.18s\tremaining: 4.49s\n",
      "579:\tlearn: 0.1360660\ttotal: 6.19s\tremaining: 4.48s\n",
      "580:\tlearn: 0.1360471\ttotal: 6.2s\tremaining: 4.47s\n",
      "581:\tlearn: 0.1360310\ttotal: 6.21s\tremaining: 4.46s\n",
      "582:\tlearn: 0.1360051\ttotal: 6.22s\tremaining: 4.45s\n",
      "583:\tlearn: 0.1359905\ttotal: 6.23s\tremaining: 4.44s\n",
      "584:\tlearn: 0.1359734\ttotal: 6.24s\tremaining: 4.43s\n",
      "585:\tlearn: 0.1359584\ttotal: 6.25s\tremaining: 4.42s\n",
      "586:\tlearn: 0.1359451\ttotal: 6.26s\tremaining: 4.41s\n",
      "587:\tlearn: 0.1359166\ttotal: 6.27s\tremaining: 4.39s\n",
      "588:\tlearn: 0.1358970\ttotal: 6.28s\tremaining: 4.38s\n",
      "589:\tlearn: 0.1358836\ttotal: 6.29s\tremaining: 4.37s\n",
      "590:\tlearn: 0.1358750\ttotal: 6.3s\tremaining: 4.36s\n",
      "591:\tlearn: 0.1358638\ttotal: 6.31s\tremaining: 4.35s\n",
      "592:\tlearn: 0.1358519\ttotal: 6.32s\tremaining: 4.34s\n",
      "593:\tlearn: 0.1358396\ttotal: 6.33s\tremaining: 4.33s\n",
      "594:\tlearn: 0.1358235\ttotal: 6.34s\tremaining: 4.32s\n",
      "595:\tlearn: 0.1358037\ttotal: 6.35s\tremaining: 4.31s\n",
      "596:\tlearn: 0.1357861\ttotal: 6.36s\tremaining: 4.3s\n",
      "597:\tlearn: 0.1357592\ttotal: 6.37s\tremaining: 4.29s\n",
      "598:\tlearn: 0.1357449\ttotal: 6.38s\tremaining: 4.27s\n",
      "599:\tlearn: 0.1357300\ttotal: 6.4s\tremaining: 4.26s\n",
      "600:\tlearn: 0.1357047\ttotal: 6.41s\tremaining: 4.25s\n",
      "601:\tlearn: 0.1356843\ttotal: 6.42s\tremaining: 4.24s\n",
      "602:\tlearn: 0.1356695\ttotal: 6.43s\tremaining: 4.23s\n",
      "603:\tlearn: 0.1356554\ttotal: 6.44s\tremaining: 4.22s\n",
      "604:\tlearn: 0.1356421\ttotal: 6.45s\tremaining: 4.21s\n",
      "605:\tlearn: 0.1356288\ttotal: 6.46s\tremaining: 4.2s\n",
      "606:\tlearn: 0.1356125\ttotal: 6.47s\tremaining: 4.19s\n",
      "607:\tlearn: 0.1355969\ttotal: 6.48s\tremaining: 4.18s\n",
      "608:\tlearn: 0.1355811\ttotal: 6.49s\tremaining: 4.17s\n",
      "609:\tlearn: 0.1355706\ttotal: 6.5s\tremaining: 4.16s\n",
      "610:\tlearn: 0.1355552\ttotal: 6.51s\tremaining: 4.14s\n",
      "611:\tlearn: 0.1355383\ttotal: 6.52s\tremaining: 4.13s\n",
      "612:\tlearn: 0.1355236\ttotal: 6.53s\tremaining: 4.12s\n",
      "613:\tlearn: 0.1355054\ttotal: 6.54s\tremaining: 4.11s\n",
      "614:\tlearn: 0.1354925\ttotal: 6.55s\tremaining: 4.1s\n",
      "615:\tlearn: 0.1354792\ttotal: 6.56s\tremaining: 4.09s\n",
      "616:\tlearn: 0.1354650\ttotal: 6.57s\tremaining: 4.08s\n",
      "617:\tlearn: 0.1354428\ttotal: 6.58s\tremaining: 4.07s\n",
      "618:\tlearn: 0.1354296\ttotal: 6.59s\tremaining: 4.06s\n",
      "619:\tlearn: 0.1354151\ttotal: 6.6s\tremaining: 4.05s\n",
      "620:\tlearn: 0.1354018\ttotal: 6.61s\tremaining: 4.04s\n",
      "621:\tlearn: 0.1353778\ttotal: 6.62s\tremaining: 4.03s\n",
      "622:\tlearn: 0.1353556\ttotal: 6.63s\tremaining: 4.01s\n",
      "623:\tlearn: 0.1353329\ttotal: 6.64s\tremaining: 4s\n",
      "624:\tlearn: 0.1353173\ttotal: 6.66s\tremaining: 3.99s\n",
      "625:\tlearn: 0.1353043\ttotal: 6.67s\tremaining: 3.98s\n",
      "626:\tlearn: 0.1352843\ttotal: 6.68s\tremaining: 3.97s\n",
      "627:\tlearn: 0.1352683\ttotal: 6.69s\tremaining: 3.96s\n",
      "628:\tlearn: 0.1352425\ttotal: 6.7s\tremaining: 3.95s\n",
      "629:\tlearn: 0.1352288\ttotal: 6.71s\tremaining: 3.94s\n",
      "630:\tlearn: 0.1352153\ttotal: 6.72s\tremaining: 3.93s\n",
      "631:\tlearn: 0.1352010\ttotal: 6.73s\tremaining: 3.92s\n",
      "632:\tlearn: 0.1351858\ttotal: 6.74s\tremaining: 3.91s\n",
      "633:\tlearn: 0.1351710\ttotal: 6.75s\tremaining: 3.9s\n",
      "634:\tlearn: 0.1351611\ttotal: 6.76s\tremaining: 3.88s\n",
      "635:\tlearn: 0.1351471\ttotal: 6.77s\tremaining: 3.87s\n",
      "636:\tlearn: 0.1351366\ttotal: 6.78s\tremaining: 3.86s\n",
      "637:\tlearn: 0.1351220\ttotal: 6.79s\tremaining: 3.85s\n",
      "638:\tlearn: 0.1351034\ttotal: 6.8s\tremaining: 3.84s\n",
      "639:\tlearn: 0.1350874\ttotal: 6.81s\tremaining: 3.83s\n",
      "640:\tlearn: 0.1350726\ttotal: 6.82s\tremaining: 3.82s\n",
      "641:\tlearn: 0.1350628\ttotal: 6.83s\tremaining: 3.81s\n",
      "642:\tlearn: 0.1350460\ttotal: 6.84s\tremaining: 3.8s\n",
      "643:\tlearn: 0.1350349\ttotal: 6.85s\tremaining: 3.79s\n",
      "644:\tlearn: 0.1350152\ttotal: 6.86s\tremaining: 3.78s\n",
      "645:\tlearn: 0.1350011\ttotal: 6.87s\tremaining: 3.77s\n",
      "646:\tlearn: 0.1349801\ttotal: 6.88s\tremaining: 3.76s\n",
      "647:\tlearn: 0.1349682\ttotal: 6.89s\tremaining: 3.75s\n",
      "648:\tlearn: 0.1349608\ttotal: 6.91s\tremaining: 3.73s\n",
      "649:\tlearn: 0.1349428\ttotal: 6.92s\tremaining: 3.72s\n",
      "650:\tlearn: 0.1349219\ttotal: 6.92s\tremaining: 3.71s\n",
      "651:\tlearn: 0.1349031\ttotal: 6.93s\tremaining: 3.7s\n",
      "652:\tlearn: 0.1348907\ttotal: 6.95s\tremaining: 3.69s\n",
      "653:\tlearn: 0.1348766\ttotal: 6.95s\tremaining: 3.68s\n",
      "654:\tlearn: 0.1348626\ttotal: 6.96s\tremaining: 3.67s\n",
      "655:\tlearn: 0.1348316\ttotal: 6.97s\tremaining: 3.66s\n",
      "656:\tlearn: 0.1348198\ttotal: 6.99s\tremaining: 3.65s\n",
      "657:\tlearn: 0.1348019\ttotal: 7s\tremaining: 3.64s\n",
      "658:\tlearn: 0.1347885\ttotal: 7.01s\tremaining: 3.63s\n",
      "659:\tlearn: 0.1347662\ttotal: 7.02s\tremaining: 3.62s\n",
      "660:\tlearn: 0.1347532\ttotal: 7.03s\tremaining: 3.6s\n",
      "661:\tlearn: 0.1347405\ttotal: 7.04s\tremaining: 3.59s\n",
      "662:\tlearn: 0.1347283\ttotal: 7.05s\tremaining: 3.58s\n",
      "663:\tlearn: 0.1346999\ttotal: 7.06s\tremaining: 3.57s\n",
      "664:\tlearn: 0.1346837\ttotal: 7.07s\tremaining: 3.56s\n",
      "665:\tlearn: 0.1346559\ttotal: 7.08s\tremaining: 3.55s\n",
      "666:\tlearn: 0.1346429\ttotal: 7.09s\tremaining: 3.54s\n",
      "667:\tlearn: 0.1346345\ttotal: 7.1s\tremaining: 3.53s\n",
      "668:\tlearn: 0.1346179\ttotal: 7.11s\tremaining: 3.52s\n",
      "669:\tlearn: 0.1346007\ttotal: 7.12s\tremaining: 3.51s\n",
      "670:\tlearn: 0.1345859\ttotal: 7.13s\tremaining: 3.5s\n",
      "671:\tlearn: 0.1345726\ttotal: 7.14s\tremaining: 3.48s\n",
      "672:\tlearn: 0.1345597\ttotal: 7.15s\tremaining: 3.47s\n",
      "673:\tlearn: 0.1345381\ttotal: 7.16s\tremaining: 3.46s\n",
      "674:\tlearn: 0.1345250\ttotal: 7.17s\tremaining: 3.45s\n",
      "675:\tlearn: 0.1345081\ttotal: 7.18s\tremaining: 3.44s\n",
      "676:\tlearn: 0.1344954\ttotal: 7.19s\tremaining: 3.43s\n",
      "677:\tlearn: 0.1344788\ttotal: 7.2s\tremaining: 3.42s\n",
      "678:\tlearn: 0.1344649\ttotal: 7.21s\tremaining: 3.41s\n",
      "679:\tlearn: 0.1344415\ttotal: 7.22s\tremaining: 3.4s\n",
      "680:\tlearn: 0.1344278\ttotal: 7.23s\tremaining: 3.39s\n",
      "681:\tlearn: 0.1344177\ttotal: 7.24s\tremaining: 3.38s\n",
      "682:\tlearn: 0.1343939\ttotal: 7.25s\tremaining: 3.37s\n",
      "683:\tlearn: 0.1343858\ttotal: 7.26s\tremaining: 3.36s\n",
      "684:\tlearn: 0.1343674\ttotal: 7.28s\tremaining: 3.35s\n",
      "685:\tlearn: 0.1343555\ttotal: 7.29s\tremaining: 3.33s\n",
      "686:\tlearn: 0.1343444\ttotal: 7.29s\tremaining: 3.32s\n",
      "687:\tlearn: 0.1343303\ttotal: 7.3s\tremaining: 3.31s\n",
      "688:\tlearn: 0.1343168\ttotal: 7.32s\tremaining: 3.3s\n",
      "689:\tlearn: 0.1343053\ttotal: 7.33s\tremaining: 3.29s\n",
      "690:\tlearn: 0.1342956\ttotal: 7.33s\tremaining: 3.28s\n",
      "691:\tlearn: 0.1342779\ttotal: 7.35s\tremaining: 3.27s\n",
      "692:\tlearn: 0.1342640\ttotal: 7.36s\tremaining: 3.26s\n",
      "693:\tlearn: 0.1342434\ttotal: 7.37s\tremaining: 3.25s\n",
      "694:\tlearn: 0.1342326\ttotal: 7.38s\tremaining: 3.24s\n",
      "695:\tlearn: 0.1342205\ttotal: 7.39s\tremaining: 3.23s\n",
      "696:\tlearn: 0.1342068\ttotal: 7.4s\tremaining: 3.22s\n",
      "697:\tlearn: 0.1341941\ttotal: 7.41s\tremaining: 3.21s\n",
      "698:\tlearn: 0.1341748\ttotal: 7.42s\tremaining: 3.19s\n",
      "699:\tlearn: 0.1341498\ttotal: 7.43s\tremaining: 3.18s\n",
      "700:\tlearn: 0.1341303\ttotal: 7.44s\tremaining: 3.17s\n",
      "701:\tlearn: 0.1341138\ttotal: 7.45s\tremaining: 3.16s\n",
      "702:\tlearn: 0.1340930\ttotal: 7.46s\tremaining: 3.15s\n",
      "703:\tlearn: 0.1340856\ttotal: 7.47s\tremaining: 3.14s\n",
      "704:\tlearn: 0.1340742\ttotal: 7.49s\tremaining: 3.13s\n",
      "705:\tlearn: 0.1340577\ttotal: 7.5s\tremaining: 3.12s\n",
      "706:\tlearn: 0.1340443\ttotal: 7.51s\tremaining: 3.11s\n",
      "707:\tlearn: 0.1340338\ttotal: 7.52s\tremaining: 3.1s\n",
      "708:\tlearn: 0.1340233\ttotal: 7.53s\tremaining: 3.09s\n",
      "709:\tlearn: 0.1340089\ttotal: 7.54s\tremaining: 3.08s\n",
      "710:\tlearn: 0.1339920\ttotal: 7.55s\tremaining: 3.07s\n",
      "711:\tlearn: 0.1339737\ttotal: 7.56s\tremaining: 3.06s\n",
      "712:\tlearn: 0.1339598\ttotal: 7.57s\tremaining: 3.05s\n",
      "713:\tlearn: 0.1339478\ttotal: 7.58s\tremaining: 3.04s\n",
      "714:\tlearn: 0.1339239\ttotal: 7.59s\tremaining: 3.02s\n",
      "715:\tlearn: 0.1339105\ttotal: 7.6s\tremaining: 3.02s\n",
      "716:\tlearn: 0.1338855\ttotal: 7.61s\tremaining: 3s\n",
      "717:\tlearn: 0.1338720\ttotal: 7.62s\tremaining: 2.99s\n",
      "718:\tlearn: 0.1338565\ttotal: 7.63s\tremaining: 2.98s\n",
      "719:\tlearn: 0.1338444\ttotal: 7.64s\tremaining: 2.97s\n",
      "720:\tlearn: 0.1338324\ttotal: 7.66s\tremaining: 2.96s\n",
      "721:\tlearn: 0.1338223\ttotal: 7.67s\tremaining: 2.95s\n",
      "722:\tlearn: 0.1338101\ttotal: 7.68s\tremaining: 2.94s\n",
      "723:\tlearn: 0.1337990\ttotal: 7.69s\tremaining: 2.93s\n",
      "724:\tlearn: 0.1337834\ttotal: 7.7s\tremaining: 2.92s\n",
      "725:\tlearn: 0.1337718\ttotal: 7.71s\tremaining: 2.91s\n",
      "726:\tlearn: 0.1337579\ttotal: 7.72s\tremaining: 2.9s\n",
      "727:\tlearn: 0.1337446\ttotal: 7.73s\tremaining: 2.89s\n",
      "728:\tlearn: 0.1337301\ttotal: 7.74s\tremaining: 2.88s\n",
      "729:\tlearn: 0.1337184\ttotal: 7.75s\tremaining: 2.87s\n",
      "730:\tlearn: 0.1337032\ttotal: 7.76s\tremaining: 2.85s\n",
      "731:\tlearn: 0.1336926\ttotal: 7.77s\tremaining: 2.84s\n",
      "732:\tlearn: 0.1336795\ttotal: 7.78s\tremaining: 2.83s\n",
      "733:\tlearn: 0.1336665\ttotal: 7.79s\tremaining: 2.82s\n",
      "734:\tlearn: 0.1336585\ttotal: 7.8s\tremaining: 2.81s\n",
      "735:\tlearn: 0.1336465\ttotal: 7.81s\tremaining: 2.8s\n",
      "736:\tlearn: 0.1336268\ttotal: 7.82s\tremaining: 2.79s\n",
      "737:\tlearn: 0.1336136\ttotal: 7.83s\tremaining: 2.78s\n",
      "738:\tlearn: 0.1336021\ttotal: 7.84s\tremaining: 2.77s\n",
      "739:\tlearn: 0.1335921\ttotal: 7.85s\tremaining: 2.76s\n",
      "740:\tlearn: 0.1335736\ttotal: 7.86s\tremaining: 2.75s\n",
      "741:\tlearn: 0.1335593\ttotal: 7.87s\tremaining: 2.74s\n",
      "742:\tlearn: 0.1335423\ttotal: 7.88s\tremaining: 2.73s\n",
      "743:\tlearn: 0.1335286\ttotal: 7.89s\tremaining: 2.71s\n",
      "744:\tlearn: 0.1335156\ttotal: 7.9s\tremaining: 2.7s\n",
      "745:\tlearn: 0.1335064\ttotal: 7.91s\tremaining: 2.69s\n",
      "746:\tlearn: 0.1334960\ttotal: 7.92s\tremaining: 2.68s\n",
      "747:\tlearn: 0.1334829\ttotal: 7.93s\tremaining: 2.67s\n",
      "748:\tlearn: 0.1334707\ttotal: 7.94s\tremaining: 2.66s\n",
      "749:\tlearn: 0.1334442\ttotal: 7.95s\tremaining: 2.65s\n",
      "750:\tlearn: 0.1334314\ttotal: 7.96s\tremaining: 2.64s\n",
      "751:\tlearn: 0.1334144\ttotal: 7.97s\tremaining: 2.63s\n",
      "752:\tlearn: 0.1334017\ttotal: 7.98s\tremaining: 2.62s\n",
      "753:\tlearn: 0.1333881\ttotal: 8s\tremaining: 2.61s\n",
      "754:\tlearn: 0.1333799\ttotal: 8.01s\tremaining: 2.6s\n",
      "755:\tlearn: 0.1333660\ttotal: 8.02s\tremaining: 2.59s\n",
      "756:\tlearn: 0.1333538\ttotal: 8.03s\tremaining: 2.58s\n",
      "757:\tlearn: 0.1333429\ttotal: 8.04s\tremaining: 2.57s\n",
      "758:\tlearn: 0.1333223\ttotal: 8.05s\tremaining: 2.56s\n",
      "759:\tlearn: 0.1333098\ttotal: 8.06s\tremaining: 2.54s\n",
      "760:\tlearn: 0.1332900\ttotal: 8.07s\tremaining: 2.53s\n",
      "761:\tlearn: 0.1332756\ttotal: 8.08s\tremaining: 2.52s\n",
      "762:\tlearn: 0.1332597\ttotal: 8.09s\tremaining: 2.51s\n",
      "763:\tlearn: 0.1332521\ttotal: 8.1s\tremaining: 2.5s\n",
      "764:\tlearn: 0.1332434\ttotal: 8.11s\tremaining: 2.49s\n",
      "765:\tlearn: 0.1332300\ttotal: 8.12s\tremaining: 2.48s\n",
      "766:\tlearn: 0.1332168\ttotal: 8.13s\tremaining: 2.47s\n",
      "767:\tlearn: 0.1332035\ttotal: 8.15s\tremaining: 2.46s\n",
      "768:\tlearn: 0.1331912\ttotal: 8.16s\tremaining: 2.45s\n",
      "769:\tlearn: 0.1331796\ttotal: 8.17s\tremaining: 2.44s\n",
      "770:\tlearn: 0.1331606\ttotal: 8.18s\tremaining: 2.43s\n",
      "771:\tlearn: 0.1331483\ttotal: 8.19s\tremaining: 2.42s\n",
      "772:\tlearn: 0.1331333\ttotal: 8.2s\tremaining: 2.41s\n",
      "773:\tlearn: 0.1331180\ttotal: 8.21s\tremaining: 2.4s\n",
      "774:\tlearn: 0.1331061\ttotal: 8.22s\tremaining: 2.39s\n",
      "775:\tlearn: 0.1330945\ttotal: 8.23s\tremaining: 2.38s\n",
      "776:\tlearn: 0.1330824\ttotal: 8.24s\tremaining: 2.37s\n",
      "777:\tlearn: 0.1330703\ttotal: 8.25s\tremaining: 2.35s\n",
      "778:\tlearn: 0.1330474\ttotal: 8.26s\tremaining: 2.34s\n",
      "779:\tlearn: 0.1330346\ttotal: 8.27s\tremaining: 2.33s\n",
      "780:\tlearn: 0.1330225\ttotal: 8.28s\tremaining: 2.32s\n",
      "781:\tlearn: 0.1330100\ttotal: 8.29s\tremaining: 2.31s\n",
      "782:\tlearn: 0.1329989\ttotal: 8.3s\tremaining: 2.3s\n",
      "783:\tlearn: 0.1329899\ttotal: 8.31s\tremaining: 2.29s\n",
      "784:\tlearn: 0.1329700\ttotal: 8.32s\tremaining: 2.28s\n",
      "785:\tlearn: 0.1329540\ttotal: 8.33s\tremaining: 2.27s\n",
      "786:\tlearn: 0.1329430\ttotal: 8.34s\tremaining: 2.26s\n",
      "787:\tlearn: 0.1329255\ttotal: 8.35s\tremaining: 2.25s\n",
      "788:\tlearn: 0.1329043\ttotal: 8.36s\tremaining: 2.24s\n",
      "789:\tlearn: 0.1328919\ttotal: 8.37s\tremaining: 2.23s\n",
      "790:\tlearn: 0.1328832\ttotal: 8.38s\tremaining: 2.21s\n",
      "791:\tlearn: 0.1328707\ttotal: 8.39s\tremaining: 2.2s\n",
      "792:\tlearn: 0.1328580\ttotal: 8.41s\tremaining: 2.19s\n",
      "793:\tlearn: 0.1328442\ttotal: 8.42s\tremaining: 2.18s\n",
      "794:\tlearn: 0.1328317\ttotal: 8.43s\tremaining: 2.17s\n",
      "795:\tlearn: 0.1328213\ttotal: 8.44s\tremaining: 2.16s\n",
      "796:\tlearn: 0.1328095\ttotal: 8.45s\tremaining: 2.15s\n",
      "797:\tlearn: 0.1327976\ttotal: 8.46s\tremaining: 2.14s\n",
      "798:\tlearn: 0.1327852\ttotal: 8.47s\tremaining: 2.13s\n",
      "799:\tlearn: 0.1327733\ttotal: 8.48s\tremaining: 2.12s\n",
      "800:\tlearn: 0.1327563\ttotal: 8.49s\tremaining: 2.11s\n",
      "801:\tlearn: 0.1327423\ttotal: 8.5s\tremaining: 2.1s\n",
      "802:\tlearn: 0.1327342\ttotal: 8.51s\tremaining: 2.09s\n",
      "803:\tlearn: 0.1327221\ttotal: 8.52s\tremaining: 2.08s\n",
      "804:\tlearn: 0.1327098\ttotal: 8.53s\tremaining: 2.07s\n",
      "805:\tlearn: 0.1326874\ttotal: 8.54s\tremaining: 2.06s\n",
      "806:\tlearn: 0.1326750\ttotal: 8.55s\tremaining: 2.04s\n",
      "807:\tlearn: 0.1326635\ttotal: 8.56s\tremaining: 2.04s\n",
      "808:\tlearn: 0.1326496\ttotal: 8.57s\tremaining: 2.02s\n",
      "809:\tlearn: 0.1326408\ttotal: 8.58s\tremaining: 2.01s\n",
      "810:\tlearn: 0.1326241\ttotal: 8.6s\tremaining: 2s\n",
      "811:\tlearn: 0.1326127\ttotal: 8.61s\tremaining: 1.99s\n",
      "812:\tlearn: 0.1326005\ttotal: 8.62s\tremaining: 1.98s\n",
      "813:\tlearn: 0.1325877\ttotal: 8.63s\tremaining: 1.97s\n",
      "814:\tlearn: 0.1325730\ttotal: 8.64s\tremaining: 1.96s\n",
      "815:\tlearn: 0.1325599\ttotal: 8.65s\tremaining: 1.95s\n",
      "816:\tlearn: 0.1325492\ttotal: 8.66s\tremaining: 1.94s\n",
      "817:\tlearn: 0.1325349\ttotal: 8.67s\tremaining: 1.93s\n",
      "818:\tlearn: 0.1325235\ttotal: 8.68s\tremaining: 1.92s\n",
      "819:\tlearn: 0.1325085\ttotal: 8.69s\tremaining: 1.91s\n",
      "820:\tlearn: 0.1324969\ttotal: 8.7s\tremaining: 1.9s\n",
      "821:\tlearn: 0.1324764\ttotal: 8.72s\tremaining: 1.89s\n",
      "822:\tlearn: 0.1324496\ttotal: 8.73s\tremaining: 1.88s\n",
      "823:\tlearn: 0.1324379\ttotal: 8.74s\tremaining: 1.87s\n",
      "824:\tlearn: 0.1324225\ttotal: 8.75s\tremaining: 1.86s\n",
      "825:\tlearn: 0.1324079\ttotal: 8.76s\tremaining: 1.84s\n",
      "826:\tlearn: 0.1323958\ttotal: 8.77s\tremaining: 1.83s\n",
      "827:\tlearn: 0.1323825\ttotal: 8.78s\tremaining: 1.82s\n",
      "828:\tlearn: 0.1323728\ttotal: 8.79s\tremaining: 1.81s\n",
      "829:\tlearn: 0.1323494\ttotal: 8.8s\tremaining: 1.8s\n",
      "830:\tlearn: 0.1323377\ttotal: 8.81s\tremaining: 1.79s\n",
      "831:\tlearn: 0.1323246\ttotal: 8.82s\tremaining: 1.78s\n",
      "832:\tlearn: 0.1323130\ttotal: 8.83s\tremaining: 1.77s\n",
      "833:\tlearn: 0.1323050\ttotal: 8.84s\tremaining: 1.76s\n",
      "834:\tlearn: 0.1322934\ttotal: 8.85s\tremaining: 1.75s\n",
      "835:\tlearn: 0.1322824\ttotal: 8.86s\tremaining: 1.74s\n",
      "836:\tlearn: 0.1322715\ttotal: 8.87s\tremaining: 1.73s\n",
      "837:\tlearn: 0.1322644\ttotal: 8.88s\tremaining: 1.72s\n",
      "838:\tlearn: 0.1322493\ttotal: 8.89s\tremaining: 1.71s\n",
      "839:\tlearn: 0.1322282\ttotal: 8.9s\tremaining: 1.7s\n",
      "840:\tlearn: 0.1322167\ttotal: 8.91s\tremaining: 1.69s\n",
      "841:\tlearn: 0.1321969\ttotal: 8.93s\tremaining: 1.67s\n",
      "842:\tlearn: 0.1321866\ttotal: 8.94s\tremaining: 1.66s\n",
      "843:\tlearn: 0.1321626\ttotal: 8.95s\tremaining: 1.65s\n",
      "844:\tlearn: 0.1321437\ttotal: 8.96s\tremaining: 1.64s\n",
      "845:\tlearn: 0.1321322\ttotal: 8.97s\tremaining: 1.63s\n",
      "846:\tlearn: 0.1321096\ttotal: 8.98s\tremaining: 1.62s\n",
      "847:\tlearn: 0.1320981\ttotal: 8.99s\tremaining: 1.61s\n",
      "848:\tlearn: 0.1320853\ttotal: 9s\tremaining: 1.6s\n",
      "849:\tlearn: 0.1320772\ttotal: 9.01s\tremaining: 1.59s\n",
      "850:\tlearn: 0.1320655\ttotal: 9.02s\tremaining: 1.58s\n",
      "851:\tlearn: 0.1320452\ttotal: 9.04s\tremaining: 1.57s\n",
      "852:\tlearn: 0.1320330\ttotal: 9.05s\tremaining: 1.56s\n",
      "853:\tlearn: 0.1320230\ttotal: 9.06s\tremaining: 1.55s\n",
      "854:\tlearn: 0.1320103\ttotal: 9.07s\tremaining: 1.54s\n",
      "855:\tlearn: 0.1319988\ttotal: 9.08s\tremaining: 1.53s\n",
      "856:\tlearn: 0.1319854\ttotal: 9.09s\tremaining: 1.52s\n",
      "857:\tlearn: 0.1319737\ttotal: 9.1s\tremaining: 1.5s\n",
      "858:\tlearn: 0.1319641\ttotal: 9.11s\tremaining: 1.49s\n",
      "859:\tlearn: 0.1319521\ttotal: 9.12s\tremaining: 1.48s\n",
      "860:\tlearn: 0.1319434\ttotal: 9.13s\tremaining: 1.47s\n",
      "861:\tlearn: 0.1319310\ttotal: 9.14s\tremaining: 1.46s\n",
      "862:\tlearn: 0.1319105\ttotal: 9.15s\tremaining: 1.45s\n",
      "863:\tlearn: 0.1318966\ttotal: 9.16s\tremaining: 1.44s\n",
      "864:\tlearn: 0.1318854\ttotal: 9.17s\tremaining: 1.43s\n",
      "865:\tlearn: 0.1318738\ttotal: 9.18s\tremaining: 1.42s\n",
      "866:\tlearn: 0.1318620\ttotal: 9.19s\tremaining: 1.41s\n",
      "867:\tlearn: 0.1318489\ttotal: 9.2s\tremaining: 1.4s\n",
      "868:\tlearn: 0.1318285\ttotal: 9.21s\tremaining: 1.39s\n",
      "869:\tlearn: 0.1318179\ttotal: 9.22s\tremaining: 1.38s\n",
      "870:\tlearn: 0.1318063\ttotal: 9.23s\tremaining: 1.37s\n",
      "871:\tlearn: 0.1317933\ttotal: 9.24s\tremaining: 1.36s\n",
      "872:\tlearn: 0.1317812\ttotal: 9.25s\tremaining: 1.34s\n",
      "873:\tlearn: 0.1317653\ttotal: 9.26s\tremaining: 1.33s\n",
      "874:\tlearn: 0.1317527\ttotal: 9.27s\tremaining: 1.32s\n",
      "875:\tlearn: 0.1317324\ttotal: 9.28s\tremaining: 1.31s\n",
      "876:\tlearn: 0.1317199\ttotal: 9.29s\tremaining: 1.3s\n",
      "877:\tlearn: 0.1316848\ttotal: 9.3s\tremaining: 1.29s\n",
      "878:\tlearn: 0.1316747\ttotal: 9.31s\tremaining: 1.28s\n",
      "879:\tlearn: 0.1316639\ttotal: 9.32s\tremaining: 1.27s\n",
      "880:\tlearn: 0.1316440\ttotal: 9.33s\tremaining: 1.26s\n",
      "881:\tlearn: 0.1316357\ttotal: 9.34s\tremaining: 1.25s\n",
      "882:\tlearn: 0.1316148\ttotal: 9.35s\tremaining: 1.24s\n",
      "883:\tlearn: 0.1316056\ttotal: 9.36s\tremaining: 1.23s\n",
      "884:\tlearn: 0.1315909\ttotal: 9.37s\tremaining: 1.22s\n",
      "885:\tlearn: 0.1315738\ttotal: 9.38s\tremaining: 1.21s\n",
      "886:\tlearn: 0.1315632\ttotal: 9.39s\tremaining: 1.2s\n",
      "887:\tlearn: 0.1315519\ttotal: 9.41s\tremaining: 1.19s\n",
      "888:\tlearn: 0.1315441\ttotal: 9.42s\tremaining: 1.18s\n",
      "889:\tlearn: 0.1315320\ttotal: 9.43s\tremaining: 1.17s\n",
      "890:\tlearn: 0.1315204\ttotal: 9.44s\tremaining: 1.15s\n",
      "891:\tlearn: 0.1314966\ttotal: 9.45s\tremaining: 1.14s\n",
      "892:\tlearn: 0.1314852\ttotal: 9.46s\tremaining: 1.13s\n",
      "893:\tlearn: 0.1314784\ttotal: 9.47s\tremaining: 1.12s\n",
      "894:\tlearn: 0.1314678\ttotal: 9.48s\tremaining: 1.11s\n",
      "895:\tlearn: 0.1314588\ttotal: 9.5s\tremaining: 1.1s\n",
      "896:\tlearn: 0.1314477\ttotal: 9.51s\tremaining: 1.09s\n",
      "897:\tlearn: 0.1314379\ttotal: 9.52s\tremaining: 1.08s\n",
      "898:\tlearn: 0.1314281\ttotal: 9.53s\tremaining: 1.07s\n",
      "899:\tlearn: 0.1314098\ttotal: 9.54s\tremaining: 1.06s\n",
      "900:\tlearn: 0.1314009\ttotal: 9.55s\tremaining: 1.05s\n",
      "901:\tlearn: 0.1313925\ttotal: 9.56s\tremaining: 1.04s\n",
      "902:\tlearn: 0.1313836\ttotal: 9.57s\tremaining: 1.03s\n",
      "903:\tlearn: 0.1313726\ttotal: 9.58s\tremaining: 1.02s\n",
      "904:\tlearn: 0.1313599\ttotal: 9.59s\tremaining: 1.01s\n",
      "905:\tlearn: 0.1313495\ttotal: 9.6s\tremaining: 996ms\n",
      "906:\tlearn: 0.1313353\ttotal: 9.62s\tremaining: 986ms\n",
      "907:\tlearn: 0.1313168\ttotal: 9.63s\tremaining: 976ms\n",
      "908:\tlearn: 0.1313047\ttotal: 9.64s\tremaining: 965ms\n",
      "909:\tlearn: 0.1312926\ttotal: 9.65s\tremaining: 955ms\n",
      "910:\tlearn: 0.1312864\ttotal: 9.66s\tremaining: 944ms\n",
      "911:\tlearn: 0.1312744\ttotal: 9.68s\tremaining: 934ms\n",
      "912:\tlearn: 0.1312556\ttotal: 9.69s\tremaining: 923ms\n",
      "913:\tlearn: 0.1312440\ttotal: 9.7s\tremaining: 912ms\n",
      "914:\tlearn: 0.1312344\ttotal: 9.71s\tremaining: 902ms\n",
      "915:\tlearn: 0.1312224\ttotal: 9.72s\tremaining: 891ms\n",
      "916:\tlearn: 0.1312088\ttotal: 9.73s\tremaining: 881ms\n",
      "917:\tlearn: 0.1311975\ttotal: 9.74s\tremaining: 870ms\n",
      "918:\tlearn: 0.1311762\ttotal: 9.75s\tremaining: 859ms\n",
      "919:\tlearn: 0.1311687\ttotal: 9.76s\tremaining: 849ms\n",
      "920:\tlearn: 0.1311516\ttotal: 9.77s\tremaining: 838ms\n",
      "921:\tlearn: 0.1311401\ttotal: 9.78s\tremaining: 828ms\n",
      "922:\tlearn: 0.1311285\ttotal: 9.79s\tremaining: 817ms\n",
      "923:\tlearn: 0.1311175\ttotal: 9.8s\tremaining: 806ms\n",
      "924:\tlearn: 0.1311012\ttotal: 9.81s\tremaining: 796ms\n",
      "925:\tlearn: 0.1310896\ttotal: 9.84s\tremaining: 786ms\n",
      "926:\tlearn: 0.1310785\ttotal: 9.85s\tremaining: 776ms\n",
      "927:\tlearn: 0.1310673\ttotal: 9.86s\tremaining: 765ms\n",
      "928:\tlearn: 0.1310580\ttotal: 9.87s\tremaining: 755ms\n",
      "929:\tlearn: 0.1310476\ttotal: 9.88s\tremaining: 744ms\n",
      "930:\tlearn: 0.1310361\ttotal: 9.89s\tremaining: 733ms\n",
      "931:\tlearn: 0.1310267\ttotal: 9.9s\tremaining: 723ms\n",
      "932:\tlearn: 0.1310153\ttotal: 9.92s\tremaining: 712ms\n",
      "933:\tlearn: 0.1309961\ttotal: 9.93s\tremaining: 701ms\n",
      "934:\tlearn: 0.1309878\ttotal: 9.94s\tremaining: 691ms\n",
      "935:\tlearn: 0.1309751\ttotal: 9.95s\tremaining: 680ms\n",
      "936:\tlearn: 0.1309630\ttotal: 9.96s\tremaining: 670ms\n",
      "937:\tlearn: 0.1309487\ttotal: 9.97s\tremaining: 659ms\n",
      "938:\tlearn: 0.1309363\ttotal: 9.98s\tremaining: 649ms\n",
      "939:\tlearn: 0.1309261\ttotal: 9.99s\tremaining: 638ms\n",
      "940:\tlearn: 0.1309139\ttotal: 10s\tremaining: 627ms\n",
      "941:\tlearn: 0.1309032\ttotal: 10s\tremaining: 617ms\n",
      "942:\tlearn: 0.1308942\ttotal: 10s\tremaining: 606ms\n",
      "943:\tlearn: 0.1308826\ttotal: 10s\tremaining: 596ms\n",
      "944:\tlearn: 0.1308638\ttotal: 10.1s\tremaining: 585ms\n",
      "945:\tlearn: 0.1308530\ttotal: 10.1s\tremaining: 574ms\n",
      "946:\tlearn: 0.1308426\ttotal: 10.1s\tremaining: 564ms\n",
      "947:\tlearn: 0.1308253\ttotal: 10.1s\tremaining: 553ms\n",
      "948:\tlearn: 0.1308167\ttotal: 10.1s\tremaining: 542ms\n",
      "949:\tlearn: 0.1308029\ttotal: 10.1s\tremaining: 532ms\n",
      "950:\tlearn: 0.1307917\ttotal: 10.1s\tremaining: 521ms\n",
      "951:\tlearn: 0.1307788\ttotal: 10.1s\tremaining: 511ms\n",
      "952:\tlearn: 0.1307687\ttotal: 10.1s\tremaining: 500ms\n",
      "953:\tlearn: 0.1307600\ttotal: 10.2s\tremaining: 489ms\n",
      "954:\tlearn: 0.1307496\ttotal: 10.2s\tremaining: 479ms\n",
      "955:\tlearn: 0.1307435\ttotal: 10.2s\tremaining: 468ms\n",
      "956:\tlearn: 0.1307323\ttotal: 10.2s\tremaining: 458ms\n",
      "957:\tlearn: 0.1307205\ttotal: 10.2s\tremaining: 447ms\n",
      "958:\tlearn: 0.1307094\ttotal: 10.2s\tremaining: 436ms\n",
      "959:\tlearn: 0.1306985\ttotal: 10.2s\tremaining: 426ms\n",
      "960:\tlearn: 0.1306861\ttotal: 10.2s\tremaining: 415ms\n",
      "961:\tlearn: 0.1306645\ttotal: 10.2s\tremaining: 404ms\n",
      "962:\tlearn: 0.1306539\ttotal: 10.2s\tremaining: 394ms\n",
      "963:\tlearn: 0.1306432\ttotal: 10.3s\tremaining: 383ms\n",
      "964:\tlearn: 0.1306329\ttotal: 10.3s\tremaining: 373ms\n",
      "965:\tlearn: 0.1306222\ttotal: 10.3s\tremaining: 362ms\n",
      "966:\tlearn: 0.1306095\ttotal: 10.3s\tremaining: 351ms\n",
      "967:\tlearn: 0.1306030\ttotal: 10.3s\tremaining: 341ms\n",
      "968:\tlearn: 0.1305937\ttotal: 10.3s\tremaining: 330ms\n",
      "969:\tlearn: 0.1305836\ttotal: 10.3s\tremaining: 319ms\n",
      "970:\tlearn: 0.1305723\ttotal: 10.3s\tremaining: 309ms\n",
      "971:\tlearn: 0.1305619\ttotal: 10.3s\tremaining: 298ms\n",
      "972:\tlearn: 0.1305351\ttotal: 10.4s\tremaining: 287ms\n",
      "973:\tlearn: 0.1305232\ttotal: 10.4s\tremaining: 277ms\n",
      "974:\tlearn: 0.1305149\ttotal: 10.4s\tremaining: 266ms\n",
      "975:\tlearn: 0.1305042\ttotal: 10.4s\tremaining: 256ms\n",
      "976:\tlearn: 0.1304976\ttotal: 10.4s\tremaining: 245ms\n",
      "977:\tlearn: 0.1304855\ttotal: 10.4s\tremaining: 234ms\n",
      "978:\tlearn: 0.1304733\ttotal: 10.4s\tremaining: 224ms\n",
      "979:\tlearn: 0.1304634\ttotal: 10.4s\tremaining: 213ms\n",
      "980:\tlearn: 0.1304522\ttotal: 10.4s\tremaining: 202ms\n",
      "981:\tlearn: 0.1304405\ttotal: 10.5s\tremaining: 192ms\n",
      "982:\tlearn: 0.1304305\ttotal: 10.5s\tremaining: 181ms\n",
      "983:\tlearn: 0.1304195\ttotal: 10.5s\tremaining: 170ms\n",
      "984:\tlearn: 0.1304083\ttotal: 10.5s\tremaining: 160ms\n",
      "985:\tlearn: 0.1303881\ttotal: 10.5s\tremaining: 149ms\n",
      "986:\tlearn: 0.1303746\ttotal: 10.5s\tremaining: 139ms\n",
      "987:\tlearn: 0.1303548\ttotal: 10.5s\tremaining: 128ms\n",
      "988:\tlearn: 0.1303455\ttotal: 10.5s\tremaining: 117ms\n",
      "989:\tlearn: 0.1303373\ttotal: 10.5s\tremaining: 107ms\n",
      "990:\tlearn: 0.1303263\ttotal: 10.6s\tremaining: 95.9ms\n",
      "991:\tlearn: 0.1303112\ttotal: 10.6s\tremaining: 85.3ms\n",
      "992:\tlearn: 0.1302998\ttotal: 10.6s\tremaining: 74.6ms\n",
      "993:\tlearn: 0.1302807\ttotal: 10.6s\tremaining: 64ms\n",
      "994:\tlearn: 0.1302585\ttotal: 10.6s\tremaining: 53.3ms\n",
      "995:\tlearn: 0.1302471\ttotal: 10.6s\tremaining: 42.6ms\n",
      "996:\tlearn: 0.1302355\ttotal: 10.6s\tremaining: 32ms\n",
      "997:\tlearn: 0.1302231\ttotal: 10.6s\tremaining: 21.3ms\n",
      "998:\tlearn: 0.1301913\ttotal: 10.7s\tremaining: 10.7ms\n",
      "999:\tlearn: 0.1301797\ttotal: 10.7s\tremaining: 0us\n"
     ]
    }
   ],
   "source": [
    "full_step_2(cv_df=cv_df, \n",
    "            experiment_config=experiment_config)"
   ]
  },
  {
   "cell_type": "code",
   "execution_count": null,
   "metadata": {},
   "outputs": [],
   "source": []
  }
 ],
 "metadata": {
  "kernelspec": {
   "display_name": "ensemble",
   "language": "python",
   "name": "ensemble"
  },
  "language_info": {
   "codemirror_mode": {
    "name": "ipython",
    "version": 3
   },
   "file_extension": ".py",
   "mimetype": "text/x-python",
   "name": "python",
   "nbconvert_exporter": "python",
   "pygments_lexer": "ipython3",
   "version": "3.10.14"
  }
 },
 "nbformat": 4,
 "nbformat_minor": 4
}
