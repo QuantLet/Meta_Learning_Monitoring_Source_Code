{
 "cells": [
  {
   "cell_type": "markdown",
   "metadata": {},
   "source": [
    "### 1. Settings"
   ]
  },
  {
   "cell_type": "code",
   "execution_count": 14,
   "metadata": {},
   "outputs": [
    {
     "name": "stderr",
     "output_type": "stream",
     "text": [
      "/home/RDC/zinovyee.hub/.conda/envs/ensemble/lib/python3.10/site-packages/huggingface_hub/file_download.py:1132: FutureWarning: `resume_download` is deprecated and will be removed in version 1.0.0. Downloads always resume when possible. If you want to force a new download, use `force_download=True`.\n",
      "  warnings.warn(\n"
     ]
    }
   ],
   "source": [
    "#####################################\n",
    "##########  DEPENDECIES ############\n",
    "#####################################\n",
    "\n",
    "import os\n",
    "import pickle\n",
    "import numpy as np\n",
    "from tqdm import tqdm # type: ignore\n",
    "import pandas as pd\n",
    "import copy\n",
    "\n",
    "from datasets import load_dataset, DatasetDict, Dataset\n",
    "from transformers import DataCollatorForSeq2Seq, Seq2SeqTrainer, Seq2SeqTrainingArguments\n",
    "from sklearn.model_selection import KFold # type: ignore\n",
    "import evaluate\n",
    "\n",
    "from transformers import AutoModelForSeq2SeqLM, AutoTokenizer\n",
    "\n",
    "import utils.prep as pr\n",
    "import utils.eval as ev\n",
    "import utils.inference as infer\n",
    "\n",
    "from sklearn.feature_extraction.text import TfidfVectorizer\n",
    "\n",
    "from sklearn.svm import SVR\n",
    "from sklearn.linear_model import LinearRegression\n",
    "from sklearn.ensemble import RandomForestRegressor\n",
    "from sklearn.metrics import mean_squared_error, mean_absolute_error\n",
    "import math\n",
    "\n",
    "from lightgbm import LGBMRegressor\n",
    "from catboost import CatBoostRegressor\n",
    "from scipy.sparse import hstack\n",
    "\n",
    "tqdm.pandas()\n",
    "\n",
    "os.environ[\"TOKENIZERS_PARALLELISM\"] = \"false\"\n",
    "os.environ[\"WANDB_DISABLED\"] = \"true\"\n",
    "os.environ[\"CUDA_VISIBLE_DEVICES\"] = \"3\"\n",
    "\n",
    "import torch\n",
    "#####################################\n",
    "############  CONSTANTS #############\n",
    "#####################################\n",
    "RS = 42\n",
    "\n",
    "MODEL = \"CodeT5\"\n",
    "TRAIN_N = 330\n",
    "BATCH_SIZE = 15\n",
    "DECODER_LENGTH = 20\n",
    "ENCODER_LENGTH = 15\n",
    "\n",
    "FULL_TRAIN_ARGS = {\n",
    "    \"TRAIN_N\": TRAIN_N,\n",
    "    \"BATCH_SIZE\": BATCH_SIZE,\n",
    "    \"DECODER_LENGTH\": DECODER_LENGTH,\n",
    "    \"ENCODER_LENGTH\": ENCODER_LENGTH,\n",
    "    \"MODEL\": MODEL,\n",
    "    \"SEQ_TRAINER_ARGS\": {\n",
    "        \"overwrite_output_dir\": True,\n",
    "        \"do_train\": True,\n",
    "        \"do_eval\": True,\n",
    "        \"per_device_train_batch_size\": 4,\n",
    "        \"per_device_eval_batch_size\": 4,\n",
    "        \"learning_rate\": 5e-5,\n",
    "        \"warmup_steps\": 100,\n",
    "        \"weight_decay\": 0.1,\n",
    "        \"label_smoothing_factor\": 0.1,\n",
    "        \"predict_with_generate\": True,\n",
    "        \"logging_steps\": 100,\n",
    "        \"save_total_limit\": 1,\n",
    "        \"save_strategy\": \"no\",\n",
    "        \"logging_strategy\": \"epoch\",\n",
    "        \"evaluation_strategy\": \"epoch\",\n",
    "        \"load_best_model_at_end\": False,\n",
    "    },\n",
    "}\n",
    "FULL_TRAIN_ARGS[\"SEQ_TRAINER_ARGS\"][\"output_dir\"] = f'reports/results'\n",
    "FULL_TRAIN_ARGS[\"SEQ_TRAINER_ARGS\"][\"logging_dir\"] = f'reports/logs'\n",
    "\n",
    "model_name=\"Salesforce/codet5-base-multi-sum\"\n",
    "tokenizer = AutoTokenizer.from_pretrained(model_name, skip_special_tokens=False)\n",
    "model = AutoModelForSeq2SeqLM.from_pretrained(model_name)"
   ]
  },
  {
   "cell_type": "markdown",
   "metadata": {},
   "source": [
    "### 2. Conala data. Preprocessing. Sampling as in the paper (further, random sampling)"
   ]
  },
  {
   "cell_type": "code",
   "execution_count": 15,
   "metadata": {},
   "outputs": [
    {
     "name": "stdout",
     "output_type": "stream",
     "text": [
      "Cluster 4 obsevations:  (344, 6)\n",
      "Cluster not 4 obsevations:  (156, 6)\n",
      "Train Data:  (2379, 6)\n",
      "Test Data:  (500, 6)\n",
      "Fold 0\n",
      "Fold 1\n",
      "Fold 2\n"
     ]
    },
    {
     "name": "stderr",
     "output_type": "stream",
     "text": [
      "Filter: 100%|██████████| 500/500 [00:00<00:00, 87549.14 examples/s]\n",
      "Filter: 100%|██████████| 500/500 [00:00<00:00, 45340.89 examples/s]\n",
      "Map: 100%|██████████| 499/499 [00:00<00:00, 2094.76 examples/s]\n"
     ]
    }
   ],
   "source": [
    "dataset = pd.read_csv(f\"../data/processed/conala/20240327/conala_clustered.csv\")\n",
    "dataset = dataset.drop(\"time_batch\", axis=1)\n",
    "\n",
    "test_4_examples = dataset[dataset[\"cluster\"]==4].sample(frac=0.85, random_state=RS)\n",
    "print(\"Cluster 4 obsevations: \", test_4_examples.shape)\n",
    "test_non4_examples = dataset[dataset[\"cluster\"]!=4].sample(n=156, random_state=RS)\n",
    "print(\"Cluster not 4 obsevations: \", test_non4_examples.shape)\n",
    "\n",
    "test_dataset = pd.concat([test_4_examples, test_non4_examples])\n",
    "train_dataset = dataset[~dataset.index.isin(test_dataset.index)]\n",
    "print(\"Train Data: \", train_dataset.shape)\n",
    "print(\"Test Data: \", test_dataset.shape)\n",
    "\n",
    "train_dataset = Dataset.from_pandas(train_dataset.sample(frac=1, random_state=RS).reset_index(drop=True))\n",
    "test_dataset = Dataset.from_pandas(test_dataset.sample(frac=1, random_state=RS).reset_index(drop=True))\n",
    "\n",
    "# Cross Validation\n",
    "folds = KFold(n_splits=3, random_state=RS, shuffle=True)\n",
    "questions_list = np.array(list(set(train_dataset[\"question_id\"])))\n",
    "splits_obj = folds.split(questions_list)\n",
    "splits = []\n",
    "for i, (train_idxs, val_idxs) in enumerate(splits_obj):\n",
    "    print(f\"Fold {i}\")\n",
    "    splits.append([train_idxs, val_idxs])\n",
    "\n",
    "test_data = pr.preprocess_dataset(test_dataset, tokenizer=tokenizer)\n",
    "test_df = pd.DataFrame(test_data)\n",
    "\n",
    "device = torch.device(\"cuda\" if torch.cuda.is_available() else \"cpu\")\n",
    "rouge = evaluate.load('rouge')"
   ]
  },
  {
   "cell_type": "code",
   "execution_count": 16,
   "metadata": {},
   "outputs": [
    {
     "data": {
      "text/plain": [
       "Dataset({\n",
       "    features: ['question_id', 'intent', 'rewritten_intent', 'snippet', 'idx', 'cluster'],\n",
       "    num_rows: 2379\n",
       "})"
      ]
     },
     "execution_count": 16,
     "metadata": {},
     "output_type": "execute_result"
    }
   ],
   "source": [
    "train_dataset"
   ]
  },
  {
   "cell_type": "code",
   "execution_count": 17,
   "metadata": {},
   "outputs": [
    {
     "data": {
      "text/plain": [
       "Dataset({\n",
       "    features: ['question_id', 'intent', 'rewritten_intent', 'snippet', 'idx', 'cluster'],\n",
       "    num_rows: 500\n",
       "})"
      ]
     },
     "execution_count": 17,
     "metadata": {},
     "output_type": "execute_result"
    }
   ],
   "source": [
    "test_dataset\n"
   ]
  },
  {
   "cell_type": "code",
   "execution_count": 19,
   "metadata": {},
   "outputs": [
    {
     "name": "stdout",
     "output_type": "stream",
     "text": [
      "TRAINING EPOCH SET [1, 2]\n",
      "TRAINING EPOCHS 2\n",
      "Fold 0\n"
     ]
    },
    {
     "name": "stderr",
     "output_type": "stream",
     "text": [
      "Filter: 100%|██████████| 2379/2379 [00:00<00:00, 82214.15 examples/s]\n",
      "Filter: 100%|██████████| 2379/2379 [00:00<00:00, 93499.34 examples/s]\n",
      "Filter: 100%|██████████| 266/266 [00:00<00:00, 37560.09 examples/s]\n",
      "Filter: 100%|██████████| 266/266 [00:00<00:00, 41172.22 examples/s]\n",
      "Map: 100%|██████████| 266/266 [00:00<00:00, 2061.67 examples/s]\n",
      "Filter: 100%|██████████| 799/799 [00:00<00:00, 57035.74 examples/s]\n",
      "Filter: 100%|██████████| 799/799 [00:00<00:00, 56843.22 examples/s]\n",
      "Map: 100%|██████████| 799/799 [00:00<00:00, 2167.57 examples/s]\n",
      "/home/RDC/zinovyee.hub/.conda/envs/ensemble/lib/python3.10/site-packages/huggingface_hub/file_download.py:1132: FutureWarning: `resume_download` is deprecated and will be removed in version 1.0.0. Downloads always resume when possible. If you want to force a new download, use `force_download=True`.\n",
      "  warnings.warn(\n"
     ]
    },
    {
     "name": "stdout",
     "output_type": "stream",
     "text": [
      "LOADING MODEL Salesforce/codet5-base-multi-sum\n",
      "cuda\n"
     ]
    },
    {
     "name": "stderr",
     "output_type": "stream",
     "text": [
      "Using the `WANDB_DISABLED` environment variable is deprecated and will be removed in v5. Use the --report_to flag to control the integrations used for logging result (for instance --report_to none).\n",
      "/home/RDC/zinovyee.hub/.conda/envs/ensemble/lib/python3.10/site-packages/accelerate/accelerator.py:444: FutureWarning: Passing the following arguments to `Accelerator` is deprecated and will be removed in version 1.0 of Accelerate: dict_keys(['dispatch_batches', 'split_batches', 'even_batches', 'use_seedable_sampler']). Please pass an `accelerate.DataLoaderConfiguration` instead: \n",
      "dataloader_config = DataLoaderConfiguration(dispatch_batches=None, split_batches=False, even_batches=True, use_seedable_sampler=True)\n",
      "  warnings.warn(\n"
     ]
    },
    {
     "data": {
      "text/html": [
       "\n",
       "    <div>\n",
       "      \n",
       "      <progress value='134' max='134' style='width:300px; height:20px; vertical-align: middle;'></progress>\n",
       "      [134/134 01:32, Epoch 2/2]\n",
       "    </div>\n",
       "    <table border=\"1\" class=\"dataframe\">\n",
       "  <thead>\n",
       " <tr style=\"text-align: left;\">\n",
       "      <th>Epoch</th>\n",
       "      <th>Training Loss</th>\n",
       "      <th>Validation Loss</th>\n",
       "      <th>Rouge1</th>\n",
       "      <th>Rouge2</th>\n",
       "      <th>Rougel</th>\n",
       "      <th>Rougelsum</th>\n",
       "      <th>Gen Len</th>\n",
       "      <th>Bleu</th>\n",
       "      <th>Brevity Penalty</th>\n",
       "      <th>Length Ratio</th>\n",
       "      <th>Translation Length</th>\n",
       "      <th>Reference Length</th>\n",
       "    </tr>\n",
       "  </thead>\n",
       "  <tbody>\n",
       "    <tr>\n",
       "      <td>1</td>\n",
       "      <td>4.567100</td>\n",
       "      <td>3.788440</td>\n",
       "      <td>0.370600</td>\n",
       "      <td>0.115400</td>\n",
       "      <td>0.336700</td>\n",
       "      <td>0.337800</td>\n",
       "      <td>10.678300</td>\n",
       "      <td>0.047700</td>\n",
       "      <td>0.584900</td>\n",
       "      <td>0.650900</td>\n",
       "      <td>6676</td>\n",
       "      <td>10256</td>\n",
       "    </tr>\n",
       "    <tr>\n",
       "      <td>2</td>\n",
       "      <td>3.336300</td>\n",
       "      <td>3.526310</td>\n",
       "      <td>0.422600</td>\n",
       "      <td>0.163300</td>\n",
       "      <td>0.380900</td>\n",
       "      <td>0.381400</td>\n",
       "      <td>13.735900</td>\n",
       "      <td>0.137800</td>\n",
       "      <td>0.871600</td>\n",
       "      <td>0.879200</td>\n",
       "      <td>9017</td>\n",
       "      <td>10256</td>\n",
       "    </tr>\n",
       "  </tbody>\n",
       "</table><p>"
      ],
      "text/plain": [
       "<IPython.core.display.HTML object>"
      ]
     },
     "metadata": {},
     "output_type": "display_data"
    },
    {
     "name": "stderr",
     "output_type": "stream",
     "text": [
      "/home/RDC/zinovyee.hub/.conda/envs/ensemble/lib/python3.10/site-packages/transformers/utils/import_utils.py:616: FutureWarning: `torch._dynamo.external_utils.is_compiling` is deprecated. Use `torch.compiler.is_compiling` instead.\n",
      "  return dynamo.is_compiling()\n",
      "/home/RDC/zinovyee.hub/.conda/envs/ensemble/lib/python3.10/site-packages/transformers/generation/utils.py:1132: UserWarning: Using the model-agnostic default `max_length` (=20) to control the generation length. We recommend setting `max_new_tokens` to control the maximum length of the generation.\n",
      "  warnings.warn(\n"
     ]
    },
    {
     "name": "stdout",
     "output_type": "stream",
     "text": [
      "FOLDS IN RESULTS  dict_keys([0])\n",
      "TRAINING EPOCH SET [3, 4]\n",
      "TRAINING EPOCHS 2\n",
      "Fold 0\n"
     ]
    },
    {
     "name": "stderr",
     "output_type": "stream",
     "text": [
      "Filter: 100%|██████████| 2379/2379 [00:00<00:00, 74666.26 examples/s]\n",
      "Filter: 100%|██████████| 2379/2379 [00:00<00:00, 95049.95 examples/s]\n",
      "Filter: 100%|██████████| 202/202 [00:00<00:00, 31532.60 examples/s]\n",
      "Filter: 100%|██████████| 202/202 [00:00<00:00, 34060.28 examples/s]\n",
      "Map: 100%|██████████| 202/202 [00:00<00:00, 1939.87 examples/s]\n",
      "Filter: 100%|██████████| 799/799 [00:00<00:00, 50809.60 examples/s]\n",
      "Filter: 100%|██████████| 799/799 [00:00<00:00, 57326.48 examples/s]\n",
      "Map: 100%|██████████| 799/799 [00:00<00:00, 2136.68 examples/s]\n",
      "/home/RDC/zinovyee.hub/.conda/envs/ensemble/lib/python3.10/site-packages/huggingface_hub/file_download.py:1132: FutureWarning: `resume_download` is deprecated and will be removed in version 1.0.0. Downloads always resume when possible. If you want to force a new download, use `force_download=True`.\n",
      "  warnings.warn(\n"
     ]
    },
    {
     "name": "stdout",
     "output_type": "stream",
     "text": [
      "LOADING MODEL Salesforce/codet5-base-multi-sum\n",
      "cuda\n"
     ]
    },
    {
     "name": "stderr",
     "output_type": "stream",
     "text": [
      "Using the `WANDB_DISABLED` environment variable is deprecated and will be removed in v5. Use the --report_to flag to control the integrations used for logging result (for instance --report_to none).\n",
      "/home/RDC/zinovyee.hub/.conda/envs/ensemble/lib/python3.10/site-packages/accelerate/accelerator.py:444: FutureWarning: Passing the following arguments to `Accelerator` is deprecated and will be removed in version 1.0 of Accelerate: dict_keys(['dispatch_batches', 'split_batches', 'even_batches', 'use_seedable_sampler']). Please pass an `accelerate.DataLoaderConfiguration` instead: \n",
      "dataloader_config = DataLoaderConfiguration(dispatch_batches=None, split_batches=False, even_batches=True, use_seedable_sampler=True)\n",
      "  warnings.warn(\n"
     ]
    },
    {
     "data": {
      "text/html": [
       "\n",
       "    <div>\n",
       "      \n",
       "      <progress value='102' max='102' style='width:300px; height:20px; vertical-align: middle;'></progress>\n",
       "      [102/102 01:22, Epoch 2/2]\n",
       "    </div>\n",
       "    <table border=\"1\" class=\"dataframe\">\n",
       "  <thead>\n",
       " <tr style=\"text-align: left;\">\n",
       "      <th>Epoch</th>\n",
       "      <th>Training Loss</th>\n",
       "      <th>Validation Loss</th>\n",
       "      <th>Rouge1</th>\n",
       "      <th>Rouge2</th>\n",
       "      <th>Rougel</th>\n",
       "      <th>Rougelsum</th>\n",
       "      <th>Gen Len</th>\n",
       "      <th>Bleu</th>\n",
       "      <th>Brevity Penalty</th>\n",
       "      <th>Length Ratio</th>\n",
       "      <th>Translation Length</th>\n",
       "      <th>Reference Length</th>\n",
       "    </tr>\n",
       "  </thead>\n",
       "  <tbody>\n",
       "    <tr>\n",
       "      <td>1</td>\n",
       "      <td>4.830000</td>\n",
       "      <td>4.145144</td>\n",
       "      <td>0.335500</td>\n",
       "      <td>0.088900</td>\n",
       "      <td>0.306600</td>\n",
       "      <td>0.306700</td>\n",
       "      <td>9.290400</td>\n",
       "      <td>0.023700</td>\n",
       "      <td>0.422000</td>\n",
       "      <td>0.536900</td>\n",
       "      <td>5506</td>\n",
       "      <td>10256</td>\n",
       "    </tr>\n",
       "    <tr>\n",
       "      <td>2</td>\n",
       "      <td>3.749800</td>\n",
       "      <td>3.633107</td>\n",
       "      <td>0.398000</td>\n",
       "      <td>0.134800</td>\n",
       "      <td>0.354100</td>\n",
       "      <td>0.353600</td>\n",
       "      <td>12.630800</td>\n",
       "      <td>0.095800</td>\n",
       "      <td>0.767000</td>\n",
       "      <td>0.790400</td>\n",
       "      <td>8106</td>\n",
       "      <td>10256</td>\n",
       "    </tr>\n",
       "  </tbody>\n",
       "</table><p>"
      ],
      "text/plain": [
       "<IPython.core.display.HTML object>"
      ]
     },
     "metadata": {},
     "output_type": "display_data"
    },
    {
     "name": "stderr",
     "output_type": "stream",
     "text": [
      "/home/RDC/zinovyee.hub/.conda/envs/ensemble/lib/python3.10/site-packages/transformers/utils/import_utils.py:616: FutureWarning: `torch._dynamo.external_utils.is_compiling` is deprecated. Use `torch.compiler.is_compiling` instead.\n",
      "  return dynamo.is_compiling()\n",
      "/home/RDC/zinovyee.hub/.conda/envs/ensemble/lib/python3.10/site-packages/transformers/generation/utils.py:1132: UserWarning: Using the model-agnostic default `max_length` (=20) to control the generation length. We recommend setting `max_new_tokens` to control the maximum length of the generation.\n",
      "  warnings.warn(\n"
     ]
    },
    {
     "name": "stdout",
     "output_type": "stream",
     "text": [
      "FOLDS IN RESULTS  dict_keys([0])\n",
      "TRAINING EPOCH SET [5, 6]\n",
      "TRAINING EPOCHS 2\n",
      "Fold 0\n"
     ]
    },
    {
     "name": "stderr",
     "output_type": "stream",
     "text": [
      "Filter: 100%|██████████| 2379/2379 [00:00<00:00, 76133.23 examples/s]\n",
      "Filter: 100%|██████████| 2379/2379 [00:00<00:00, 94242.00 examples/s]\n",
      "Filter: 100%|██████████| 220/220 [00:00<00:00, 33880.92 examples/s]\n",
      "Filter: 100%|██████████| 220/220 [00:00<00:00, 36290.04 examples/s]\n",
      "Map: 100%|██████████| 220/220 [00:00<00:00, 2034.40 examples/s]\n",
      "Filter: 100%|██████████| 799/799 [00:00<00:00, 52044.49 examples/s]\n",
      "Filter: 100%|██████████| 799/799 [00:00<00:00, 55260.10 examples/s]\n",
      "Map: 100%|██████████| 799/799 [00:00<00:00, 2141.63 examples/s]\n",
      "/home/RDC/zinovyee.hub/.conda/envs/ensemble/lib/python3.10/site-packages/huggingface_hub/file_download.py:1132: FutureWarning: `resume_download` is deprecated and will be removed in version 1.0.0. Downloads always resume when possible. If you want to force a new download, use `force_download=True`.\n",
      "  warnings.warn(\n"
     ]
    },
    {
     "name": "stdout",
     "output_type": "stream",
     "text": [
      "LOADING MODEL Salesforce/codet5-base-multi-sum\n",
      "cuda\n"
     ]
    },
    {
     "name": "stderr",
     "output_type": "stream",
     "text": [
      "Using the `WANDB_DISABLED` environment variable is deprecated and will be removed in v5. Use the --report_to flag to control the integrations used for logging result (for instance --report_to none).\n",
      "/home/RDC/zinovyee.hub/.conda/envs/ensemble/lib/python3.10/site-packages/accelerate/accelerator.py:444: FutureWarning: Passing the following arguments to `Accelerator` is deprecated and will be removed in version 1.0 of Accelerate: dict_keys(['dispatch_batches', 'split_batches', 'even_batches', 'use_seedable_sampler']). Please pass an `accelerate.DataLoaderConfiguration` instead: \n",
      "dataloader_config = DataLoaderConfiguration(dispatch_batches=None, split_batches=False, even_batches=True, use_seedable_sampler=True)\n",
      "  warnings.warn(\n"
     ]
    },
    {
     "data": {
      "text/html": [
       "\n",
       "    <div>\n",
       "      \n",
       "      <progress value='110' max='110' style='width:300px; height:20px; vertical-align: middle;'></progress>\n",
       "      [110/110 01:21, Epoch 2/2]\n",
       "    </div>\n",
       "    <table border=\"1\" class=\"dataframe\">\n",
       "  <thead>\n",
       " <tr style=\"text-align: left;\">\n",
       "      <th>Epoch</th>\n",
       "      <th>Training Loss</th>\n",
       "      <th>Validation Loss</th>\n",
       "      <th>Rouge1</th>\n",
       "      <th>Rouge2</th>\n",
       "      <th>Rougel</th>\n",
       "      <th>Rougelsum</th>\n",
       "      <th>Gen Len</th>\n",
       "      <th>Bleu</th>\n",
       "      <th>Brevity Penalty</th>\n",
       "      <th>Length Ratio</th>\n",
       "      <th>Translation Length</th>\n",
       "      <th>Reference Length</th>\n",
       "    </tr>\n",
       "  </thead>\n",
       "  <tbody>\n",
       "    <tr>\n",
       "      <td>1</td>\n",
       "      <td>4.694900</td>\n",
       "      <td>4.069320</td>\n",
       "      <td>0.348800</td>\n",
       "      <td>0.101200</td>\n",
       "      <td>0.317400</td>\n",
       "      <td>0.317700</td>\n",
       "      <td>9.110100</td>\n",
       "      <td>0.026500</td>\n",
       "      <td>0.407700</td>\n",
       "      <td>0.527100</td>\n",
       "      <td>5406</td>\n",
       "      <td>10256</td>\n",
       "    </tr>\n",
       "    <tr>\n",
       "      <td>2</td>\n",
       "      <td>3.604200</td>\n",
       "      <td>3.600139</td>\n",
       "      <td>0.404600</td>\n",
       "      <td>0.151300</td>\n",
       "      <td>0.367400</td>\n",
       "      <td>0.367900</td>\n",
       "      <td>12.295400</td>\n",
       "      <td>0.117300</td>\n",
       "      <td>0.740800</td>\n",
       "      <td>0.769200</td>\n",
       "      <td>7889</td>\n",
       "      <td>10256</td>\n",
       "    </tr>\n",
       "  </tbody>\n",
       "</table><p>"
      ],
      "text/plain": [
       "<IPython.core.display.HTML object>"
      ]
     },
     "metadata": {},
     "output_type": "display_data"
    },
    {
     "name": "stderr",
     "output_type": "stream",
     "text": [
      "/home/RDC/zinovyee.hub/.conda/envs/ensemble/lib/python3.10/site-packages/transformers/utils/import_utils.py:616: FutureWarning: `torch._dynamo.external_utils.is_compiling` is deprecated. Use `torch.compiler.is_compiling` instead.\n",
      "  return dynamo.is_compiling()\n",
      "/home/RDC/zinovyee.hub/.conda/envs/ensemble/lib/python3.10/site-packages/transformers/generation/utils.py:1132: UserWarning: Using the model-agnostic default `max_length` (=20) to control the generation length. We recommend setting `max_new_tokens` to control the maximum length of the generation.\n",
      "  warnings.warn(\n"
     ]
    },
    {
     "name": "stdout",
     "output_type": "stream",
     "text": [
      "FOLDS IN RESULTS  dict_keys([0])\n",
      "TRAINING EPOCH SET [7, 8]\n",
      "TRAINING EPOCHS 2\n",
      "Fold 0\n"
     ]
    },
    {
     "name": "stderr",
     "output_type": "stream",
     "text": [
      "Filter: 100%|██████████| 2379/2379 [00:00<00:00, 58479.90 examples/s]\n",
      "Filter: 100%|██████████| 2379/2379 [00:00<00:00, 93677.53 examples/s]\n",
      "Filter: 100%|██████████| 602/602 [00:00<00:00, 45974.60 examples/s]\n",
      "Filter: 100%|██████████| 602/602 [00:00<00:00, 51430.31 examples/s]\n",
      "Map: 100%|██████████| 602/602 [00:00<00:00, 2141.00 examples/s]\n",
      "Filter: 100%|██████████| 799/799 [00:00<00:00, 52174.13 examples/s]\n",
      "Filter: 100%|██████████| 799/799 [00:00<00:00, 55392.54 examples/s]\n",
      "Map: 100%|██████████| 799/799 [00:00<00:00, 2184.54 examples/s]\n",
      "/home/RDC/zinovyee.hub/.conda/envs/ensemble/lib/python3.10/site-packages/huggingface_hub/file_download.py:1132: FutureWarning: `resume_download` is deprecated and will be removed in version 1.0.0. Downloads always resume when possible. If you want to force a new download, use `force_download=True`.\n",
      "  warnings.warn(\n"
     ]
    },
    {
     "name": "stdout",
     "output_type": "stream",
     "text": [
      "LOADING MODEL Salesforce/codet5-base-multi-sum\n",
      "cuda\n"
     ]
    },
    {
     "name": "stderr",
     "output_type": "stream",
     "text": [
      "Using the `WANDB_DISABLED` environment variable is deprecated and will be removed in v5. Use the --report_to flag to control the integrations used for logging result (for instance --report_to none).\n",
      "/home/RDC/zinovyee.hub/.conda/envs/ensemble/lib/python3.10/site-packages/accelerate/accelerator.py:444: FutureWarning: Passing the following arguments to `Accelerator` is deprecated and will be removed in version 1.0 of Accelerate: dict_keys(['dispatch_batches', 'split_batches', 'even_batches', 'use_seedable_sampler']). Please pass an `accelerate.DataLoaderConfiguration` instead: \n",
      "dataloader_config = DataLoaderConfiguration(dispatch_batches=None, split_batches=False, even_batches=True, use_seedable_sampler=True)\n",
      "  warnings.warn(\n"
     ]
    },
    {
     "data": {
      "text/html": [
       "\n",
       "    <div>\n",
       "      \n",
       "      <progress value='302' max='302' style='width:300px; height:20px; vertical-align: middle;'></progress>\n",
       "      [302/302 01:59, Epoch 2/2]\n",
       "    </div>\n",
       "    <table border=\"1\" class=\"dataframe\">\n",
       "  <thead>\n",
       " <tr style=\"text-align: left;\">\n",
       "      <th>Epoch</th>\n",
       "      <th>Training Loss</th>\n",
       "      <th>Validation Loss</th>\n",
       "      <th>Rouge1</th>\n",
       "      <th>Rouge2</th>\n",
       "      <th>Rougel</th>\n",
       "      <th>Rougelsum</th>\n",
       "      <th>Gen Len</th>\n",
       "      <th>Bleu</th>\n",
       "      <th>Brevity Penalty</th>\n",
       "      <th>Length Ratio</th>\n",
       "      <th>Translation Length</th>\n",
       "      <th>Reference Length</th>\n",
       "    </tr>\n",
       "  </thead>\n",
       "  <tbody>\n",
       "    <tr>\n",
       "      <td>1</td>\n",
       "      <td>4.005900</td>\n",
       "      <td>3.449053</td>\n",
       "      <td>0.420000</td>\n",
       "      <td>0.172900</td>\n",
       "      <td>0.384900</td>\n",
       "      <td>0.385000</td>\n",
       "      <td>14.395500</td>\n",
       "      <td>0.155800</td>\n",
       "      <td>0.905100</td>\n",
       "      <td>0.909300</td>\n",
       "      <td>9326</td>\n",
       "      <td>10256</td>\n",
       "    </tr>\n",
       "    <tr>\n",
       "      <td>2</td>\n",
       "      <td>3.067600</td>\n",
       "      <td>3.390378</td>\n",
       "      <td>0.435800</td>\n",
       "      <td>0.182700</td>\n",
       "      <td>0.398800</td>\n",
       "      <td>0.398800</td>\n",
       "      <td>14.164000</td>\n",
       "      <td>0.182000</td>\n",
       "      <td>0.912300</td>\n",
       "      <td>0.916000</td>\n",
       "      <td>9394</td>\n",
       "      <td>10256</td>\n",
       "    </tr>\n",
       "  </tbody>\n",
       "</table><p>"
      ],
      "text/plain": [
       "<IPython.core.display.HTML object>"
      ]
     },
     "metadata": {},
     "output_type": "display_data"
    },
    {
     "name": "stderr",
     "output_type": "stream",
     "text": [
      "/home/RDC/zinovyee.hub/.conda/envs/ensemble/lib/python3.10/site-packages/transformers/utils/import_utils.py:616: FutureWarning: `torch._dynamo.external_utils.is_compiling` is deprecated. Use `torch.compiler.is_compiling` instead.\n",
      "  return dynamo.is_compiling()\n",
      "/home/RDC/zinovyee.hub/.conda/envs/ensemble/lib/python3.10/site-packages/transformers/generation/utils.py:1132: UserWarning: Using the model-agnostic default `max_length` (=20) to control the generation length. We recommend setting `max_new_tokens` to control the maximum length of the generation.\n",
      "  warnings.warn(\n"
     ]
    },
    {
     "name": "stdout",
     "output_type": "stream",
     "text": [
      "FOLDS IN RESULTS  dict_keys([0])\n",
      "TRAINING EPOCH SET [4]\n",
      "TRAINING EPOCHS 2\n",
      "Fold 0\n"
     ]
    },
    {
     "name": "stderr",
     "output_type": "stream",
     "text": [
      "Filter: 100%|██████████| 2379/2379 [00:00<00:00, 76105.36 examples/s]\n",
      "Filter: 100%|██████████| 2379/2379 [00:00<00:00, 95754.12 examples/s]\n",
      "Filter: 100%|██████████| 34/34 [00:00<00:00, 10500.43 examples/s]\n",
      "Filter: 100%|██████████| 34/34 [00:00<00:00, 11638.48 examples/s]\n",
      "Map: 100%|██████████| 34/34 [00:00<00:00, 1708.70 examples/s]\n",
      "Filter: 100%|██████████| 799/799 [00:00<00:00, 51671.35 examples/s]\n",
      "Filter: 100%|██████████| 799/799 [00:00<00:00, 55956.74 examples/s]\n",
      "Map: 100%|██████████| 799/799 [00:00<00:00, 2155.19 examples/s]\n",
      "/home/RDC/zinovyee.hub/.conda/envs/ensemble/lib/python3.10/site-packages/huggingface_hub/file_download.py:1132: FutureWarning: `resume_download` is deprecated and will be removed in version 1.0.0. Downloads always resume when possible. If you want to force a new download, use `force_download=True`.\n",
      "  warnings.warn(\n"
     ]
    },
    {
     "name": "stdout",
     "output_type": "stream",
     "text": [
      "LOADING MODEL Salesforce/codet5-base-multi-sum\n",
      "cuda\n"
     ]
    },
    {
     "name": "stderr",
     "output_type": "stream",
     "text": [
      "Using the `WANDB_DISABLED` environment variable is deprecated and will be removed in v5. Use the --report_to flag to control the integrations used for logging result (for instance --report_to none).\n",
      "/home/RDC/zinovyee.hub/.conda/envs/ensemble/lib/python3.10/site-packages/accelerate/accelerator.py:444: FutureWarning: Passing the following arguments to `Accelerator` is deprecated and will be removed in version 1.0 of Accelerate: dict_keys(['dispatch_batches', 'split_batches', 'even_batches', 'use_seedable_sampler']). Please pass an `accelerate.DataLoaderConfiguration` instead: \n",
      "dataloader_config = DataLoaderConfiguration(dispatch_batches=None, split_batches=False, even_batches=True, use_seedable_sampler=True)\n",
      "  warnings.warn(\n"
     ]
    },
    {
     "data": {
      "text/html": [
       "\n",
       "    <div>\n",
       "      \n",
       "      <progress value='18' max='18' style='width:300px; height:20px; vertical-align: middle;'></progress>\n",
       "      [18/18 01:07, Epoch 2/2]\n",
       "    </div>\n",
       "    <table border=\"1\" class=\"dataframe\">\n",
       "  <thead>\n",
       " <tr style=\"text-align: left;\">\n",
       "      <th>Epoch</th>\n",
       "      <th>Training Loss</th>\n",
       "      <th>Validation Loss</th>\n",
       "      <th>Rouge1</th>\n",
       "      <th>Rouge2</th>\n",
       "      <th>Rougel</th>\n",
       "      <th>Rougelsum</th>\n",
       "      <th>Gen Len</th>\n",
       "      <th>Bleu</th>\n",
       "      <th>Brevity Penalty</th>\n",
       "      <th>Length Ratio</th>\n",
       "      <th>Translation Length</th>\n",
       "      <th>Reference Length</th>\n",
       "    </tr>\n",
       "  </thead>\n",
       "  <tbody>\n",
       "    <tr>\n",
       "      <td>1</td>\n",
       "      <td>5.320500</td>\n",
       "      <td>5.028266</td>\n",
       "      <td>0.310500</td>\n",
       "      <td>0.074100</td>\n",
       "      <td>0.274900</td>\n",
       "      <td>0.276200</td>\n",
       "      <td>10.093900</td>\n",
       "      <td>0.019300</td>\n",
       "      <td>0.517800</td>\n",
       "      <td>0.603100</td>\n",
       "      <td>6185</td>\n",
       "      <td>10256</td>\n",
       "    </tr>\n",
       "    <tr>\n",
       "      <td>2</td>\n",
       "      <td>5.064500</td>\n",
       "      <td>4.898468</td>\n",
       "      <td>0.308000</td>\n",
       "      <td>0.076500</td>\n",
       "      <td>0.274900</td>\n",
       "      <td>0.276300</td>\n",
       "      <td>9.936200</td>\n",
       "      <td>0.020100</td>\n",
       "      <td>0.497200</td>\n",
       "      <td>0.588600</td>\n",
       "      <td>6037</td>\n",
       "      <td>10256</td>\n",
       "    </tr>\n",
       "  </tbody>\n",
       "</table><p>"
      ],
      "text/plain": [
       "<IPython.core.display.HTML object>"
      ]
     },
     "metadata": {},
     "output_type": "display_data"
    },
    {
     "name": "stderr",
     "output_type": "stream",
     "text": [
      "/home/RDC/zinovyee.hub/.conda/envs/ensemble/lib/python3.10/site-packages/transformers/utils/import_utils.py:616: FutureWarning: `torch._dynamo.external_utils.is_compiling` is deprecated. Use `torch.compiler.is_compiling` instead.\n",
      "  return dynamo.is_compiling()\n",
      "/home/RDC/zinovyee.hub/.conda/envs/ensemble/lib/python3.10/site-packages/transformers/generation/utils.py:1132: UserWarning: Using the model-agnostic default `max_length` (=20) to control the generation length. We recommend setting `max_new_tokens` to control the maximum length of the generation.\n",
      "  warnings.warn(\n"
     ]
    },
    {
     "name": "stdout",
     "output_type": "stream",
     "text": [
      "FOLDS IN RESULTS  dict_keys([0])\n",
      "TRAINING EPOCH SET [5]\n",
      "TRAINING EPOCHS 2\n",
      "Fold 0\n"
     ]
    },
    {
     "name": "stderr",
     "output_type": "stream",
     "text": [
      "Filter: 100%|██████████| 2379/2379 [00:00<00:00, 81947.45 examples/s]\n",
      "Filter: 100%|██████████| 2379/2379 [00:00<00:00, 95238.66 examples/s]\n",
      "Filter: 100%|██████████| 109/109 [00:00<00:00, 24349.12 examples/s]\n",
      "Filter: 100%|██████████| 109/109 [00:00<00:00, 25088.03 examples/s]\n",
      "Map: 100%|██████████| 109/109 [00:00<00:00, 1835.17 examples/s]\n",
      "Filter: 100%|██████████| 799/799 [00:00<00:00, 52102.75 examples/s]\n",
      "Filter: 100%|██████████| 799/799 [00:00<00:00, 54917.80 examples/s]\n",
      "Map: 100%|██████████| 799/799 [00:00<00:00, 2150.16 examples/s]\n",
      "/home/RDC/zinovyee.hub/.conda/envs/ensemble/lib/python3.10/site-packages/huggingface_hub/file_download.py:1132: FutureWarning: `resume_download` is deprecated and will be removed in version 1.0.0. Downloads always resume when possible. If you want to force a new download, use `force_download=True`.\n",
      "  warnings.warn(\n"
     ]
    },
    {
     "name": "stdout",
     "output_type": "stream",
     "text": [
      "LOADING MODEL Salesforce/codet5-base-multi-sum\n",
      "cuda\n"
     ]
    },
    {
     "name": "stderr",
     "output_type": "stream",
     "text": [
      "Using the `WANDB_DISABLED` environment variable is deprecated and will be removed in v5. Use the --report_to flag to control the integrations used for logging result (for instance --report_to none).\n",
      "/home/RDC/zinovyee.hub/.conda/envs/ensemble/lib/python3.10/site-packages/accelerate/accelerator.py:444: FutureWarning: Passing the following arguments to `Accelerator` is deprecated and will be removed in version 1.0 of Accelerate: dict_keys(['dispatch_batches', 'split_batches', 'even_batches', 'use_seedable_sampler']). Please pass an `accelerate.DataLoaderConfiguration` instead: \n",
      "dataloader_config = DataLoaderConfiguration(dispatch_batches=None, split_batches=False, even_batches=True, use_seedable_sampler=True)\n",
      "  warnings.warn(\n"
     ]
    },
    {
     "data": {
      "text/html": [
       "\n",
       "    <div>\n",
       "      \n",
       "      <progress value='56' max='56' style='width:300px; height:20px; vertical-align: middle;'></progress>\n",
       "      [56/56 01:08, Epoch 2/2]\n",
       "    </div>\n",
       "    <table border=\"1\" class=\"dataframe\">\n",
       "  <thead>\n",
       " <tr style=\"text-align: left;\">\n",
       "      <th>Epoch</th>\n",
       "      <th>Training Loss</th>\n",
       "      <th>Validation Loss</th>\n",
       "      <th>Rouge1</th>\n",
       "      <th>Rouge2</th>\n",
       "      <th>Rougel</th>\n",
       "      <th>Rougelsum</th>\n",
       "      <th>Gen Len</th>\n",
       "      <th>Bleu</th>\n",
       "      <th>Brevity Penalty</th>\n",
       "      <th>Length Ratio</th>\n",
       "      <th>Translation Length</th>\n",
       "      <th>Reference Length</th>\n",
       "    </tr>\n",
       "  </thead>\n",
       "  <tbody>\n",
       "    <tr>\n",
       "      <td>1</td>\n",
       "      <td>5.109200</td>\n",
       "      <td>4.679547</td>\n",
       "      <td>0.330100</td>\n",
       "      <td>0.081200</td>\n",
       "      <td>0.294500</td>\n",
       "      <td>0.296600</td>\n",
       "      <td>9.892400</td>\n",
       "      <td>0.020300</td>\n",
       "      <td>0.487300</td>\n",
       "      <td>0.581800</td>\n",
       "      <td>5967</td>\n",
       "      <td>10256</td>\n",
       "    </tr>\n",
       "    <tr>\n",
       "      <td>2</td>\n",
       "      <td>4.349900</td>\n",
       "      <td>4.150532</td>\n",
       "      <td>0.349200</td>\n",
       "      <td>0.100500</td>\n",
       "      <td>0.314200</td>\n",
       "      <td>0.314700</td>\n",
       "      <td>8.947400</td>\n",
       "      <td>0.025200</td>\n",
       "      <td>0.389100</td>\n",
       "      <td>0.514400</td>\n",
       "      <td>5276</td>\n",
       "      <td>10256</td>\n",
       "    </tr>\n",
       "  </tbody>\n",
       "</table><p>"
      ],
      "text/plain": [
       "<IPython.core.display.HTML object>"
      ]
     },
     "metadata": {},
     "output_type": "display_data"
    },
    {
     "name": "stderr",
     "output_type": "stream",
     "text": [
      "/home/RDC/zinovyee.hub/.conda/envs/ensemble/lib/python3.10/site-packages/transformers/utils/import_utils.py:616: FutureWarning: `torch._dynamo.external_utils.is_compiling` is deprecated. Use `torch.compiler.is_compiling` instead.\n",
      "  return dynamo.is_compiling()\n",
      "/home/RDC/zinovyee.hub/.conda/envs/ensemble/lib/python3.10/site-packages/transformers/generation/utils.py:1132: UserWarning: Using the model-agnostic default `max_length` (=20) to control the generation length. We recommend setting `max_new_tokens` to control the maximum length of the generation.\n",
      "  warnings.warn(\n"
     ]
    },
    {
     "name": "stdout",
     "output_type": "stream",
     "text": [
      "FOLDS IN RESULTS  dict_keys([0])\n",
      "TRAINING EPOCH SET [1]\n",
      "TRAINING EPOCHS 2\n",
      "Fold 0\n"
     ]
    },
    {
     "name": "stderr",
     "output_type": "stream",
     "text": [
      "Filter: 100%|██████████| 2379/2379 [00:00<00:00, 77103.92 examples/s]\n",
      "Filter: 100%|██████████| 2379/2379 [00:00<00:00, 95372.47 examples/s]\n",
      "Filter: 100%|██████████| 198/198 [00:00<00:00, 34945.18 examples/s]\n",
      "Filter: 100%|██████████| 198/198 [00:00<00:00, 35723.84 examples/s]\n",
      "Map: 100%|██████████| 198/198 [00:00<00:00, 2013.26 examples/s]\n",
      "Filter: 100%|██████████| 799/799 [00:00<00:00, 50432.64 examples/s]\n",
      "Filter: 100%|██████████| 799/799 [00:00<00:00, 55069.41 examples/s]\n",
      "Map: 100%|██████████| 799/799 [00:00<00:00, 2101.72 examples/s]\n",
      "/home/RDC/zinovyee.hub/.conda/envs/ensemble/lib/python3.10/site-packages/huggingface_hub/file_download.py:1132: FutureWarning: `resume_download` is deprecated and will be removed in version 1.0.0. Downloads always resume when possible. If you want to force a new download, use `force_download=True`.\n",
      "  warnings.warn(\n"
     ]
    },
    {
     "name": "stdout",
     "output_type": "stream",
     "text": [
      "LOADING MODEL Salesforce/codet5-base-multi-sum\n",
      "cuda\n"
     ]
    },
    {
     "name": "stderr",
     "output_type": "stream",
     "text": [
      "Using the `WANDB_DISABLED` environment variable is deprecated and will be removed in v5. Use the --report_to flag to control the integrations used for logging result (for instance --report_to none).\n",
      "/home/RDC/zinovyee.hub/.conda/envs/ensemble/lib/python3.10/site-packages/accelerate/accelerator.py:444: FutureWarning: Passing the following arguments to `Accelerator` is deprecated and will be removed in version 1.0 of Accelerate: dict_keys(['dispatch_batches', 'split_batches', 'even_batches', 'use_seedable_sampler']). Please pass an `accelerate.DataLoaderConfiguration` instead: \n",
      "dataloader_config = DataLoaderConfiguration(dispatch_batches=None, split_batches=False, even_batches=True, use_seedable_sampler=True)\n",
      "  warnings.warn(\n"
     ]
    },
    {
     "data": {
      "text/html": [
       "\n",
       "    <div>\n",
       "      \n",
       "      <progress value='100' max='100' style='width:300px; height:20px; vertical-align: middle;'></progress>\n",
       "      [100/100 01:28, Epoch 2/2]\n",
       "    </div>\n",
       "    <table border=\"1\" class=\"dataframe\">\n",
       "  <thead>\n",
       " <tr style=\"text-align: left;\">\n",
       "      <th>Epoch</th>\n",
       "      <th>Training Loss</th>\n",
       "      <th>Validation Loss</th>\n",
       "      <th>Rouge1</th>\n",
       "      <th>Rouge2</th>\n",
       "      <th>Rougel</th>\n",
       "      <th>Rougelsum</th>\n",
       "      <th>Gen Len</th>\n",
       "      <th>Bleu</th>\n",
       "      <th>Brevity Penalty</th>\n",
       "      <th>Length Ratio</th>\n",
       "      <th>Translation Length</th>\n",
       "      <th>Reference Length</th>\n",
       "    </tr>\n",
       "  </thead>\n",
       "  <tbody>\n",
       "    <tr>\n",
       "      <td>1</td>\n",
       "      <td>4.716000</td>\n",
       "      <td>4.101206</td>\n",
       "      <td>0.341200</td>\n",
       "      <td>0.095900</td>\n",
       "      <td>0.307000</td>\n",
       "      <td>0.307100</td>\n",
       "      <td>10.279100</td>\n",
       "      <td>0.026700</td>\n",
       "      <td>0.548800</td>\n",
       "      <td>0.625000</td>\n",
       "      <td>6410</td>\n",
       "      <td>10256</td>\n",
       "    </tr>\n",
       "    <tr>\n",
       "      <td>2</td>\n",
       "      <td>3.472600</td>\n",
       "      <td>3.589227</td>\n",
       "      <td>0.401100</td>\n",
       "      <td>0.151900</td>\n",
       "      <td>0.361500</td>\n",
       "      <td>0.360900</td>\n",
       "      <td>14.476800</td>\n",
       "      <td>0.145800</td>\n",
       "      <td>0.956200</td>\n",
       "      <td>0.957100</td>\n",
       "      <td>9816</td>\n",
       "      <td>10256</td>\n",
       "    </tr>\n",
       "  </tbody>\n",
       "</table><p>"
      ],
      "text/plain": [
       "<IPython.core.display.HTML object>"
      ]
     },
     "metadata": {},
     "output_type": "display_data"
    },
    {
     "name": "stderr",
     "output_type": "stream",
     "text": [
      "/home/RDC/zinovyee.hub/.conda/envs/ensemble/lib/python3.10/site-packages/transformers/utils/import_utils.py:616: FutureWarning: `torch._dynamo.external_utils.is_compiling` is deprecated. Use `torch.compiler.is_compiling` instead.\n",
      "  return dynamo.is_compiling()\n",
      "/home/RDC/zinovyee.hub/.conda/envs/ensemble/lib/python3.10/site-packages/transformers/generation/utils.py:1132: UserWarning: Using the model-agnostic default `max_length` (=20) to control the generation length. We recommend setting `max_new_tokens` to control the maximum length of the generation.\n",
      "  warnings.warn(\n"
     ]
    },
    {
     "name": "stdout",
     "output_type": "stream",
     "text": [
      "FOLDS IN RESULTS  dict_keys([0])\n",
      "TRAINING EPOCH SET [1, 2]\n",
      "TRAINING EPOCHS 2\n",
      "Fold 1\n"
     ]
    },
    {
     "name": "stderr",
     "output_type": "stream",
     "text": [
      "Filter: 100%|██████████| 2379/2379 [00:00<00:00, 76926.18 examples/s]\n",
      "Filter: 100%|██████████| 2379/2379 [00:00<00:00, 96438.95 examples/s]\n",
      "Filter: 100%|██████████| 279/279 [00:00<00:00, 39828.83 examples/s]\n",
      "Filter: 100%|██████████| 279/279 [00:00<00:00, 42465.10 examples/s]\n",
      "Map: 100%|██████████| 279/279 [00:00<00:00, 2071.10 examples/s]\n",
      "Filter: 100%|██████████| 769/769 [00:00<00:00, 50478.42 examples/s]\n",
      "Filter: 100%|██████████| 769/769 [00:00<00:00, 54218.76 examples/s]\n",
      "Map: 100%|██████████| 769/769 [00:00<00:00, 2120.48 examples/s]\n",
      "/home/RDC/zinovyee.hub/.conda/envs/ensemble/lib/python3.10/site-packages/huggingface_hub/file_download.py:1132: FutureWarning: `resume_download` is deprecated and will be removed in version 1.0.0. Downloads always resume when possible. If you want to force a new download, use `force_download=True`.\n",
      "  warnings.warn(\n"
     ]
    },
    {
     "name": "stdout",
     "output_type": "stream",
     "text": [
      "LOADING MODEL Salesforce/codet5-base-multi-sum\n",
      "cuda\n"
     ]
    },
    {
     "name": "stderr",
     "output_type": "stream",
     "text": [
      "Using the `WANDB_DISABLED` environment variable is deprecated and will be removed in v5. Use the --report_to flag to control the integrations used for logging result (for instance --report_to none).\n",
      "/home/RDC/zinovyee.hub/.conda/envs/ensemble/lib/python3.10/site-packages/accelerate/accelerator.py:444: FutureWarning: Passing the following arguments to `Accelerator` is deprecated and will be removed in version 1.0 of Accelerate: dict_keys(['dispatch_batches', 'split_batches', 'even_batches', 'use_seedable_sampler']). Please pass an `accelerate.DataLoaderConfiguration` instead: \n",
      "dataloader_config = DataLoaderConfiguration(dispatch_batches=None, split_batches=False, even_batches=True, use_seedable_sampler=True)\n",
      "  warnings.warn(\n"
     ]
    },
    {
     "data": {
      "text/html": [
       "\n",
       "    <div>\n",
       "      \n",
       "      <progress value='140' max='140' style='width:300px; height:20px; vertical-align: middle;'></progress>\n",
       "      [140/140 01:30, Epoch 2/2]\n",
       "    </div>\n",
       "    <table border=\"1\" class=\"dataframe\">\n",
       "  <thead>\n",
       " <tr style=\"text-align: left;\">\n",
       "      <th>Epoch</th>\n",
       "      <th>Training Loss</th>\n",
       "      <th>Validation Loss</th>\n",
       "      <th>Rouge1</th>\n",
       "      <th>Rouge2</th>\n",
       "      <th>Rougel</th>\n",
       "      <th>Rougelsum</th>\n",
       "      <th>Gen Len</th>\n",
       "      <th>Bleu</th>\n",
       "      <th>Brevity Penalty</th>\n",
       "      <th>Length Ratio</th>\n",
       "      <th>Translation Length</th>\n",
       "      <th>Reference Length</th>\n",
       "    </tr>\n",
       "  </thead>\n",
       "  <tbody>\n",
       "    <tr>\n",
       "      <td>1</td>\n",
       "      <td>4.536500</td>\n",
       "      <td>3.823821</td>\n",
       "      <td>0.370800</td>\n",
       "      <td>0.113500</td>\n",
       "      <td>0.334200</td>\n",
       "      <td>0.334800</td>\n",
       "      <td>11.016900</td>\n",
       "      <td>0.058700</td>\n",
       "      <td>0.634200</td>\n",
       "      <td>0.687100</td>\n",
       "      <td>6758</td>\n",
       "      <td>9836</td>\n",
       "    </tr>\n",
       "    <tr>\n",
       "      <td>2</td>\n",
       "      <td>3.343200</td>\n",
       "      <td>3.581730</td>\n",
       "      <td>0.421600</td>\n",
       "      <td>0.168500</td>\n",
       "      <td>0.382100</td>\n",
       "      <td>0.382200</td>\n",
       "      <td>13.388800</td>\n",
       "      <td>0.147000</td>\n",
       "      <td>0.858700</td>\n",
       "      <td>0.867800</td>\n",
       "      <td>8536</td>\n",
       "      <td>9836</td>\n",
       "    </tr>\n",
       "  </tbody>\n",
       "</table><p>"
      ],
      "text/plain": [
       "<IPython.core.display.HTML object>"
      ]
     },
     "metadata": {},
     "output_type": "display_data"
    },
    {
     "name": "stderr",
     "output_type": "stream",
     "text": [
      "/home/RDC/zinovyee.hub/.conda/envs/ensemble/lib/python3.10/site-packages/transformers/utils/import_utils.py:616: FutureWarning: `torch._dynamo.external_utils.is_compiling` is deprecated. Use `torch.compiler.is_compiling` instead.\n",
      "  return dynamo.is_compiling()\n",
      "/home/RDC/zinovyee.hub/.conda/envs/ensemble/lib/python3.10/site-packages/transformers/generation/utils.py:1132: UserWarning: Using the model-agnostic default `max_length` (=20) to control the generation length. We recommend setting `max_new_tokens` to control the maximum length of the generation.\n",
      "  warnings.warn(\n"
     ]
    },
    {
     "name": "stdout",
     "output_type": "stream",
     "text": [
      "FOLDS IN RESULTS  dict_keys([0, 1])\n",
      "TRAINING EPOCH SET [3, 4]\n",
      "TRAINING EPOCHS 2\n",
      "Fold 1\n"
     ]
    },
    {
     "name": "stderr",
     "output_type": "stream",
     "text": [
      "Filter: 100%|██████████| 2379/2379 [00:00<00:00, 77608.26 examples/s]\n",
      "Filter: 100%|██████████| 2379/2379 [00:00<00:00, 95375.20 examples/s]\n",
      "Filter: 100%|██████████| 238/238 [00:00<00:00, 34896.33 examples/s]\n",
      "Filter: 100%|██████████| 238/238 [00:00<00:00, 35746.06 examples/s]\n",
      "Map: 100%|██████████| 238/238 [00:00<00:00, 1969.82 examples/s]\n",
      "Filter: 100%|██████████| 769/769 [00:00<00:00, 49387.82 examples/s]\n",
      "Filter: 100%|██████████| 769/769 [00:00<00:00, 53775.82 examples/s]\n",
      "Map: 100%|██████████| 769/769 [00:00<00:00, 2094.73 examples/s]\n",
      "/home/RDC/zinovyee.hub/.conda/envs/ensemble/lib/python3.10/site-packages/huggingface_hub/file_download.py:1132: FutureWarning: `resume_download` is deprecated and will be removed in version 1.0.0. Downloads always resume when possible. If you want to force a new download, use `force_download=True`.\n",
      "  warnings.warn(\n"
     ]
    },
    {
     "name": "stdout",
     "output_type": "stream",
     "text": [
      "LOADING MODEL Salesforce/codet5-base-multi-sum\n",
      "cuda\n"
     ]
    },
    {
     "name": "stderr",
     "output_type": "stream",
     "text": [
      "Using the `WANDB_DISABLED` environment variable is deprecated and will be removed in v5. Use the --report_to flag to control the integrations used for logging result (for instance --report_to none).\n",
      "/home/RDC/zinovyee.hub/.conda/envs/ensemble/lib/python3.10/site-packages/accelerate/accelerator.py:444: FutureWarning: Passing the following arguments to `Accelerator` is deprecated and will be removed in version 1.0 of Accelerate: dict_keys(['dispatch_batches', 'split_batches', 'even_batches', 'use_seedable_sampler']). Please pass an `accelerate.DataLoaderConfiguration` instead: \n",
      "dataloader_config = DataLoaderConfiguration(dispatch_batches=None, split_batches=False, even_batches=True, use_seedable_sampler=True)\n",
      "  warnings.warn(\n"
     ]
    },
    {
     "data": {
      "text/html": [
       "\n",
       "    <div>\n",
       "      \n",
       "      <progress value='120' max='120' style='width:300px; height:20px; vertical-align: middle;'></progress>\n",
       "      [120/120 01:24, Epoch 2/2]\n",
       "    </div>\n",
       "    <table border=\"1\" class=\"dataframe\">\n",
       "  <thead>\n",
       " <tr style=\"text-align: left;\">\n",
       "      <th>Epoch</th>\n",
       "      <th>Training Loss</th>\n",
       "      <th>Validation Loss</th>\n",
       "      <th>Rouge1</th>\n",
       "      <th>Rouge2</th>\n",
       "      <th>Rougel</th>\n",
       "      <th>Rougelsum</th>\n",
       "      <th>Gen Len</th>\n",
       "      <th>Bleu</th>\n",
       "      <th>Brevity Penalty</th>\n",
       "      <th>Length Ratio</th>\n",
       "      <th>Translation Length</th>\n",
       "      <th>Reference Length</th>\n",
       "    </tr>\n",
       "  </thead>\n",
       "  <tbody>\n",
       "    <tr>\n",
       "      <td>1</td>\n",
       "      <td>4.790600</td>\n",
       "      <td>4.022253</td>\n",
       "      <td>0.352500</td>\n",
       "      <td>0.100500</td>\n",
       "      <td>0.316000</td>\n",
       "      <td>0.317200</td>\n",
       "      <td>9.808800</td>\n",
       "      <td>0.029200</td>\n",
       "      <td>0.480900</td>\n",
       "      <td>0.577400</td>\n",
       "      <td>5679</td>\n",
       "      <td>9836</td>\n",
       "    </tr>\n",
       "    <tr>\n",
       "      <td>2</td>\n",
       "      <td>3.617100</td>\n",
       "      <td>3.659619</td>\n",
       "      <td>0.399700</td>\n",
       "      <td>0.137400</td>\n",
       "      <td>0.355400</td>\n",
       "      <td>0.355900</td>\n",
       "      <td>12.765900</td>\n",
       "      <td>0.097500</td>\n",
       "      <td>0.792600</td>\n",
       "      <td>0.811400</td>\n",
       "      <td>7981</td>\n",
       "      <td>9836</td>\n",
       "    </tr>\n",
       "  </tbody>\n",
       "</table><p>"
      ],
      "text/plain": [
       "<IPython.core.display.HTML object>"
      ]
     },
     "metadata": {},
     "output_type": "display_data"
    },
    {
     "name": "stderr",
     "output_type": "stream",
     "text": [
      "/home/RDC/zinovyee.hub/.conda/envs/ensemble/lib/python3.10/site-packages/transformers/utils/import_utils.py:616: FutureWarning: `torch._dynamo.external_utils.is_compiling` is deprecated. Use `torch.compiler.is_compiling` instead.\n",
      "  return dynamo.is_compiling()\n",
      "/home/RDC/zinovyee.hub/.conda/envs/ensemble/lib/python3.10/site-packages/transformers/generation/utils.py:1132: UserWarning: Using the model-agnostic default `max_length` (=20) to control the generation length. We recommend setting `max_new_tokens` to control the maximum length of the generation.\n",
      "  warnings.warn(\n"
     ]
    },
    {
     "name": "stdout",
     "output_type": "stream",
     "text": [
      "FOLDS IN RESULTS  dict_keys([0, 1])\n",
      "TRAINING EPOCH SET [5, 6]\n",
      "TRAINING EPOCHS 2\n",
      "Fold 1\n"
     ]
    },
    {
     "name": "stderr",
     "output_type": "stream",
     "text": [
      "Filter: 100%|██████████| 2379/2379 [00:00<00:00, 77071.16 examples/s]\n",
      "Filter: 100%|██████████| 2379/2379 [00:00<00:00, 95929.95 examples/s]\n",
      "Filter: 100%|██████████| 224/224 [00:00<00:00, 35140.79 examples/s]\n",
      "Filter: 100%|██████████| 224/224 [00:00<00:00, 36685.83 examples/s]\n",
      "Map: 100%|██████████| 224/224 [00:00<00:00, 2086.65 examples/s]\n",
      "Filter: 100%|██████████| 769/769 [00:00<00:00, 51056.94 examples/s]\n",
      "Filter: 100%|██████████| 769/769 [00:00<00:00, 54423.69 examples/s]\n",
      "Map: 100%|██████████| 769/769 [00:00<00:00, 2096.16 examples/s]\n",
      "/home/RDC/zinovyee.hub/.conda/envs/ensemble/lib/python3.10/site-packages/huggingface_hub/file_download.py:1132: FutureWarning: `resume_download` is deprecated and will be removed in version 1.0.0. Downloads always resume when possible. If you want to force a new download, use `force_download=True`.\n",
      "  warnings.warn(\n"
     ]
    },
    {
     "name": "stdout",
     "output_type": "stream",
     "text": [
      "LOADING MODEL Salesforce/codet5-base-multi-sum\n",
      "cuda\n"
     ]
    },
    {
     "name": "stderr",
     "output_type": "stream",
     "text": [
      "Using the `WANDB_DISABLED` environment variable is deprecated and will be removed in v5. Use the --report_to flag to control the integrations used for logging result (for instance --report_to none).\n",
      "/home/RDC/zinovyee.hub/.conda/envs/ensemble/lib/python3.10/site-packages/accelerate/accelerator.py:444: FutureWarning: Passing the following arguments to `Accelerator` is deprecated and will be removed in version 1.0 of Accelerate: dict_keys(['dispatch_batches', 'split_batches', 'even_batches', 'use_seedable_sampler']). Please pass an `accelerate.DataLoaderConfiguration` instead: \n",
      "dataloader_config = DataLoaderConfiguration(dispatch_batches=None, split_batches=False, even_batches=True, use_seedable_sampler=True)\n",
      "  warnings.warn(\n"
     ]
    },
    {
     "data": {
      "text/html": [
       "\n",
       "    <div>\n",
       "      \n",
       "      <progress value='112' max='112' style='width:300px; height:20px; vertical-align: middle;'></progress>\n",
       "      [112/112 01:19, Epoch 2/2]\n",
       "    </div>\n",
       "    <table border=\"1\" class=\"dataframe\">\n",
       "  <thead>\n",
       " <tr style=\"text-align: left;\">\n",
       "      <th>Epoch</th>\n",
       "      <th>Training Loss</th>\n",
       "      <th>Validation Loss</th>\n",
       "      <th>Rouge1</th>\n",
       "      <th>Rouge2</th>\n",
       "      <th>Rougel</th>\n",
       "      <th>Rougelsum</th>\n",
       "      <th>Gen Len</th>\n",
       "      <th>Bleu</th>\n",
       "      <th>Brevity Penalty</th>\n",
       "      <th>Length Ratio</th>\n",
       "      <th>Translation Length</th>\n",
       "      <th>Reference Length</th>\n",
       "    </tr>\n",
       "  </thead>\n",
       "  <tbody>\n",
       "    <tr>\n",
       "      <td>1</td>\n",
       "      <td>4.472500</td>\n",
       "      <td>4.122100</td>\n",
       "      <td>0.343900</td>\n",
       "      <td>0.097900</td>\n",
       "      <td>0.310000</td>\n",
       "      <td>0.310900</td>\n",
       "      <td>9.149500</td>\n",
       "      <td>0.024500</td>\n",
       "      <td>0.418800</td>\n",
       "      <td>0.534700</td>\n",
       "      <td>5259</td>\n",
       "      <td>9836</td>\n",
       "    </tr>\n",
       "    <tr>\n",
       "      <td>2</td>\n",
       "      <td>3.362200</td>\n",
       "      <td>3.661980</td>\n",
       "      <td>0.407500</td>\n",
       "      <td>0.153000</td>\n",
       "      <td>0.368300</td>\n",
       "      <td>0.369000</td>\n",
       "      <td>12.606000</td>\n",
       "      <td>0.125800</td>\n",
       "      <td>0.768100</td>\n",
       "      <td>0.791300</td>\n",
       "      <td>7783</td>\n",
       "      <td>9836</td>\n",
       "    </tr>\n",
       "  </tbody>\n",
       "</table><p>"
      ],
      "text/plain": [
       "<IPython.core.display.HTML object>"
      ]
     },
     "metadata": {},
     "output_type": "display_data"
    },
    {
     "name": "stderr",
     "output_type": "stream",
     "text": [
      "/home/RDC/zinovyee.hub/.conda/envs/ensemble/lib/python3.10/site-packages/transformers/utils/import_utils.py:616: FutureWarning: `torch._dynamo.external_utils.is_compiling` is deprecated. Use `torch.compiler.is_compiling` instead.\n",
      "  return dynamo.is_compiling()\n",
      "/home/RDC/zinovyee.hub/.conda/envs/ensemble/lib/python3.10/site-packages/transformers/generation/utils.py:1132: UserWarning: Using the model-agnostic default `max_length` (=20) to control the generation length. We recommend setting `max_new_tokens` to control the maximum length of the generation.\n",
      "  warnings.warn(\n"
     ]
    },
    {
     "name": "stdout",
     "output_type": "stream",
     "text": [
      "FOLDS IN RESULTS  dict_keys([0, 1])\n",
      "TRAINING EPOCH SET [7, 8]\n",
      "TRAINING EPOCHS 2\n",
      "Fold 1\n"
     ]
    },
    {
     "name": "stderr",
     "output_type": "stream",
     "text": [
      "Filter: 100%|██████████| 2379/2379 [00:00<00:00, 78314.22 examples/s]\n",
      "Filter: 100%|██████████| 2379/2379 [00:00<00:00, 69505.78 examples/s]\n",
      "Filter: 100%|██████████| 600/600 [00:00<00:00, 45687.10 examples/s]\n",
      "Filter: 100%|██████████| 600/600 [00:00<00:00, 50311.52 examples/s]\n",
      "Map: 100%|██████████| 600/600 [00:00<00:00, 2070.66 examples/s]\n",
      "Filter: 100%|██████████| 769/769 [00:00<00:00, 48794.59 examples/s]\n",
      "Filter: 100%|██████████| 769/769 [00:00<00:00, 53634.53 examples/s]\n",
      "Map: 100%|██████████| 769/769 [00:00<00:00, 2106.36 examples/s]\n",
      "/home/RDC/zinovyee.hub/.conda/envs/ensemble/lib/python3.10/site-packages/huggingface_hub/file_download.py:1132: FutureWarning: `resume_download` is deprecated and will be removed in version 1.0.0. Downloads always resume when possible. If you want to force a new download, use `force_download=True`.\n",
      "  warnings.warn(\n"
     ]
    },
    {
     "name": "stdout",
     "output_type": "stream",
     "text": [
      "LOADING MODEL Salesforce/codet5-base-multi-sum\n",
      "cuda\n"
     ]
    },
    {
     "name": "stderr",
     "output_type": "stream",
     "text": [
      "Using the `WANDB_DISABLED` environment variable is deprecated and will be removed in v5. Use the --report_to flag to control the integrations used for logging result (for instance --report_to none).\n",
      "/home/RDC/zinovyee.hub/.conda/envs/ensemble/lib/python3.10/site-packages/accelerate/accelerator.py:444: FutureWarning: Passing the following arguments to `Accelerator` is deprecated and will be removed in version 1.0 of Accelerate: dict_keys(['dispatch_batches', 'split_batches', 'even_batches', 'use_seedable_sampler']). Please pass an `accelerate.DataLoaderConfiguration` instead: \n",
      "dataloader_config = DataLoaderConfiguration(dispatch_batches=None, split_batches=False, even_batches=True, use_seedable_sampler=True)\n",
      "  warnings.warn(\n"
     ]
    },
    {
     "data": {
      "text/html": [
       "\n",
       "    <div>\n",
       "      \n",
       "      <progress value='300' max='300' style='width:300px; height:20px; vertical-align: middle;'></progress>\n",
       "      [300/300 01:52, Epoch 2/2]\n",
       "    </div>\n",
       "    <table border=\"1\" class=\"dataframe\">\n",
       "  <thead>\n",
       " <tr style=\"text-align: left;\">\n",
       "      <th>Epoch</th>\n",
       "      <th>Training Loss</th>\n",
       "      <th>Validation Loss</th>\n",
       "      <th>Rouge1</th>\n",
       "      <th>Rouge2</th>\n",
       "      <th>Rougel</th>\n",
       "      <th>Rougelsum</th>\n",
       "      <th>Gen Len</th>\n",
       "      <th>Bleu</th>\n",
       "      <th>Brevity Penalty</th>\n",
       "      <th>Length Ratio</th>\n",
       "      <th>Translation Length</th>\n",
       "      <th>Reference Length</th>\n",
       "    </tr>\n",
       "  </thead>\n",
       "  <tbody>\n",
       "    <tr>\n",
       "      <td>1</td>\n",
       "      <td>3.939700</td>\n",
       "      <td>3.505379</td>\n",
       "      <td>0.425800</td>\n",
       "      <td>0.177800</td>\n",
       "      <td>0.388900</td>\n",
       "      <td>0.390100</td>\n",
       "      <td>13.728200</td>\n",
       "      <td>0.172400</td>\n",
       "      <td>0.877500</td>\n",
       "      <td>0.884400</td>\n",
       "      <td>8699</td>\n",
       "      <td>9836</td>\n",
       "    </tr>\n",
       "    <tr>\n",
       "      <td>2</td>\n",
       "      <td>3.018700</td>\n",
       "      <td>3.455814</td>\n",
       "      <td>0.427300</td>\n",
       "      <td>0.178600</td>\n",
       "      <td>0.389600</td>\n",
       "      <td>0.389900</td>\n",
       "      <td>13.827000</td>\n",
       "      <td>0.173200</td>\n",
       "      <td>0.883400</td>\n",
       "      <td>0.889700</td>\n",
       "      <td>8751</td>\n",
       "      <td>9836</td>\n",
       "    </tr>\n",
       "  </tbody>\n",
       "</table><p>"
      ],
      "text/plain": [
       "<IPython.core.display.HTML object>"
      ]
     },
     "metadata": {},
     "output_type": "display_data"
    },
    {
     "name": "stderr",
     "output_type": "stream",
     "text": [
      "/home/RDC/zinovyee.hub/.conda/envs/ensemble/lib/python3.10/site-packages/transformers/utils/import_utils.py:616: FutureWarning: `torch._dynamo.external_utils.is_compiling` is deprecated. Use `torch.compiler.is_compiling` instead.\n",
      "  return dynamo.is_compiling()\n",
      "/home/RDC/zinovyee.hub/.conda/envs/ensemble/lib/python3.10/site-packages/transformers/generation/utils.py:1132: UserWarning: Using the model-agnostic default `max_length` (=20) to control the generation length. We recommend setting `max_new_tokens` to control the maximum length of the generation.\n",
      "  warnings.warn(\n"
     ]
    },
    {
     "name": "stdout",
     "output_type": "stream",
     "text": [
      "FOLDS IN RESULTS  dict_keys([0, 1])\n",
      "TRAINING EPOCH SET [4]\n",
      "TRAINING EPOCHS 2\n",
      "Fold 1\n"
     ]
    },
    {
     "name": "stderr",
     "output_type": "stream",
     "text": [
      "Filter: 100%|██████████| 2379/2379 [00:00<00:00, 76094.91 examples/s]\n",
      "Filter: 100%|██████████| 2379/2379 [00:00<00:00, 94963.11 examples/s]\n",
      "Filter: 100%|██████████| 40/40 [00:00<00:00, 11137.29 examples/s]\n",
      "Filter: 100%|██████████| 40/40 [00:00<00:00, 13400.33 examples/s]\n",
      "Map: 100%|██████████| 40/40 [00:00<00:00, 1739.96 examples/s]\n",
      "Filter: 100%|██████████| 769/769 [00:00<00:00, 48660.61 examples/s]\n",
      "Filter: 100%|██████████| 769/769 [00:00<00:00, 54571.01 examples/s]\n",
      "Map: 100%|██████████| 769/769 [00:00<00:00, 2094.76 examples/s]\n",
      "/home/RDC/zinovyee.hub/.conda/envs/ensemble/lib/python3.10/site-packages/huggingface_hub/file_download.py:1132: FutureWarning: `resume_download` is deprecated and will be removed in version 1.0.0. Downloads always resume when possible. If you want to force a new download, use `force_download=True`.\n",
      "  warnings.warn(\n"
     ]
    },
    {
     "name": "stdout",
     "output_type": "stream",
     "text": [
      "LOADING MODEL Salesforce/codet5-base-multi-sum\n",
      "cuda\n"
     ]
    },
    {
     "name": "stderr",
     "output_type": "stream",
     "text": [
      "Using the `WANDB_DISABLED` environment variable is deprecated and will be removed in v5. Use the --report_to flag to control the integrations used for logging result (for instance --report_to none).\n",
      "/home/RDC/zinovyee.hub/.conda/envs/ensemble/lib/python3.10/site-packages/accelerate/accelerator.py:444: FutureWarning: Passing the following arguments to `Accelerator` is deprecated and will be removed in version 1.0 of Accelerate: dict_keys(['dispatch_batches', 'split_batches', 'even_batches', 'use_seedable_sampler']). Please pass an `accelerate.DataLoaderConfiguration` instead: \n",
      "dataloader_config = DataLoaderConfiguration(dispatch_batches=None, split_batches=False, even_batches=True, use_seedable_sampler=True)\n",
      "  warnings.warn(\n"
     ]
    },
    {
     "data": {
      "text/html": [
       "\n",
       "    <div>\n",
       "      \n",
       "      <progress value='20' max='20' style='width:300px; height:20px; vertical-align: middle;'></progress>\n",
       "      [20/20 01:06, Epoch 2/2]\n",
       "    </div>\n",
       "    <table border=\"1\" class=\"dataframe\">\n",
       "  <thead>\n",
       " <tr style=\"text-align: left;\">\n",
       "      <th>Epoch</th>\n",
       "      <th>Training Loss</th>\n",
       "      <th>Validation Loss</th>\n",
       "      <th>Rouge1</th>\n",
       "      <th>Rouge2</th>\n",
       "      <th>Rougel</th>\n",
       "      <th>Rougelsum</th>\n",
       "      <th>Gen Len</th>\n",
       "      <th>Bleu</th>\n",
       "      <th>Brevity Penalty</th>\n",
       "      <th>Length Ratio</th>\n",
       "      <th>Translation Length</th>\n",
       "      <th>Reference Length</th>\n",
       "    </tr>\n",
       "  </thead>\n",
       "  <tbody>\n",
       "    <tr>\n",
       "      <td>1</td>\n",
       "      <td>5.450400</td>\n",
       "      <td>5.033880</td>\n",
       "      <td>0.323700</td>\n",
       "      <td>0.084200</td>\n",
       "      <td>0.284000</td>\n",
       "      <td>0.284600</td>\n",
       "      <td>10.066300</td>\n",
       "      <td>0.019500</td>\n",
       "      <td>0.517800</td>\n",
       "      <td>0.603100</td>\n",
       "      <td>5932</td>\n",
       "      <td>9836</td>\n",
       "    </tr>\n",
       "    <tr>\n",
       "      <td>2</td>\n",
       "      <td>5.205700</td>\n",
       "      <td>4.882424</td>\n",
       "      <td>0.325500</td>\n",
       "      <td>0.084200</td>\n",
       "      <td>0.285600</td>\n",
       "      <td>0.286500</td>\n",
       "      <td>10.189900</td>\n",
       "      <td>0.019900</td>\n",
       "      <td>0.530700</td>\n",
       "      <td>0.612100</td>\n",
       "      <td>6021</td>\n",
       "      <td>9836</td>\n",
       "    </tr>\n",
       "  </tbody>\n",
       "</table><p>"
      ],
      "text/plain": [
       "<IPython.core.display.HTML object>"
      ]
     },
     "metadata": {},
     "output_type": "display_data"
    },
    {
     "name": "stderr",
     "output_type": "stream",
     "text": [
      "/home/RDC/zinovyee.hub/.conda/envs/ensemble/lib/python3.10/site-packages/transformers/utils/import_utils.py:616: FutureWarning: `torch._dynamo.external_utils.is_compiling` is deprecated. Use `torch.compiler.is_compiling` instead.\n",
      "  return dynamo.is_compiling()\n",
      "/home/RDC/zinovyee.hub/.conda/envs/ensemble/lib/python3.10/site-packages/transformers/generation/utils.py:1132: UserWarning: Using the model-agnostic default `max_length` (=20) to control the generation length. We recommend setting `max_new_tokens` to control the maximum length of the generation.\n",
      "  warnings.warn(\n"
     ]
    },
    {
     "name": "stdout",
     "output_type": "stream",
     "text": [
      "FOLDS IN RESULTS  dict_keys([0, 1])\n",
      "TRAINING EPOCH SET [5]\n",
      "TRAINING EPOCHS 2\n",
      "Fold 1\n"
     ]
    },
    {
     "name": "stderr",
     "output_type": "stream",
     "text": [
      "Filter: 100%|██████████| 2379/2379 [00:00<00:00, 74874.68 examples/s]\n",
      "Filter: 100%|██████████| 2379/2379 [00:00<00:00, 93361.11 examples/s]\n",
      "Filter: 100%|██████████| 125/125 [00:00<00:00, 24191.95 examples/s]\n",
      "Filter: 100%|██████████| 125/125 [00:00<00:00, 29213.13 examples/s]\n",
      "Map: 100%|██████████| 125/125 [00:00<00:00, 2094.33 examples/s]\n",
      "Filter: 100%|██████████| 769/769 [00:00<00:00, 50716.54 examples/s]\n",
      "Filter: 100%|██████████| 769/769 [00:00<00:00, 55867.87 examples/s]\n",
      "Map: 100%|██████████| 769/769 [00:00<00:00, 2145.24 examples/s]\n",
      "/home/RDC/zinovyee.hub/.conda/envs/ensemble/lib/python3.10/site-packages/huggingface_hub/file_download.py:1132: FutureWarning: `resume_download` is deprecated and will be removed in version 1.0.0. Downloads always resume when possible. If you want to force a new download, use `force_download=True`.\n",
      "  warnings.warn(\n"
     ]
    },
    {
     "name": "stdout",
     "output_type": "stream",
     "text": [
      "LOADING MODEL Salesforce/codet5-base-multi-sum\n",
      "cuda\n"
     ]
    },
    {
     "name": "stderr",
     "output_type": "stream",
     "text": [
      "Using the `WANDB_DISABLED` environment variable is deprecated and will be removed in v5. Use the --report_to flag to control the integrations used for logging result (for instance --report_to none).\n",
      "/home/RDC/zinovyee.hub/.conda/envs/ensemble/lib/python3.10/site-packages/accelerate/accelerator.py:444: FutureWarning: Passing the following arguments to `Accelerator` is deprecated and will be removed in version 1.0 of Accelerate: dict_keys(['dispatch_batches', 'split_batches', 'even_batches', 'use_seedable_sampler']). Please pass an `accelerate.DataLoaderConfiguration` instead: \n",
      "dataloader_config = DataLoaderConfiguration(dispatch_batches=None, split_batches=False, even_batches=True, use_seedable_sampler=True)\n",
      "  warnings.warn(\n"
     ]
    },
    {
     "data": {
      "text/html": [
       "\n",
       "    <div>\n",
       "      \n",
       "      <progress value='64' max='64' style='width:300px; height:20px; vertical-align: middle;'></progress>\n",
       "      [64/64 01:10, Epoch 2/2]\n",
       "    </div>\n",
       "    <table border=\"1\" class=\"dataframe\">\n",
       "  <thead>\n",
       " <tr style=\"text-align: left;\">\n",
       "      <th>Epoch</th>\n",
       "      <th>Training Loss</th>\n",
       "      <th>Validation Loss</th>\n",
       "      <th>Rouge1</th>\n",
       "      <th>Rouge2</th>\n",
       "      <th>Rougel</th>\n",
       "      <th>Rougelsum</th>\n",
       "      <th>Gen Len</th>\n",
       "      <th>Bleu</th>\n",
       "      <th>Brevity Penalty</th>\n",
       "      <th>Length Ratio</th>\n",
       "      <th>Translation Length</th>\n",
       "      <th>Reference Length</th>\n",
       "    </tr>\n",
       "  </thead>\n",
       "  <tbody>\n",
       "    <tr>\n",
       "      <td>1</td>\n",
       "      <td>4.685800</td>\n",
       "      <td>4.667909</td>\n",
       "      <td>0.339300</td>\n",
       "      <td>0.087100</td>\n",
       "      <td>0.299600</td>\n",
       "      <td>0.300600</td>\n",
       "      <td>9.719100</td>\n",
       "      <td>0.020600</td>\n",
       "      <td>0.477000</td>\n",
       "      <td>0.574600</td>\n",
       "      <td>5652</td>\n",
       "      <td>9836</td>\n",
       "    </tr>\n",
       "    <tr>\n",
       "      <td>2</td>\n",
       "      <td>3.832000</td>\n",
       "      <td>4.113112</td>\n",
       "      <td>0.350000</td>\n",
       "      <td>0.107000</td>\n",
       "      <td>0.315400</td>\n",
       "      <td>0.316500</td>\n",
       "      <td>9.894700</td>\n",
       "      <td>0.031700</td>\n",
       "      <td>0.500000</td>\n",
       "      <td>0.590600</td>\n",
       "      <td>5809</td>\n",
       "      <td>9836</td>\n",
       "    </tr>\n",
       "  </tbody>\n",
       "</table><p>"
      ],
      "text/plain": [
       "<IPython.core.display.HTML object>"
      ]
     },
     "metadata": {},
     "output_type": "display_data"
    },
    {
     "name": "stderr",
     "output_type": "stream",
     "text": [
      "/home/RDC/zinovyee.hub/.conda/envs/ensemble/lib/python3.10/site-packages/transformers/utils/import_utils.py:616: FutureWarning: `torch._dynamo.external_utils.is_compiling` is deprecated. Use `torch.compiler.is_compiling` instead.\n",
      "  return dynamo.is_compiling()\n",
      "/home/RDC/zinovyee.hub/.conda/envs/ensemble/lib/python3.10/site-packages/transformers/generation/utils.py:1132: UserWarning: Using the model-agnostic default `max_length` (=20) to control the generation length. We recommend setting `max_new_tokens` to control the maximum length of the generation.\n",
      "  warnings.warn(\n"
     ]
    },
    {
     "name": "stdout",
     "output_type": "stream",
     "text": [
      "FOLDS IN RESULTS  dict_keys([0, 1])\n",
      "TRAINING EPOCH SET [1]\n",
      "TRAINING EPOCHS 2\n",
      "Fold 1\n"
     ]
    },
    {
     "name": "stderr",
     "output_type": "stream",
     "text": [
      "Filter: 100%|██████████| 2379/2379 [00:00<00:00, 79327.18 examples/s]\n",
      "Filter: 100%|██████████| 2379/2379 [00:00<00:00, 95366.09 examples/s]\n",
      "Filter: 100%|██████████| 199/199 [00:00<00:00, 31055.05 examples/s]\n",
      "Filter: 100%|██████████| 199/199 [00:00<00:00, 34853.29 examples/s]\n",
      "Map: 100%|██████████| 199/199 [00:00<00:00, 2037.32 examples/s]\n",
      "Filter: 100%|██████████| 769/769 [00:00<00:00, 48135.56 examples/s]\n",
      "Filter: 100%|██████████| 769/769 [00:00<00:00, 54373.23 examples/s]\n",
      "Map: 100%|██████████| 769/769 [00:00<00:00, 2107.98 examples/s]\n",
      "/home/RDC/zinovyee.hub/.conda/envs/ensemble/lib/python3.10/site-packages/huggingface_hub/file_download.py:1132: FutureWarning: `resume_download` is deprecated and will be removed in version 1.0.0. Downloads always resume when possible. If you want to force a new download, use `force_download=True`.\n",
      "  warnings.warn(\n"
     ]
    },
    {
     "name": "stdout",
     "output_type": "stream",
     "text": [
      "LOADING MODEL Salesforce/codet5-base-multi-sum\n",
      "cuda\n"
     ]
    },
    {
     "name": "stderr",
     "output_type": "stream",
     "text": [
      "Using the `WANDB_DISABLED` environment variable is deprecated and will be removed in v5. Use the --report_to flag to control the integrations used for logging result (for instance --report_to none).\n",
      "/home/RDC/zinovyee.hub/.conda/envs/ensemble/lib/python3.10/site-packages/accelerate/accelerator.py:444: FutureWarning: Passing the following arguments to `Accelerator` is deprecated and will be removed in version 1.0 of Accelerate: dict_keys(['dispatch_batches', 'split_batches', 'even_batches', 'use_seedable_sampler']). Please pass an `accelerate.DataLoaderConfiguration` instead: \n",
      "dataloader_config = DataLoaderConfiguration(dispatch_batches=None, split_batches=False, even_batches=True, use_seedable_sampler=True)\n",
      "  warnings.warn(\n"
     ]
    },
    {
     "data": {
      "text/html": [
       "\n",
       "    <div>\n",
       "      \n",
       "      <progress value='100' max='100' style='width:300px; height:20px; vertical-align: middle;'></progress>\n",
       "      [100/100 01:20, Epoch 2/2]\n",
       "    </div>\n",
       "    <table border=\"1\" class=\"dataframe\">\n",
       "  <thead>\n",
       " <tr style=\"text-align: left;\">\n",
       "      <th>Epoch</th>\n",
       "      <th>Training Loss</th>\n",
       "      <th>Validation Loss</th>\n",
       "      <th>Rouge1</th>\n",
       "      <th>Rouge2</th>\n",
       "      <th>Rougel</th>\n",
       "      <th>Rougelsum</th>\n",
       "      <th>Gen Len</th>\n",
       "      <th>Bleu</th>\n",
       "      <th>Brevity Penalty</th>\n",
       "      <th>Length Ratio</th>\n",
       "      <th>Translation Length</th>\n",
       "      <th>Reference Length</th>\n",
       "    </tr>\n",
       "  </thead>\n",
       "  <tbody>\n",
       "    <tr>\n",
       "      <td>1</td>\n",
       "      <td>4.751900</td>\n",
       "      <td>4.149573</td>\n",
       "      <td>0.350300</td>\n",
       "      <td>0.098500</td>\n",
       "      <td>0.311100</td>\n",
       "      <td>0.311500</td>\n",
       "      <td>10.041600</td>\n",
       "      <td>0.027800</td>\n",
       "      <td>0.523600</td>\n",
       "      <td>0.607200</td>\n",
       "      <td>5972</td>\n",
       "      <td>9836</td>\n",
       "    </tr>\n",
       "    <tr>\n",
       "      <td>2</td>\n",
       "      <td>3.488300</td>\n",
       "      <td>3.654356</td>\n",
       "      <td>0.402000</td>\n",
       "      <td>0.144900</td>\n",
       "      <td>0.365000</td>\n",
       "      <td>0.365100</td>\n",
       "      <td>12.369300</td>\n",
       "      <td>0.107500</td>\n",
       "      <td>0.751200</td>\n",
       "      <td>0.777600</td>\n",
       "      <td>7648</td>\n",
       "      <td>9836</td>\n",
       "    </tr>\n",
       "  </tbody>\n",
       "</table><p>"
      ],
      "text/plain": [
       "<IPython.core.display.HTML object>"
      ]
     },
     "metadata": {},
     "output_type": "display_data"
    },
    {
     "name": "stderr",
     "output_type": "stream",
     "text": [
      "/home/RDC/zinovyee.hub/.conda/envs/ensemble/lib/python3.10/site-packages/transformers/utils/import_utils.py:616: FutureWarning: `torch._dynamo.external_utils.is_compiling` is deprecated. Use `torch.compiler.is_compiling` instead.\n",
      "  return dynamo.is_compiling()\n",
      "/home/RDC/zinovyee.hub/.conda/envs/ensemble/lib/python3.10/site-packages/transformers/generation/utils.py:1132: UserWarning: Using the model-agnostic default `max_length` (=20) to control the generation length. We recommend setting `max_new_tokens` to control the maximum length of the generation.\n",
      "  warnings.warn(\n"
     ]
    },
    {
     "name": "stdout",
     "output_type": "stream",
     "text": [
      "FOLDS IN RESULTS  dict_keys([0, 1])\n",
      "TRAINING EPOCH SET [1, 2]\n",
      "TRAINING EPOCHS 2\n",
      "Fold 2\n"
     ]
    },
    {
     "name": "stderr",
     "output_type": "stream",
     "text": [
      "Filter: 100%|██████████| 2379/2379 [00:00<00:00, 81440.47 examples/s]\n",
      "Filter: 100%|██████████| 2379/2379 [00:00<00:00, 95528.60 examples/s]\n",
      "Filter: 100%|██████████| 245/245 [00:00<00:00, 35525.29 examples/s]\n",
      "Filter: 100%|██████████| 245/245 [00:00<00:00, 38429.49 examples/s]\n",
      "Map: 100%|██████████| 245/245 [00:00<00:00, 2044.84 examples/s]\n",
      "Filter: 100%|██████████| 811/811 [00:00<00:00, 50569.09 examples/s]\n",
      "Filter: 100%|██████████| 811/811 [00:00<00:00, 55412.07 examples/s]\n",
      "Map: 100%|██████████| 811/811 [00:00<00:00, 2169.12 examples/s]\n",
      "/home/RDC/zinovyee.hub/.conda/envs/ensemble/lib/python3.10/site-packages/huggingface_hub/file_download.py:1132: FutureWarning: `resume_download` is deprecated and will be removed in version 1.0.0. Downloads always resume when possible. If you want to force a new download, use `force_download=True`.\n",
      "  warnings.warn(\n"
     ]
    },
    {
     "name": "stdout",
     "output_type": "stream",
     "text": [
      "LOADING MODEL Salesforce/codet5-base-multi-sum\n",
      "cuda\n"
     ]
    },
    {
     "name": "stderr",
     "output_type": "stream",
     "text": [
      "Using the `WANDB_DISABLED` environment variable is deprecated and will be removed in v5. Use the --report_to flag to control the integrations used for logging result (for instance --report_to none).\n",
      "/home/RDC/zinovyee.hub/.conda/envs/ensemble/lib/python3.10/site-packages/accelerate/accelerator.py:444: FutureWarning: Passing the following arguments to `Accelerator` is deprecated and will be removed in version 1.0 of Accelerate: dict_keys(['dispatch_batches', 'split_batches', 'even_batches', 'use_seedable_sampler']). Please pass an `accelerate.DataLoaderConfiguration` instead: \n",
      "dataloader_config = DataLoaderConfiguration(dispatch_batches=None, split_batches=False, even_batches=True, use_seedable_sampler=True)\n",
      "  warnings.warn(\n"
     ]
    },
    {
     "data": {
      "text/html": [
       "\n",
       "    <div>\n",
       "      \n",
       "      <progress value='124' max='124' style='width:300px; height:20px; vertical-align: middle;'></progress>\n",
       "      [124/124 01:31, Epoch 2/2]\n",
       "    </div>\n",
       "    <table border=\"1\" class=\"dataframe\">\n",
       "  <thead>\n",
       " <tr style=\"text-align: left;\">\n",
       "      <th>Epoch</th>\n",
       "      <th>Training Loss</th>\n",
       "      <th>Validation Loss</th>\n",
       "      <th>Rouge1</th>\n",
       "      <th>Rouge2</th>\n",
       "      <th>Rougel</th>\n",
       "      <th>Rougelsum</th>\n",
       "      <th>Gen Len</th>\n",
       "      <th>Bleu</th>\n",
       "      <th>Brevity Penalty</th>\n",
       "      <th>Length Ratio</th>\n",
       "      <th>Translation Length</th>\n",
       "      <th>Reference Length</th>\n",
       "    </tr>\n",
       "  </thead>\n",
       "  <tbody>\n",
       "    <tr>\n",
       "      <td>1</td>\n",
       "      <td>4.590200</td>\n",
       "      <td>3.862168</td>\n",
       "      <td>0.378100</td>\n",
       "      <td>0.118900</td>\n",
       "      <td>0.340200</td>\n",
       "      <td>0.339800</td>\n",
       "      <td>10.524000</td>\n",
       "      <td>0.037300</td>\n",
       "      <td>0.593700</td>\n",
       "      <td>0.657300</td>\n",
       "      <td>6716</td>\n",
       "      <td>10218</td>\n",
       "    </tr>\n",
       "    <tr>\n",
       "      <td>2</td>\n",
       "      <td>3.408500</td>\n",
       "      <td>3.535324</td>\n",
       "      <td>0.420800</td>\n",
       "      <td>0.162100</td>\n",
       "      <td>0.376700</td>\n",
       "      <td>0.376500</td>\n",
       "      <td>13.986400</td>\n",
       "      <td>0.145200</td>\n",
       "      <td>0.913600</td>\n",
       "      <td>0.917100</td>\n",
       "      <td>9371</td>\n",
       "      <td>10218</td>\n",
       "    </tr>\n",
       "  </tbody>\n",
       "</table><p>"
      ],
      "text/plain": [
       "<IPython.core.display.HTML object>"
      ]
     },
     "metadata": {},
     "output_type": "display_data"
    },
    {
     "name": "stderr",
     "output_type": "stream",
     "text": [
      "/home/RDC/zinovyee.hub/.conda/envs/ensemble/lib/python3.10/site-packages/transformers/utils/import_utils.py:616: FutureWarning: `torch._dynamo.external_utils.is_compiling` is deprecated. Use `torch.compiler.is_compiling` instead.\n",
      "  return dynamo.is_compiling()\n",
      "/home/RDC/zinovyee.hub/.conda/envs/ensemble/lib/python3.10/site-packages/transformers/generation/utils.py:1132: UserWarning: Using the model-agnostic default `max_length` (=20) to control the generation length. We recommend setting `max_new_tokens` to control the maximum length of the generation.\n",
      "  warnings.warn(\n"
     ]
    },
    {
     "name": "stdout",
     "output_type": "stream",
     "text": [
      "FOLDS IN RESULTS  dict_keys([0, 1, 2])\n",
      "TRAINING EPOCH SET [3, 4]\n",
      "TRAINING EPOCHS 2\n",
      "Fold 2\n"
     ]
    },
    {
     "name": "stderr",
     "output_type": "stream",
     "text": [
      "Filter: 100%|██████████| 2379/2379 [00:00<00:00, 75910.24 examples/s]\n",
      "Filter: 100%|██████████| 2379/2379 [00:00<00:00, 94509.79 examples/s]\n",
      "Filter: 100%|██████████| 234/234 [00:00<00:00, 36205.81 examples/s]\n",
      "Filter: 100%|██████████| 234/234 [00:00<00:00, 38192.35 examples/s]\n",
      "Map: 100%|██████████| 234/234 [00:00<00:00, 1958.47 examples/s]\n",
      "Filter: 100%|██████████| 811/811 [00:00<00:00, 51077.08 examples/s]\n",
      "Filter: 100%|██████████| 811/811 [00:00<00:00, 54471.48 examples/s]\n",
      "Map: 100%|██████████| 811/811 [00:00<00:00, 2096.32 examples/s]\n",
      "/home/RDC/zinovyee.hub/.conda/envs/ensemble/lib/python3.10/site-packages/huggingface_hub/file_download.py:1132: FutureWarning: `resume_download` is deprecated and will be removed in version 1.0.0. Downloads always resume when possible. If you want to force a new download, use `force_download=True`.\n",
      "  warnings.warn(\n"
     ]
    },
    {
     "name": "stdout",
     "output_type": "stream",
     "text": [
      "LOADING MODEL Salesforce/codet5-base-multi-sum\n",
      "cuda\n"
     ]
    },
    {
     "name": "stderr",
     "output_type": "stream",
     "text": [
      "Using the `WANDB_DISABLED` environment variable is deprecated and will be removed in v5. Use the --report_to flag to control the integrations used for logging result (for instance --report_to none).\n",
      "/home/RDC/zinovyee.hub/.conda/envs/ensemble/lib/python3.10/site-packages/accelerate/accelerator.py:444: FutureWarning: Passing the following arguments to `Accelerator` is deprecated and will be removed in version 1.0 of Accelerate: dict_keys(['dispatch_batches', 'split_batches', 'even_batches', 'use_seedable_sampler']). Please pass an `accelerate.DataLoaderConfiguration` instead: \n",
      "dataloader_config = DataLoaderConfiguration(dispatch_batches=None, split_batches=False, even_batches=True, use_seedable_sampler=True)\n",
      "  warnings.warn(\n"
     ]
    },
    {
     "data": {
      "text/html": [
       "\n",
       "    <div>\n",
       "      \n",
       "      <progress value='118' max='118' style='width:300px; height:20px; vertical-align: middle;'></progress>\n",
       "      [118/118 01:25, Epoch 2/2]\n",
       "    </div>\n",
       "    <table border=\"1\" class=\"dataframe\">\n",
       "  <thead>\n",
       " <tr style=\"text-align: left;\">\n",
       "      <th>Epoch</th>\n",
       "      <th>Training Loss</th>\n",
       "      <th>Validation Loss</th>\n",
       "      <th>Rouge1</th>\n",
       "      <th>Rouge2</th>\n",
       "      <th>Rougel</th>\n",
       "      <th>Rougelsum</th>\n",
       "      <th>Gen Len</th>\n",
       "      <th>Bleu</th>\n",
       "      <th>Brevity Penalty</th>\n",
       "      <th>Length Ratio</th>\n",
       "      <th>Translation Length</th>\n",
       "      <th>Reference Length</th>\n",
       "    </tr>\n",
       "  </thead>\n",
       "  <tbody>\n",
       "    <tr>\n",
       "      <td>1</td>\n",
       "      <td>4.855000</td>\n",
       "      <td>4.006180</td>\n",
       "      <td>0.351800</td>\n",
       "      <td>0.104600</td>\n",
       "      <td>0.318100</td>\n",
       "      <td>0.318200</td>\n",
       "      <td>9.455000</td>\n",
       "      <td>0.028100</td>\n",
       "      <td>0.447700</td>\n",
       "      <td>0.554400</td>\n",
       "      <td>5665</td>\n",
       "      <td>10218</td>\n",
       "    </tr>\n",
       "    <tr>\n",
       "      <td>2</td>\n",
       "      <td>3.656700</td>\n",
       "      <td>3.587981</td>\n",
       "      <td>0.407700</td>\n",
       "      <td>0.148900</td>\n",
       "      <td>0.368100</td>\n",
       "      <td>0.368500</td>\n",
       "      <td>11.789100</td>\n",
       "      <td>0.102200</td>\n",
       "      <td>0.702200</td>\n",
       "      <td>0.738800</td>\n",
       "      <td>7549</td>\n",
       "      <td>10218</td>\n",
       "    </tr>\n",
       "  </tbody>\n",
       "</table><p>"
      ],
      "text/plain": [
       "<IPython.core.display.HTML object>"
      ]
     },
     "metadata": {},
     "output_type": "display_data"
    },
    {
     "name": "stderr",
     "output_type": "stream",
     "text": [
      "/home/RDC/zinovyee.hub/.conda/envs/ensemble/lib/python3.10/site-packages/transformers/utils/import_utils.py:616: FutureWarning: `torch._dynamo.external_utils.is_compiling` is deprecated. Use `torch.compiler.is_compiling` instead.\n",
      "  return dynamo.is_compiling()\n",
      "/home/RDC/zinovyee.hub/.conda/envs/ensemble/lib/python3.10/site-packages/transformers/generation/utils.py:1132: UserWarning: Using the model-agnostic default `max_length` (=20) to control the generation length. We recommend setting `max_new_tokens` to control the maximum length of the generation.\n",
      "  warnings.warn(\n"
     ]
    },
    {
     "name": "stdout",
     "output_type": "stream",
     "text": [
      "FOLDS IN RESULTS  dict_keys([0, 1, 2])\n",
      "TRAINING EPOCH SET [5, 6]\n",
      "TRAINING EPOCHS 2\n",
      "Fold 2\n"
     ]
    },
    {
     "name": "stderr",
     "output_type": "stream",
     "text": [
      "Filter: 100%|██████████| 2379/2379 [00:00<00:00, 75813.92 examples/s]\n",
      "Filter: 100%|██████████| 2379/2379 [00:00<00:00, 95272.30 examples/s]\n",
      "Filter: 100%|██████████| 222/222 [00:00<00:00, 34277.03 examples/s]\n",
      "Filter: 100%|██████████| 222/222 [00:00<00:00, 37550.33 examples/s]\n",
      "Map: 100%|██████████| 222/222 [00:00<00:00, 2086.84 examples/s]\n",
      "Filter: 100%|██████████| 811/811 [00:00<00:00, 50366.18 examples/s]\n",
      "Filter: 100%|██████████| 811/811 [00:00<00:00, 54947.51 examples/s]\n",
      "Map: 100%|██████████| 811/811 [00:00<00:00, 2151.77 examples/s]\n",
      "/home/RDC/zinovyee.hub/.conda/envs/ensemble/lib/python3.10/site-packages/huggingface_hub/file_download.py:1132: FutureWarning: `resume_download` is deprecated and will be removed in version 1.0.0. Downloads always resume when possible. If you want to force a new download, use `force_download=True`.\n",
      "  warnings.warn(\n"
     ]
    },
    {
     "name": "stdout",
     "output_type": "stream",
     "text": [
      "LOADING MODEL Salesforce/codet5-base-multi-sum\n",
      "cuda\n"
     ]
    },
    {
     "name": "stderr",
     "output_type": "stream",
     "text": [
      "Using the `WANDB_DISABLED` environment variable is deprecated and will be removed in v5. Use the --report_to flag to control the integrations used for logging result (for instance --report_to none).\n",
      "/home/RDC/zinovyee.hub/.conda/envs/ensemble/lib/python3.10/site-packages/accelerate/accelerator.py:444: FutureWarning: Passing the following arguments to `Accelerator` is deprecated and will be removed in version 1.0 of Accelerate: dict_keys(['dispatch_batches', 'split_batches', 'even_batches', 'use_seedable_sampler']). Please pass an `accelerate.DataLoaderConfiguration` instead: \n",
      "dataloader_config = DataLoaderConfiguration(dispatch_batches=None, split_batches=False, even_batches=True, use_seedable_sampler=True)\n",
      "  warnings.warn(\n"
     ]
    },
    {
     "data": {
      "text/html": [
       "\n",
       "    <div>\n",
       "      \n",
       "      <progress value='112' max='112' style='width:300px; height:20px; vertical-align: middle;'></progress>\n",
       "      [112/112 01:23, Epoch 2/2]\n",
       "    </div>\n",
       "    <table border=\"1\" class=\"dataframe\">\n",
       "  <thead>\n",
       " <tr style=\"text-align: left;\">\n",
       "      <th>Epoch</th>\n",
       "      <th>Training Loss</th>\n",
       "      <th>Validation Loss</th>\n",
       "      <th>Rouge1</th>\n",
       "      <th>Rouge2</th>\n",
       "      <th>Rougel</th>\n",
       "      <th>Rougelsum</th>\n",
       "      <th>Gen Len</th>\n",
       "      <th>Bleu</th>\n",
       "      <th>Brevity Penalty</th>\n",
       "      <th>Length Ratio</th>\n",
       "      <th>Translation Length</th>\n",
       "      <th>Reference Length</th>\n",
       "    </tr>\n",
       "  </thead>\n",
       "  <tbody>\n",
       "    <tr>\n",
       "      <td>1</td>\n",
       "      <td>4.610200</td>\n",
       "      <td>4.065082</td>\n",
       "      <td>0.344100</td>\n",
       "      <td>0.101000</td>\n",
       "      <td>0.314200</td>\n",
       "      <td>0.314000</td>\n",
       "      <td>9.357600</td>\n",
       "      <td>0.029000</td>\n",
       "      <td>0.452900</td>\n",
       "      <td>0.558000</td>\n",
       "      <td>5702</td>\n",
       "      <td>10218</td>\n",
       "    </tr>\n",
       "    <tr>\n",
       "      <td>2</td>\n",
       "      <td>3.489200</td>\n",
       "      <td>3.638640</td>\n",
       "      <td>0.395500</td>\n",
       "      <td>0.147400</td>\n",
       "      <td>0.359600</td>\n",
       "      <td>0.359800</td>\n",
       "      <td>11.794100</td>\n",
       "      <td>0.117700</td>\n",
       "      <td>0.714000</td>\n",
       "      <td>0.748000</td>\n",
       "      <td>7643</td>\n",
       "      <td>10218</td>\n",
       "    </tr>\n",
       "  </tbody>\n",
       "</table><p>"
      ],
      "text/plain": [
       "<IPython.core.display.HTML object>"
      ]
     },
     "metadata": {},
     "output_type": "display_data"
    },
    {
     "name": "stderr",
     "output_type": "stream",
     "text": [
      "/home/RDC/zinovyee.hub/.conda/envs/ensemble/lib/python3.10/site-packages/transformers/utils/import_utils.py:616: FutureWarning: `torch._dynamo.external_utils.is_compiling` is deprecated. Use `torch.compiler.is_compiling` instead.\n",
      "  return dynamo.is_compiling()\n",
      "/home/RDC/zinovyee.hub/.conda/envs/ensemble/lib/python3.10/site-packages/transformers/generation/utils.py:1132: UserWarning: Using the model-agnostic default `max_length` (=20) to control the generation length. We recommend setting `max_new_tokens` to control the maximum length of the generation.\n",
      "  warnings.warn(\n"
     ]
    },
    {
     "name": "stdout",
     "output_type": "stream",
     "text": [
      "FOLDS IN RESULTS  dict_keys([0, 1, 2])\n",
      "TRAINING EPOCH SET [7, 8]\n",
      "TRAINING EPOCHS 2\n",
      "Fold 2\n"
     ]
    },
    {
     "name": "stderr",
     "output_type": "stream",
     "text": [
      "Filter: 100%|██████████| 2379/2379 [00:00<00:00, 76689.69 examples/s]\n",
      "Filter: 100%|██████████| 2379/2379 [00:00<00:00, 96778.49 examples/s]\n",
      "Filter: 100%|██████████| 560/560 [00:00<00:00, 45662.94 examples/s]\n",
      "Filter: 100%|██████████| 560/560 [00:00<00:00, 52236.41 examples/s]\n",
      "Map: 100%|██████████| 560/560 [00:00<00:00, 2144.49 examples/s]\n",
      "Filter: 100%|██████████| 811/811 [00:00<00:00, 52278.12 examples/s]\n",
      "Filter: 100%|██████████| 811/811 [00:00<00:00, 57330.33 examples/s]\n",
      "Map: 100%|██████████| 811/811 [00:00<00:00, 2182.59 examples/s]\n",
      "/home/RDC/zinovyee.hub/.conda/envs/ensemble/lib/python3.10/site-packages/huggingface_hub/file_download.py:1132: FutureWarning: `resume_download` is deprecated and will be removed in version 1.0.0. Downloads always resume when possible. If you want to force a new download, use `force_download=True`.\n",
      "  warnings.warn(\n"
     ]
    },
    {
     "name": "stdout",
     "output_type": "stream",
     "text": [
      "LOADING MODEL Salesforce/codet5-base-multi-sum\n",
      "cuda\n"
     ]
    },
    {
     "name": "stderr",
     "output_type": "stream",
     "text": [
      "Using the `WANDB_DISABLED` environment variable is deprecated and will be removed in v5. Use the --report_to flag to control the integrations used for logging result (for instance --report_to none).\n",
      "/home/RDC/zinovyee.hub/.conda/envs/ensemble/lib/python3.10/site-packages/accelerate/accelerator.py:444: FutureWarning: Passing the following arguments to `Accelerator` is deprecated and will be removed in version 1.0 of Accelerate: dict_keys(['dispatch_batches', 'split_batches', 'even_batches', 'use_seedable_sampler']). Please pass an `accelerate.DataLoaderConfiguration` instead: \n",
      "dataloader_config = DataLoaderConfiguration(dispatch_batches=None, split_batches=False, even_batches=True, use_seedable_sampler=True)\n",
      "  warnings.warn(\n"
     ]
    },
    {
     "data": {
      "text/html": [
       "\n",
       "    <div>\n",
       "      \n",
       "      <progress value='280' max='280' style='width:300px; height:20px; vertical-align: middle;'></progress>\n",
       "      [280/280 01:54, Epoch 2/2]\n",
       "    </div>\n",
       "    <table border=\"1\" class=\"dataframe\">\n",
       "  <thead>\n",
       " <tr style=\"text-align: left;\">\n",
       "      <th>Epoch</th>\n",
       "      <th>Training Loss</th>\n",
       "      <th>Validation Loss</th>\n",
       "      <th>Rouge1</th>\n",
       "      <th>Rouge2</th>\n",
       "      <th>Rougel</th>\n",
       "      <th>Rougelsum</th>\n",
       "      <th>Gen Len</th>\n",
       "      <th>Bleu</th>\n",
       "      <th>Brevity Penalty</th>\n",
       "      <th>Length Ratio</th>\n",
       "      <th>Translation Length</th>\n",
       "      <th>Reference Length</th>\n",
       "    </tr>\n",
       "  </thead>\n",
       "  <tbody>\n",
       "    <tr>\n",
       "      <td>1</td>\n",
       "      <td>4.001300</td>\n",
       "      <td>3.446780</td>\n",
       "      <td>0.430100</td>\n",
       "      <td>0.179800</td>\n",
       "      <td>0.391500</td>\n",
       "      <td>0.391400</td>\n",
       "      <td>13.797800</td>\n",
       "      <td>0.175200</td>\n",
       "      <td>0.905300</td>\n",
       "      <td>0.909500</td>\n",
       "      <td>9293</td>\n",
       "      <td>10218</td>\n",
       "    </tr>\n",
       "    <tr>\n",
       "      <td>2</td>\n",
       "      <td>3.078300</td>\n",
       "      <td>3.382052</td>\n",
       "      <td>0.438400</td>\n",
       "      <td>0.189500</td>\n",
       "      <td>0.398800</td>\n",
       "      <td>0.398400</td>\n",
       "      <td>14.027100</td>\n",
       "      <td>0.181800</td>\n",
       "      <td>0.920200</td>\n",
       "      <td>0.923200</td>\n",
       "      <td>9433</td>\n",
       "      <td>10218</td>\n",
       "    </tr>\n",
       "  </tbody>\n",
       "</table><p>"
      ],
      "text/plain": [
       "<IPython.core.display.HTML object>"
      ]
     },
     "metadata": {},
     "output_type": "display_data"
    },
    {
     "name": "stderr",
     "output_type": "stream",
     "text": [
      "/home/RDC/zinovyee.hub/.conda/envs/ensemble/lib/python3.10/site-packages/transformers/utils/import_utils.py:616: FutureWarning: `torch._dynamo.external_utils.is_compiling` is deprecated. Use `torch.compiler.is_compiling` instead.\n",
      "  return dynamo.is_compiling()\n",
      "/home/RDC/zinovyee.hub/.conda/envs/ensemble/lib/python3.10/site-packages/transformers/generation/utils.py:1132: UserWarning: Using the model-agnostic default `max_length` (=20) to control the generation length. We recommend setting `max_new_tokens` to control the maximum length of the generation.\n",
      "  warnings.warn(\n"
     ]
    },
    {
     "name": "stdout",
     "output_type": "stream",
     "text": [
      "FOLDS IN RESULTS  dict_keys([0, 1, 2])\n",
      "TRAINING EPOCH SET [4]\n",
      "TRAINING EPOCHS 2\n",
      "Fold 2\n"
     ]
    },
    {
     "name": "stderr",
     "output_type": "stream",
     "text": [
      "Filter: 100%|██████████| 2379/2379 [00:00<00:00, 79721.40 examples/s]\n",
      "Filter: 100%|██████████| 2379/2379 [00:00<00:00, 95557.88 examples/s]\n",
      "Filter: 100%|██████████| 48/48 [00:00<00:00, 12428.33 examples/s]\n",
      "Filter: 100%|██████████| 48/48 [00:00<00:00, 14370.21 examples/s]\n",
      "Map: 100%|██████████| 48/48 [00:00<00:00, 1810.21 examples/s]\n",
      "Filter: 100%|██████████| 811/811 [00:00<00:00, 49864.85 examples/s]\n",
      "Filter: 100%|██████████| 811/811 [00:00<00:00, 53959.08 examples/s]\n",
      "Map: 100%|██████████| 811/811 [00:00<00:00, 2068.38 examples/s]\n",
      "/home/RDC/zinovyee.hub/.conda/envs/ensemble/lib/python3.10/site-packages/huggingface_hub/file_download.py:1132: FutureWarning: `resume_download` is deprecated and will be removed in version 1.0.0. Downloads always resume when possible. If you want to force a new download, use `force_download=True`.\n",
      "  warnings.warn(\n"
     ]
    },
    {
     "name": "stdout",
     "output_type": "stream",
     "text": [
      "LOADING MODEL Salesforce/codet5-base-multi-sum\n",
      "cuda\n"
     ]
    },
    {
     "name": "stderr",
     "output_type": "stream",
     "text": [
      "Using the `WANDB_DISABLED` environment variable is deprecated and will be removed in v5. Use the --report_to flag to control the integrations used for logging result (for instance --report_to none).\n",
      "/home/RDC/zinovyee.hub/.conda/envs/ensemble/lib/python3.10/site-packages/accelerate/accelerator.py:444: FutureWarning: Passing the following arguments to `Accelerator` is deprecated and will be removed in version 1.0 of Accelerate: dict_keys(['dispatch_batches', 'split_batches', 'even_batches', 'use_seedable_sampler']). Please pass an `accelerate.DataLoaderConfiguration` instead: \n",
      "dataloader_config = DataLoaderConfiguration(dispatch_batches=None, split_batches=False, even_batches=True, use_seedable_sampler=True)\n",
      "  warnings.warn(\n"
     ]
    },
    {
     "data": {
      "text/html": [
       "\n",
       "    <div>\n",
       "      \n",
       "      <progress value='24' max='24' style='width:300px; height:20px; vertical-align: middle;'></progress>\n",
       "      [24/24 01:10, Epoch 2/2]\n",
       "    </div>\n",
       "    <table border=\"1\" class=\"dataframe\">\n",
       "  <thead>\n",
       " <tr style=\"text-align: left;\">\n",
       "      <th>Epoch</th>\n",
       "      <th>Training Loss</th>\n",
       "      <th>Validation Loss</th>\n",
       "      <th>Rouge1</th>\n",
       "      <th>Rouge2</th>\n",
       "      <th>Rougel</th>\n",
       "      <th>Rougelsum</th>\n",
       "      <th>Gen Len</th>\n",
       "      <th>Bleu</th>\n",
       "      <th>Brevity Penalty</th>\n",
       "      <th>Length Ratio</th>\n",
       "      <th>Translation Length</th>\n",
       "      <th>Reference Length</th>\n",
       "    </tr>\n",
       "  </thead>\n",
       "  <tbody>\n",
       "    <tr>\n",
       "      <td>1</td>\n",
       "      <td>5.325100</td>\n",
       "      <td>4.953931</td>\n",
       "      <td>0.311100</td>\n",
       "      <td>0.077900</td>\n",
       "      <td>0.274800</td>\n",
       "      <td>0.276000</td>\n",
       "      <td>10.131900</td>\n",
       "      <td>0.021900</td>\n",
       "      <td>0.544000</td>\n",
       "      <td>0.621600</td>\n",
       "      <td>6351</td>\n",
       "      <td>10218</td>\n",
       "    </tr>\n",
       "    <tr>\n",
       "      <td>2</td>\n",
       "      <td>5.100400</td>\n",
       "      <td>4.755752</td>\n",
       "      <td>0.310400</td>\n",
       "      <td>0.078200</td>\n",
       "      <td>0.277300</td>\n",
       "      <td>0.278200</td>\n",
       "      <td>10.202200</td>\n",
       "      <td>0.020800</td>\n",
       "      <td>0.546300</td>\n",
       "      <td>0.623200</td>\n",
       "      <td>6368</td>\n",
       "      <td>10218</td>\n",
       "    </tr>\n",
       "  </tbody>\n",
       "</table><p>"
      ],
      "text/plain": [
       "<IPython.core.display.HTML object>"
      ]
     },
     "metadata": {},
     "output_type": "display_data"
    },
    {
     "name": "stderr",
     "output_type": "stream",
     "text": [
      "/home/RDC/zinovyee.hub/.conda/envs/ensemble/lib/python3.10/site-packages/transformers/utils/import_utils.py:616: FutureWarning: `torch._dynamo.external_utils.is_compiling` is deprecated. Use `torch.compiler.is_compiling` instead.\n",
      "  return dynamo.is_compiling()\n",
      "/home/RDC/zinovyee.hub/.conda/envs/ensemble/lib/python3.10/site-packages/transformers/generation/utils.py:1132: UserWarning: Using the model-agnostic default `max_length` (=20) to control the generation length. We recommend setting `max_new_tokens` to control the maximum length of the generation.\n",
      "  warnings.warn(\n"
     ]
    },
    {
     "name": "stdout",
     "output_type": "stream",
     "text": [
      "FOLDS IN RESULTS  dict_keys([0, 1, 2])\n",
      "TRAINING EPOCH SET [5]\n",
      "TRAINING EPOCHS 2\n",
      "Fold 2\n"
     ]
    },
    {
     "name": "stderr",
     "output_type": "stream",
     "text": [
      "Filter: 100%|██████████| 2379/2379 [00:00<00:00, 78223.97 examples/s]\n",
      "Filter: 100%|██████████| 2379/2379 [00:00<00:00, 95582.59 examples/s]\n",
      "Filter: 100%|██████████| 122/122 [00:00<00:00, 24923.53 examples/s]\n",
      "Filter: 100%|██████████| 122/122 [00:00<00:00, 27652.26 examples/s]\n",
      "Map: 100%|██████████| 122/122 [00:00<00:00, 2009.59 examples/s]\n",
      "Filter: 100%|██████████| 811/811 [00:00<00:00, 48963.33 examples/s]\n",
      "Filter: 100%|██████████| 811/811 [00:00<00:00, 54821.76 examples/s]\n",
      "Map: 100%|██████████| 811/811 [00:00<00:00, 2078.16 examples/s]\n",
      "/home/RDC/zinovyee.hub/.conda/envs/ensemble/lib/python3.10/site-packages/huggingface_hub/file_download.py:1132: FutureWarning: `resume_download` is deprecated and will be removed in version 1.0.0. Downloads always resume when possible. If you want to force a new download, use `force_download=True`.\n",
      "  warnings.warn(\n"
     ]
    },
    {
     "name": "stdout",
     "output_type": "stream",
     "text": [
      "LOADING MODEL Salesforce/codet5-base-multi-sum\n",
      "cuda\n"
     ]
    },
    {
     "name": "stderr",
     "output_type": "stream",
     "text": [
      "Using the `WANDB_DISABLED` environment variable is deprecated and will be removed in v5. Use the --report_to flag to control the integrations used for logging result (for instance --report_to none).\n",
      "/home/RDC/zinovyee.hub/.conda/envs/ensemble/lib/python3.10/site-packages/accelerate/accelerator.py:444: FutureWarning: Passing the following arguments to `Accelerator` is deprecated and will be removed in version 1.0 of Accelerate: dict_keys(['dispatch_batches', 'split_batches', 'even_batches', 'use_seedable_sampler']). Please pass an `accelerate.DataLoaderConfiguration` instead: \n",
      "dataloader_config = DataLoaderConfiguration(dispatch_batches=None, split_batches=False, even_batches=True, use_seedable_sampler=True)\n",
      "  warnings.warn(\n"
     ]
    },
    {
     "data": {
      "text/html": [
       "\n",
       "    <div>\n",
       "      \n",
       "      <progress value='62' max='62' style='width:300px; height:20px; vertical-align: middle;'></progress>\n",
       "      [62/62 01:13, Epoch 2/2]\n",
       "    </div>\n",
       "    <table border=\"1\" class=\"dataframe\">\n",
       "  <thead>\n",
       " <tr style=\"text-align: left;\">\n",
       "      <th>Epoch</th>\n",
       "      <th>Training Loss</th>\n",
       "      <th>Validation Loss</th>\n",
       "      <th>Rouge1</th>\n",
       "      <th>Rouge2</th>\n",
       "      <th>Rougel</th>\n",
       "      <th>Rougelsum</th>\n",
       "      <th>Gen Len</th>\n",
       "      <th>Bleu</th>\n",
       "      <th>Brevity Penalty</th>\n",
       "      <th>Length Ratio</th>\n",
       "      <th>Translation Length</th>\n",
       "      <th>Reference Length</th>\n",
       "    </tr>\n",
       "  </thead>\n",
       "  <tbody>\n",
       "    <tr>\n",
       "      <td>1</td>\n",
       "      <td>4.933500</td>\n",
       "      <td>4.617236</td>\n",
       "      <td>0.330600</td>\n",
       "      <td>0.086600</td>\n",
       "      <td>0.296100</td>\n",
       "      <td>0.296500</td>\n",
       "      <td>9.434000</td>\n",
       "      <td>0.023300</td>\n",
       "      <td>0.456400</td>\n",
       "      <td>0.560400</td>\n",
       "      <td>5726</td>\n",
       "      <td>10218</td>\n",
       "    </tr>\n",
       "    <tr>\n",
       "      <td>2</td>\n",
       "      <td>3.969900</td>\n",
       "      <td>4.101176</td>\n",
       "      <td>0.352500</td>\n",
       "      <td>0.118200</td>\n",
       "      <td>0.318100</td>\n",
       "      <td>0.318200</td>\n",
       "      <td>10.131900</td>\n",
       "      <td>0.039000</td>\n",
       "      <td>0.515100</td>\n",
       "      <td>0.601200</td>\n",
       "      <td>6143</td>\n",
       "      <td>10218</td>\n",
       "    </tr>\n",
       "  </tbody>\n",
       "</table><p>"
      ],
      "text/plain": [
       "<IPython.core.display.HTML object>"
      ]
     },
     "metadata": {},
     "output_type": "display_data"
    },
    {
     "name": "stderr",
     "output_type": "stream",
     "text": [
      "/home/RDC/zinovyee.hub/.conda/envs/ensemble/lib/python3.10/site-packages/transformers/utils/import_utils.py:616: FutureWarning: `torch._dynamo.external_utils.is_compiling` is deprecated. Use `torch.compiler.is_compiling` instead.\n",
      "  return dynamo.is_compiling()\n",
      "/home/RDC/zinovyee.hub/.conda/envs/ensemble/lib/python3.10/site-packages/transformers/generation/utils.py:1132: UserWarning: Using the model-agnostic default `max_length` (=20) to control the generation length. We recommend setting `max_new_tokens` to control the maximum length of the generation.\n",
      "  warnings.warn(\n"
     ]
    },
    {
     "name": "stdout",
     "output_type": "stream",
     "text": [
      "FOLDS IN RESULTS  dict_keys([0, 1, 2])\n",
      "TRAINING EPOCH SET [1]\n",
      "TRAINING EPOCHS 2\n",
      "Fold 2\n"
     ]
    },
    {
     "name": "stderr",
     "output_type": "stream",
     "text": [
      "Filter: 100%|██████████| 2379/2379 [00:00<00:00, 78564.56 examples/s]\n",
      "Filter: 100%|██████████| 2379/2379 [00:00<00:00, 95473.76 examples/s]\n",
      "Filter: 100%|██████████| 187/187 [00:00<00:00, 31360.85 examples/s]\n",
      "Filter: 100%|██████████| 187/187 [00:00<00:00, 33088.71 examples/s]\n",
      "Map: 100%|██████████| 187/187 [00:00<00:00, 1978.69 examples/s]\n",
      "Filter: 100%|██████████| 811/811 [00:00<00:00, 49371.25 examples/s]\n",
      "Filter: 100%|██████████| 811/811 [00:00<00:00, 54690.43 examples/s]\n",
      "Map: 100%|██████████| 811/811 [00:00<00:00, 2085.85 examples/s]\n",
      "/home/RDC/zinovyee.hub/.conda/envs/ensemble/lib/python3.10/site-packages/huggingface_hub/file_download.py:1132: FutureWarning: `resume_download` is deprecated and will be removed in version 1.0.0. Downloads always resume when possible. If you want to force a new download, use `force_download=True`.\n",
      "  warnings.warn(\n"
     ]
    },
    {
     "name": "stdout",
     "output_type": "stream",
     "text": [
      "LOADING MODEL Salesforce/codet5-base-multi-sum\n",
      "cuda\n"
     ]
    },
    {
     "name": "stderr",
     "output_type": "stream",
     "text": [
      "Using the `WANDB_DISABLED` environment variable is deprecated and will be removed in v5. Use the --report_to flag to control the integrations used for logging result (for instance --report_to none).\n",
      "/home/RDC/zinovyee.hub/.conda/envs/ensemble/lib/python3.10/site-packages/accelerate/accelerator.py:444: FutureWarning: Passing the following arguments to `Accelerator` is deprecated and will be removed in version 1.0 of Accelerate: dict_keys(['dispatch_batches', 'split_batches', 'even_batches', 'use_seedable_sampler']). Please pass an `accelerate.DataLoaderConfiguration` instead: \n",
      "dataloader_config = DataLoaderConfiguration(dispatch_batches=None, split_batches=False, even_batches=True, use_seedable_sampler=True)\n",
      "  warnings.warn(\n"
     ]
    },
    {
     "data": {
      "text/html": [
       "\n",
       "    <div>\n",
       "      \n",
       "      <progress value='94' max='94' style='width:300px; height:20px; vertical-align: middle;'></progress>\n",
       "      [94/94 01:25, Epoch 2/2]\n",
       "    </div>\n",
       "    <table border=\"1\" class=\"dataframe\">\n",
       "  <thead>\n",
       " <tr style=\"text-align: left;\">\n",
       "      <th>Epoch</th>\n",
       "      <th>Training Loss</th>\n",
       "      <th>Validation Loss</th>\n",
       "      <th>Rouge1</th>\n",
       "      <th>Rouge2</th>\n",
       "      <th>Rougel</th>\n",
       "      <th>Rougelsum</th>\n",
       "      <th>Gen Len</th>\n",
       "      <th>Bleu</th>\n",
       "      <th>Brevity Penalty</th>\n",
       "      <th>Length Ratio</th>\n",
       "      <th>Translation Length</th>\n",
       "      <th>Reference Length</th>\n",
       "    </tr>\n",
       "  </thead>\n",
       "  <tbody>\n",
       "    <tr>\n",
       "      <td>1</td>\n",
       "      <td>4.755800</td>\n",
       "      <td>4.150366</td>\n",
       "      <td>0.352700</td>\n",
       "      <td>0.106200</td>\n",
       "      <td>0.317000</td>\n",
       "      <td>0.317100</td>\n",
       "      <td>10.112200</td>\n",
       "      <td>0.027100</td>\n",
       "      <td>0.544200</td>\n",
       "      <td>0.621700</td>\n",
       "      <td>6353</td>\n",
       "      <td>10218</td>\n",
       "    </tr>\n",
       "    <tr>\n",
       "      <td>2</td>\n",
       "      <td>3.539900</td>\n",
       "      <td>3.627105</td>\n",
       "      <td>0.400700</td>\n",
       "      <td>0.146000</td>\n",
       "      <td>0.359700</td>\n",
       "      <td>0.359900</td>\n",
       "      <td>12.757100</td>\n",
       "      <td>0.109100</td>\n",
       "      <td>0.794000</td>\n",
       "      <td>0.812600</td>\n",
       "      <td>8303</td>\n",
       "      <td>10218</td>\n",
       "    </tr>\n",
       "  </tbody>\n",
       "</table><p>"
      ],
      "text/plain": [
       "<IPython.core.display.HTML object>"
      ]
     },
     "metadata": {},
     "output_type": "display_data"
    },
    {
     "name": "stderr",
     "output_type": "stream",
     "text": [
      "/home/RDC/zinovyee.hub/.conda/envs/ensemble/lib/python3.10/site-packages/transformers/utils/import_utils.py:616: FutureWarning: `torch._dynamo.external_utils.is_compiling` is deprecated. Use `torch.compiler.is_compiling` instead.\n",
      "  return dynamo.is_compiling()\n",
      "/home/RDC/zinovyee.hub/.conda/envs/ensemble/lib/python3.10/site-packages/transformers/generation/utils.py:1132: UserWarning: Using the model-agnostic default `max_length` (=20) to control the generation length. We recommend setting `max_new_tokens` to control the maximum length of the generation.\n",
      "  warnings.warn(\n"
     ]
    },
    {
     "name": "stdout",
     "output_type": "stream",
     "text": [
      "FOLDS IN RESULTS  dict_keys([0, 1, 2])\n"
     ]
    }
   ],
   "source": [
    "fold_results = {}\n",
    "\n",
    "cluster_models = [[1,2], [3,4], [5,6], [7,8], [4], [5], [1]]\n",
    "\n",
    "for cluster_i, cluster_set in enumerate(cluster_models):\n",
    "    fold_results[cluster_i] = {}\n",
    "    \n",
    "for i, (train_idxs, val_idxs) in enumerate(splits):\n",
    "    latest_run_epoch = 0\n",
    "\n",
    "    for cluster_i, cluster_set in enumerate(cluster_models):\n",
    "        print(f\"TRAINING EPOCH SET {cluster_set}\")\n",
    "\n",
    "        TRAIN_ARGS = copy.deepcopy(FULL_TRAIN_ARGS)\n",
    "        FOLD_MODEL_PATH = \"./tmp_cluster/\"\n",
    "\n",
    "        TRAIN_ARGS[\"SEQ_TRAINER_ARGS\"][\"num_train_epochs\"] = 2\n",
    "        \n",
    "        print(f'TRAINING EPOCHS {TRAIN_ARGS[\"SEQ_TRAINER_ARGS\"][\"num_train_epochs\"]}')\n",
    "\n",
    "        print(f\"Fold {i}\")\n",
    "        fold_dataset = DatasetDict({\n",
    "            \"train\": train_dataset.filter(lambda q_id: (q_id[\"question_id\"] in questions_list[train_idxs]) and (q_id[\"cluster\"] in cluster_set)),\n",
    "            \"validation\": train_dataset.filter(lambda q_id: q_id[\"question_id\"] in questions_list[val_idxs]),\n",
    "        })\n",
    "        fold_train = pr.preprocess_dataset(fold_dataset[\"train\"], tokenizer=tokenizer)\n",
    "        fold_val = pr.preprocess_dataset(fold_dataset[\"validation\"], tokenizer=tokenizer)\n",
    "        fold_df = pd.DataFrame(fold_val)\n",
    "\n",
    "\n",
    "        model = AutoModelForSeq2SeqLM.from_pretrained(model_name)\n",
    "        print(f\"LOADING MODEL {model_name}\")\n",
    "\n",
    "        print(device)\n",
    "        model.to(device)\n",
    "\n",
    "        data_collator = DataCollatorForSeq2Seq(tokenizer, model=model)\n",
    "        compute_metrics = ev.compute_metric_with_params(tokenizer) \n",
    "\n",
    "        if not os.path.exists(f'reports_cluster/'): \n",
    "            os.mkdir(f'reports_cluster/')\n",
    "\n",
    "        training_args = Seq2SeqTrainingArguments(\n",
    "                **TRAIN_ARGS[\"SEQ_TRAINER_ARGS\"],\n",
    "            )\n",
    "        \n",
    "        trainer = Seq2SeqTrainer(\n",
    "            model=model,\n",
    "            args=training_args,\n",
    "            data_collator=data_collator,\n",
    "            train_dataset=fold_train,\n",
    "            eval_dataset=fold_val,\n",
    "            tokenizer=tokenizer,\n",
    "            compute_metrics=compute_metrics,\n",
    "        )\n",
    "\n",
    "        trainer.train()\n",
    "\n",
    "        text = fold_val[\"input_sequence\"]\n",
    "        summaries = infer.generate_summary(text, model, tokenizer, TRAIN_ARGS[\"ENCODER_LENGTH\"], TRAIN_ARGS[\"DECODER_LENGTH\"])\n",
    "        \n",
    "        fold_df[\"prediction\"] = summaries[1]\n",
    "        fold_df[\"rouge\"] = rouge.compute(predictions=fold_df[\"prediction\"], \n",
    "                    references=fold_df[\"output_sequence\"],\n",
    "                    use_stemmer=True, \n",
    "                    use_aggregator=False,\n",
    "                    rouge_types=[\"rouge1\"])[\"rouge1\"]\n",
    "        \n",
    "        fold_results[cluster_i][i] = fold_df\n",
    "\n",
    "        print(\"FOLDS IN RESULTS \", fold_results[cluster_i].keys())\n",
    "        \n",
    "        ########## SAVE FOLD MODEL\n",
    "        if not os.path.exists(FOLD_MODEL_PATH): \n",
    "            os.mkdir(FOLD_MODEL_PATH)\n",
    "\n",
    "        trainer.save_model(FOLD_MODEL_PATH)\n"
   ]
  },
  {
   "cell_type": "code",
   "execution_count": 20,
   "metadata": {},
   "outputs": [],
   "source": [
    "########## CONVERT TO DATAFRAME\n",
    "\n",
    "for cluster_i, (cluster_set) in enumerate(fold_results.keys()): \n",
    "    \n",
    "    for i, (k, f_df) in enumerate(fold_results[cluster_i].items()): \n",
    "        \n",
    "        f_df['fold'] = k\n",
    "        f_df['cluster_set'] = cluster_i\n",
    "\n",
    "        if (cluster_i==0 and i==0): \n",
    "            cv_df = f_df.copy()\n",
    "        else: \n",
    "            cv_df = pd.concat([cv_df, f_df])"
   ]
  },
  {
   "cell_type": "code",
   "execution_count": 21,
   "metadata": {},
   "outputs": [],
   "source": [
    "########## SAVE THE FILE\n",
    "\n",
    "with open('cluster_cv_df_check_drift.pickle', 'wb') as handle:\n",
    "    pickle.dump(cv_df, handle, protocol=pickle.HIGHEST_PROTOCOL)"
   ]
  },
  {
   "cell_type": "code",
   "execution_count": 22,
   "metadata": {},
   "outputs": [
    {
     "name": "stdout",
     "output_type": "stream",
     "text": [
      "Mean\n",
      "cluster_set\n",
      "0    0.421810\n",
      "1    0.400814\n",
      "2    0.401374\n",
      "3    0.432673\n",
      "4    0.312228\n",
      "5    0.349272\n",
      "6    0.400410\n",
      "Name: rouge, dtype: float64\n",
      "STD\n",
      "cluster_set\n",
      "0    0.183458\n",
      "1    0.182638\n",
      "2    0.186765\n",
      "3    0.191407\n",
      "4    0.174070\n",
      "5    0.189003\n",
      "6    0.182253\n",
      "Name: rouge, dtype: float64\n"
     ]
    }
   ],
   "source": [
    "########## ROUGE PER SETTING\n",
    "\n",
    "print(\"Mean\")\n",
    "print(cv_df.groupby(\"cluster_set\")[\"rouge\"].mean())\n",
    "\n",
    "print(\"STD\")\n",
    "print(cv_df.groupby(\"cluster_set\")[\"rouge\"].std())"
   ]
  }
 ],
 "metadata": {
  "kernelspec": {
   "display_name": "meta_ensemble",
   "language": "python",
   "name": "python3"
  },
  "language_info": {
   "codemirror_mode": {
    "name": "ipython",
    "version": 3
   },
   "file_extension": ".py",
   "mimetype": "text/x-python",
   "name": "python",
   "nbconvert_exporter": "python",
   "pygments_lexer": "ipython3",
   "version": "3.10.14"
  }
 },
 "nbformat": 4,
 "nbformat_minor": 2
}
