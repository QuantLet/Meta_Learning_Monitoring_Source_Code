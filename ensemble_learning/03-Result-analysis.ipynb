{
 "cells": [
  {
   "cell_type": "code",
   "execution_count": 1,
   "metadata": {},
   "outputs": [],
   "source": [
    "import numpy as np\n",
    "import pandas as pd\n",
    "import pickle\n",
    "\n",
    "ANALYSIS_POSTFIX = \"mined_2024-07-27\""
   ]
  },
  {
   "cell_type": "code",
   "execution_count": 2,
   "metadata": {},
   "outputs": [],
   "source": [
    "with open(f\"reports/results/cd_df_with_s2_{ANALYSIS_POSTFIX}.pickle\", \"rb\") as handle:\n",
    "    cv_predictions = pickle.load(handle)\n",
    "\n",
    "with open(f\"reports/results/test_results_df_{ANALYSIS_POSTFIX}.pickle\", \"rb\") as handle:\n",
    "    test_predictions = pickle.load(handle)\n",
    "\n",
    "with open(f\"reports/results/s2_model_results{ANALYSIS_POSTFIX}.pickle\", \"rb\") as handle:\n",
    "    s2_predictions = pickle.load(handle)"
   ]
  },
  {
   "cell_type": "code",
   "execution_count": 3,
   "metadata": {},
   "outputs": [
    {
     "name": "stdout",
     "output_type": "stream",
     "text": [
      "CROSS VALIDATION BASE LEARNERS\n",
      "Mean\n",
      "epoch_set\n",
      "0     0.113684\n",
      "1     0.248138\n",
      "3     0.272320\n",
      "5     0.274575\n",
      "8     0.274978\n",
      "10    0.269348\n",
      "16    0.271933\n",
      "Name: rouge, dtype: float64\n",
      "STD\n",
      "epoch_set\n",
      "0     0.124533\n",
      "1     0.158242\n",
      "3     0.158920\n",
      "5     0.159016\n",
      "8     0.160552\n",
      "10    0.159361\n",
      "16    0.159539\n",
      "Name: rouge, dtype: float64\n"
     ]
    }
   ],
   "source": [
    "########## ROUGE PER SETTING CROSS VALIDATION\n",
    "\n",
    "print(\"CROSS VALIDATION BASE LEARNERS\")\n",
    "\n",
    "print(\"Mean\")\n",
    "print(cv_predictions.groupby([\"epoch_set\"])[\"rouge\"].mean())\n",
    "\n",
    "print(\"STD\")\n",
    "print(cv_predictions.groupby(\"epoch_set\")[\"rouge\"].std())"
   ]
  },
  {
   "cell_type": "code",
   "execution_count": 18,
   "metadata": {},
   "outputs": [
    {
     "name": "stdout",
     "output_type": "stream",
     "text": [
      "RMSE\n",
      "lr\n",
      "RMSE  0.21934613543049408\n",
      "MAE  0.16605483256816642\n",
      "\n",
      "\n",
      "RMSE STD  0.012521411366325088\n",
      "MAE STD 0.0034385307115693273\n",
      "\n",
      "\n",
      "svm\n",
      "RMSE  0.16300984740424532\n",
      "MAE  0.13096644113186462\n",
      "\n",
      "\n",
      "RMSE STD  0.0011227892336925901\n",
      "MAE STD 0.0012285904506338095\n",
      "\n",
      "\n",
      "lgbm\n",
      "RMSE  0.15717906705432996\n",
      "MAE  0.12625733748119103\n",
      "\n",
      "\n",
      "RMSE STD  0.0012875640953631032\n",
      "MAE STD 0.0009907676576338907\n",
      "\n",
      "\n",
      "catboost\n",
      "RMSE  0.15611605676977322\n",
      "MAE  0.125438155817813\n",
      "\n",
      "\n",
      "RMSE STD  0.0016531759000054172\n",
      "MAE STD 0.001358401309634718\n",
      "\n",
      "\n",
      "Mean\n",
      "STD\n"
     ]
    },
    {
     "data": {
      "text/plain": [
       "epoch_set\n",
       "0     0.041542\n",
       "1     0.045629\n",
       "3     0.046012\n",
       "5     0.045990\n",
       "8     0.046012\n",
       "10    0.046012\n",
       "16    0.046012\n",
       "Name: catboost_perf_hat, dtype: float64"
      ]
     },
     "execution_count": 18,
     "metadata": {},
     "output_type": "execute_result"
    }
   ],
   "source": [
    "######### STEP TWO RESULTS\n",
    "print(\"STEP TWO REGRESSION RESULTS ON THE CROSS VALIDATION\")\n",
    "\n",
    "for model in s2_predictions.keys():\n",
    "    print(model)\n",
    "    print(\"RMSE \", s2_predictions[model][\"rmse_avg\"])\n",
    "    print(\"MAE \",s2_predictions[model][\"mae_avg\"])\n",
    "    print(\"\\n\")\n",
    "\n",
    "    print(\"RMSE STD \", np.array(s2_predictions[model][\"rmse\"]).std())\n",
    "    print(\"MAE STD\", np.array(s2_predictions[model][\"mae\"]).std())\n",
    "    print(\"\\n\")"
   ]
  },
  {
   "cell_type": "code",
   "execution_count": 5,
   "metadata": {},
   "outputs": [
    {
     "name": "stdout",
     "output_type": "stream",
     "text": [
      "Mean\n",
      "epoch_set\n",
      "0     0.115614\n",
      "1     0.253617\n",
      "3     0.272724\n",
      "5     0.272869\n",
      "8     0.273038\n",
      "10    0.272724\n",
      "16    0.272724\n",
      "Name: catboost_perf_hat, dtype: float64\n",
      "STD\n"
     ]
    },
    {
     "data": {
      "text/plain": [
       "epoch_set\n",
       "0     0.041542\n",
       "1     0.045629\n",
       "3     0.046012\n",
       "5     0.045990\n",
       "8     0.046012\n",
       "10    0.046012\n",
       "16    0.046012\n",
       "Name: catboost_perf_hat, dtype: float64"
      ]
     },
     "execution_count": 5,
     "metadata": {},
     "output_type": "execute_result"
    }
   ],
   "source": [
    "########## ESTIMATED ROUGE PER SETTING CATBOOST\n",
    "\n",
    "print(\"Mean\")\n",
    "print(cv_predictions.groupby(\"epoch_set\").catboost_perf_hat.mean())\n",
    "\n",
    "print(\"STD\")\n",
    "cv_predictions.groupby(\"epoch_set\").catboost_perf_hat.std()"
   ]
  },
  {
   "cell_type": "code",
   "execution_count": 9,
   "metadata": {},
   "outputs": [
    {
     "name": "stdout",
     "output_type": "stream",
     "text": [
      "RESULTS BASE LEARNERS TEST\n",
      "Mean\n"
     ]
    },
    {
     "ename": "KeyError",
     "evalue": "'Column not found: catboost_perf_hat'",
     "output_type": "error",
     "traceback": [
      "\u001b[0;31m---------------------------------------------------------------------------\u001b[0m",
      "\u001b[0;31mKeyError\u001b[0m                                  Traceback (most recent call last)",
      "Cell \u001b[0;32mIn[9], line 5\u001b[0m\n\u001b[1;32m      2\u001b[0m \u001b[38;5;28mprint\u001b[39m(\u001b[38;5;124m\"\u001b[39m\u001b[38;5;124mRESULTS BASE LEARNERS TEST\u001b[39m\u001b[38;5;124m\"\u001b[39m)\n\u001b[1;32m      4\u001b[0m \u001b[38;5;28mprint\u001b[39m(\u001b[38;5;124m\"\u001b[39m\u001b[38;5;124mMean\u001b[39m\u001b[38;5;124m\"\u001b[39m)\n\u001b[0;32m----> 5\u001b[0m \u001b[38;5;28mprint\u001b[39m(\u001b[43mtest_predictions\u001b[49m\u001b[38;5;241;43m.\u001b[39;49m\u001b[43mgroupby\u001b[49m\u001b[43m(\u001b[49m\u001b[43m[\u001b[49m\u001b[38;5;124;43m\"\u001b[39;49m\u001b[38;5;124;43mepoch_set\u001b[39;49m\u001b[38;5;124;43m\"\u001b[39;49m\u001b[43m]\u001b[49m\u001b[43m)\u001b[49m\u001b[43m[\u001b[49m\u001b[38;5;124;43m\"\u001b[39;49m\u001b[38;5;124;43mcatboost_perf_hat\u001b[39;49m\u001b[38;5;124;43m\"\u001b[39;49m\u001b[43m]\u001b[49m\u001b[38;5;241m.\u001b[39mmean())\n\u001b[1;32m      7\u001b[0m \u001b[38;5;28mprint\u001b[39m(\u001b[38;5;124m\"\u001b[39m\u001b[38;5;124mSTD\u001b[39m\u001b[38;5;124m\"\u001b[39m)\n\u001b[1;32m      8\u001b[0m \u001b[38;5;28mprint\u001b[39m(test_predictions\u001b[38;5;241m.\u001b[39mgroupby(\u001b[38;5;124m\"\u001b[39m\u001b[38;5;124mepoch_set\u001b[39m\u001b[38;5;124m\"\u001b[39m)[\u001b[38;5;124m\"\u001b[39m\u001b[38;5;124mcatboost_perf_hat\u001b[39m\u001b[38;5;124m\"\u001b[39m]\u001b[38;5;241m.\u001b[39mstd())\n",
      "File \u001b[0;32m~/.conda/envs/ensemble/lib/python3.10/site-packages/pandas/core/groupby/generic.py:1951\u001b[0m, in \u001b[0;36mDataFrameGroupBy.__getitem__\u001b[0;34m(self, key)\u001b[0m\n\u001b[1;32m   1944\u001b[0m \u001b[38;5;28;01mif\u001b[39;00m \u001b[38;5;28misinstance\u001b[39m(key, \u001b[38;5;28mtuple\u001b[39m) \u001b[38;5;129;01mand\u001b[39;00m \u001b[38;5;28mlen\u001b[39m(key) \u001b[38;5;241m>\u001b[39m \u001b[38;5;241m1\u001b[39m:\n\u001b[1;32m   1945\u001b[0m     \u001b[38;5;66;03m# if len == 1, then it becomes a SeriesGroupBy and this is actually\u001b[39;00m\n\u001b[1;32m   1946\u001b[0m     \u001b[38;5;66;03m# valid syntax, so don't raise\u001b[39;00m\n\u001b[1;32m   1947\u001b[0m     \u001b[38;5;28;01mraise\u001b[39;00m \u001b[38;5;167;01mValueError\u001b[39;00m(\n\u001b[1;32m   1948\u001b[0m         \u001b[38;5;124m\"\u001b[39m\u001b[38;5;124mCannot subset columns with a tuple with more than one element. \u001b[39m\u001b[38;5;124m\"\u001b[39m\n\u001b[1;32m   1949\u001b[0m         \u001b[38;5;124m\"\u001b[39m\u001b[38;5;124mUse a list instead.\u001b[39m\u001b[38;5;124m\"\u001b[39m\n\u001b[1;32m   1950\u001b[0m     )\n\u001b[0;32m-> 1951\u001b[0m \u001b[38;5;28;01mreturn\u001b[39;00m \u001b[38;5;28;43msuper\u001b[39;49m\u001b[43m(\u001b[49m\u001b[43m)\u001b[49m\u001b[38;5;241;43m.\u001b[39;49m\u001b[38;5;21;43m__getitem__\u001b[39;49m\u001b[43m(\u001b[49m\u001b[43mkey\u001b[49m\u001b[43m)\u001b[49m\n",
      "File \u001b[0;32m~/.conda/envs/ensemble/lib/python3.10/site-packages/pandas/core/base.py:244\u001b[0m, in \u001b[0;36mSelectionMixin.__getitem__\u001b[0;34m(self, key)\u001b[0m\n\u001b[1;32m    242\u001b[0m \u001b[38;5;28;01melse\u001b[39;00m:\n\u001b[1;32m    243\u001b[0m     \u001b[38;5;28;01mif\u001b[39;00m key \u001b[38;5;129;01mnot\u001b[39;00m \u001b[38;5;129;01min\u001b[39;00m \u001b[38;5;28mself\u001b[39m\u001b[38;5;241m.\u001b[39mobj:\n\u001b[0;32m--> 244\u001b[0m         \u001b[38;5;28;01mraise\u001b[39;00m \u001b[38;5;167;01mKeyError\u001b[39;00m(\u001b[38;5;124mf\u001b[39m\u001b[38;5;124m\"\u001b[39m\u001b[38;5;124mColumn not found: \u001b[39m\u001b[38;5;132;01m{\u001b[39;00mkey\u001b[38;5;132;01m}\u001b[39;00m\u001b[38;5;124m\"\u001b[39m)\n\u001b[1;32m    245\u001b[0m     ndim \u001b[38;5;241m=\u001b[39m \u001b[38;5;28mself\u001b[39m\u001b[38;5;241m.\u001b[39mobj[key]\u001b[38;5;241m.\u001b[39mndim\n\u001b[1;32m    246\u001b[0m     \u001b[38;5;28;01mreturn\u001b[39;00m \u001b[38;5;28mself\u001b[39m\u001b[38;5;241m.\u001b[39m_gotitem(key, ndim\u001b[38;5;241m=\u001b[39mndim)\n",
      "\u001b[0;31mKeyError\u001b[0m: 'Column not found: catboost_perf_hat'"
     ]
    }
   ],
   "source": [
    "########## ROUGE PER SETTING\n",
    "print(\"RESULTS BASE LEARNERS TEST\")\n",
    "\n",
    "print(\"Mean\")\n",
    "print(test_predictions.groupby([\"epoch_set\"])[\"catboost_perf_hat\"].mean())\n",
    "\n",
    "print(\"STD\")\n",
    "print(test_predictions.groupby(\"epoch_set\")[\"catboost_perf_hat\"].std())"
   ]
  },
  {
   "cell_type": "code",
   "execution_count": 11,
   "metadata": {},
   "outputs": [
    {
     "name": "stdout",
     "output_type": "stream",
     "text": [
      "Mean\n",
      "epoch_set\n",
      "0     0.099899\n",
      "1     0.240821\n",
      "3     0.261663\n",
      "5     0.260452\n",
      "8     0.257582\n",
      "10    0.253284\n",
      "16    0.254509\n",
      "Name: rouge, dtype: float64\n",
      "STD\n",
      "epoch_set\n",
      "0     0.117489\n",
      "1     0.155287\n",
      "3     0.158059\n",
      "5     0.159269\n",
      "8     0.157516\n",
      "10    0.159339\n",
      "16    0.159984\n",
      "Name: rouge, dtype: float64\n"
     ]
    }
   ],
   "source": [
    "########## ROUGE PER SETTING\n",
    "print(\"RESULTS BASE LEARNERS TEST\")\n",
    "\n",
    "print(\"Mean\")\n",
    "print(test_predictions.groupby([\"epoch_set\"])[\"rouge\"].mean())\n",
    "\n",
    "print(\"STD\")\n",
    "print(test_predictions.groupby(\"epoch_set\")[\"rouge\"].std())"
   ]
  }
 ],
 "metadata": {
  "kernelspec": {
   "display_name": "ensemble",
   "language": "python",
   "name": "python3"
  },
  "language_info": {
   "codemirror_mode": {
    "name": "ipython",
    "version": 3
   },
   "file_extension": ".py",
   "mimetype": "text/x-python",
   "name": "python",
   "nbconvert_exporter": "python",
   "pygments_lexer": "ipython3",
   "version": "3.10.14"
  }
 },
 "nbformat": 4,
 "nbformat_minor": 2
}
