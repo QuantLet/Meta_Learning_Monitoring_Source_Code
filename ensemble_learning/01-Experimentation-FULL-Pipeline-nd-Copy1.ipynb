{
 "cells": [
  {
   "cell_type": "markdown",
   "metadata": {},
   "source": [
    "### 1. Settings"
   ]
  },
  {
   "cell_type": "code",
   "execution_count": 1,
   "metadata": {},
   "outputs": [
    {
     "name": "stderr",
     "output_type": "stream",
     "text": [
      "[nltk_data] Downloading package punkt to\n",
      "[nltk_data]     /home/RDC/zinovyee.hub/nltk_data...\n",
      "[nltk_data]   Package punkt is already up-to-date!\n"
     ]
    }
   ],
   "source": [
    "#####################################\n",
    "##########  DEPENDECIES ############\n",
    "#####################################\n",
    "\n",
    "import os\n",
    "import pickle\n",
    "import sys\n",
    "sys.path.append(\"../\")\n",
    "\n",
    "from tqdm import tqdm # type: ignore\n",
    "from datetime import date\n",
    "\n",
    "import evaluate\n",
    "\n",
    "from transformers import AutoModelForSeq2SeqLM, AutoTokenizer\n",
    "\n",
    "import utils.prep as pr\n",
    "import utils.eval as ev\n",
    "import utils.inference as infer\n",
    "from utils.sampling import create_splits, prep_cv_validation\n",
    "from utils.training import cv_cluster_set, cv_training_epochs_sets, test_cluster_set\n",
    "from utils.training import results_dict_todf, cv_step_2, full_step_2, test_training_epochs_sets\n",
    "from utils.inference import meta_predict, create_ensemble_map, ensemble_compute\n",
    "\n",
    "tqdm.pandas()\n",
    "import warnings\n",
    "warnings.filterwarnings(\"ignore\")\n",
    "\n",
    "os.environ[\"TOKENIZERS_PARALLELISM\"] = \"false\"\n",
    "os.environ[\"WANDB_DISABLED\"] = \"true\"\n",
    "os.environ[\"CUDA_VISIBLE_DEVICES\"] = \"1\"\n",
    "\n",
    "import torch\n",
    "\n",
    "#####################################\n",
    "############  CONSTANTS #############\n",
    "#####################################\n",
    "\n",
    "RS = 42\n",
    "BATCH_SIZE = 16\n",
    "DECODER_LENGTH = 25\n",
    "ENCODER_LENGTH = 25\n",
    "MODEL_NAME = \"Salesforce/codet5-base-multi-sum\"\n",
    "\n",
    "FULL_TRAIN_ARGS = {\n",
    "    \"BATCH_SIZE\": BATCH_SIZE,\n",
    "    \"DECODER_LENGTH\": DECODER_LENGTH,\n",
    "    \"ENCODER_LENGTH\": ENCODER_LENGTH,\n",
    "    \"SEQ_TRAINER_ARGS\": {\n",
    "        \"overwrite_output_dir\": True,\n",
    "        \"num_train_epochs\": [0, 1, 2, 5, 10],\n",
    "        \"do_train\": True,\n",
    "        \"do_eval\": True,\n",
    "        \"per_device_train_batch_size\": 4,\n",
    "        \"per_device_eval_batch_size\": 4,\n",
    "        \"learning_rate\": 1e-5,\n",
    "        \"warmup_steps\": 500,\n",
    "        \"weight_decay\": 0.1,\n",
    "        \"label_smoothing_factor\": 0.1,\n",
    "        \"predict_with_generate\": True,\n",
    "        \"logging_steps\": 100,\n",
    "        \"save_total_limit\": 1,\n",
    "        \"save_strategy\": \"no\",\n",
    "        \"logging_strategy\": \"epoch\",\n",
    "        \"evaluation_strategy\": \"epoch\",\n",
    "        \"load_best_model_at_end\": False,\n",
    "        \"output_dir\" : 'reports/results',\n",
    "        \"logging_dir\" : \"reports/logs\",\n",
    "    },\n",
    "}\n",
    "\n",
    "experiment_config = {\n",
    "    \"DATA_STR\" : \"20240721\",\n",
    "    \"RS\" : RS,\n",
    "    \"DRIFT_TYPE\" : \"no_drift\",\n",
    "    \"NFOLD\" : 3,\n",
    "    \"FULL_TRAIN_ARGS\" : FULL_TRAIN_ARGS,\n",
    "    \"MODEL_NAME\" : MODEL_NAME,\n",
    "    \"CLUSTER_EPOCHS\" : 5,\n",
    "    \"CLUSTER_SET_ID\" : [1, 4, 3, [0, 1, 4,]],\n",
    "    \"TRAIN_SIZE\" : 7000,\n",
    "    \"TEST_SIZE\" : 2500,\n",
    "}\n",
    "experiment_config[\"ANALYSIS_POSTFIX\"] = f\"mined_{experiment_config['DRIFT_TYPE']}_{str(date.today())}\"\n",
    "experiment_config[\"FULL_TRAIN_ARGS\"][\"SEQ_TRAINER_ARGS\"][\"output_dir\"] += \"/\" + experiment_config[\"ANALYSIS_POSTFIX\"] \n",
    "experiment_config[\"FULL_TRAIN_ARGS\"][\"SEQ_TRAINER_ARGS\"][\"logging_dir\"] += \"/\" + experiment_config[\"ANALYSIS_POSTFIX\"] \n",
    "\n",
    "if not os.path.exists(experiment_config[\"FULL_TRAIN_ARGS\"][\"SEQ_TRAINER_ARGS\"][\"logging_dir\"]):\n",
    "    os.mkdir(experiment_config[\"FULL_TRAIN_ARGS\"][\"SEQ_TRAINER_ARGS\"][\"logging_dir\"])\n",
    "\n",
    "if not os.path.exists(experiment_config[\"FULL_TRAIN_ARGS\"][\"SEQ_TRAINER_ARGS\"][\"output_dir\"]):\n",
    "    os.mkdir(experiment_config[\"FULL_TRAIN_ARGS\"][\"SEQ_TRAINER_ARGS\"][\"output_dir\"])\n",
    "\n",
    "tokenizer = AutoTokenizer.from_pretrained(experiment_config[\"MODEL_NAME\"], skip_special_tokens=False)\n",
    "model = AutoModelForSeq2SeqLM.from_pretrained(experiment_config[\"MODEL_NAME\"])\n",
    "device = torch.device(\"cuda\" if torch.cuda.is_available() else \"cpu\")\n",
    "rouge = evaluate.load('rouge')"
   ]
  },
  {
   "cell_type": "markdown",
   "metadata": {},
   "source": [
    "### 2. Conala data. Preprocessing. "
   ]
  },
  {
   "cell_type": "code",
   "execution_count": 2,
   "metadata": {},
   "outputs": [
    {
     "name": "stdout",
     "output_type": "stream",
     "text": [
      "Train Data:  (7000, 11)\n",
      "Test Data:  (2500, 11)\n",
      "Train Data: Cluster cluster\n",
      "2    3888\n",
      "3    2114\n",
      "4     596\n",
      "1     234\n",
      "0     168\n",
      "Name: count, dtype: int64\n",
      "Test Data: Cluster cluster\n",
      "2    1358\n",
      "3     777\n",
      "4     220\n",
      "1      74\n",
      "0      71\n",
      "Name: count, dtype: int64\n"
     ]
    },
    {
     "data": {
      "application/vnd.jupyter.widget-view+json": {
       "model_id": "dca736f8ec874ab0bfce02f92b4fa86e",
       "version_major": 2,
       "version_minor": 0
      },
      "text/plain": [
       "Filter:   0%|          | 0/7000 [00:00<?, ? examples/s]"
      ]
     },
     "metadata": {},
     "output_type": "display_data"
    },
    {
     "data": {
      "application/vnd.jupyter.widget-view+json": {
       "model_id": "6fe933dfc16144c4916d7a6e645cf588",
       "version_major": 2,
       "version_minor": 0
      },
      "text/plain": [
       "Filter:   0%|          | 0/7000 [00:00<?, ? examples/s]"
      ]
     },
     "metadata": {},
     "output_type": "display_data"
    },
    {
     "data": {
      "application/vnd.jupyter.widget-view+json": {
       "model_id": "7160c4ed4833437394770a3b32058347",
       "version_major": 2,
       "version_minor": 0
      },
      "text/plain": [
       "Map:   0%|          | 0/7000 [00:00<?, ? examples/s]"
      ]
     },
     "metadata": {},
     "output_type": "display_data"
    },
    {
     "data": {
      "application/vnd.jupyter.widget-view+json": {
       "model_id": "27108ae226c24be09636dd516ae71497",
       "version_major": 2,
       "version_minor": 0
      },
      "text/plain": [
       "Filter:   0%|          | 0/2500 [00:00<?, ? examples/s]"
      ]
     },
     "metadata": {},
     "output_type": "display_data"
    },
    {
     "data": {
      "application/vnd.jupyter.widget-view+json": {
       "model_id": "afc9f4273cfd454d882f7190f3fe032f",
       "version_major": 2,
       "version_minor": 0
      },
      "text/plain": [
       "Filter:   0%|          | 0/2500 [00:00<?, ? examples/s]"
      ]
     },
     "metadata": {},
     "output_type": "display_data"
    },
    {
     "data": {
      "application/vnd.jupyter.widget-view+json": {
       "model_id": "5278dccca4b24093bfb76e5d0878863a",
       "version_major": 2,
       "version_minor": 0
      },
      "text/plain": [
       "Map:   0%|          | 0/2500 [00:00<?, ? examples/s]"
      ]
     },
     "metadata": {},
     "output_type": "display_data"
    },
    {
     "name": "stdout",
     "output_type": "stream",
     "text": [
      "Fold 0\n",
      "Fold 1\n",
      "Fold 2\n"
     ]
    }
   ],
   "source": [
    "sampling_dict = create_splits(experiment_config=experiment_config, tokenizer=tokenizer, train_size=experiment_config[\"TRAIN_SIZE\"], test_size=experiment_config[\"TEST_SIZE\"], cluster_id=4)\n",
    "train_dataset, test_data, test_df, train_df = sampling_dict[\"train_data\"], sampling_dict[\"test_data\"], sampling_dict[\"test_df\"], sampling_dict[\"train_df\"]\n",
    "\n",
    "splits, questions_list = prep_cv_validation(train_dataset=train_dataset, \n",
    "                            experiment_config=experiment_config)"
   ]
  },
  {
   "cell_type": "code",
   "execution_count": 3,
   "metadata": {},
   "outputs": [
    {
     "name": "stdout",
     "output_type": "stream",
     "text": [
      "Fold 0\n"
     ]
    },
    {
     "data": {
      "application/vnd.jupyter.widget-view+json": {
       "model_id": "4e86df6920f747608f8a35ea06782376",
       "version_major": 2,
       "version_minor": 0
      },
      "text/plain": [
       "Filter:   0%|          | 0/7000 [00:00<?, ? examples/s]"
      ]
     },
     "metadata": {},
     "output_type": "display_data"
    },
    {
     "data": {
      "application/vnd.jupyter.widget-view+json": {
       "model_id": "72ba3d5ac6f940a18ff04be81d88f4a0",
       "version_major": 2,
       "version_minor": 0
      },
      "text/plain": [
       "Filter:   0%|          | 0/7000 [00:00<?, ? examples/s]"
      ]
     },
     "metadata": {},
     "output_type": "display_data"
    },
    {
     "name": "stdout",
     "output_type": "stream",
     "text": [
      "TRAINING EPOCH SET 0\n",
      "TRAINING EPOCHS 0\n",
      "LOADING MODEL Salesforce/codet5-base-multi-sum\n",
      "cuda\n"
     ]
    },
    {
     "name": "stderr",
     "output_type": "stream",
     "text": [
      "Using the `WANDB_DISABLED` environment variable is deprecated and will be removed in v5. Use the --report_to flag to control the integrations used for logging result (for instance --report_to none).\n"
     ]
    },
    {
     "name": "stdout",
     "output_type": "stream",
     "text": [
      "TRAINING EPOCH SET 1\n",
      "TRAINING EPOCHS 1\n",
      "LOADING MODEL Salesforce/codet5-base-multi-sum\n",
      "cuda\n"
     ]
    },
    {
     "name": "stderr",
     "output_type": "stream",
     "text": [
      "Using the `WANDB_DISABLED` environment variable is deprecated and will be removed in v5. Use the --report_to flag to control the integrations used for logging result (for instance --report_to none).\n"
     ]
    },
    {
     "data": {
      "text/html": [
       "\n",
       "    <div>\n",
       "      \n",
       "      <progress value='1167' max='1167' style='width:300px; height:20px; vertical-align: middle;'></progress>\n",
       "      [1167/1167 05:21, Epoch 1/1]\n",
       "    </div>\n",
       "    <table border=\"1\" class=\"dataframe\">\n",
       "  <thead>\n",
       " <tr style=\"text-align: left;\">\n",
       "      <th>Epoch</th>\n",
       "      <th>Training Loss</th>\n",
       "      <th>Validation Loss</th>\n",
       "      <th>Rouge1</th>\n",
       "      <th>Rouge2</th>\n",
       "      <th>Rougel</th>\n",
       "      <th>Rougelsum</th>\n",
       "      <th>Gen Len</th>\n",
       "      <th>Bleu</th>\n",
       "      <th>Brevity Penalty</th>\n",
       "      <th>Length Ratio</th>\n",
       "      <th>Translation Length</th>\n",
       "      <th>Reference Length</th>\n",
       "    </tr>\n",
       "  </thead>\n",
       "  <tbody>\n",
       "    <tr>\n",
       "      <td>1</td>\n",
       "      <td>5.101500</td>\n",
       "      <td>4.602828</td>\n",
       "      <td>0.277600</td>\n",
       "      <td>0.075800</td>\n",
       "      <td>0.245100</td>\n",
       "      <td>0.245300</td>\n",
       "      <td>13.748100</td>\n",
       "      <td>0.026100</td>\n",
       "      <td>1.000000</td>\n",
       "      <td>1.099000</td>\n",
       "      <td>25042</td>\n",
       "      <td>22787</td>\n",
       "    </tr>\n",
       "  </tbody>\n",
       "</table><p>"
      ],
      "text/plain": [
       "<IPython.core.display.HTML object>"
      ]
     },
     "metadata": {},
     "output_type": "display_data"
    },
    {
     "name": "stdout",
     "output_type": "stream",
     "text": [
      "TRAINING EPOCH SET 2\n",
      "TRAINING EPOCHS 1\n",
      "LOADING MODEL ./tmp/\n",
      "cuda\n"
     ]
    },
    {
     "name": "stderr",
     "output_type": "stream",
     "text": [
      "Using the `WANDB_DISABLED` environment variable is deprecated and will be removed in v5. Use the --report_to flag to control the integrations used for logging result (for instance --report_to none).\n"
     ]
    },
    {
     "data": {
      "text/html": [
       "\n",
       "    <div>\n",
       "      \n",
       "      <progress value='1167' max='1167' style='width:300px; height:20px; vertical-align: middle;'></progress>\n",
       "      [1167/1167 05:22, Epoch 1/1]\n",
       "    </div>\n",
       "    <table border=\"1\" class=\"dataframe\">\n",
       "  <thead>\n",
       " <tr style=\"text-align: left;\">\n",
       "      <th>Epoch</th>\n",
       "      <th>Training Loss</th>\n",
       "      <th>Validation Loss</th>\n",
       "      <th>Rouge1</th>\n",
       "      <th>Rouge2</th>\n",
       "      <th>Rougel</th>\n",
       "      <th>Rougelsum</th>\n",
       "      <th>Gen Len</th>\n",
       "      <th>Bleu</th>\n",
       "      <th>Brevity Penalty</th>\n",
       "      <th>Length Ratio</th>\n",
       "      <th>Translation Length</th>\n",
       "      <th>Reference Length</th>\n",
       "    </tr>\n",
       "  </thead>\n",
       "  <tbody>\n",
       "    <tr>\n",
       "      <td>1</td>\n",
       "      <td>4.560100</td>\n",
       "      <td>4.520059</td>\n",
       "      <td>0.287300</td>\n",
       "      <td>0.079000</td>\n",
       "      <td>0.252300</td>\n",
       "      <td>0.252500</td>\n",
       "      <td>13.848300</td>\n",
       "      <td>0.028200</td>\n",
       "      <td>1.000000</td>\n",
       "      <td>1.106700</td>\n",
       "      <td>25219</td>\n",
       "      <td>22787</td>\n",
       "    </tr>\n",
       "  </tbody>\n",
       "</table><p>"
      ],
      "text/plain": [
       "<IPython.core.display.HTML object>"
      ]
     },
     "metadata": {},
     "output_type": "display_data"
    },
    {
     "name": "stdout",
     "output_type": "stream",
     "text": [
      "TRAINING EPOCH SET 5\n",
      "TRAINING EPOCHS 3\n",
      "LOADING MODEL ./tmp/\n",
      "cuda\n"
     ]
    },
    {
     "name": "stderr",
     "output_type": "stream",
     "text": [
      "Using the `WANDB_DISABLED` environment variable is deprecated and will be removed in v5. Use the --report_to flag to control the integrations used for logging result (for instance --report_to none).\n"
     ]
    },
    {
     "data": {
      "text/html": [
       "\n",
       "    <div>\n",
       "      \n",
       "      <progress value='3501' max='3501' style='width:300px; height:20px; vertical-align: middle;'></progress>\n",
       "      [3501/3501 15:40, Epoch 3/3]\n",
       "    </div>\n",
       "    <table border=\"1\" class=\"dataframe\">\n",
       "  <thead>\n",
       " <tr style=\"text-align: left;\">\n",
       "      <th>Epoch</th>\n",
       "      <th>Training Loss</th>\n",
       "      <th>Validation Loss</th>\n",
       "      <th>Rouge1</th>\n",
       "      <th>Rouge2</th>\n",
       "      <th>Rougel</th>\n",
       "      <th>Rougelsum</th>\n",
       "      <th>Gen Len</th>\n",
       "      <th>Bleu</th>\n",
       "      <th>Brevity Penalty</th>\n",
       "      <th>Length Ratio</th>\n",
       "      <th>Translation Length</th>\n",
       "      <th>Reference Length</th>\n",
       "    </tr>\n",
       "  </thead>\n",
       "  <tbody>\n",
       "    <tr>\n",
       "      <td>1</td>\n",
       "      <td>4.292300</td>\n",
       "      <td>4.469131</td>\n",
       "      <td>0.287900</td>\n",
       "      <td>0.077800</td>\n",
       "      <td>0.251100</td>\n",
       "      <td>0.251200</td>\n",
       "      <td>14.015900</td>\n",
       "      <td>0.028200</td>\n",
       "      <td>1.000000</td>\n",
       "      <td>1.127700</td>\n",
       "      <td>25696</td>\n",
       "      <td>22787</td>\n",
       "    </tr>\n",
       "    <tr>\n",
       "      <td>2</td>\n",
       "      <td>4.419900</td>\n",
       "      <td>4.432920</td>\n",
       "      <td>0.287100</td>\n",
       "      <td>0.079400</td>\n",
       "      <td>0.251300</td>\n",
       "      <td>0.251300</td>\n",
       "      <td>14.108400</td>\n",
       "      <td>0.028300</td>\n",
       "      <td>1.000000</td>\n",
       "      <td>1.127600</td>\n",
       "      <td>25695</td>\n",
       "      <td>22787</td>\n",
       "    </tr>\n",
       "    <tr>\n",
       "      <td>3</td>\n",
       "      <td>4.316900</td>\n",
       "      <td>4.424791</td>\n",
       "      <td>0.289600</td>\n",
       "      <td>0.080100</td>\n",
       "      <td>0.252000</td>\n",
       "      <td>0.252000</td>\n",
       "      <td>13.973900</td>\n",
       "      <td>0.029400</td>\n",
       "      <td>1.000000</td>\n",
       "      <td>1.113500</td>\n",
       "      <td>25374</td>\n",
       "      <td>22787</td>\n",
       "    </tr>\n",
       "  </tbody>\n",
       "</table><p>"
      ],
      "text/plain": [
       "<IPython.core.display.HTML object>"
      ]
     },
     "metadata": {},
     "output_type": "display_data"
    },
    {
     "name": "stdout",
     "output_type": "stream",
     "text": [
      "TRAINING EPOCH SET 10\n",
      "TRAINING EPOCHS 5\n",
      "LOADING MODEL ./tmp/\n",
      "cuda\n"
     ]
    },
    {
     "name": "stderr",
     "output_type": "stream",
     "text": [
      "Using the `WANDB_DISABLED` environment variable is deprecated and will be removed in v5. Use the --report_to flag to control the integrations used for logging result (for instance --report_to none).\n"
     ]
    },
    {
     "data": {
      "text/html": [
       "\n",
       "    <div>\n",
       "      \n",
       "      <progress value='5835' max='5835' style='width:300px; height:20px; vertical-align: middle;'></progress>\n",
       "      [5835/5835 26:41, Epoch 5/5]\n",
       "    </div>\n",
       "    <table border=\"1\" class=\"dataframe\">\n",
       "  <thead>\n",
       " <tr style=\"text-align: left;\">\n",
       "      <th>Epoch</th>\n",
       "      <th>Training Loss</th>\n",
       "      <th>Validation Loss</th>\n",
       "      <th>Rouge1</th>\n",
       "      <th>Rouge2</th>\n",
       "      <th>Rougel</th>\n",
       "      <th>Rougelsum</th>\n",
       "      <th>Gen Len</th>\n",
       "      <th>Bleu</th>\n",
       "      <th>Brevity Penalty</th>\n",
       "      <th>Length Ratio</th>\n",
       "      <th>Translation Length</th>\n",
       "      <th>Reference Length</th>\n",
       "    </tr>\n",
       "  </thead>\n",
       "  <tbody>\n",
       "    <tr>\n",
       "      <td>1</td>\n",
       "      <td>3.828400</td>\n",
       "      <td>4.470607</td>\n",
       "      <td>0.284200</td>\n",
       "      <td>0.076700</td>\n",
       "      <td>0.249200</td>\n",
       "      <td>0.249300</td>\n",
       "      <td>13.834600</td>\n",
       "      <td>0.028200</td>\n",
       "      <td>1.000000</td>\n",
       "      <td>1.103300</td>\n",
       "      <td>25142</td>\n",
       "      <td>22787</td>\n",
       "    </tr>\n",
       "    <tr>\n",
       "      <td>2</td>\n",
       "      <td>4.021700</td>\n",
       "      <td>4.452669</td>\n",
       "      <td>0.284100</td>\n",
       "      <td>0.077600</td>\n",
       "      <td>0.248500</td>\n",
       "      <td>0.248600</td>\n",
       "      <td>14.150400</td>\n",
       "      <td>0.028600</td>\n",
       "      <td>1.000000</td>\n",
       "      <td>1.123900</td>\n",
       "      <td>25610</td>\n",
       "      <td>22787</td>\n",
       "    </tr>\n",
       "    <tr>\n",
       "      <td>3</td>\n",
       "      <td>4.045700</td>\n",
       "      <td>4.421396</td>\n",
       "      <td>0.285400</td>\n",
       "      <td>0.079100</td>\n",
       "      <td>0.250600</td>\n",
       "      <td>0.250700</td>\n",
       "      <td>13.676100</td>\n",
       "      <td>0.027500</td>\n",
       "      <td>1.000000</td>\n",
       "      <td>1.077800</td>\n",
       "      <td>24560</td>\n",
       "      <td>22787</td>\n",
       "    </tr>\n",
       "    <tr>\n",
       "      <td>4</td>\n",
       "      <td>4.037600</td>\n",
       "      <td>4.426142</td>\n",
       "      <td>0.287400</td>\n",
       "      <td>0.079800</td>\n",
       "      <td>0.251300</td>\n",
       "      <td>0.251200</td>\n",
       "      <td>13.866800</td>\n",
       "      <td>0.028700</td>\n",
       "      <td>1.000000</td>\n",
       "      <td>1.100100</td>\n",
       "      <td>25069</td>\n",
       "      <td>22787</td>\n",
       "    </tr>\n",
       "    <tr>\n",
       "      <td>5</td>\n",
       "      <td>3.984900</td>\n",
       "      <td>4.431852</td>\n",
       "      <td>0.287700</td>\n",
       "      <td>0.079200</td>\n",
       "      <td>0.251400</td>\n",
       "      <td>0.251500</td>\n",
       "      <td>13.874900</td>\n",
       "      <td>0.028600</td>\n",
       "      <td>1.000000</td>\n",
       "      <td>1.098200</td>\n",
       "      <td>25024</td>\n",
       "      <td>22787</td>\n",
       "    </tr>\n",
       "  </tbody>\n",
       "</table><p>"
      ],
      "text/plain": [
       "<IPython.core.display.HTML object>"
      ]
     },
     "metadata": {},
     "output_type": "display_data"
    },
    {
     "name": "stdout",
     "output_type": "stream",
     "text": [
      "Fold 1\n"
     ]
    },
    {
     "data": {
      "application/vnd.jupyter.widget-view+json": {
       "model_id": "e7c335e21a034fd6936a522fdd10eb80",
       "version_major": 2,
       "version_minor": 0
      },
      "text/plain": [
       "Filter:   0%|          | 0/7000 [00:00<?, ? examples/s]"
      ]
     },
     "metadata": {},
     "output_type": "display_data"
    },
    {
     "data": {
      "application/vnd.jupyter.widget-view+json": {
       "model_id": "8dc98fcf13d24e8695c4ba95283c33aa",
       "version_major": 2,
       "version_minor": 0
      },
      "text/plain": [
       "Filter:   0%|          | 0/7000 [00:00<?, ? examples/s]"
      ]
     },
     "metadata": {},
     "output_type": "display_data"
    },
    {
     "name": "stdout",
     "output_type": "stream",
     "text": [
      "TRAINING EPOCH SET 0\n",
      "TRAINING EPOCHS 0\n",
      "LOADING MODEL Salesforce/codet5-base-multi-sum\n",
      "cuda\n"
     ]
    },
    {
     "name": "stderr",
     "output_type": "stream",
     "text": [
      "Using the `WANDB_DISABLED` environment variable is deprecated and will be removed in v5. Use the --report_to flag to control the integrations used for logging result (for instance --report_to none).\n"
     ]
    },
    {
     "name": "stdout",
     "output_type": "stream",
     "text": [
      "TRAINING EPOCH SET 1\n",
      "TRAINING EPOCHS 1\n",
      "LOADING MODEL Salesforce/codet5-base-multi-sum\n",
      "cuda\n"
     ]
    },
    {
     "name": "stderr",
     "output_type": "stream",
     "text": [
      "Using the `WANDB_DISABLED` environment variable is deprecated and will be removed in v5. Use the --report_to flag to control the integrations used for logging result (for instance --report_to none).\n"
     ]
    },
    {
     "data": {
      "text/html": [
       "\n",
       "    <div>\n",
       "      \n",
       "      <progress value='1167' max='1167' style='width:300px; height:20px; vertical-align: middle;'></progress>\n",
       "      [1167/1167 05:20, Epoch 1/1]\n",
       "    </div>\n",
       "    <table border=\"1\" class=\"dataframe\">\n",
       "  <thead>\n",
       " <tr style=\"text-align: left;\">\n",
       "      <th>Epoch</th>\n",
       "      <th>Training Loss</th>\n",
       "      <th>Validation Loss</th>\n",
       "      <th>Rouge1</th>\n",
       "      <th>Rouge2</th>\n",
       "      <th>Rougel</th>\n",
       "      <th>Rougelsum</th>\n",
       "      <th>Gen Len</th>\n",
       "      <th>Bleu</th>\n",
       "      <th>Brevity Penalty</th>\n",
       "      <th>Length Ratio</th>\n",
       "      <th>Translation Length</th>\n",
       "      <th>Reference Length</th>\n",
       "    </tr>\n",
       "  </thead>\n",
       "  <tbody>\n",
       "    <tr>\n",
       "      <td>1</td>\n",
       "      <td>5.093800</td>\n",
       "      <td>4.611434</td>\n",
       "      <td>0.270200</td>\n",
       "      <td>0.071500</td>\n",
       "      <td>0.238400</td>\n",
       "      <td>0.238300</td>\n",
       "      <td>14.215200</td>\n",
       "      <td>0.023400</td>\n",
       "      <td>1.000000</td>\n",
       "      <td>1.169500</td>\n",
       "      <td>26106</td>\n",
       "      <td>22323</td>\n",
       "    </tr>\n",
       "  </tbody>\n",
       "</table><p>"
      ],
      "text/plain": [
       "<IPython.core.display.HTML object>"
      ]
     },
     "metadata": {},
     "output_type": "display_data"
    },
    {
     "name": "stdout",
     "output_type": "stream",
     "text": [
      "TRAINING EPOCH SET 2\n",
      "TRAINING EPOCHS 1\n",
      "LOADING MODEL ./tmp/\n",
      "cuda\n"
     ]
    },
    {
     "name": "stderr",
     "output_type": "stream",
     "text": [
      "Using the `WANDB_DISABLED` environment variable is deprecated and will be removed in v5. Use the --report_to flag to control the integrations used for logging result (for instance --report_to none).\n"
     ]
    },
    {
     "data": {
      "text/html": [
       "\n",
       "    <div>\n",
       "      \n",
       "      <progress value='1167' max='1167' style='width:300px; height:20px; vertical-align: middle;'></progress>\n",
       "      [1167/1167 05:19, Epoch 1/1]\n",
       "    </div>\n",
       "    <table border=\"1\" class=\"dataframe\">\n",
       "  <thead>\n",
       " <tr style=\"text-align: left;\">\n",
       "      <th>Epoch</th>\n",
       "      <th>Training Loss</th>\n",
       "      <th>Validation Loss</th>\n",
       "      <th>Rouge1</th>\n",
       "      <th>Rouge2</th>\n",
       "      <th>Rougel</th>\n",
       "      <th>Rougelsum</th>\n",
       "      <th>Gen Len</th>\n",
       "      <th>Bleu</th>\n",
       "      <th>Brevity Penalty</th>\n",
       "      <th>Length Ratio</th>\n",
       "      <th>Translation Length</th>\n",
       "      <th>Reference Length</th>\n",
       "    </tr>\n",
       "  </thead>\n",
       "  <tbody>\n",
       "    <tr>\n",
       "      <td>1</td>\n",
       "      <td>4.544800</td>\n",
       "      <td>4.532459</td>\n",
       "      <td>0.277000</td>\n",
       "      <td>0.074500</td>\n",
       "      <td>0.242600</td>\n",
       "      <td>0.242300</td>\n",
       "      <td>14.199300</td>\n",
       "      <td>0.026100</td>\n",
       "      <td>1.000000</td>\n",
       "      <td>1.165100</td>\n",
       "      <td>26009</td>\n",
       "      <td>22323</td>\n",
       "    </tr>\n",
       "  </tbody>\n",
       "</table><p>"
      ],
      "text/plain": [
       "<IPython.core.display.HTML object>"
      ]
     },
     "metadata": {},
     "output_type": "display_data"
    },
    {
     "name": "stdout",
     "output_type": "stream",
     "text": [
      "TRAINING EPOCH SET 5\n",
      "TRAINING EPOCHS 3\n",
      "LOADING MODEL ./tmp/\n",
      "cuda\n"
     ]
    },
    {
     "name": "stderr",
     "output_type": "stream",
     "text": [
      "Using the `WANDB_DISABLED` environment variable is deprecated and will be removed in v5. Use the --report_to flag to control the integrations used for logging result (for instance --report_to none).\n"
     ]
    },
    {
     "data": {
      "text/html": [
       "\n",
       "    <div>\n",
       "      \n",
       "      <progress value='3501' max='3501' style='width:300px; height:20px; vertical-align: middle;'></progress>\n",
       "      [3501/3501 15:43, Epoch 3/3]\n",
       "    </div>\n",
       "    <table border=\"1\" class=\"dataframe\">\n",
       "  <thead>\n",
       " <tr style=\"text-align: left;\">\n",
       "      <th>Epoch</th>\n",
       "      <th>Training Loss</th>\n",
       "      <th>Validation Loss</th>\n",
       "      <th>Rouge1</th>\n",
       "      <th>Rouge2</th>\n",
       "      <th>Rougel</th>\n",
       "      <th>Rougelsum</th>\n",
       "      <th>Gen Len</th>\n",
       "      <th>Bleu</th>\n",
       "      <th>Brevity Penalty</th>\n",
       "      <th>Length Ratio</th>\n",
       "      <th>Translation Length</th>\n",
       "      <th>Reference Length</th>\n",
       "    </tr>\n",
       "  </thead>\n",
       "  <tbody>\n",
       "    <tr>\n",
       "      <td>1</td>\n",
       "      <td>4.272800</td>\n",
       "      <td>4.486893</td>\n",
       "      <td>0.277700</td>\n",
       "      <td>0.074800</td>\n",
       "      <td>0.243200</td>\n",
       "      <td>0.243000</td>\n",
       "      <td>14.215200</td>\n",
       "      <td>0.026300</td>\n",
       "      <td>1.000000</td>\n",
       "      <td>1.163700</td>\n",
       "      <td>25977</td>\n",
       "      <td>22323</td>\n",
       "    </tr>\n",
       "    <tr>\n",
       "      <td>2</td>\n",
       "      <td>4.408100</td>\n",
       "      <td>4.443185</td>\n",
       "      <td>0.282200</td>\n",
       "      <td>0.078900</td>\n",
       "      <td>0.247900</td>\n",
       "      <td>0.247600</td>\n",
       "      <td>13.973400</td>\n",
       "      <td>0.029400</td>\n",
       "      <td>1.000000</td>\n",
       "      <td>1.134900</td>\n",
       "      <td>25334</td>\n",
       "      <td>22323</td>\n",
       "    </tr>\n",
       "    <tr>\n",
       "      <td>3</td>\n",
       "      <td>4.305100</td>\n",
       "      <td>4.439881</td>\n",
       "      <td>0.281000</td>\n",
       "      <td>0.079100</td>\n",
       "      <td>0.246400</td>\n",
       "      <td>0.246300</td>\n",
       "      <td>13.956300</td>\n",
       "      <td>0.029100</td>\n",
       "      <td>1.000000</td>\n",
       "      <td>1.132200</td>\n",
       "      <td>25273</td>\n",
       "      <td>22323</td>\n",
       "    </tr>\n",
       "  </tbody>\n",
       "</table><p>"
      ],
      "text/plain": [
       "<IPython.core.display.HTML object>"
      ]
     },
     "metadata": {},
     "output_type": "display_data"
    },
    {
     "name": "stdout",
     "output_type": "stream",
     "text": [
      "TRAINING EPOCH SET 10\n",
      "TRAINING EPOCHS 5\n",
      "LOADING MODEL ./tmp/\n",
      "cuda\n"
     ]
    },
    {
     "name": "stderr",
     "output_type": "stream",
     "text": [
      "Using the `WANDB_DISABLED` environment variable is deprecated and will be removed in v5. Use the --report_to flag to control the integrations used for logging result (for instance --report_to none).\n"
     ]
    },
    {
     "data": {
      "text/html": [
       "\n",
       "    <div>\n",
       "      \n",
       "      <progress value='5835' max='5835' style='width:300px; height:20px; vertical-align: middle;'></progress>\n",
       "      [5835/5835 27:54, Epoch 5/5]\n",
       "    </div>\n",
       "    <table border=\"1\" class=\"dataframe\">\n",
       "  <thead>\n",
       " <tr style=\"text-align: left;\">\n",
       "      <th>Epoch</th>\n",
       "      <th>Training Loss</th>\n",
       "      <th>Validation Loss</th>\n",
       "      <th>Rouge1</th>\n",
       "      <th>Rouge2</th>\n",
       "      <th>Rougel</th>\n",
       "      <th>Rougelsum</th>\n",
       "      <th>Gen Len</th>\n",
       "      <th>Bleu</th>\n",
       "      <th>Brevity Penalty</th>\n",
       "      <th>Length Ratio</th>\n",
       "      <th>Translation Length</th>\n",
       "      <th>Reference Length</th>\n",
       "    </tr>\n",
       "  </thead>\n",
       "  <tbody>\n",
       "    <tr>\n",
       "      <td>1</td>\n",
       "      <td>3.803900</td>\n",
       "      <td>4.497812</td>\n",
       "      <td>0.276600</td>\n",
       "      <td>0.074400</td>\n",
       "      <td>0.242600</td>\n",
       "      <td>0.242300</td>\n",
       "      <td>13.874000</td>\n",
       "      <td>0.027300</td>\n",
       "      <td>1.000000</td>\n",
       "      <td>1.122600</td>\n",
       "      <td>25059</td>\n",
       "      <td>22323</td>\n",
       "    </tr>\n",
       "    <tr>\n",
       "      <td>2</td>\n",
       "      <td>4.007400</td>\n",
       "      <td>4.461789</td>\n",
       "      <td>0.278600</td>\n",
       "      <td>0.076200</td>\n",
       "      <td>0.245300</td>\n",
       "      <td>0.245200</td>\n",
       "      <td>13.999100</td>\n",
       "      <td>0.027000</td>\n",
       "      <td>1.000000</td>\n",
       "      <td>1.133300</td>\n",
       "      <td>25298</td>\n",
       "      <td>22323</td>\n",
       "    </tr>\n",
       "    <tr>\n",
       "      <td>3</td>\n",
       "      <td>4.033300</td>\n",
       "      <td>4.438277</td>\n",
       "      <td>0.277700</td>\n",
       "      <td>0.075300</td>\n",
       "      <td>0.243700</td>\n",
       "      <td>0.243600</td>\n",
       "      <td>13.786100</td>\n",
       "      <td>0.026800</td>\n",
       "      <td>1.000000</td>\n",
       "      <td>1.115000</td>\n",
       "      <td>24891</td>\n",
       "      <td>22323</td>\n",
       "    </tr>\n",
       "    <tr>\n",
       "      <td>4</td>\n",
       "      <td>4.023400</td>\n",
       "      <td>4.447116</td>\n",
       "      <td>0.277200</td>\n",
       "      <td>0.075200</td>\n",
       "      <td>0.243300</td>\n",
       "      <td>0.243300</td>\n",
       "      <td>13.850800</td>\n",
       "      <td>0.026200</td>\n",
       "      <td>1.000000</td>\n",
       "      <td>1.113400</td>\n",
       "      <td>24854</td>\n",
       "      <td>22323</td>\n",
       "    </tr>\n",
       "    <tr>\n",
       "      <td>5</td>\n",
       "      <td>3.986100</td>\n",
       "      <td>4.449587</td>\n",
       "      <td>0.279100</td>\n",
       "      <td>0.076100</td>\n",
       "      <td>0.245500</td>\n",
       "      <td>0.245400</td>\n",
       "      <td>13.851700</td>\n",
       "      <td>0.027100</td>\n",
       "      <td>1.000000</td>\n",
       "      <td>1.117400</td>\n",
       "      <td>24944</td>\n",
       "      <td>22323</td>\n",
       "    </tr>\n",
       "  </tbody>\n",
       "</table><p>"
      ],
      "text/plain": [
       "<IPython.core.display.HTML object>"
      ]
     },
     "metadata": {},
     "output_type": "display_data"
    },
    {
     "name": "stdout",
     "output_type": "stream",
     "text": [
      "Fold 2\n"
     ]
    },
    {
     "data": {
      "application/vnd.jupyter.widget-view+json": {
       "model_id": "181514cd02f843de9144c0edeeafab89",
       "version_major": 2,
       "version_minor": 0
      },
      "text/plain": [
       "Filter:   0%|          | 0/7000 [00:00<?, ? examples/s]"
      ]
     },
     "metadata": {},
     "output_type": "display_data"
    },
    {
     "data": {
      "application/vnd.jupyter.widget-view+json": {
       "model_id": "7bf7f25240f34dd5bb1789a04e08b30b",
       "version_major": 2,
       "version_minor": 0
      },
      "text/plain": [
       "Filter:   0%|          | 0/7000 [00:00<?, ? examples/s]"
      ]
     },
     "metadata": {},
     "output_type": "display_data"
    },
    {
     "name": "stdout",
     "output_type": "stream",
     "text": [
      "TRAINING EPOCH SET 0\n",
      "TRAINING EPOCHS 0\n",
      "LOADING MODEL Salesforce/codet5-base-multi-sum\n",
      "cuda\n"
     ]
    },
    {
     "name": "stderr",
     "output_type": "stream",
     "text": [
      "Using the `WANDB_DISABLED` environment variable is deprecated and will be removed in v5. Use the --report_to flag to control the integrations used for logging result (for instance --report_to none).\n"
     ]
    },
    {
     "name": "stdout",
     "output_type": "stream",
     "text": [
      "TRAINING EPOCH SET 1\n",
      "TRAINING EPOCHS 1\n",
      "LOADING MODEL Salesforce/codet5-base-multi-sum\n",
      "cuda\n"
     ]
    },
    {
     "name": "stderr",
     "output_type": "stream",
     "text": [
      "Using the `WANDB_DISABLED` environment variable is deprecated and will be removed in v5. Use the --report_to flag to control the integrations used for logging result (for instance --report_to none).\n"
     ]
    },
    {
     "data": {
      "text/html": [
       "\n",
       "    <div>\n",
       "      \n",
       "      <progress value='1167' max='1167' style='width:300px; height:20px; vertical-align: middle;'></progress>\n",
       "      [1167/1167 05:32, Epoch 1/1]\n",
       "    </div>\n",
       "    <table border=\"1\" class=\"dataframe\">\n",
       "  <thead>\n",
       " <tr style=\"text-align: left;\">\n",
       "      <th>Epoch</th>\n",
       "      <th>Training Loss</th>\n",
       "      <th>Validation Loss</th>\n",
       "      <th>Rouge1</th>\n",
       "      <th>Rouge2</th>\n",
       "      <th>Rougel</th>\n",
       "      <th>Rougelsum</th>\n",
       "      <th>Gen Len</th>\n",
       "      <th>Bleu</th>\n",
       "      <th>Brevity Penalty</th>\n",
       "      <th>Length Ratio</th>\n",
       "      <th>Translation Length</th>\n",
       "      <th>Reference Length</th>\n",
       "    </tr>\n",
       "  </thead>\n",
       "  <tbody>\n",
       "    <tr>\n",
       "      <td>1</td>\n",
       "      <td>5.078600</td>\n",
       "      <td>4.627240</td>\n",
       "      <td>0.267900</td>\n",
       "      <td>0.072800</td>\n",
       "      <td>0.238000</td>\n",
       "      <td>0.238200</td>\n",
       "      <td>13.812700</td>\n",
       "      <td>0.026900</td>\n",
       "      <td>1.000000</td>\n",
       "      <td>1.115600</td>\n",
       "      <td>25152</td>\n",
       "      <td>22545</td>\n",
       "    </tr>\n",
       "  </tbody>\n",
       "</table><p>"
      ],
      "text/plain": [
       "<IPython.core.display.HTML object>"
      ]
     },
     "metadata": {},
     "output_type": "display_data"
    },
    {
     "name": "stdout",
     "output_type": "stream",
     "text": [
      "TRAINING EPOCH SET 2\n",
      "TRAINING EPOCHS 1\n",
      "LOADING MODEL ./tmp/\n",
      "cuda\n"
     ]
    },
    {
     "name": "stderr",
     "output_type": "stream",
     "text": [
      "Using the `WANDB_DISABLED` environment variable is deprecated and will be removed in v5. Use the --report_to flag to control the integrations used for logging result (for instance --report_to none).\n"
     ]
    },
    {
     "data": {
      "text/html": [
       "\n",
       "    <div>\n",
       "      \n",
       "      <progress value='1167' max='1167' style='width:300px; height:20px; vertical-align: middle;'></progress>\n",
       "      [1167/1167 05:03, Epoch 1/1]\n",
       "    </div>\n",
       "    <table border=\"1\" class=\"dataframe\">\n",
       "  <thead>\n",
       " <tr style=\"text-align: left;\">\n",
       "      <th>Epoch</th>\n",
       "      <th>Training Loss</th>\n",
       "      <th>Validation Loss</th>\n",
       "      <th>Rouge1</th>\n",
       "      <th>Rouge2</th>\n",
       "      <th>Rougel</th>\n",
       "      <th>Rougelsum</th>\n",
       "      <th>Gen Len</th>\n",
       "      <th>Bleu</th>\n",
       "      <th>Brevity Penalty</th>\n",
       "      <th>Length Ratio</th>\n",
       "      <th>Translation Length</th>\n",
       "      <th>Reference Length</th>\n",
       "    </tr>\n",
       "  </thead>\n",
       "  <tbody>\n",
       "    <tr>\n",
       "      <td>1</td>\n",
       "      <td>4.536700</td>\n",
       "      <td>4.547226</td>\n",
       "      <td>0.275300</td>\n",
       "      <td>0.077800</td>\n",
       "      <td>0.244000</td>\n",
       "      <td>0.244000</td>\n",
       "      <td>13.776700</td>\n",
       "      <td>0.030100</td>\n",
       "      <td>1.000000</td>\n",
       "      <td>1.109800</td>\n",
       "      <td>25020</td>\n",
       "      <td>22545</td>\n",
       "    </tr>\n",
       "  </tbody>\n",
       "</table><p>"
      ],
      "text/plain": [
       "<IPython.core.display.HTML object>"
      ]
     },
     "metadata": {},
     "output_type": "display_data"
    },
    {
     "name": "stdout",
     "output_type": "stream",
     "text": [
      "TRAINING EPOCH SET 5\n",
      "TRAINING EPOCHS 3\n",
      "LOADING MODEL ./tmp/\n",
      "cuda\n"
     ]
    },
    {
     "name": "stderr",
     "output_type": "stream",
     "text": [
      "Using the `WANDB_DISABLED` environment variable is deprecated and will be removed in v5. Use the --report_to flag to control the integrations used for logging result (for instance --report_to none).\n"
     ]
    },
    {
     "data": {
      "text/html": [
       "\n",
       "    <div>\n",
       "      \n",
       "      <progress value='3501' max='3501' style='width:300px; height:20px; vertical-align: middle;'></progress>\n",
       "      [3501/3501 16:31, Epoch 3/3]\n",
       "    </div>\n",
       "    <table border=\"1\" class=\"dataframe\">\n",
       "  <thead>\n",
       " <tr style=\"text-align: left;\">\n",
       "      <th>Epoch</th>\n",
       "      <th>Training Loss</th>\n",
       "      <th>Validation Loss</th>\n",
       "      <th>Rouge1</th>\n",
       "      <th>Rouge2</th>\n",
       "      <th>Rougel</th>\n",
       "      <th>Rougelsum</th>\n",
       "      <th>Gen Len</th>\n",
       "      <th>Bleu</th>\n",
       "      <th>Brevity Penalty</th>\n",
       "      <th>Length Ratio</th>\n",
       "      <th>Translation Length</th>\n",
       "      <th>Reference Length</th>\n",
       "    </tr>\n",
       "  </thead>\n",
       "  <tbody>\n",
       "    <tr>\n",
       "      <td>1</td>\n",
       "      <td>4.264500</td>\n",
       "      <td>4.498985</td>\n",
       "      <td>0.277900</td>\n",
       "      <td>0.078000</td>\n",
       "      <td>0.245100</td>\n",
       "      <td>0.245300</td>\n",
       "      <td>13.712000</td>\n",
       "      <td>0.029000</td>\n",
       "      <td>1.000000</td>\n",
       "      <td>1.101100</td>\n",
       "      <td>24824</td>\n",
       "      <td>22545</td>\n",
       "    </tr>\n",
       "    <tr>\n",
       "      <td>2</td>\n",
       "      <td>4.404900</td>\n",
       "      <td>4.458007</td>\n",
       "      <td>0.280800</td>\n",
       "      <td>0.077500</td>\n",
       "      <td>0.245500</td>\n",
       "      <td>0.245500</td>\n",
       "      <td>13.718800</td>\n",
       "      <td>0.027900</td>\n",
       "      <td>1.000000</td>\n",
       "      <td>1.104100</td>\n",
       "      <td>24892</td>\n",
       "      <td>22545</td>\n",
       "    </tr>\n",
       "    <tr>\n",
       "      <td>3</td>\n",
       "      <td>4.294800</td>\n",
       "      <td>4.456551</td>\n",
       "      <td>0.282400</td>\n",
       "      <td>0.077900</td>\n",
       "      <td>0.247600</td>\n",
       "      <td>0.247500</td>\n",
       "      <td>13.747100</td>\n",
       "      <td>0.028100</td>\n",
       "      <td>1.000000</td>\n",
       "      <td>1.099800</td>\n",
       "      <td>24794</td>\n",
       "      <td>22545</td>\n",
       "    </tr>\n",
       "  </tbody>\n",
       "</table><p>"
      ],
      "text/plain": [
       "<IPython.core.display.HTML object>"
      ]
     },
     "metadata": {},
     "output_type": "display_data"
    },
    {
     "name": "stdout",
     "output_type": "stream",
     "text": [
      "TRAINING EPOCH SET 10\n",
      "TRAINING EPOCHS 5\n",
      "LOADING MODEL ./tmp/\n",
      "cuda\n"
     ]
    },
    {
     "name": "stderr",
     "output_type": "stream",
     "text": [
      "Using the `WANDB_DISABLED` environment variable is deprecated and will be removed in v5. Use the --report_to flag to control the integrations used for logging result (for instance --report_to none).\n"
     ]
    },
    {
     "data": {
      "text/html": [
       "\n",
       "    <div>\n",
       "      \n",
       "      <progress value='5835' max='5835' style='width:300px; height:20px; vertical-align: middle;'></progress>\n",
       "      [5835/5835 25:58, Epoch 5/5]\n",
       "    </div>\n",
       "    <table border=\"1\" class=\"dataframe\">\n",
       "  <thead>\n",
       " <tr style=\"text-align: left;\">\n",
       "      <th>Epoch</th>\n",
       "      <th>Training Loss</th>\n",
       "      <th>Validation Loss</th>\n",
       "      <th>Rouge1</th>\n",
       "      <th>Rouge2</th>\n",
       "      <th>Rougel</th>\n",
       "      <th>Rougelsum</th>\n",
       "      <th>Gen Len</th>\n",
       "      <th>Bleu</th>\n",
       "      <th>Brevity Penalty</th>\n",
       "      <th>Length Ratio</th>\n",
       "      <th>Translation Length</th>\n",
       "      <th>Reference Length</th>\n",
       "    </tr>\n",
       "  </thead>\n",
       "  <tbody>\n",
       "    <tr>\n",
       "      <td>1</td>\n",
       "      <td>3.797400</td>\n",
       "      <td>4.505895</td>\n",
       "      <td>0.276900</td>\n",
       "      <td>0.074800</td>\n",
       "      <td>0.243700</td>\n",
       "      <td>0.243900</td>\n",
       "      <td>13.441100</td>\n",
       "      <td>0.027800</td>\n",
       "      <td>1.000000</td>\n",
       "      <td>1.067400</td>\n",
       "      <td>24064</td>\n",
       "      <td>22545</td>\n",
       "    </tr>\n",
       "    <tr>\n",
       "      <td>2</td>\n",
       "      <td>4.007000</td>\n",
       "      <td>4.479992</td>\n",
       "      <td>0.276500</td>\n",
       "      <td>0.072700</td>\n",
       "      <td>0.240800</td>\n",
       "      <td>0.241000</td>\n",
       "      <td>13.533200</td>\n",
       "      <td>0.027500</td>\n",
       "      <td>1.000000</td>\n",
       "      <td>1.081600</td>\n",
       "      <td>24385</td>\n",
       "      <td>22545</td>\n",
       "    </tr>\n",
       "    <tr>\n",
       "      <td>3</td>\n",
       "      <td>4.026000</td>\n",
       "      <td>4.457977</td>\n",
       "      <td>0.279500</td>\n",
       "      <td>0.076200</td>\n",
       "      <td>0.245500</td>\n",
       "      <td>0.246000</td>\n",
       "      <td>13.667400</td>\n",
       "      <td>0.028500</td>\n",
       "      <td>1.000000</td>\n",
       "      <td>1.087200</td>\n",
       "      <td>24511</td>\n",
       "      <td>22545</td>\n",
       "    </tr>\n",
       "    <tr>\n",
       "      <td>4</td>\n",
       "      <td>4.018300</td>\n",
       "      <td>4.457972</td>\n",
       "      <td>0.281300</td>\n",
       "      <td>0.077300</td>\n",
       "      <td>0.247900</td>\n",
       "      <td>0.248300</td>\n",
       "      <td>13.691000</td>\n",
       "      <td>0.029600</td>\n",
       "      <td>1.000000</td>\n",
       "      <td>1.084700</td>\n",
       "      <td>24454</td>\n",
       "      <td>22545</td>\n",
       "    </tr>\n",
       "    <tr>\n",
       "      <td>5</td>\n",
       "      <td>3.970600</td>\n",
       "      <td>4.463252</td>\n",
       "      <td>0.278800</td>\n",
       "      <td>0.074800</td>\n",
       "      <td>0.245500</td>\n",
       "      <td>0.245700</td>\n",
       "      <td>13.610400</td>\n",
       "      <td>0.028800</td>\n",
       "      <td>1.000000</td>\n",
       "      <td>1.079800</td>\n",
       "      <td>24344</td>\n",
       "      <td>22545</td>\n",
       "    </tr>\n",
       "  </tbody>\n",
       "</table><p>"
      ],
      "text/plain": [
       "<IPython.core.display.HTML object>"
      ]
     },
     "metadata": {},
     "output_type": "display_data"
    }
   ],
   "source": [
    "fold_results = cv_training_epochs_sets(experiment_config=experiment_config,\n",
    "                            splits=splits,\n",
    "                            questions_list=questions_list,\n",
    "                            train_dataset=train_dataset,\n",
    "                            tokenizer=tokenizer)\n",
    "\n",
    "with open(f'reports/results/{experiment_config[\"ANALYSIS_POSTFIX\"]}/cv_fold_epoch_set.pickle', 'wb') as handle:\n",
    "    pickle.dump(fold_results, handle, protocol=pickle.HIGHEST_PROTOCOL)"
   ]
  },
  {
   "cell_type": "code",
   "execution_count": 7,
   "metadata": {
    "scrolled": true
   },
   "outputs": [
    {
     "name": "stdout",
     "output_type": "stream",
     "text": [
      "Fold 0\n"
     ]
    },
    {
     "data": {
      "application/vnd.jupyter.widget-view+json": {
       "model_id": "cc987ee614b54f8f9de5d9f9d2694592",
       "version_major": 2,
       "version_minor": 0
      },
      "text/plain": [
       "Filter:   0%|          | 0/7000 [00:00<?, ? examples/s]"
      ]
     },
     "metadata": {},
     "output_type": "display_data"
    },
    {
     "data": {
      "application/vnd.jupyter.widget-view+json": {
       "model_id": "e75bdb5b4de443fc9e7cabd6fb01df2a",
       "version_major": 2,
       "version_minor": 0
      },
      "text/plain": [
       "Filter:   0%|          | 0/7000 [00:00<?, ? examples/s]"
      ]
     },
     "metadata": {},
     "output_type": "display_data"
    },
    {
     "name": "stdout",
     "output_type": "stream",
     "text": [
      "Cluster [1] training size (160, 14)\n",
      "TRAINING CLUSTER SET [1] FOR EPOCHS 5\n",
      "LOADING MODEL Salesforce/codet5-base-multi-sum\n",
      "cuda\n"
     ]
    },
    {
     "name": "stderr",
     "output_type": "stream",
     "text": [
      "Using the `WANDB_DISABLED` environment variable is deprecated and will be removed in v5. Use the --report_to flag to control the integrations used for logging result (for instance --report_to none).\n"
     ]
    },
    {
     "data": {
      "text/html": [
       "\n",
       "    <div>\n",
       "      \n",
       "      <progress value='200' max='200' style='width:300px; height:20px; vertical-align: middle;'></progress>\n",
       "      [200/200 10:28, Epoch 5/5]\n",
       "    </div>\n",
       "    <table border=\"1\" class=\"dataframe\">\n",
       "  <thead>\n",
       " <tr style=\"text-align: left;\">\n",
       "      <th>Epoch</th>\n",
       "      <th>Training Loss</th>\n",
       "      <th>Validation Loss</th>\n",
       "      <th>Rouge1</th>\n",
       "      <th>Rouge2</th>\n",
       "      <th>Rougel</th>\n",
       "      <th>Rougelsum</th>\n",
       "      <th>Gen Len</th>\n",
       "      <th>Bleu</th>\n",
       "      <th>Brevity Penalty</th>\n",
       "      <th>Length Ratio</th>\n",
       "      <th>Translation Length</th>\n",
       "      <th>Reference Length</th>\n",
       "    </tr>\n",
       "  </thead>\n",
       "  <tbody>\n",
       "    <tr>\n",
       "      <td>1</td>\n",
       "      <td>6.148100</td>\n",
       "      <td>5.903144</td>\n",
       "      <td>0.128000</td>\n",
       "      <td>0.016700</td>\n",
       "      <td>0.114600</td>\n",
       "      <td>0.114900</td>\n",
       "      <td>9.456700</td>\n",
       "      <td>0.004900</td>\n",
       "      <td>0.682400</td>\n",
       "      <td>0.723500</td>\n",
       "      <td>16487</td>\n",
       "      <td>22787</td>\n",
       "    </tr>\n",
       "    <tr>\n",
       "      <td>2</td>\n",
       "      <td>6.034200</td>\n",
       "      <td>5.810681</td>\n",
       "      <td>0.130000</td>\n",
       "      <td>0.017300</td>\n",
       "      <td>0.116900</td>\n",
       "      <td>0.117100</td>\n",
       "      <td>9.404500</td>\n",
       "      <td>0.005500</td>\n",
       "      <td>0.673200</td>\n",
       "      <td>0.716500</td>\n",
       "      <td>16326</td>\n",
       "      <td>22787</td>\n",
       "    </tr>\n",
       "    <tr>\n",
       "      <td>3</td>\n",
       "      <td>5.874900</td>\n",
       "      <td>5.682106</td>\n",
       "      <td>0.132600</td>\n",
       "      <td>0.018800</td>\n",
       "      <td>0.118700</td>\n",
       "      <td>0.118900</td>\n",
       "      <td>9.399300</td>\n",
       "      <td>0.006000</td>\n",
       "      <td>0.672700</td>\n",
       "      <td>0.716100</td>\n",
       "      <td>16317</td>\n",
       "      <td>22787</td>\n",
       "    </tr>\n",
       "    <tr>\n",
       "      <td>4</td>\n",
       "      <td>5.663100</td>\n",
       "      <td>5.549994</td>\n",
       "      <td>0.135800</td>\n",
       "      <td>0.020000</td>\n",
       "      <td>0.121100</td>\n",
       "      <td>0.121200</td>\n",
       "      <td>9.452900</td>\n",
       "      <td>0.006000</td>\n",
       "      <td>0.678600</td>\n",
       "      <td>0.720600</td>\n",
       "      <td>16420</td>\n",
       "      <td>22787</td>\n",
       "    </tr>\n",
       "    <tr>\n",
       "      <td>5</td>\n",
       "      <td>5.506900</td>\n",
       "      <td>5.425623</td>\n",
       "      <td>0.141300</td>\n",
       "      <td>0.021500</td>\n",
       "      <td>0.125700</td>\n",
       "      <td>0.125800</td>\n",
       "      <td>9.466600</td>\n",
       "      <td>0.006500</td>\n",
       "      <td>0.678400</td>\n",
       "      <td>0.720500</td>\n",
       "      <td>16417</td>\n",
       "      <td>22787</td>\n",
       "    </tr>\n",
       "  </tbody>\n",
       "</table><p>"
      ],
      "text/plain": [
       "<IPython.core.display.HTML object>"
      ]
     },
     "metadata": {},
     "output_type": "display_data"
    },
    {
     "name": "stdout",
     "output_type": "stream",
     "text": [
      "Fold 1\n"
     ]
    },
    {
     "data": {
      "application/vnd.jupyter.widget-view+json": {
       "model_id": "c3c1d9b287b04b75ac48760fc412b044",
       "version_major": 2,
       "version_minor": 0
      },
      "text/plain": [
       "Filter:   0%|          | 0/7000 [00:00<?, ? examples/s]"
      ]
     },
     "metadata": {},
     "output_type": "display_data"
    },
    {
     "data": {
      "application/vnd.jupyter.widget-view+json": {
       "model_id": "cafc6267703945279dda401e3df7a9ec",
       "version_major": 2,
       "version_minor": 0
      },
      "text/plain": [
       "Filter:   0%|          | 0/7000 [00:00<?, ? examples/s]"
      ]
     },
     "metadata": {},
     "output_type": "display_data"
    },
    {
     "name": "stdout",
     "output_type": "stream",
     "text": [
      "Cluster [1] training size (149, 14)\n",
      "TRAINING CLUSTER SET [1] FOR EPOCHS 5\n",
      "LOADING MODEL ./tmp/\n",
      "cuda\n"
     ]
    },
    {
     "name": "stderr",
     "output_type": "stream",
     "text": [
      "Using the `WANDB_DISABLED` environment variable is deprecated and will be removed in v5. Use the --report_to flag to control the integrations used for logging result (for instance --report_to none).\n"
     ]
    },
    {
     "name": "stdout",
     "output_type": "stream",
     "text": [
      "Fold 2\n"
     ]
    },
    {
     "data": {
      "application/vnd.jupyter.widget-view+json": {
       "model_id": "1e9893c1f75549c89372b484561c1c82",
       "version_major": 2,
       "version_minor": 0
      },
      "text/plain": [
       "Filter:   0%|          | 0/7000 [00:00<?, ? examples/s]"
      ]
     },
     "metadata": {},
     "output_type": "display_data"
    },
    {
     "data": {
      "application/vnd.jupyter.widget-view+json": {
       "model_id": "35d5c01cbd9c4c76bdbf519d925f560b",
       "version_major": 2,
       "version_minor": 0
      },
      "text/plain": [
       "Filter:   0%|          | 0/7000 [00:00<?, ? examples/s]"
      ]
     },
     "metadata": {},
     "output_type": "display_data"
    },
    {
     "name": "stdout",
     "output_type": "stream",
     "text": [
      "Cluster [1] training size (159, 14)\n",
      "TRAINING CLUSTER SET [1] FOR EPOCHS 5\n",
      "LOADING MODEL ./tmp/\n",
      "cuda\n"
     ]
    },
    {
     "name": "stderr",
     "output_type": "stream",
     "text": [
      "Using the `WANDB_DISABLED` environment variable is deprecated and will be removed in v5. Use the --report_to flag to control the integrations used for logging result (for instance --report_to none).\n"
     ]
    },
    {
     "name": "stdout",
     "output_type": "stream",
     "text": [
      "Fold 0\n"
     ]
    },
    {
     "data": {
      "application/vnd.jupyter.widget-view+json": {
       "model_id": "ed52a6e50bc84bf6bfcac89cb0223cf3",
       "version_major": 2,
       "version_minor": 0
      },
      "text/plain": [
       "Filter:   0%|          | 0/7000 [00:00<?, ? examples/s]"
      ]
     },
     "metadata": {},
     "output_type": "display_data"
    },
    {
     "data": {
      "application/vnd.jupyter.widget-view+json": {
       "model_id": "7b8fd1a3eb534c1eb8655fdd4891bd41",
       "version_major": 2,
       "version_minor": 0
      },
      "text/plain": [
       "Filter:   0%|          | 0/7000 [00:00<?, ? examples/s]"
      ]
     },
     "metadata": {},
     "output_type": "display_data"
    },
    {
     "name": "stdout",
     "output_type": "stream",
     "text": [
      "Cluster [4] training size (399, 14)\n",
      "TRAINING CLUSTER SET [4] FOR EPOCHS 5\n",
      "LOADING MODEL Salesforce/codet5-base-multi-sum\n",
      "cuda\n"
     ]
    },
    {
     "name": "stderr",
     "output_type": "stream",
     "text": [
      "Using the `WANDB_DISABLED` environment variable is deprecated and will be removed in v5. Use the --report_to flag to control the integrations used for logging result (for instance --report_to none).\n"
     ]
    },
    {
     "data": {
      "text/html": [
       "\n",
       "    <div>\n",
       "      \n",
       "      <progress value='500' max='500' style='width:300px; height:20px; vertical-align: middle;'></progress>\n",
       "      [500/500 11:39, Epoch 5/5]\n",
       "    </div>\n",
       "    <table border=\"1\" class=\"dataframe\">\n",
       "  <thead>\n",
       " <tr style=\"text-align: left;\">\n",
       "      <th>Epoch</th>\n",
       "      <th>Training Loss</th>\n",
       "      <th>Validation Loss</th>\n",
       "      <th>Rouge1</th>\n",
       "      <th>Rouge2</th>\n",
       "      <th>Rougel</th>\n",
       "      <th>Rougelsum</th>\n",
       "      <th>Gen Len</th>\n",
       "      <th>Bleu</th>\n",
       "      <th>Brevity Penalty</th>\n",
       "      <th>Length Ratio</th>\n",
       "      <th>Translation Length</th>\n",
       "      <th>Reference Length</th>\n",
       "    </tr>\n",
       "  </thead>\n",
       "  <tbody>\n",
       "    <tr>\n",
       "      <td>1</td>\n",
       "      <td>5.880200</td>\n",
       "      <td>5.745393</td>\n",
       "      <td>0.134600</td>\n",
       "      <td>0.018800</td>\n",
       "      <td>0.119800</td>\n",
       "      <td>0.120200</td>\n",
       "      <td>9.627700</td>\n",
       "      <td>0.005800</td>\n",
       "      <td>0.706000</td>\n",
       "      <td>0.741800</td>\n",
       "      <td>16903</td>\n",
       "      <td>22787</td>\n",
       "    </tr>\n",
       "    <tr>\n",
       "      <td>2</td>\n",
       "      <td>5.534600</td>\n",
       "      <td>5.407768</td>\n",
       "      <td>0.151400</td>\n",
       "      <td>0.023800</td>\n",
       "      <td>0.134400</td>\n",
       "      <td>0.134800</td>\n",
       "      <td>9.898900</td>\n",
       "      <td>0.007900</td>\n",
       "      <td>0.740800</td>\n",
       "      <td>0.769200</td>\n",
       "      <td>17528</td>\n",
       "      <td>22787</td>\n",
       "    </tr>\n",
       "    <tr>\n",
       "      <td>3</td>\n",
       "      <td>5.183400</td>\n",
       "      <td>5.133616</td>\n",
       "      <td>0.170200</td>\n",
       "      <td>0.030100</td>\n",
       "      <td>0.152300</td>\n",
       "      <td>0.152600</td>\n",
       "      <td>10.356000</td>\n",
       "      <td>0.011100</td>\n",
       "      <td>0.800400</td>\n",
       "      <td>0.817900</td>\n",
       "      <td>18638</td>\n",
       "      <td>22787</td>\n",
       "    </tr>\n",
       "    <tr>\n",
       "      <td>4</td>\n",
       "      <td>4.886000</td>\n",
       "      <td>4.976168</td>\n",
       "      <td>0.205000</td>\n",
       "      <td>0.044600</td>\n",
       "      <td>0.185300</td>\n",
       "      <td>0.185300</td>\n",
       "      <td>11.349600</td>\n",
       "      <td>0.016100</td>\n",
       "      <td>0.887800</td>\n",
       "      <td>0.893600</td>\n",
       "      <td>20363</td>\n",
       "      <td>22787</td>\n",
       "    </tr>\n",
       "    <tr>\n",
       "      <td>5</td>\n",
       "      <td>4.678100</td>\n",
       "      <td>4.872675</td>\n",
       "      <td>0.212100</td>\n",
       "      <td>0.049500</td>\n",
       "      <td>0.190700</td>\n",
       "      <td>0.190700</td>\n",
       "      <td>11.828600</td>\n",
       "      <td>0.018800</td>\n",
       "      <td>0.939800</td>\n",
       "      <td>0.941500</td>\n",
       "      <td>21454</td>\n",
       "      <td>22787</td>\n",
       "    </tr>\n",
       "  </tbody>\n",
       "</table><p>"
      ],
      "text/plain": [
       "<IPython.core.display.HTML object>"
      ]
     },
     "metadata": {},
     "output_type": "display_data"
    },
    {
     "name": "stdout",
     "output_type": "stream",
     "text": [
      "Fold 1\n"
     ]
    },
    {
     "data": {
      "application/vnd.jupyter.widget-view+json": {
       "model_id": "d179f654c2aa428f856fef18f4f7faac",
       "version_major": 2,
       "version_minor": 0
      },
      "text/plain": [
       "Filter:   0%|          | 0/7000 [00:00<?, ? examples/s]"
      ]
     },
     "metadata": {},
     "output_type": "display_data"
    },
    {
     "data": {
      "application/vnd.jupyter.widget-view+json": {
       "model_id": "6c363d386ba942fc89c7039d467aca70",
       "version_major": 2,
       "version_minor": 0
      },
      "text/plain": [
       "Filter:   0%|          | 0/7000 [00:00<?, ? examples/s]"
      ]
     },
     "metadata": {},
     "output_type": "display_data"
    },
    {
     "name": "stdout",
     "output_type": "stream",
     "text": [
      "Cluster [4] training size (389, 14)\n",
      "TRAINING CLUSTER SET [4] FOR EPOCHS 5\n",
      "LOADING MODEL ./tmp/\n",
      "cuda\n"
     ]
    },
    {
     "name": "stderr",
     "output_type": "stream",
     "text": [
      "Using the `WANDB_DISABLED` environment variable is deprecated and will be removed in v5. Use the --report_to flag to control the integrations used for logging result (for instance --report_to none).\n"
     ]
    },
    {
     "name": "stdout",
     "output_type": "stream",
     "text": [
      "Fold 2\n"
     ]
    },
    {
     "data": {
      "application/vnd.jupyter.widget-view+json": {
       "model_id": "0cc8e56b046349f4afbdf91cff51d3c5",
       "version_major": 2,
       "version_minor": 0
      },
      "text/plain": [
       "Filter:   0%|          | 0/7000 [00:00<?, ? examples/s]"
      ]
     },
     "metadata": {},
     "output_type": "display_data"
    },
    {
     "data": {
      "application/vnd.jupyter.widget-view+json": {
       "model_id": "a62d978c27fe4b11a93936d4f9b9f41b",
       "version_major": 2,
       "version_minor": 0
      },
      "text/plain": [
       "Filter:   0%|          | 0/7000 [00:00<?, ? examples/s]"
      ]
     },
     "metadata": {},
     "output_type": "display_data"
    },
    {
     "name": "stdout",
     "output_type": "stream",
     "text": [
      "Cluster [4] training size (404, 14)\n",
      "TRAINING CLUSTER SET [4] FOR EPOCHS 5\n",
      "LOADING MODEL ./tmp/\n",
      "cuda\n"
     ]
    },
    {
     "name": "stderr",
     "output_type": "stream",
     "text": [
      "Using the `WANDB_DISABLED` environment variable is deprecated and will be removed in v5. Use the --report_to flag to control the integrations used for logging result (for instance --report_to none).\n"
     ]
    },
    {
     "name": "stdout",
     "output_type": "stream",
     "text": [
      "Fold 0\n"
     ]
    },
    {
     "data": {
      "application/vnd.jupyter.widget-view+json": {
       "model_id": "70b31a50a88e4eeeab47cc78568e319c",
       "version_major": 2,
       "version_minor": 0
      },
      "text/plain": [
       "Filter:   0%|          | 0/7000 [00:00<?, ? examples/s]"
      ]
     },
     "metadata": {},
     "output_type": "display_data"
    },
    {
     "data": {
      "application/vnd.jupyter.widget-view+json": {
       "model_id": "fad9e59b4c7142a699d60b7febc47116",
       "version_major": 2,
       "version_minor": 0
      },
      "text/plain": [
       "Filter:   0%|          | 0/7000 [00:00<?, ? examples/s]"
      ]
     },
     "metadata": {},
     "output_type": "display_data"
    },
    {
     "name": "stdout",
     "output_type": "stream",
     "text": [
      "Cluster [3] training size (1395, 14)\n",
      "TRAINING CLUSTER SET [3] FOR EPOCHS 5\n",
      "LOADING MODEL Salesforce/codet5-base-multi-sum\n",
      "cuda\n"
     ]
    },
    {
     "name": "stderr",
     "output_type": "stream",
     "text": [
      "Using the `WANDB_DISABLED` environment variable is deprecated and will be removed in v5. Use the --report_to flag to control the integrations used for logging result (for instance --report_to none).\n"
     ]
    },
    {
     "data": {
      "text/html": [
       "\n",
       "    <div>\n",
       "      \n",
       "      <progress value='1745' max='1745' style='width:300px; height:20px; vertical-align: middle;'></progress>\n",
       "      [1745/1745 15:15, Epoch 5/5]\n",
       "    </div>\n",
       "    <table border=\"1\" class=\"dataframe\">\n",
       "  <thead>\n",
       " <tr style=\"text-align: left;\">\n",
       "      <th>Epoch</th>\n",
       "      <th>Training Loss</th>\n",
       "      <th>Validation Loss</th>\n",
       "      <th>Rouge1</th>\n",
       "      <th>Rouge2</th>\n",
       "      <th>Rougel</th>\n",
       "      <th>Rougelsum</th>\n",
       "      <th>Gen Len</th>\n",
       "      <th>Bleu</th>\n",
       "      <th>Brevity Penalty</th>\n",
       "      <th>Length Ratio</th>\n",
       "      <th>Translation Length</th>\n",
       "      <th>Reference Length</th>\n",
       "    </tr>\n",
       "  </thead>\n",
       "  <tbody>\n",
       "    <tr>\n",
       "      <td>1</td>\n",
       "      <td>5.483200</td>\n",
       "      <td>5.007508</td>\n",
       "      <td>0.182100</td>\n",
       "      <td>0.035900</td>\n",
       "      <td>0.164000</td>\n",
       "      <td>0.164100</td>\n",
       "      <td>10.813600</td>\n",
       "      <td>0.012400</td>\n",
       "      <td>0.850500</td>\n",
       "      <td>0.860600</td>\n",
       "      <td>19611</td>\n",
       "      <td>22787</td>\n",
       "    </tr>\n",
       "    <tr>\n",
       "      <td>2</td>\n",
       "      <td>4.781500</td>\n",
       "      <td>4.706634</td>\n",
       "      <td>0.240200</td>\n",
       "      <td>0.060300</td>\n",
       "      <td>0.214900</td>\n",
       "      <td>0.214800</td>\n",
       "      <td>12.322600</td>\n",
       "      <td>0.022400</td>\n",
       "      <td>0.972000</td>\n",
       "      <td>0.972400</td>\n",
       "      <td>22157</td>\n",
       "      <td>22787</td>\n",
       "    </tr>\n",
       "    <tr>\n",
       "      <td>3</td>\n",
       "      <td>4.492600</td>\n",
       "      <td>4.646046</td>\n",
       "      <td>0.251800</td>\n",
       "      <td>0.064600</td>\n",
       "      <td>0.222400</td>\n",
       "      <td>0.222400</td>\n",
       "      <td>12.789200</td>\n",
       "      <td>0.023200</td>\n",
       "      <td>1.000000</td>\n",
       "      <td>1.021200</td>\n",
       "      <td>23269</td>\n",
       "      <td>22787</td>\n",
       "    </tr>\n",
       "    <tr>\n",
       "      <td>4</td>\n",
       "      <td>4.355600</td>\n",
       "      <td>4.627163</td>\n",
       "      <td>0.254400</td>\n",
       "      <td>0.064600</td>\n",
       "      <td>0.223700</td>\n",
       "      <td>0.223800</td>\n",
       "      <td>12.783600</td>\n",
       "      <td>0.024600</td>\n",
       "      <td>1.000000</td>\n",
       "      <td>1.023300</td>\n",
       "      <td>23317</td>\n",
       "      <td>22787</td>\n",
       "    </tr>\n",
       "    <tr>\n",
       "      <td>5</td>\n",
       "      <td>4.288000</td>\n",
       "      <td>4.622749</td>\n",
       "      <td>0.257000</td>\n",
       "      <td>0.066300</td>\n",
       "      <td>0.226400</td>\n",
       "      <td>0.226200</td>\n",
       "      <td>12.901000</td>\n",
       "      <td>0.025000</td>\n",
       "      <td>1.000000</td>\n",
       "      <td>1.029500</td>\n",
       "      <td>23460</td>\n",
       "      <td>22787</td>\n",
       "    </tr>\n",
       "  </tbody>\n",
       "</table><p>"
      ],
      "text/plain": [
       "<IPython.core.display.HTML object>"
      ]
     },
     "metadata": {},
     "output_type": "display_data"
    },
    {
     "name": "stdout",
     "output_type": "stream",
     "text": [
      "Fold 1\n"
     ]
    },
    {
     "data": {
      "application/vnd.jupyter.widget-view+json": {
       "model_id": "b1e9c170e77749cebfc80eac7e0ec77c",
       "version_major": 2,
       "version_minor": 0
      },
      "text/plain": [
       "Filter:   0%|          | 0/7000 [00:00<?, ? examples/s]"
      ]
     },
     "metadata": {},
     "output_type": "display_data"
    },
    {
     "data": {
      "application/vnd.jupyter.widget-view+json": {
       "model_id": "d249d8e860b842e9be737ad96e20d098",
       "version_major": 2,
       "version_minor": 0
      },
      "text/plain": [
       "Filter:   0%|          | 0/7000 [00:00<?, ? examples/s]"
      ]
     },
     "metadata": {},
     "output_type": "display_data"
    },
    {
     "name": "stdout",
     "output_type": "stream",
     "text": [
      "Cluster [3] training size (1399, 14)\n",
      "TRAINING CLUSTER SET [3] FOR EPOCHS 5\n",
      "LOADING MODEL ./tmp/\n",
      "cuda\n"
     ]
    },
    {
     "name": "stderr",
     "output_type": "stream",
     "text": [
      "Using the `WANDB_DISABLED` environment variable is deprecated and will be removed in v5. Use the --report_to flag to control the integrations used for logging result (for instance --report_to none).\n"
     ]
    },
    {
     "name": "stdout",
     "output_type": "stream",
     "text": [
      "Fold 2\n"
     ]
    },
    {
     "data": {
      "application/vnd.jupyter.widget-view+json": {
       "model_id": "2d86583a5d14428194fca19bd522546a",
       "version_major": 2,
       "version_minor": 0
      },
      "text/plain": [
       "Filter:   0%|          | 0/7000 [00:00<?, ? examples/s]"
      ]
     },
     "metadata": {},
     "output_type": "display_data"
    },
    {
     "data": {
      "application/vnd.jupyter.widget-view+json": {
       "model_id": "a2626d846578497a81a3b60f28215adf",
       "version_major": 2,
       "version_minor": 0
      },
      "text/plain": [
       "Filter:   0%|          | 0/7000 [00:00<?, ? examples/s]"
      ]
     },
     "metadata": {},
     "output_type": "display_data"
    },
    {
     "name": "stdout",
     "output_type": "stream",
     "text": [
      "Cluster [3] training size (1434, 14)\n",
      "TRAINING CLUSTER SET [3] FOR EPOCHS 5\n",
      "LOADING MODEL ./tmp/\n",
      "cuda\n"
     ]
    },
    {
     "name": "stderr",
     "output_type": "stream",
     "text": [
      "Using the `WANDB_DISABLED` environment variable is deprecated and will be removed in v5. Use the --report_to flag to control the integrations used for logging result (for instance --report_to none).\n"
     ]
    },
    {
     "name": "stdout",
     "output_type": "stream",
     "text": [
      "Fold 0\n"
     ]
    },
    {
     "data": {
      "application/vnd.jupyter.widget-view+json": {
       "model_id": "e0868c59dad9401885e90bbeab23e394",
       "version_major": 2,
       "version_minor": 0
      },
      "text/plain": [
       "Filter:   0%|          | 0/7000 [00:00<?, ? examples/s]"
      ]
     },
     "metadata": {},
     "output_type": "display_data"
    },
    {
     "data": {
      "application/vnd.jupyter.widget-view+json": {
       "model_id": "00f9c3372eaf455ab4d16c6df760d34a",
       "version_major": 2,
       "version_minor": 0
      },
      "text/plain": [
       "Filter:   0%|          | 0/7000 [00:00<?, ? examples/s]"
      ]
     },
     "metadata": {},
     "output_type": "display_data"
    },
    {
     "name": "stdout",
     "output_type": "stream",
     "text": [
      "Cluster [0, 1, 4] training size (686, 14)\n",
      "TRAINING CLUSTER SET [0, 1, 4] FOR EPOCHS 5\n",
      "LOADING MODEL Salesforce/codet5-base-multi-sum\n",
      "cuda\n"
     ]
    },
    {
     "name": "stderr",
     "output_type": "stream",
     "text": [
      "Using the `WANDB_DISABLED` environment variable is deprecated and will be removed in v5. Use the --report_to flag to control the integrations used for logging result (for instance --report_to none).\n"
     ]
    },
    {
     "data": {
      "text/html": [
       "\n",
       "    <div>\n",
       "      \n",
       "      <progress value='860' max='860' style='width:300px; height:20px; vertical-align: middle;'></progress>\n",
       "      [860/860 12:20, Epoch 5/5]\n",
       "    </div>\n",
       "    <table border=\"1\" class=\"dataframe\">\n",
       "  <thead>\n",
       " <tr style=\"text-align: left;\">\n",
       "      <th>Epoch</th>\n",
       "      <th>Training Loss</th>\n",
       "      <th>Validation Loss</th>\n",
       "      <th>Rouge1</th>\n",
       "      <th>Rouge2</th>\n",
       "      <th>Rougel</th>\n",
       "      <th>Rougelsum</th>\n",
       "      <th>Gen Len</th>\n",
       "      <th>Bleu</th>\n",
       "      <th>Brevity Penalty</th>\n",
       "      <th>Length Ratio</th>\n",
       "      <th>Translation Length</th>\n",
       "      <th>Reference Length</th>\n",
       "    </tr>\n",
       "  </thead>\n",
       "  <tbody>\n",
       "    <tr>\n",
       "      <td>1</td>\n",
       "      <td>5.860800</td>\n",
       "      <td>5.507529</td>\n",
       "      <td>0.142100</td>\n",
       "      <td>0.021800</td>\n",
       "      <td>0.126100</td>\n",
       "      <td>0.126400</td>\n",
       "      <td>9.792200</td>\n",
       "      <td>0.006900</td>\n",
       "      <td>0.729500</td>\n",
       "      <td>0.760300</td>\n",
       "      <td>17324</td>\n",
       "      <td>22787</td>\n",
       "    </tr>\n",
       "    <tr>\n",
       "      <td>2</td>\n",
       "      <td>5.304700</td>\n",
       "      <td>5.023569</td>\n",
       "      <td>0.191400</td>\n",
       "      <td>0.038000</td>\n",
       "      <td>0.172700</td>\n",
       "      <td>0.172700</td>\n",
       "      <td>10.866300</td>\n",
       "      <td>0.013700</td>\n",
       "      <td>0.844500</td>\n",
       "      <td>0.855400</td>\n",
       "      <td>19493</td>\n",
       "      <td>22787</td>\n",
       "    </tr>\n",
       "    <tr>\n",
       "      <td>3</td>\n",
       "      <td>4.916900</td>\n",
       "      <td>4.816772</td>\n",
       "      <td>0.235600</td>\n",
       "      <td>0.059300</td>\n",
       "      <td>0.213000</td>\n",
       "      <td>0.212900</td>\n",
       "      <td>12.778500</td>\n",
       "      <td>0.022100</td>\n",
       "      <td>1.000000</td>\n",
       "      <td>1.016100</td>\n",
       "      <td>23153</td>\n",
       "      <td>22787</td>\n",
       "    </tr>\n",
       "    <tr>\n",
       "      <td>4</td>\n",
       "      <td>4.686000</td>\n",
       "      <td>4.748352</td>\n",
       "      <td>0.239300</td>\n",
       "      <td>0.059400</td>\n",
       "      <td>0.215400</td>\n",
       "      <td>0.215400</td>\n",
       "      <td>12.857300</td>\n",
       "      <td>0.022300</td>\n",
       "      <td>1.000000</td>\n",
       "      <td>1.022600</td>\n",
       "      <td>23302</td>\n",
       "      <td>22787</td>\n",
       "    </tr>\n",
       "    <tr>\n",
       "      <td>5</td>\n",
       "      <td>4.529300</td>\n",
       "      <td>4.736448</td>\n",
       "      <td>0.240200</td>\n",
       "      <td>0.058900</td>\n",
       "      <td>0.215700</td>\n",
       "      <td>0.215700</td>\n",
       "      <td>12.758800</td>\n",
       "      <td>0.022200</td>\n",
       "      <td>1.000000</td>\n",
       "      <td>1.012200</td>\n",
       "      <td>23065</td>\n",
       "      <td>22787</td>\n",
       "    </tr>\n",
       "  </tbody>\n",
       "</table><p>"
      ],
      "text/plain": [
       "<IPython.core.display.HTML object>"
      ]
     },
     "metadata": {},
     "output_type": "display_data"
    },
    {
     "name": "stdout",
     "output_type": "stream",
     "text": [
      "Fold 1\n"
     ]
    },
    {
     "data": {
      "application/vnd.jupyter.widget-view+json": {
       "model_id": "ff225497b9054124afc04ea828dda1a2",
       "version_major": 2,
       "version_minor": 0
      },
      "text/plain": [
       "Filter:   0%|          | 0/7000 [00:00<?, ? examples/s]"
      ]
     },
     "metadata": {},
     "output_type": "display_data"
    },
    {
     "data": {
      "application/vnd.jupyter.widget-view+json": {
       "model_id": "718fcd42eaae4514b7052d32e479bb05",
       "version_major": 2,
       "version_minor": 0
      },
      "text/plain": [
       "Filter:   0%|          | 0/7000 [00:00<?, ? examples/s]"
      ]
     },
     "metadata": {},
     "output_type": "display_data"
    },
    {
     "name": "stdout",
     "output_type": "stream",
     "text": [
      "Cluster [0, 1, 4] training size (640, 14)\n",
      "TRAINING CLUSTER SET [0, 1, 4] FOR EPOCHS 5\n",
      "LOADING MODEL ./tmp/\n",
      "cuda\n"
     ]
    },
    {
     "name": "stderr",
     "output_type": "stream",
     "text": [
      "Using the `WANDB_DISABLED` environment variable is deprecated and will be removed in v5. Use the --report_to flag to control the integrations used for logging result (for instance --report_to none).\n"
     ]
    },
    {
     "name": "stdout",
     "output_type": "stream",
     "text": [
      "Fold 2\n"
     ]
    },
    {
     "data": {
      "application/vnd.jupyter.widget-view+json": {
       "model_id": "bac33bba7d524d12b9d12b65728c4896",
       "version_major": 2,
       "version_minor": 0
      },
      "text/plain": [
       "Filter:   0%|          | 0/7000 [00:00<?, ? examples/s]"
      ]
     },
     "metadata": {},
     "output_type": "display_data"
    },
    {
     "data": {
      "application/vnd.jupyter.widget-view+json": {
       "model_id": "3186fdeaefc34844a630f4d29acfd9e1",
       "version_major": 2,
       "version_minor": 0
      },
      "text/plain": [
       "Filter:   0%|          | 0/7000 [00:00<?, ? examples/s]"
      ]
     },
     "metadata": {},
     "output_type": "display_data"
    },
    {
     "name": "stdout",
     "output_type": "stream",
     "text": [
      "Cluster [0, 1, 4] training size (670, 14)\n",
      "TRAINING CLUSTER SET [0, 1, 4] FOR EPOCHS 5\n",
      "LOADING MODEL ./tmp/\n",
      "cuda\n"
     ]
    },
    {
     "name": "stderr",
     "output_type": "stream",
     "text": [
      "Using the `WANDB_DISABLED` environment variable is deprecated and will be removed in v5. Use the --report_to flag to control the integrations used for logging result (for instance --report_to none).\n"
     ]
    }
   ],
   "source": [
    "with open(f'reports/results/{experiment_config[\"ANALYSIS_POSTFIX\"]}/cv_fold_epoch_set.pickle', 'rb') as handle:\n",
    "   fold_results = pickle.load(handle)\n",
    "   \n",
    "for cluster_idx in experiment_config[\"CLUSTER_SET_ID\"]:\n",
    "    fold_results = cv_cluster_set(experiment_config=experiment_config,\n",
    "                                            splits=splits,\n",
    "                                            questions_list=questions_list,\n",
    "                                            train_dataset=train_dataset,\n",
    "                                            tokenizer=tokenizer,\n",
    "                                            fold_results=fold_results,\n",
    "                                            cluster_id=cluster_idx)\n",
    "\n",
    "cv_df = results_dict_todf(fold_results)\n",
    "\n",
    "########## SAVE THE FILE\n",
    "\n",
    "with open(f'reports/results/{experiment_config[\"ANALYSIS_POSTFIX\"]}/cv_step1.pickle', 'wb') as handle:\n",
    "    pickle.dump(cv_df, handle, protocol=pickle.HIGHEST_PROTOCOL)"
   ]
  },
  {
   "cell_type": "code",
   "execution_count": 8,
   "metadata": {
    "scrolled": true
   },
   "outputs": [
    {
     "name": "stdout",
     "output_type": "stream",
     "text": [
      "Mean\n",
      "model_set\n",
      "0                    0.128471\n",
      "1                    0.272787\n",
      "2                    0.280769\n",
      "5                    0.285255\n",
      "10                   0.282760\n",
      "cluster_[0, 1, 4]    0.241250\n",
      "cluster_[1]          0.141068\n",
      "cluster_[3]          0.259440\n",
      "cluster_[4]          0.213261\n",
      "Name: rouge, dtype: float64\n",
      "STD\n",
      "model_set\n",
      "0                    0.135276\n",
      "1                    0.159897\n",
      "2                    0.161486\n",
      "5                    0.162626\n",
      "10                   0.163305\n",
      "cluster_[0, 1, 4]    0.161949\n",
      "cluster_[1]          0.140849\n",
      "cluster_[3]          0.167286\n",
      "cluster_[4]          0.159754\n",
      "Name: rouge, dtype: float64\n"
     ]
    }
   ],
   "source": [
    "print(\"Mean\")\n",
    "print(cv_df.groupby([\"model_set\"])[\"rouge\"].mean())\n",
    "\n",
    "print(\"STD\")\n",
    "print(cv_df.groupby(\"model_set\")[\"rouge\"].std())"
   ]
  },
  {
   "cell_type": "markdown",
   "metadata": {},
   "source": [
    "### Step 2. Learn performance"
   ]
  },
  {
   "cell_type": "code",
   "execution_count": 3,
   "metadata": {
    "scrolled": true
   },
   "outputs": [
    {
     "name": "stdout",
     "output_type": "stream",
     "text": [
      "0\n",
      "lgbm\n",
      "[LightGBM] [Warning] Accuracy may be bad since you didn't explicitly set num_leaves OR 2^max_depth > num_leaves. (num_leaves=31).\n",
      "[LightGBM] [Warning] Accuracy may be bad since you didn't explicitly set num_leaves OR 2^max_depth > num_leaves. (num_leaves=31).\n",
      "[LightGBM] [Info] Auto-choosing row-wise multi-threading, the overhead of testing was 8.063856 seconds.\n",
      "You can set `force_row_wise=true` to remove the overhead.\n",
      "And if memory is not enough, you can set `force_col_wise=true`.\n",
      "[LightGBM] [Info] Total Bins 13044\n",
      "[LightGBM] [Info] Number of data points in the train set: 41994, number of used features: 1032\n",
      "[LightGBM] [Info] Start training from score 0.232153\n",
      "[LightGBM] [Warning] No further splits with positive gain, best gain: -inf\n",
      "[LightGBM] [Warning] No further splits with positive gain, best gain: -inf\n",
      "[LightGBM] [Warning] No further splits with positive gain, best gain: -inf\n",
      "[LightGBM] [Warning] No further splits with positive gain, best gain: -inf\n",
      "[LightGBM] [Warning] No further splits with positive gain, best gain: -inf\n",
      "[LightGBM] [Warning] No further splits with positive gain, best gain: -inf\n",
      "[LightGBM] [Warning] No further splits with positive gain, best gain: -inf\n",
      "[LightGBM] [Warning] No further splits with positive gain, best gain: -inf\n",
      "[LightGBM] [Warning] No further splits with positive gain, best gain: -inf\n",
      "[LightGBM] [Warning] No further splits with positive gain, best gain: -inf\n",
      "[LightGBM] [Warning] No further splits with positive gain, best gain: -inf\n",
      "[LightGBM] [Warning] No further splits with positive gain, best gain: -inf\n",
      "[LightGBM] [Warning] No further splits with positive gain, best gain: -inf\n",
      "[LightGBM] [Warning] No further splits with positive gain, best gain: -inf\n",
      "[LightGBM] [Warning] No further splits with positive gain, best gain: -inf\n",
      "[LightGBM] [Warning] No further splits with positive gain, best gain: -inf\n",
      "[LightGBM] [Warning] No further splits with positive gain, best gain: -inf\n",
      "[LightGBM] [Warning] No further splits with positive gain, best gain: -inf\n",
      "[LightGBM] [Warning] No further splits with positive gain, best gain: -inf\n",
      "[LightGBM] [Warning] No further splits with positive gain, best gain: -inf\n",
      "[LightGBM] [Warning] No further splits with positive gain, best gain: -inf\n",
      "[LightGBM] [Warning] No further splits with positive gain, best gain: -inf\n",
      "[LightGBM] [Warning] No further splits with positive gain, best gain: -inf\n",
      "[LightGBM] [Warning] No further splits with positive gain, best gain: -inf\n",
      "[LightGBM] [Warning] No further splits with positive gain, best gain: -inf\n",
      "[LightGBM] [Warning] No further splits with positive gain, best gain: -inf\n",
      "[LightGBM] [Warning] No further splits with positive gain, best gain: -inf\n",
      "[LightGBM] [Warning] No further splits with positive gain, best gain: -inf\n",
      "[LightGBM] [Warning] No further splits with positive gain, best gain: -inf\n",
      "[LightGBM] [Warning] No further splits with positive gain, best gain: -inf\n",
      "[LightGBM] [Warning] No further splits with positive gain, best gain: -inf\n",
      "[LightGBM] [Warning] No further splits with positive gain, best gain: -inf\n",
      "[LightGBM] [Warning] No further splits with positive gain, best gain: -inf\n",
      "[LightGBM] [Warning] No further splits with positive gain, best gain: -inf\n",
      "[LightGBM] [Warning] No further splits with positive gain, best gain: -inf\n",
      "[LightGBM] [Warning] No further splits with positive gain, best gain: -inf\n",
      "[LightGBM] [Warning] No further splits with positive gain, best gain: -inf\n",
      "[LightGBM] [Warning] No further splits with positive gain, best gain: -inf\n",
      "[LightGBM] [Warning] No further splits with positive gain, best gain: -inf\n",
      "[LightGBM] [Warning] No further splits with positive gain, best gain: -inf\n",
      "[LightGBM] [Warning] No further splits with positive gain, best gain: -inf\n",
      "[LightGBM] [Warning] No further splits with positive gain, best gain: -inf\n",
      "[LightGBM] [Warning] No further splits with positive gain, best gain: -inf\n",
      "[LightGBM] [Warning] No further splits with positive gain, best gain: -inf\n",
      "[LightGBM] [Warning] No further splits with positive gain, best gain: -inf\n",
      "[LightGBM] [Warning] No further splits with positive gain, best gain: -inf\n",
      "[LightGBM] [Warning] No further splits with positive gain, best gain: -inf\n",
      "[LightGBM] [Warning] No further splits with positive gain, best gain: -inf\n",
      "[LightGBM] [Warning] No further splits with positive gain, best gain: -inf\n",
      "[LightGBM] [Warning] No further splits with positive gain, best gain: -inf\n",
      "[LightGBM] [Warning] No further splits with positive gain, best gain: -inf\n",
      "[LightGBM] [Warning] No further splits with positive gain, best gain: -inf\n",
      "[LightGBM] [Warning] No further splits with positive gain, best gain: -inf\n",
      "[LightGBM] [Warning] No further splits with positive gain, best gain: -inf\n",
      "[LightGBM] [Warning] No further splits with positive gain, best gain: -inf\n",
      "[LightGBM] [Warning] No further splits with positive gain, best gain: -inf\n",
      "[LightGBM] [Warning] No further splits with positive gain, best gain: -inf\n",
      "[LightGBM] [Warning] No further splits with positive gain, best gain: -inf\n",
      "[LightGBM] [Warning] No further splits with positive gain, best gain: -inf\n",
      "[LightGBM] [Warning] Accuracy may be bad since you didn't explicitly set num_leaves OR 2^max_depth > num_leaves. (num_leaves=31).\n",
      "1\n",
      "lgbm\n",
      "[LightGBM] [Warning] Accuracy may be bad since you didn't explicitly set num_leaves OR 2^max_depth > num_leaves. (num_leaves=31).\n",
      "[LightGBM] [Warning] Accuracy may be bad since you didn't explicitly set num_leaves OR 2^max_depth > num_leaves. (num_leaves=31).\n",
      "[LightGBM] [Info] Auto-choosing row-wise multi-threading, the overhead of testing was 8.241766 seconds.\n",
      "You can set `force_row_wise=true` to remove the overhead.\n",
      "And if memory is not enough, you can set `force_col_wise=true`.\n",
      "[LightGBM] [Info] Total Bins 13013\n",
      "[LightGBM] [Info] Number of data points in the train set: 42003, number of used features: 1025\n",
      "[LightGBM] [Info] Start training from score 0.235097\n",
      "[LightGBM] [Warning] No further splits with positive gain, best gain: -inf\n",
      "[LightGBM] [Warning] No further splits with positive gain, best gain: -inf\n",
      "[LightGBM] [Warning] No further splits with positive gain, best gain: -inf\n",
      "[LightGBM] [Warning] No further splits with positive gain, best gain: -inf\n",
      "[LightGBM] [Warning] No further splits with positive gain, best gain: -inf\n",
      "[LightGBM] [Warning] No further splits with positive gain, best gain: -inf\n",
      "[LightGBM] [Warning] No further splits with positive gain, best gain: -inf\n",
      "[LightGBM] [Warning] No further splits with positive gain, best gain: -inf\n",
      "[LightGBM] [Warning] No further splits with positive gain, best gain: -inf\n",
      "[LightGBM] [Warning] No further splits with positive gain, best gain: -inf\n",
      "[LightGBM] [Warning] No further splits with positive gain, best gain: -inf\n",
      "[LightGBM] [Warning] No further splits with positive gain, best gain: -inf\n",
      "[LightGBM] [Warning] No further splits with positive gain, best gain: -inf\n",
      "[LightGBM] [Warning] No further splits with positive gain, best gain: -inf\n",
      "[LightGBM] [Warning] No further splits with positive gain, best gain: -inf\n",
      "[LightGBM] [Warning] No further splits with positive gain, best gain: -inf\n",
      "[LightGBM] [Warning] No further splits with positive gain, best gain: -inf\n",
      "[LightGBM] [Warning] No further splits with positive gain, best gain: -inf\n",
      "[LightGBM] [Warning] No further splits with positive gain, best gain: -inf\n",
      "[LightGBM] [Warning] No further splits with positive gain, best gain: -inf\n",
      "[LightGBM] [Warning] No further splits with positive gain, best gain: -inf\n",
      "[LightGBM] [Warning] No further splits with positive gain, best gain: -inf\n",
      "[LightGBM] [Warning] No further splits with positive gain, best gain: -inf\n",
      "[LightGBM] [Warning] No further splits with positive gain, best gain: -inf\n",
      "[LightGBM] [Warning] No further splits with positive gain, best gain: -inf\n",
      "[LightGBM] [Warning] No further splits with positive gain, best gain: -inf\n",
      "[LightGBM] [Warning] No further splits with positive gain, best gain: -inf\n",
      "[LightGBM] [Warning] No further splits with positive gain, best gain: -inf\n",
      "[LightGBM] [Warning] No further splits with positive gain, best gain: -inf\n",
      "[LightGBM] [Warning] No further splits with positive gain, best gain: -inf\n",
      "[LightGBM] [Warning] No further splits with positive gain, best gain: -inf\n",
      "[LightGBM] [Warning] No further splits with positive gain, best gain: -inf\n",
      "[LightGBM] [Warning] No further splits with positive gain, best gain: -inf\n",
      "[LightGBM] [Warning] No further splits with positive gain, best gain: -inf\n",
      "[LightGBM] [Warning] No further splits with positive gain, best gain: -inf\n",
      "[LightGBM] [Warning] No further splits with positive gain, best gain: -inf\n",
      "[LightGBM] [Warning] No further splits with positive gain, best gain: -inf\n",
      "[LightGBM] [Warning] No further splits with positive gain, best gain: -inf\n",
      "[LightGBM] [Warning] No further splits with positive gain, best gain: -inf\n",
      "[LightGBM] [Warning] No further splits with positive gain, best gain: -inf\n",
      "[LightGBM] [Warning] No further splits with positive gain, best gain: -inf\n",
      "[LightGBM] [Warning] No further splits with positive gain, best gain: -inf\n",
      "[LightGBM] [Warning] No further splits with positive gain, best gain: -inf\n",
      "[LightGBM] [Warning] No further splits with positive gain, best gain: -inf\n",
      "[LightGBM] [Warning] No further splits with positive gain, best gain: -inf\n",
      "[LightGBM] [Warning] No further splits with positive gain, best gain: -inf\n",
      "[LightGBM] [Warning] No further splits with positive gain, best gain: -inf\n",
      "[LightGBM] [Warning] No further splits with positive gain, best gain: -inf\n",
      "[LightGBM] [Warning] No further splits with positive gain, best gain: -inf\n",
      "[LightGBM] [Warning] No further splits with positive gain, best gain: -inf\n",
      "[LightGBM] [Warning] No further splits with positive gain, best gain: -inf\n",
      "[LightGBM] [Warning] No further splits with positive gain, best gain: -inf\n",
      "[LightGBM] [Warning] No further splits with positive gain, best gain: -inf\n",
      "[LightGBM] [Warning] No further splits with positive gain, best gain: -inf\n",
      "[LightGBM] [Warning] No further splits with positive gain, best gain: -inf\n",
      "[LightGBM] [Warning] No further splits with positive gain, best gain: -inf\n",
      "[LightGBM] [Warning] No further splits with positive gain, best gain: -inf\n",
      "[LightGBM] [Warning] No further splits with positive gain, best gain: -inf\n",
      "[LightGBM] [Warning] Accuracy may be bad since you didn't explicitly set num_leaves OR 2^max_depth > num_leaves. (num_leaves=31).\n",
      "2\n",
      "lgbm\n",
      "[LightGBM] [Warning] Accuracy may be bad since you didn't explicitly set num_leaves OR 2^max_depth > num_leaves. (num_leaves=31).\n",
      "[LightGBM] [Warning] Accuracy may be bad since you didn't explicitly set num_leaves OR 2^max_depth > num_leaves. (num_leaves=31).\n",
      "[LightGBM] [Info] Auto-choosing row-wise multi-threading, the overhead of testing was 8.215009 seconds.\n",
      "You can set `force_row_wise=true` to remove the overhead.\n",
      "And if memory is not enough, you can set `force_col_wise=true`.\n",
      "[LightGBM] [Info] Total Bins 13283\n",
      "[LightGBM] [Info] Number of data points in the train set: 42003, number of used features: 1046\n",
      "[LightGBM] [Info] Start training from score 0.234436\n",
      "[LightGBM] [Warning] No further splits with positive gain, best gain: -inf\n",
      "[LightGBM] [Warning] No further splits with positive gain, best gain: -inf\n",
      "[LightGBM] [Warning] No further splits with positive gain, best gain: -inf\n",
      "[LightGBM] [Warning] No further splits with positive gain, best gain: -inf\n",
      "[LightGBM] [Warning] No further splits with positive gain, best gain: -inf\n",
      "[LightGBM] [Warning] No further splits with positive gain, best gain: -inf\n",
      "[LightGBM] [Warning] No further splits with positive gain, best gain: -inf\n",
      "[LightGBM] [Warning] No further splits with positive gain, best gain: -inf\n",
      "[LightGBM] [Warning] No further splits with positive gain, best gain: -inf\n",
      "[LightGBM] [Warning] No further splits with positive gain, best gain: -inf\n",
      "[LightGBM] [Warning] No further splits with positive gain, best gain: -inf\n",
      "[LightGBM] [Warning] No further splits with positive gain, best gain: -inf\n",
      "[LightGBM] [Warning] No further splits with positive gain, best gain: -inf\n",
      "[LightGBM] [Warning] No further splits with positive gain, best gain: -inf\n",
      "[LightGBM] [Warning] No further splits with positive gain, best gain: -inf\n",
      "[LightGBM] [Warning] No further splits with positive gain, best gain: -inf\n",
      "[LightGBM] [Warning] No further splits with positive gain, best gain: -inf\n",
      "[LightGBM] [Warning] No further splits with positive gain, best gain: -inf\n",
      "[LightGBM] [Warning] No further splits with positive gain, best gain: -inf\n",
      "[LightGBM] [Warning] No further splits with positive gain, best gain: -inf\n",
      "[LightGBM] [Warning] No further splits with positive gain, best gain: -inf\n",
      "[LightGBM] [Warning] No further splits with positive gain, best gain: -inf\n",
      "[LightGBM] [Warning] No further splits with positive gain, best gain: -inf\n",
      "[LightGBM] [Warning] No further splits with positive gain, best gain: -inf\n",
      "[LightGBM] [Warning] No further splits with positive gain, best gain: -inf\n",
      "[LightGBM] [Warning] No further splits with positive gain, best gain: -inf\n",
      "[LightGBM] [Warning] No further splits with positive gain, best gain: -inf\n",
      "[LightGBM] [Warning] No further splits with positive gain, best gain: -inf\n",
      "[LightGBM] [Warning] No further splits with positive gain, best gain: -inf\n",
      "[LightGBM] [Warning] No further splits with positive gain, best gain: -inf\n",
      "[LightGBM] [Warning] No further splits with positive gain, best gain: -inf\n",
      "[LightGBM] [Warning] No further splits with positive gain, best gain: -inf\n",
      "[LightGBM] [Warning] No further splits with positive gain, best gain: -inf\n",
      "[LightGBM] [Warning] No further splits with positive gain, best gain: -inf\n",
      "[LightGBM] [Warning] No further splits with positive gain, best gain: -inf\n",
      "[LightGBM] [Warning] No further splits with positive gain, best gain: -inf\n",
      "[LightGBM] [Warning] No further splits with positive gain, best gain: -inf\n",
      "[LightGBM] [Warning] No further splits with positive gain, best gain: -inf\n",
      "[LightGBM] [Warning] No further splits with positive gain, best gain: -inf\n",
      "[LightGBM] [Warning] No further splits with positive gain, best gain: -inf\n",
      "[LightGBM] [Warning] No further splits with positive gain, best gain: -inf\n",
      "[LightGBM] [Warning] No further splits with positive gain, best gain: -inf\n",
      "[LightGBM] [Warning] No further splits with positive gain, best gain: -inf\n",
      "[LightGBM] [Warning] No further splits with positive gain, best gain: -inf\n",
      "[LightGBM] [Warning] No further splits with positive gain, best gain: -inf\n",
      "[LightGBM] [Warning] No further splits with positive gain, best gain: -inf\n",
      "[LightGBM] [Warning] No further splits with positive gain, best gain: -inf\n",
      "[LightGBM] [Warning] No further splits with positive gain, best gain: -inf\n",
      "[LightGBM] [Warning] No further splits with positive gain, best gain: -inf\n",
      "[LightGBM] [Warning] No further splits with positive gain, best gain: -inf\n",
      "[LightGBM] [Warning] No further splits with positive gain, best gain: -inf\n",
      "[LightGBM] [Warning] No further splits with positive gain, best gain: -inf\n",
      "[LightGBM] [Warning] No further splits with positive gain, best gain: -inf\n",
      "[LightGBM] [Warning] No further splits with positive gain, best gain: -inf\n",
      "[LightGBM] [Warning] No further splits with positive gain, best gain: -inf\n",
      "[LightGBM] [Warning] No further splits with positive gain, best gain: -inf\n",
      "[LightGBM] [Warning] No further splits with positive gain, best gain: -inf\n",
      "[LightGBM] [Warning] No further splits with positive gain, best gain: -inf\n",
      "[LightGBM] [Warning] No further splits with positive gain, best gain: -inf\n",
      "[LightGBM] [Warning] No further splits with positive gain, best gain: -inf\n",
      "[LightGBM] [Warning] No further splits with positive gain, best gain: -inf\n",
      "[LightGBM] [Warning] Accuracy may be bad since you didn't explicitly set num_leaves OR 2^max_depth > num_leaves. (num_leaves=31).\n",
      "lgbm\n",
      "RMSE  0.15542356498472168\n",
      "MAE  0.12489949886192071\n",
      "\n",
      "\n",
      "RMSE STD  0.0010752591563303155\n",
      "MAE STD 0.0007854554875961936\n",
      "\n",
      "\n"
     ]
    }
   ],
   "source": [
    "########## LOAD CV RESULTS\n",
    "\n",
    "import pickle\n",
    "with open(f'reports/results/{experiment_config[\"ANALYSIS_POSTFIX\"]}/cv_step1.pickle', 'rb') as handle:\n",
    "    cv_df = pickle.load(handle)\n",
    "\n",
    "########## RUN STEP 2 ON CV\n",
    "\n",
    "cv_df, model_results = cv_step_2(experiment_config=experiment_config, cv_df=cv_df, t_models=[\"lgbm\"])\n",
    "\n",
    "with open(f'reports/results/{experiment_config[\"ANALYSIS_POSTFIX\"]}/s2_model_results.pickle', 'wb') as handle:\n",
    "    pickle.dump(model_results, handle, protocol=pickle.HIGHEST_PROTOCOL)\n",
    "\n",
    "with open(f'reports/results/{experiment_config[\"ANALYSIS_POSTFIX\"]}/cv_results.pickle', 'wb') as handle:\n",
    "    pickle.dump(cv_df, handle, protocol=pickle.HIGHEST_PROTOCOL)\n"
   ]
  },
  {
   "cell_type": "code",
   "execution_count": 4,
   "metadata": {},
   "outputs": [
    {
     "name": "stdout",
     "output_type": "stream",
     "text": [
      "Mean\n",
      "model_set\n",
      "0                    0.128471\n",
      "1                    0.272787\n",
      "2                    0.280769\n",
      "5                    0.285255\n",
      "10                   0.282760\n",
      "cluster_[0, 1, 4]    0.241250\n",
      "cluster_[1]          0.141068\n",
      "cluster_[3]          0.259440\n",
      "cluster_[4]          0.213261\n",
      "ensemble             0.284587\n",
      "Name: rouge, dtype: float64\n",
      "STD\n",
      "model_set\n",
      "0                    0.135276\n",
      "1                    0.159897\n",
      "2                    0.161486\n",
      "5                    0.162626\n",
      "10                   0.163305\n",
      "cluster_[0, 1, 4]    0.161949\n",
      "cluster_[1]          0.140849\n",
      "cluster_[3]          0.167286\n",
      "cluster_[4]          0.159754\n",
      "ensemble             0.162828\n",
      "Name: rouge, dtype: float64\n",
      "lgbm\n",
      "[LightGBM] [Warning] Accuracy may be bad since you didn't explicitly set num_leaves OR 2^max_depth > num_leaves. (num_leaves=31).\n",
      "[LightGBM] [Warning] Accuracy may be bad since you didn't explicitly set num_leaves OR 2^max_depth > num_leaves. (num_leaves=31).\n",
      "[LightGBM] [Info] Auto-choosing row-wise multi-threading, the overhead of testing was 11.044841 seconds.\n",
      "You can set `force_row_wise=true` to remove the overhead.\n",
      "And if memory is not enough, you can set `force_col_wise=true`.\n",
      "[LightGBM] [Info] Total Bins 19499\n",
      "[LightGBM] [Info] Number of data points in the train set: 63000, number of used features: 1379\n",
      "[LightGBM] [Info] Start training from score 0.233896\n",
      "[LightGBM] [Warning] No further splits with positive gain, best gain: -inf\n",
      "[LightGBM] [Warning] No further splits with positive gain, best gain: -inf\n",
      "[LightGBM] [Warning] No further splits with positive gain, best gain: -inf\n",
      "[LightGBM] [Warning] No further splits with positive gain, best gain: -inf\n",
      "[LightGBM] [Warning] No further splits with positive gain, best gain: -inf\n",
      "[LightGBM] [Warning] No further splits with positive gain, best gain: -inf\n",
      "[LightGBM] [Warning] No further splits with positive gain, best gain: -inf\n",
      "[LightGBM] [Warning] No further splits with positive gain, best gain: -inf\n",
      "[LightGBM] [Warning] No further splits with positive gain, best gain: -inf\n",
      "[LightGBM] [Warning] No further splits with positive gain, best gain: -inf\n",
      "[LightGBM] [Warning] No further splits with positive gain, best gain: -inf\n",
      "[LightGBM] [Warning] No further splits with positive gain, best gain: -inf\n",
      "[LightGBM] [Warning] No further splits with positive gain, best gain: -inf\n",
      "[LightGBM] [Warning] No further splits with positive gain, best gain: -inf\n",
      "[LightGBM] [Warning] No further splits with positive gain, best gain: -inf\n",
      "[LightGBM] [Warning] No further splits with positive gain, best gain: -inf\n",
      "[LightGBM] [Warning] No further splits with positive gain, best gain: -inf\n",
      "[LightGBM] [Warning] No further splits with positive gain, best gain: -inf\n",
      "[LightGBM] [Warning] No further splits with positive gain, best gain: -inf\n",
      "[LightGBM] [Warning] No further splits with positive gain, best gain: -inf\n",
      "[LightGBM] [Warning] No further splits with positive gain, best gain: -inf\n",
      "[LightGBM] [Warning] No further splits with positive gain, best gain: -inf\n",
      "[LightGBM] [Warning] No further splits with positive gain, best gain: -inf\n",
      "[LightGBM] [Warning] No further splits with positive gain, best gain: -inf\n",
      "[LightGBM] [Warning] No further splits with positive gain, best gain: -inf\n",
      "[LightGBM] [Warning] No further splits with positive gain, best gain: -inf\n",
      "[LightGBM] [Warning] No further splits with positive gain, best gain: -inf\n",
      "[LightGBM] [Warning] No further splits with positive gain, best gain: -inf\n",
      "[LightGBM] [Warning] No further splits with positive gain, best gain: -inf\n",
      "[LightGBM] [Warning] No further splits with positive gain, best gain: -inf\n",
      "[LightGBM] [Warning] No further splits with positive gain, best gain: -inf\n",
      "[LightGBM] [Warning] No further splits with positive gain, best gain: -inf\n",
      "[LightGBM] [Warning] No further splits with positive gain, best gain: -inf\n",
      "[LightGBM] [Warning] No further splits with positive gain, best gain: -inf\n",
      "[LightGBM] [Warning] No further splits with positive gain, best gain: -inf\n",
      "[LightGBM] [Warning] No further splits with positive gain, best gain: -inf\n",
      "[LightGBM] [Warning] No further splits with positive gain, best gain: -inf\n",
      "[LightGBM] [Warning] No further splits with positive gain, best gain: -inf\n",
      "[LightGBM] [Warning] No further splits with positive gain, best gain: -inf\n",
      "[LightGBM] [Warning] No further splits with positive gain, best gain: -inf\n",
      "[LightGBM] [Warning] No further splits with positive gain, best gain: -inf\n",
      "[LightGBM] [Warning] No further splits with positive gain, best gain: -inf\n",
      "[LightGBM] [Warning] No further splits with positive gain, best gain: -inf\n",
      "[LightGBM] [Warning] No further splits with positive gain, best gain: -inf\n",
      "[LightGBM] [Warning] No further splits with positive gain, best gain: -inf\n",
      "[LightGBM] [Warning] No further splits with positive gain, best gain: -inf\n",
      "[LightGBM] [Warning] No further splits with positive gain, best gain: -inf\n",
      "[LightGBM] [Warning] No further splits with positive gain, best gain: -inf\n"
     ]
    }
   ],
   "source": [
    "### TO SAVE THE VECTORIZER AND STEP 2 MODELS\n",
    "\n",
    "with open(f'reports/results/{experiment_config[\"ANALYSIS_POSTFIX\"]}/cv_results.pickle', 'rb') as handle:\n",
    "    cv_df = pickle.load(handle)\n",
    "\n",
    "\n",
    "print(\"Mean\")\n",
    "print(cv_df.groupby([\"model_set\"])[\"rouge\"].mean())\n",
    "\n",
    "print(\"STD\")\n",
    "print(cv_df.groupby(\"model_set\")[\"rouge\"].std())\n",
    "\n",
    "\n",
    "full_step_2(cv_df=cv_df, \n",
    "            experiment_config=experiment_config, t_models=[\"lgbm\"])"
   ]
  },
  {
   "cell_type": "markdown",
   "metadata": {},
   "source": [
    "# TEST"
   ]
  },
  {
   "cell_type": "code",
   "execution_count": 5,
   "metadata": {},
   "outputs": [],
   "source": [
    "# sampling_dict = create_splits(experiment_config=experiment_config, tokenizer=tokenizer, test=True, train_size=100, test_size=25, cluster_id=4)\n",
    "# train_dataset, test_data, test_df, train_df = sampling_dict[\"train_data\"], sampling_dict[\"test_data\"], sampling_dict[\"test_df\"], sampling_dict[\"train_df\"]\n",
    "\n",
    "# splits, questions_list = prep_cv_validation(train_dataset=train_dataset, \n",
    "#                             experiment_config=experiment_config)"
   ]
  },
  {
   "cell_type": "code",
   "execution_count": 6,
   "metadata": {},
   "outputs": [
    {
     "data": {
      "text/plain": [
       "'ensemble'"
      ]
     },
     "execution_count": 6,
     "metadata": {},
     "output_type": "execute_result"
    }
   ],
   "source": [
    "with open(f\"reports/results/{experiment_config['ANALYSIS_POSTFIX']}/cv_results.pickle\", \"rb\") as handle:\n",
    "    cv_resutls = pickle.load(handle)\n",
    "\n",
    "base_models_list = list(cv_resutls.model_set.unique())\n",
    "base_models_list.pop(-1)"
   ]
  },
  {
   "cell_type": "code",
   "execution_count": 7,
   "metadata": {},
   "outputs": [
    {
     "name": "stdout",
     "output_type": "stream",
     "text": [
      "lgbm\n",
      "[LightGBM] [Warning] Accuracy may be bad since you didn't explicitly set num_leaves OR 2^max_depth > num_leaves. (num_leaves=31).\n"
     ]
    }
   ],
   "source": [
    "meta_preds_df = meta_predict(experiment_config=experiment_config, \n",
    "                    test_df=test_df,\n",
    "                    base_models_names=base_models_list,\n",
    "                    t_models=[\"lgbm\"])\n",
    "\n",
    "########## SAVE THE FILE\n",
    "\n",
    "with open(f'reports/results/{experiment_config[\"ANALYSIS_POSTFIX\"]}/test_step2.pickle', 'wb') as handle:\n",
    "    pickle.dump(meta_preds_df, handle, protocol=pickle.HIGHEST_PROTOCOL)"
   ]
  },
  {
   "cell_type": "code",
   "execution_count": 10,
   "metadata": {
    "scrolled": true
   },
   "outputs": [
    {
     "data": {
      "text/plain": [
       "model_set\n",
       "0                    0.136463\n",
       "1                    0.271276\n",
       "2                    0.277438\n",
       "5                    0.280957\n",
       "10                   0.278436\n",
       "cluster_[0, 1, 4]    0.247229\n",
       "cluster_[1]          0.148851\n",
       "cluster_[3]          0.262917\n",
       "cluster_[4]          0.220177\n",
       "Name: lgbm_preds, dtype: float64"
      ]
     },
     "execution_count": 10,
     "metadata": {},
     "output_type": "execute_result"
    }
   ],
   "source": [
    "with open(f'reports/results/{experiment_config[\"ANALYSIS_POSTFIX\"]}/test_step2.pickle', 'rb') as handle:\n",
    "    meta_preds_df = pickle.load(handle)\n",
    "    \n",
    "meta_preds_df.groupby(\"model_set\").lgbm_preds.mean()"
   ]
  },
  {
   "cell_type": "code",
   "execution_count": 11,
   "metadata": {},
   "outputs": [],
   "source": [
    "optimal_ensemble_map, ensemble_val_estim = create_ensemble_map(meta_preds_df=meta_preds_df, \n",
    "                                                                t_model_name=\"lgbm\")"
   ]
  },
  {
   "cell_type": "code",
   "execution_count": 12,
   "metadata": {
    "jupyter": {
     "source_hidden": true
    },
    "scrolled": true
   },
   "outputs": [
    {
     "name": "stdout",
     "output_type": "stream",
     "text": [
      "TRAINING EPOCH SET 0\n",
      "TRAINING EPOCHS 0\n",
      "cuda\n"
     ]
    },
    {
     "name": "stderr",
     "output_type": "stream",
     "text": [
      "Using the `WANDB_DISABLED` environment variable is deprecated and will be removed in v5. Use the --report_to flag to control the integrations used for logging result (for instance --report_to none).\n"
     ]
    },
    {
     "name": "stdout",
     "output_type": "stream",
     "text": [
      "TRAINING EPOCH SET 1\n",
      "TRAINING EPOCHS 1\n",
      "cuda\n"
     ]
    },
    {
     "name": "stderr",
     "output_type": "stream",
     "text": [
      "Using the `WANDB_DISABLED` environment variable is deprecated and will be removed in v5. Use the --report_to flag to control the integrations used for logging result (for instance --report_to none).\n"
     ]
    },
    {
     "data": {
      "text/html": [
       "\n",
       "    <div>\n",
       "      \n",
       "      <progress value='1750' max='1750' style='width:300px; height:20px; vertical-align: middle;'></progress>\n",
       "      [1750/1750 06:15, Epoch 1/1]\n",
       "    </div>\n",
       "    <table border=\"1\" class=\"dataframe\">\n",
       "  <thead>\n",
       " <tr style=\"text-align: left;\">\n",
       "      <th>Epoch</th>\n",
       "      <th>Training Loss</th>\n",
       "      <th>Validation Loss</th>\n",
       "      <th>Rouge1</th>\n",
       "      <th>Rouge2</th>\n",
       "      <th>Rougel</th>\n",
       "      <th>Rougelsum</th>\n",
       "      <th>Gen Len</th>\n",
       "      <th>Bleu</th>\n",
       "      <th>Brevity Penalty</th>\n",
       "      <th>Length Ratio</th>\n",
       "      <th>Translation Length</th>\n",
       "      <th>Reference Length</th>\n",
       "    </tr>\n",
       "  </thead>\n",
       "  <tbody>\n",
       "    <tr>\n",
       "      <td>1</td>\n",
       "      <td>4.961300</td>\n",
       "      <td>4.534938</td>\n",
       "      <td>0.275100</td>\n",
       "      <td>0.075900</td>\n",
       "      <td>0.243400</td>\n",
       "      <td>0.243700</td>\n",
       "      <td>13.992800</td>\n",
       "      <td>0.028700</td>\n",
       "      <td>1.000000</td>\n",
       "      <td>1.144900</td>\n",
       "      <td>27495</td>\n",
       "      <td>24015</td>\n",
       "    </tr>\n",
       "  </tbody>\n",
       "</table><p>"
      ],
      "text/plain": [
       "<IPython.core.display.HTML object>"
      ]
     },
     "metadata": {},
     "output_type": "display_data"
    },
    {
     "name": "stdout",
     "output_type": "stream",
     "text": [
      "TRAINING EPOCH SET 2\n",
      "TRAINING EPOCHS 1\n",
      "cuda\n"
     ]
    },
    {
     "name": "stderr",
     "output_type": "stream",
     "text": [
      "Using the `WANDB_DISABLED` environment variable is deprecated and will be removed in v5. Use the --report_to flag to control the integrations used for logging result (for instance --report_to none).\n"
     ]
    },
    {
     "data": {
      "text/html": [
       "\n",
       "    <div>\n",
       "      \n",
       "      <progress value='1750' max='1750' style='width:300px; height:20px; vertical-align: middle;'></progress>\n",
       "      [1750/1750 07:42, Epoch 1/1]\n",
       "    </div>\n",
       "    <table border=\"1\" class=\"dataframe\">\n",
       "  <thead>\n",
       " <tr style=\"text-align: left;\">\n",
       "      <th>Epoch</th>\n",
       "      <th>Training Loss</th>\n",
       "      <th>Validation Loss</th>\n",
       "      <th>Rouge1</th>\n",
       "      <th>Rouge2</th>\n",
       "      <th>Rougel</th>\n",
       "      <th>Rougelsum</th>\n",
       "      <th>Gen Len</th>\n",
       "      <th>Bleu</th>\n",
       "      <th>Brevity Penalty</th>\n",
       "      <th>Length Ratio</th>\n",
       "      <th>Translation Length</th>\n",
       "      <th>Reference Length</th>\n",
       "    </tr>\n",
       "  </thead>\n",
       "  <tbody>\n",
       "    <tr>\n",
       "      <td>1</td>\n",
       "      <td>4.491100</td>\n",
       "      <td>4.460569</td>\n",
       "      <td>0.283700</td>\n",
       "      <td>0.079000</td>\n",
       "      <td>0.249500</td>\n",
       "      <td>0.249700</td>\n",
       "      <td>13.924000</td>\n",
       "      <td>0.030100</td>\n",
       "      <td>1.000000</td>\n",
       "      <td>1.134300</td>\n",
       "      <td>27240</td>\n",
       "      <td>24015</td>\n",
       "    </tr>\n",
       "  </tbody>\n",
       "</table><p>"
      ],
      "text/plain": [
       "<IPython.core.display.HTML object>"
      ]
     },
     "metadata": {},
     "output_type": "display_data"
    },
    {
     "name": "stdout",
     "output_type": "stream",
     "text": [
      "TRAINING EPOCH SET 5\n",
      "TRAINING EPOCHS 3\n",
      "cuda\n"
     ]
    },
    {
     "name": "stderr",
     "output_type": "stream",
     "text": [
      "Using the `WANDB_DISABLED` environment variable is deprecated and will be removed in v5. Use the --report_to flag to control the integrations used for logging result (for instance --report_to none).\n"
     ]
    },
    {
     "data": {
      "text/html": [
       "\n",
       "    <div>\n",
       "      \n",
       "      <progress value='5250' max='5250' style='width:300px; height:20px; vertical-align: middle;'></progress>\n",
       "      [5250/5250 18:28, Epoch 3/3]\n",
       "    </div>\n",
       "    <table border=\"1\" class=\"dataframe\">\n",
       "  <thead>\n",
       " <tr style=\"text-align: left;\">\n",
       "      <th>Epoch</th>\n",
       "      <th>Training Loss</th>\n",
       "      <th>Validation Loss</th>\n",
       "      <th>Rouge1</th>\n",
       "      <th>Rouge2</th>\n",
       "      <th>Rougel</th>\n",
       "      <th>Rougelsum</th>\n",
       "      <th>Gen Len</th>\n",
       "      <th>Bleu</th>\n",
       "      <th>Brevity Penalty</th>\n",
       "      <th>Length Ratio</th>\n",
       "      <th>Translation Length</th>\n",
       "      <th>Reference Length</th>\n",
       "    </tr>\n",
       "  </thead>\n",
       "  <tbody>\n",
       "    <tr>\n",
       "      <td>1</td>\n",
       "      <td>4.231900</td>\n",
       "      <td>4.409790</td>\n",
       "      <td>0.286000</td>\n",
       "      <td>0.079000</td>\n",
       "      <td>0.249700</td>\n",
       "      <td>0.250000</td>\n",
       "      <td>13.817200</td>\n",
       "      <td>0.029400</td>\n",
       "      <td>1.000000</td>\n",
       "      <td>1.128000</td>\n",
       "      <td>27089</td>\n",
       "      <td>24015</td>\n",
       "    </tr>\n",
       "    <tr>\n",
       "      <td>2</td>\n",
       "      <td>4.357300</td>\n",
       "      <td>4.379532</td>\n",
       "      <td>0.284600</td>\n",
       "      <td>0.079700</td>\n",
       "      <td>0.249000</td>\n",
       "      <td>0.249000</td>\n",
       "      <td>13.762400</td>\n",
       "      <td>0.030700</td>\n",
       "      <td>1.000000</td>\n",
       "      <td>1.108600</td>\n",
       "      <td>26623</td>\n",
       "      <td>24015</td>\n",
       "    </tr>\n",
       "    <tr>\n",
       "      <td>3</td>\n",
       "      <td>4.266100</td>\n",
       "      <td>4.378836</td>\n",
       "      <td>0.285400</td>\n",
       "      <td>0.078600</td>\n",
       "      <td>0.249200</td>\n",
       "      <td>0.249300</td>\n",
       "      <td>13.896800</td>\n",
       "      <td>0.030100</td>\n",
       "      <td>1.000000</td>\n",
       "      <td>1.118700</td>\n",
       "      <td>26865</td>\n",
       "      <td>24015</td>\n",
       "    </tr>\n",
       "  </tbody>\n",
       "</table><p>"
      ],
      "text/plain": [
       "<IPython.core.display.HTML object>"
      ]
     },
     "metadata": {},
     "output_type": "display_data"
    },
    {
     "name": "stdout",
     "output_type": "stream",
     "text": [
      "TRAINING EPOCH SET 10\n",
      "TRAINING EPOCHS 5\n",
      "cuda\n"
     ]
    },
    {
     "name": "stderr",
     "output_type": "stream",
     "text": [
      "Using the `WANDB_DISABLED` environment variable is deprecated and will be removed in v5. Use the --report_to flag to control the integrations used for logging result (for instance --report_to none).\n"
     ]
    },
    {
     "data": {
      "text/html": [
       "\n",
       "    <div>\n",
       "      \n",
       "      <progress value='8750' max='8750' style='width:300px; height:20px; vertical-align: middle;'></progress>\n",
       "      [8750/8750 30:52, Epoch 5/5]\n",
       "    </div>\n",
       "    <table border=\"1\" class=\"dataframe\">\n",
       "  <thead>\n",
       " <tr style=\"text-align: left;\">\n",
       "      <th>Epoch</th>\n",
       "      <th>Training Loss</th>\n",
       "      <th>Validation Loss</th>\n",
       "      <th>Rouge1</th>\n",
       "      <th>Rouge2</th>\n",
       "      <th>Rougel</th>\n",
       "      <th>Rougelsum</th>\n",
       "      <th>Gen Len</th>\n",
       "      <th>Bleu</th>\n",
       "      <th>Brevity Penalty</th>\n",
       "      <th>Length Ratio</th>\n",
       "      <th>Translation Length</th>\n",
       "      <th>Reference Length</th>\n",
       "    </tr>\n",
       "  </thead>\n",
       "  <tbody>\n",
       "    <tr>\n",
       "      <td>1</td>\n",
       "      <td>3.769400</td>\n",
       "      <td>4.415681</td>\n",
       "      <td>0.280600</td>\n",
       "      <td>0.074500</td>\n",
       "      <td>0.244100</td>\n",
       "      <td>0.244200</td>\n",
       "      <td>13.644000</td>\n",
       "      <td>0.028000</td>\n",
       "      <td>1.000000</td>\n",
       "      <td>1.103900</td>\n",
       "      <td>26510</td>\n",
       "      <td>24015</td>\n",
       "    </tr>\n",
       "    <tr>\n",
       "      <td>2</td>\n",
       "      <td>3.987500</td>\n",
       "      <td>4.397045</td>\n",
       "      <td>0.285000</td>\n",
       "      <td>0.079400</td>\n",
       "      <td>0.249200</td>\n",
       "      <td>0.249300</td>\n",
       "      <td>13.602400</td>\n",
       "      <td>0.030900</td>\n",
       "      <td>1.000000</td>\n",
       "      <td>1.091700</td>\n",
       "      <td>26218</td>\n",
       "      <td>24015</td>\n",
       "    </tr>\n",
       "    <tr>\n",
       "      <td>3</td>\n",
       "      <td>4.011700</td>\n",
       "      <td>4.377162</td>\n",
       "      <td>0.282700</td>\n",
       "      <td>0.077300</td>\n",
       "      <td>0.247900</td>\n",
       "      <td>0.247800</td>\n",
       "      <td>13.890800</td>\n",
       "      <td>0.029900</td>\n",
       "      <td>1.000000</td>\n",
       "      <td>1.115800</td>\n",
       "      <td>26796</td>\n",
       "      <td>24015</td>\n",
       "    </tr>\n",
       "    <tr>\n",
       "      <td>4</td>\n",
       "      <td>3.996300</td>\n",
       "      <td>4.380507</td>\n",
       "      <td>0.286700</td>\n",
       "      <td>0.077200</td>\n",
       "      <td>0.249900</td>\n",
       "      <td>0.250000</td>\n",
       "      <td>13.526000</td>\n",
       "      <td>0.028900</td>\n",
       "      <td>1.000000</td>\n",
       "      <td>1.081200</td>\n",
       "      <td>25966</td>\n",
       "      <td>24015</td>\n",
       "    </tr>\n",
       "    <tr>\n",
       "      <td>5</td>\n",
       "      <td>3.953200</td>\n",
       "      <td>4.387558</td>\n",
       "      <td>0.286800</td>\n",
       "      <td>0.077800</td>\n",
       "      <td>0.250300</td>\n",
       "      <td>0.250300</td>\n",
       "      <td>13.714400</td>\n",
       "      <td>0.028700</td>\n",
       "      <td>1.000000</td>\n",
       "      <td>1.096900</td>\n",
       "      <td>26341</td>\n",
       "      <td>24015</td>\n",
       "    </tr>\n",
       "  </tbody>\n",
       "</table><p>"
      ],
      "text/plain": [
       "<IPython.core.display.HTML object>"
      ]
     },
     "metadata": {},
     "output_type": "display_data"
    }
   ],
   "source": [
    "test_result_df = test_training_epochs_sets(experiment_config=experiment_config,\n",
    "                            test_df=test_df,\n",
    "                            test_data=test_data,\n",
    "                            train_data=train_dataset,\n",
    "                            tokenizer=tokenizer)\n",
    "\n",
    "with open(f'reports/results/{experiment_config[\"ANALYSIS_POSTFIX\"]}/test_epoch_set.pickle', 'wb') as handle:\n",
    "    pickle.dump(test_result_df, handle, protocol=pickle.HIGHEST_PROTOCOL)"
   ]
  },
  {
   "cell_type": "code",
   "execution_count": 13,
   "metadata": {},
   "outputs": [
    {
     "data": {
      "text/plain": [
       "cluster\n",
       "2    3888\n",
       "3    2114\n",
       "4     596\n",
       "1     234\n",
       "0     168\n",
       "Name: count, dtype: int64"
      ]
     },
     "execution_count": 13,
     "metadata": {},
     "output_type": "execute_result"
    }
   ],
   "source": [
    "train_df.cluster.value_counts()"
   ]
  },
  {
   "cell_type": "code",
   "execution_count": 14,
   "metadata": {},
   "outputs": [
    {
     "name": "stdout",
     "output_type": "stream",
     "text": [
      "Cluster [1] training size (234, 14)\n",
      "TRAINING CLUSTER SET [1] FOR EPOCHS5\n",
      "LOADING MODEL Salesforce/codet5-base-multi-sum\n",
      "cuda\n"
     ]
    },
    {
     "name": "stderr",
     "output_type": "stream",
     "text": [
      "Using the `WANDB_DISABLED` environment variable is deprecated and will be removed in v5. Use the --report_to flag to control the integrations used for logging result (for instance --report_to none).\n"
     ]
    },
    {
     "data": {
      "text/html": [
       "\n",
       "    <div>\n",
       "      \n",
       "      <progress value='295' max='295' style='width:300px; height:20px; vertical-align: middle;'></progress>\n",
       "      [295/295 11:25, Epoch 5/5]\n",
       "    </div>\n",
       "    <table border=\"1\" class=\"dataframe\">\n",
       "  <thead>\n",
       " <tr style=\"text-align: left;\">\n",
       "      <th>Epoch</th>\n",
       "      <th>Training Loss</th>\n",
       "      <th>Validation Loss</th>\n",
       "      <th>Rouge1</th>\n",
       "      <th>Rouge2</th>\n",
       "      <th>Rougel</th>\n",
       "      <th>Rougelsum</th>\n",
       "      <th>Gen Len</th>\n",
       "      <th>Bleu</th>\n",
       "      <th>Brevity Penalty</th>\n",
       "      <th>Length Ratio</th>\n",
       "      <th>Translation Length</th>\n",
       "      <th>Reference Length</th>\n",
       "    </tr>\n",
       "  </thead>\n",
       "  <tbody>\n",
       "    <tr>\n",
       "      <td>1</td>\n",
       "      <td>6.069100</td>\n",
       "      <td>5.868877</td>\n",
       "      <td>0.126100</td>\n",
       "      <td>0.016000</td>\n",
       "      <td>0.114500</td>\n",
       "      <td>0.114700</td>\n",
       "      <td>9.592000</td>\n",
       "      <td>0.005100</td>\n",
       "      <td>0.712900</td>\n",
       "      <td>0.747100</td>\n",
       "      <td>17942</td>\n",
       "      <td>24015</td>\n",
       "    </tr>\n",
       "    <tr>\n",
       "      <td>2</td>\n",
       "      <td>5.892700</td>\n",
       "      <td>5.698154</td>\n",
       "      <td>0.128600</td>\n",
       "      <td>0.017000</td>\n",
       "      <td>0.117000</td>\n",
       "      <td>0.117100</td>\n",
       "      <td>9.544000</td>\n",
       "      <td>0.005500</td>\n",
       "      <td>0.706100</td>\n",
       "      <td>0.741900</td>\n",
       "      <td>17816</td>\n",
       "      <td>24015</td>\n",
       "    </tr>\n",
       "    <tr>\n",
       "      <td>3</td>\n",
       "      <td>5.664800</td>\n",
       "      <td>5.505741</td>\n",
       "      <td>0.132900</td>\n",
       "      <td>0.018900</td>\n",
       "      <td>0.120800</td>\n",
       "      <td>0.121000</td>\n",
       "      <td>9.454000</td>\n",
       "      <td>0.006300</td>\n",
       "      <td>0.694900</td>\n",
       "      <td>0.733200</td>\n",
       "      <td>17607</td>\n",
       "      <td>24015</td>\n",
       "    </tr>\n",
       "    <tr>\n",
       "      <td>4</td>\n",
       "      <td>5.391800</td>\n",
       "      <td>5.328917</td>\n",
       "      <td>0.142200</td>\n",
       "      <td>0.022600</td>\n",
       "      <td>0.128900</td>\n",
       "      <td>0.129300</td>\n",
       "      <td>9.387600</td>\n",
       "      <td>0.008100</td>\n",
       "      <td>0.681400</td>\n",
       "      <td>0.722700</td>\n",
       "      <td>17356</td>\n",
       "      <td>24015</td>\n",
       "    </tr>\n",
       "    <tr>\n",
       "      <td>5</td>\n",
       "      <td>5.185400</td>\n",
       "      <td>5.185640</td>\n",
       "      <td>0.158500</td>\n",
       "      <td>0.027100</td>\n",
       "      <td>0.143500</td>\n",
       "      <td>0.143800</td>\n",
       "      <td>9.678400</td>\n",
       "      <td>0.010500</td>\n",
       "      <td>0.717700</td>\n",
       "      <td>0.750900</td>\n",
       "      <td>18034</td>\n",
       "      <td>24015</td>\n",
       "    </tr>\n",
       "  </tbody>\n",
       "</table><p>"
      ],
      "text/plain": [
       "<IPython.core.display.HTML object>"
      ]
     },
     "metadata": {},
     "output_type": "display_data"
    },
    {
     "name": "stdout",
     "output_type": "stream",
     "text": [
      "Cluster [4] training size (596, 14)\n",
      "TRAINING CLUSTER SET [4] FOR EPOCHS5\n",
      "LOADING MODEL Salesforce/codet5-base-multi-sum\n",
      "cuda\n"
     ]
    },
    {
     "name": "stderr",
     "output_type": "stream",
     "text": [
      "Using the `WANDB_DISABLED` environment variable is deprecated and will be removed in v5. Use the --report_to flag to control the integrations used for logging result (for instance --report_to none).\n"
     ]
    },
    {
     "data": {
      "text/html": [
       "\n",
       "    <div>\n",
       "      \n",
       "      <progress value='745' max='745' style='width:300px; height:20px; vertical-align: middle;'></progress>\n",
       "      [745/745 14:08, Epoch 5/5]\n",
       "    </div>\n",
       "    <table border=\"1\" class=\"dataframe\">\n",
       "  <thead>\n",
       " <tr style=\"text-align: left;\">\n",
       "      <th>Epoch</th>\n",
       "      <th>Training Loss</th>\n",
       "      <th>Validation Loss</th>\n",
       "      <th>Rouge1</th>\n",
       "      <th>Rouge2</th>\n",
       "      <th>Rougel</th>\n",
       "      <th>Rougelsum</th>\n",
       "      <th>Gen Len</th>\n",
       "      <th>Bleu</th>\n",
       "      <th>Brevity Penalty</th>\n",
       "      <th>Length Ratio</th>\n",
       "      <th>Translation Length</th>\n",
       "      <th>Reference Length</th>\n",
       "    </tr>\n",
       "  </thead>\n",
       "  <tbody>\n",
       "    <tr>\n",
       "      <td>1</td>\n",
       "      <td>5.831800</td>\n",
       "      <td>5.581477</td>\n",
       "      <td>0.137200</td>\n",
       "      <td>0.018800</td>\n",
       "      <td>0.124700</td>\n",
       "      <td>0.125000</td>\n",
       "      <td>9.931200</td>\n",
       "      <td>0.006600</td>\n",
       "      <td>0.763600</td>\n",
       "      <td>0.787600</td>\n",
       "      <td>18914</td>\n",
       "      <td>24015</td>\n",
       "    </tr>\n",
       "    <tr>\n",
       "      <td>2</td>\n",
       "      <td>5.298300</td>\n",
       "      <td>5.132429</td>\n",
       "      <td>0.170200</td>\n",
       "      <td>0.031100</td>\n",
       "      <td>0.154400</td>\n",
       "      <td>0.154500</td>\n",
       "      <td>10.537600</td>\n",
       "      <td>0.013600</td>\n",
       "      <td>0.839500</td>\n",
       "      <td>0.851100</td>\n",
       "      <td>20439</td>\n",
       "      <td>24015</td>\n",
       "    </tr>\n",
       "    <tr>\n",
       "      <td>3</td>\n",
       "      <td>4.912600</td>\n",
       "      <td>4.890090</td>\n",
       "      <td>0.206600</td>\n",
       "      <td>0.045700</td>\n",
       "      <td>0.187400</td>\n",
       "      <td>0.187400</td>\n",
       "      <td>12.473200</td>\n",
       "      <td>0.018200</td>\n",
       "      <td>1.000000</td>\n",
       "      <td>1.028900</td>\n",
       "      <td>24710</td>\n",
       "      <td>24015</td>\n",
       "    </tr>\n",
       "    <tr>\n",
       "      <td>4</td>\n",
       "      <td>4.653600</td>\n",
       "      <td>4.791064</td>\n",
       "      <td>0.227100</td>\n",
       "      <td>0.055200</td>\n",
       "      <td>0.203800</td>\n",
       "      <td>0.204000</td>\n",
       "      <td>12.470000</td>\n",
       "      <td>0.024300</td>\n",
       "      <td>1.000000</td>\n",
       "      <td>1.009900</td>\n",
       "      <td>24252</td>\n",
       "      <td>24015</td>\n",
       "    </tr>\n",
       "    <tr>\n",
       "      <td>5</td>\n",
       "      <td>4.477900</td>\n",
       "      <td>4.777442</td>\n",
       "      <td>0.227100</td>\n",
       "      <td>0.055200</td>\n",
       "      <td>0.203500</td>\n",
       "      <td>0.203700</td>\n",
       "      <td>12.212800</td>\n",
       "      <td>0.023400</td>\n",
       "      <td>0.980600</td>\n",
       "      <td>0.980800</td>\n",
       "      <td>23554</td>\n",
       "      <td>24015</td>\n",
       "    </tr>\n",
       "  </tbody>\n",
       "</table><p>"
      ],
      "text/plain": [
       "<IPython.core.display.HTML object>"
      ]
     },
     "metadata": {},
     "output_type": "display_data"
    },
    {
     "name": "stdout",
     "output_type": "stream",
     "text": [
      "Cluster [3] training size (2114, 14)\n",
      "TRAINING CLUSTER SET [3] FOR EPOCHS5\n",
      "LOADING MODEL Salesforce/codet5-base-multi-sum\n",
      "cuda\n"
     ]
    },
    {
     "name": "stderr",
     "output_type": "stream",
     "text": [
      "Using the `WANDB_DISABLED` environment variable is deprecated and will be removed in v5. Use the --report_to flag to control the integrations used for logging result (for instance --report_to none).\n"
     ]
    },
    {
     "data": {
      "text/html": [
       "\n",
       "    <div>\n",
       "      \n",
       "      <progress value='2645' max='2645' style='width:300px; height:20px; vertical-align: middle;'></progress>\n",
       "      [2645/2645 18:09, Epoch 5/5]\n",
       "    </div>\n",
       "    <table border=\"1\" class=\"dataframe\">\n",
       "  <thead>\n",
       " <tr style=\"text-align: left;\">\n",
       "      <th>Epoch</th>\n",
       "      <th>Training Loss</th>\n",
       "      <th>Validation Loss</th>\n",
       "      <th>Rouge1</th>\n",
       "      <th>Rouge2</th>\n",
       "      <th>Rougel</th>\n",
       "      <th>Rougelsum</th>\n",
       "      <th>Gen Len</th>\n",
       "      <th>Bleu</th>\n",
       "      <th>Brevity Penalty</th>\n",
       "      <th>Length Ratio</th>\n",
       "      <th>Translation Length</th>\n",
       "      <th>Reference Length</th>\n",
       "    </tr>\n",
       "  </thead>\n",
       "  <tbody>\n",
       "    <tr>\n",
       "      <td>1</td>\n",
       "      <td>5.275900</td>\n",
       "      <td>4.786207</td>\n",
       "      <td>0.228100</td>\n",
       "      <td>0.055500</td>\n",
       "      <td>0.205800</td>\n",
       "      <td>0.205900</td>\n",
       "      <td>12.390000</td>\n",
       "      <td>0.023000</td>\n",
       "      <td>0.994800</td>\n",
       "      <td>0.994800</td>\n",
       "      <td>23890</td>\n",
       "      <td>24015</td>\n",
       "    </tr>\n",
       "    <tr>\n",
       "      <td>2</td>\n",
       "      <td>4.599700</td>\n",
       "      <td>4.616581</td>\n",
       "      <td>0.252900</td>\n",
       "      <td>0.065400</td>\n",
       "      <td>0.224400</td>\n",
       "      <td>0.224400</td>\n",
       "      <td>12.977600</td>\n",
       "      <td>0.026200</td>\n",
       "      <td>1.000000</td>\n",
       "      <td>1.056200</td>\n",
       "      <td>25364</td>\n",
       "      <td>24015</td>\n",
       "    </tr>\n",
       "    <tr>\n",
       "      <td>3</td>\n",
       "      <td>4.392300</td>\n",
       "      <td>4.577627</td>\n",
       "      <td>0.261000</td>\n",
       "      <td>0.068900</td>\n",
       "      <td>0.229500</td>\n",
       "      <td>0.229500</td>\n",
       "      <td>13.277200</td>\n",
       "      <td>0.027100</td>\n",
       "      <td>1.000000</td>\n",
       "      <td>1.081300</td>\n",
       "      <td>25968</td>\n",
       "      <td>24015</td>\n",
       "    </tr>\n",
       "    <tr>\n",
       "      <td>4</td>\n",
       "      <td>4.276300</td>\n",
       "      <td>4.557720</td>\n",
       "      <td>0.265100</td>\n",
       "      <td>0.070800</td>\n",
       "      <td>0.232900</td>\n",
       "      <td>0.233100</td>\n",
       "      <td>13.334800</td>\n",
       "      <td>0.027800</td>\n",
       "      <td>1.000000</td>\n",
       "      <td>1.085000</td>\n",
       "      <td>26056</td>\n",
       "      <td>24015</td>\n",
       "    </tr>\n",
       "    <tr>\n",
       "      <td>5</td>\n",
       "      <td>4.214700</td>\n",
       "      <td>4.557394</td>\n",
       "      <td>0.263200</td>\n",
       "      <td>0.069400</td>\n",
       "      <td>0.230900</td>\n",
       "      <td>0.230900</td>\n",
       "      <td>13.204800</td>\n",
       "      <td>0.027600</td>\n",
       "      <td>1.000000</td>\n",
       "      <td>1.071000</td>\n",
       "      <td>25720</td>\n",
       "      <td>24015</td>\n",
       "    </tr>\n",
       "  </tbody>\n",
       "</table><p>"
      ],
      "text/plain": [
       "<IPython.core.display.HTML object>"
      ]
     },
     "metadata": {},
     "output_type": "display_data"
    },
    {
     "name": "stdout",
     "output_type": "stream",
     "text": [
      "Cluster [0, 1, 4] training size (998, 14)\n",
      "TRAINING CLUSTER SET [0, 1, 4] FOR EPOCHS5\n",
      "LOADING MODEL Salesforce/codet5-base-multi-sum\n",
      "cuda\n"
     ]
    },
    {
     "name": "stderr",
     "output_type": "stream",
     "text": [
      "Using the `WANDB_DISABLED` environment variable is deprecated and will be removed in v5. Use the --report_to flag to control the integrations used for logging result (for instance --report_to none).\n"
     ]
    },
    {
     "data": {
      "text/html": [
       "\n",
       "    <div>\n",
       "      \n",
       "      <progress value='1250' max='1250' style='width:300px; height:20px; vertical-align: middle;'></progress>\n",
       "      [1250/1250 15:10, Epoch 5/5]\n",
       "    </div>\n",
       "    <table border=\"1\" class=\"dataframe\">\n",
       "  <thead>\n",
       " <tr style=\"text-align: left;\">\n",
       "      <th>Epoch</th>\n",
       "      <th>Training Loss</th>\n",
       "      <th>Validation Loss</th>\n",
       "      <th>Rouge1</th>\n",
       "      <th>Rouge2</th>\n",
       "      <th>Rougel</th>\n",
       "      <th>Rougelsum</th>\n",
       "      <th>Gen Len</th>\n",
       "      <th>Bleu</th>\n",
       "      <th>Brevity Penalty</th>\n",
       "      <th>Length Ratio</th>\n",
       "      <th>Translation Length</th>\n",
       "      <th>Reference Length</th>\n",
       "    </tr>\n",
       "  </thead>\n",
       "  <tbody>\n",
       "    <tr>\n",
       "      <td>1</td>\n",
       "      <td>5.728100</td>\n",
       "      <td>5.257356</td>\n",
       "      <td>0.154000</td>\n",
       "      <td>0.025300</td>\n",
       "      <td>0.139400</td>\n",
       "      <td>0.139500</td>\n",
       "      <td>9.917600</td>\n",
       "      <td>0.009300</td>\n",
       "      <td>0.763300</td>\n",
       "      <td>0.787300</td>\n",
       "      <td>18907</td>\n",
       "      <td>24015</td>\n",
       "    </tr>\n",
       "    <tr>\n",
       "      <td>2</td>\n",
       "      <td>5.078300</td>\n",
       "      <td>4.824218</td>\n",
       "      <td>0.228400</td>\n",
       "      <td>0.055300</td>\n",
       "      <td>0.205900</td>\n",
       "      <td>0.205800</td>\n",
       "      <td>13.033200</td>\n",
       "      <td>0.024400</td>\n",
       "      <td>1.000000</td>\n",
       "      <td>1.058400</td>\n",
       "      <td>25418</td>\n",
       "      <td>24015</td>\n",
       "    </tr>\n",
       "    <tr>\n",
       "      <td>3</td>\n",
       "      <td>4.736300</td>\n",
       "      <td>4.696280</td>\n",
       "      <td>0.241700</td>\n",
       "      <td>0.062300</td>\n",
       "      <td>0.216600</td>\n",
       "      <td>0.216700</td>\n",
       "      <td>13.051600</td>\n",
       "      <td>0.027900</td>\n",
       "      <td>1.000000</td>\n",
       "      <td>1.053700</td>\n",
       "      <td>25305</td>\n",
       "      <td>24015</td>\n",
       "    </tr>\n",
       "    <tr>\n",
       "      <td>4</td>\n",
       "      <td>4.562800</td>\n",
       "      <td>4.666374</td>\n",
       "      <td>0.251500</td>\n",
       "      <td>0.063400</td>\n",
       "      <td>0.222800</td>\n",
       "      <td>0.222900</td>\n",
       "      <td>12.946000</td>\n",
       "      <td>0.028700</td>\n",
       "      <td>1.000000</td>\n",
       "      <td>1.043000</td>\n",
       "      <td>25047</td>\n",
       "      <td>24015</td>\n",
       "    </tr>\n",
       "    <tr>\n",
       "      <td>5</td>\n",
       "      <td>4.459200</td>\n",
       "      <td>4.660231</td>\n",
       "      <td>0.253400</td>\n",
       "      <td>0.065300</td>\n",
       "      <td>0.225300</td>\n",
       "      <td>0.225500</td>\n",
       "      <td>12.931200</td>\n",
       "      <td>0.028900</td>\n",
       "      <td>1.000000</td>\n",
       "      <td>1.042000</td>\n",
       "      <td>25024</td>\n",
       "      <td>24015</td>\n",
       "    </tr>\n",
       "  </tbody>\n",
       "</table><p>"
      ],
      "text/plain": [
       "<IPython.core.display.HTML object>"
      ]
     },
     "metadata": {},
     "output_type": "display_data"
    }
   ],
   "source": [
    "with open(f'reports/results/{experiment_config[\"ANALYSIS_POSTFIX\"]}/test_epoch_set.pickle', 'rb') as handle:\n",
    "   test_result_df = pickle.load(handle)\n",
    "\n",
    "test_result_df = test_result_df.rename(columns={\"epoch_set\": \"model_set\"})\n",
    "\n",
    "for cluster_idx in experiment_config[\"CLUSTER_SET_ID\"]:\n",
    "    test_result_df = test_cluster_set(experiment_config=experiment_config,\n",
    "                                    test_df=test_df,\n",
    "                                    test_data=test_data,\n",
    "                                    tokenizer=tokenizer,\n",
    "                                    results_df=test_result_df,\n",
    "                                    cluster_id=cluster_idx,\n",
    "                                    train_df=train_df)\n",
    "\n",
    "########## SAVE THE FILE\n",
    "\n",
    "with open(f'reports/results/{experiment_config[\"ANALYSIS_POSTFIX\"]}/test_results.pickle', 'wb') as handle:\n",
    "    pickle.dump(test_result_df, handle, protocol=pickle.HIGHEST_PROTOCOL)"
   ]
  },
  {
   "cell_type": "code",
   "execution_count": 15,
   "metadata": {},
   "outputs": [
    {
     "name": "stdout",
     "output_type": "stream",
     "text": [
      "Mean\n",
      "model_set\n",
      "0                    0.128119\n",
      "1                    0.276487\n",
      "2                    0.284958\n",
      "5                    0.288171\n",
      "10                   0.290581\n",
      "cluster_[0, 1, 4]    0.253683\n",
      "cluster_[1]          0.158525\n",
      "cluster_[3]          0.265418\n",
      "cluster_[4]          0.228561\n",
      "ensemble             0.288960\n",
      "Name: rouge, dtype: float64\n",
      "STD\n",
      "model_set\n",
      "0                    0.137439\n",
      "1                    0.165795\n",
      "2                    0.167190\n",
      "5                    0.168888\n",
      "10                   0.166432\n",
      "cluster_[0, 1, 4]    0.167487\n",
      "cluster_[1]          0.150029\n",
      "cluster_[3]          0.168580\n",
      "cluster_[4]          0.166655\n",
      "ensemble             0.168918\n",
      "Name: rouge, dtype: float64\n",
      "opt_es_id\n",
      "5              21410\n",
      "10              2130\n",
      "2                840\n",
      "1                390\n",
      "cluster_[3]      130\n",
      "cluster_[4]      100\n",
      "Name: count, dtype: int64\n"
     ]
    }
   ],
   "source": [
    "### ENSEMBLE COMPUTE\n",
    "test_result_df = ensemble_compute(test_result_df=test_result_df,\n",
    "                                  optimal_ensemble_map=optimal_ensemble_map)\n",
    "\n",
    "########## ROUGE PER SETTING\n",
    "\n",
    "print(\"Mean\")\n",
    "print(test_result_df.groupby(\"model_set\")[\"rouge\"].mean())\n",
    "\n",
    "print(\"STD\")\n",
    "print(test_result_df.groupby(\"model_set\")[\"rouge\"].std())\n",
    "\n",
    "print(test_result_df.opt_es_id.value_counts())\n",
    "\n",
    "with open(f'reports/results/{experiment_config[\"ANALYSIS_POSTFIX\"]}/test_results_full.pickle', 'wb') as handle:\n",
    "    pickle.dump(test_result_df, handle, protocol=pickle.HIGHEST_PROTOCOL)"
   ]
  },
  {
   "cell_type": "code",
   "execution_count": 16,
   "metadata": {},
   "outputs": [
    {
     "data": {
      "text/plain": [
       "opt_es_id\n",
       "5              21410\n",
       "10              2130\n",
       "2                840\n",
       "1                390\n",
       "cluster_[3]      130\n",
       "cluster_[4]      100\n",
       "Name: count, dtype: int64"
      ]
     },
     "execution_count": 16,
     "metadata": {},
     "output_type": "execute_result"
    }
   ],
   "source": [
    "test_result_df.opt_es_id.value_counts()"
   ]
  },
  {
   "cell_type": "code",
   "execution_count": null,
   "metadata": {},
   "outputs": [],
   "source": []
  }
 ],
 "metadata": {
  "kernelspec": {
   "display_name": "ensemble",
   "language": "python",
   "name": "ensemble"
  },
  "language_info": {
   "codemirror_mode": {
    "name": "ipython",
    "version": 3
   },
   "file_extension": ".py",
   "mimetype": "text/x-python",
   "name": "python",
   "nbconvert_exporter": "python",
   "pygments_lexer": "ipython3",
   "version": "3.10.14"
  }
 },
 "nbformat": 4,
 "nbformat_minor": 4
}
