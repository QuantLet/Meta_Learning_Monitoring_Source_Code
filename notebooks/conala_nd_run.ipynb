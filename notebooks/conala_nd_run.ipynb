{
 "cells": [
  {
   "cell_type": "code",
   "execution_count": null,
   "metadata": {},
   "outputs": [],
   "source": [
    "import importlib\n",
    "import os\n",
    "import sys\n",
    "\n",
    "import numpy as np\n",
    "import pandas as pd\n",
    "from datasets import Dataset\n",
    "sys.path.append(\"../\")\n",
    "\n",
    "import src\n",
    "\n",
    "importlib.reload(src)\n",
    "\n",
    "from src.data_prep_utils import (  # noqa: E402\n",
    "    conala_to_time_batches,\n",
    "    load_time_sorted_conala,\n",
    ")\n",
    "\n",
    "importlib.reload(src.data_prep_utils)\n",
    "\n",
    "\n",
    "from src.training import nd_inference, retraining, continual\n",
    "importlib.reload(src.training)\n",
    "\n",
    "import torch\n",
    "from transformers import (\n",
    "    DataCollatorForSeq2Seq,\n",
    "    RobertaTokenizerFast,\n",
    "    Seq2SeqTrainer,\n",
    "    Seq2SeqTrainingArguments,\n",
    "    T5ForConditionalGeneration,\n",
    ")\n",
    "from transformers import AutoModelForSeq2SeqLM, AutoTokenizer\n",
    "from src.processing_utils import compute_metric_with_params, prepare_hg_ds\n",
    "from tqdm import tqdm\n",
    "tqdm.pandas()\n",
    "\n",
    "import seaborn as sns\n",
    "import evaluate"
   ]
  },
  {
   "cell_type": "code",
   "execution_count": null,
   "metadata": {},
   "outputs": [],
   "source": [
    "#%pip install rouge_score\n",
    "#%pip install absl\n",
    "#%pip install seaborn\n",
    "#%pip install transformers[torch]"
   ]
  },
  {
   "cell_type": "code",
   "execution_count": null,
   "metadata": {},
   "outputs": [],
   "source": [
    "os.environ[\"TOKENIZERS_PARALLELISM\"] = \"false\"\n",
    "os.environ[\"WANDB_DISABLED\"] = \"true\"\n",
    "os.environ[\"CUDA_VISIBLE_DEVICES\"] = \"1\""
   ]
  },
  {
   "cell_type": "code",
   "execution_count": null,
   "metadata": {},
   "outputs": [],
   "source": [
    "MODEL = \"CodeT5\"\n",
    "TRAIN_N = 330\n",
    "BATCH_SIZE = 15\n",
    "DECODER_LENGTH = 20\n",
    "ENCODER_LENGTH = 15\n",
    "\n",
    "TRAIN_ARGS = {\n",
    "    \"TRAIN_N\": TRAIN_N,\n",
    "    \"BATCH_SIZE\": BATCH_SIZE,\n",
    "    \"DECODER_LENGTH\": DECODER_LENGTH,\n",
    "    \"ENCODER_LENGTH\": ENCODER_LENGTH,\n",
    "    \"MODEL\": MODEL,\n",
    "    \"SEQ_TRAINER_ARGS\": {\n",
    "        \"overwrite_output_dir\": True,\n",
    "        \"num_train_epochs\": 2,\n",
    "        \"do_train\": True,\n",
    "        \"do_eval\": False,\n",
    "        \"per_device_train_batch_size\": 4,\n",
    "        \"per_device_eval_batch_size\": 4,\n",
    "        \"learning_rate\": 5e-4,\n",
    "        \"warmup_steps\": 100,\n",
    "        \"weight_decay\": 0.1,\n",
    "        \"label_smoothing_factor\": 0.1,\n",
    "        \"predict_with_generate\": True,\n",
    "        \"logging_steps\": 100,\n",
    "        \"save_total_limit\": 1,\n",
    "        \"save_strategy\": \"epoch\",\n",
    "        \"logging_strategy\": \"epoch\",\n",
    "        \"evaluation_strategy\": \"epoch\",\n",
    "        \"load_best_model_at_end\": True,\n",
    "    },\n",
    "}"
   ]
  },
  {
   "cell_type": "code",
   "execution_count": null,
   "metadata": {},
   "outputs": [],
   "source": [
    "#df = load_time_sorted_conala(\"../data/raw/conala\")  # noqa: PD901\n",
    "#df = conala_to_time_batches(df, 30, BATCH_SIZE)  # noqa: PD901\n",
    "DATE_STR = \"20240327\"\n",
    "df = pd.read_csv(f\"../data/processed/conala/{DATE_STR}/all_drifts.csv\")\n",
    "df[\"t_batch\"] = df[\"time_batch\"]\n",
    "\n",
    "model_name=\"Salesforce/codet5-base-multi-sum\"\n",
    "tokenizer = AutoTokenizer.from_pretrained(model_name, skip_special_tokens=False)"
   ]
  },
  {
   "cell_type": "code",
   "execution_count": null,
   "metadata": {},
   "outputs": [],
   "source": [
    "def prep_for_hf(df: pd.DataFrame, batch_id: int|list, batch_name: str) -> Dataset:\n",
    "    \"\"\"Convert pandas dataframe to huggingface.\"\"\"\n",
    "    df = df.rename(columns={\"snippet\": \"input_sequence\",  # noqa: PD901\n",
    "                    \"intent\" : \"output_sequence\"})\n",
    "    if isinstance(batch_id, list):\n",
    "        df = df.loc[df[batch_name].isin(batch_id), [\"input_sequence\", \"output_sequence\", \"idx\"]]  # noqa: PD901\n",
    "    elif isinstance(batch_id, int):\n",
    "        df = df.loc[df[batch_name]==batch_id, [\"input_sequence\", \"output_sequence\", \"idx\"]]  # noqa: PD901\n",
    "    df = df.sample(frac=1, random_state=42)  # noqa: PD901\n",
    "    return Dataset.from_pandas(df)"
   ]
  },
  {
   "cell_type": "code",
   "execution_count": null,
   "metadata": {},
   "outputs": [],
   "source": [
    "def batch_tokenize_preprocess(batch, tokenizer, max_input_length, max_output_length):\n",
    "\n",
    "    source = batch[\"input_sequence\"]\n",
    "    target = batch[\"output_sequence\"]\n",
    "\n",
    "    source_tokenized = tokenizer(\n",
    "        source, padding=\"max_length\",\n",
    "        truncation=True, max_length=max_input_length\n",
    "    )\n",
    "\n",
    "    target_tokenized = tokenizer(\n",
    "        target, padding=\"max_length\",\n",
    "        truncation=True, max_length=max_output_length\n",
    "    )\n",
    "\n",
    "    batch = {k: v for k, v in source_tokenized.items()}\n",
    "\n",
    "    batch[\"labels\"] = [\n",
    "        [-100 if token == tokenizer.pad_token_id else token for token in label]\n",
    "        for label in target_tokenized[\"input_ids\"]\n",
    "    ]\n",
    "\n",
    "    return batch"
   ]
  },
  {
   "cell_type": "code",
   "execution_count": null,
   "metadata": {},
   "outputs": [],
   "source": [
    "train_dataset = prep_for_hf(df, 0, \"time_batch\")\n",
    "\n",
    "train_data = train_dataset.map(\n",
    "        lambda batch: batch_tokenize_preprocess(\n",
    "            batch,\n",
    "            tokenizer=tokenizer,\n",
    "            max_input_length=15,\n",
    "            max_output_length=20,\n",
    "        ),\n",
    "        batch_size=4,\n",
    "        batched=True,\n",
    "        #remove_columns=train_dataset.column_names,\n",
    "    )\n",
    "\n",
    "test_dataset = prep_for_hf(df, list(range(1, df.time_batch.max()+1)), \"time_batch\")\n",
    "\n",
    "test_data = test_dataset.map(\n",
    "        lambda batch: batch_tokenize_preprocess(\n",
    "            batch,\n",
    "            tokenizer=tokenizer,\n",
    "            max_input_length=15,\n",
    "            max_output_length=20,\n",
    "        ),\n",
    "        batch_size=4,\n",
    "        batched=True,\n",
    "        #remove_columns=train_dataset.column_names,\n",
    "    )"
   ]
  },
  {
   "cell_type": "code",
   "execution_count": null,
   "metadata": {},
   "outputs": [],
   "source": [
    "model = AutoModelForSeq2SeqLM.from_pretrained(model_name)\n",
    "device = torch.device(\"cuda\" if torch.cuda.is_available() else \"cpu\")\n",
    "model.to(device)\n",
    "data_collator = DataCollatorForSeq2Seq(tokenizer, model=model)\n",
    "\n",
    "compute_metrics = compute_metric_with_params(tokenizer)"
   ]
  },
  {
   "cell_type": "code",
   "execution_count": null,
   "metadata": {},
   "outputs": [],
   "source": [
    "TRAIN_ARGS[\"SEQ_TRAINER_ARGS\"][\"output_dir\"] = 'reports/nd_infer/results'\n",
    "TRAIN_ARGS[\"SEQ_TRAINER_ARGS\"][\"logging_dir\"] = 'reports/nd_infer/logs'\n",
    "\n",
    "if not os.path.exists(TRAIN_ARGS[\"SEQ_TRAINER_ARGS\"][\"logging_dir\"]): \n",
    "    os.mkdir(TRAIN_ARGS[\"SEQ_TRAINER_ARGS\"][\"logging_dir\"])\n",
    "    \n",
    "training_args = Seq2SeqTrainingArguments(\n",
    "        **TRAIN_ARGS[\"SEQ_TRAINER_ARGS\"],\n",
    "    )\n",
    "\n",
    "\n",
    "trainer = Seq2SeqTrainer(\n",
    "    model=model,\n",
    "    args=training_args,\n",
    "    data_collator=data_collator,\n",
    "    train_dataset=train_data,\n",
    "    eval_dataset=test_data,\n",
    "    tokenizer=tokenizer,\n",
    "    compute_metrics=compute_metrics,\n",
    ")"
   ]
  },
  {
   "cell_type": "code",
   "execution_count": null,
   "metadata": {},
   "outputs": [],
   "source": [
    "trainer.train()\n",
    "MODEL_PATH = \"reports/nd_infer/saved_model\"\n",
    "os.mkdir(MODEL_PATH)\n",
    "trainer.save_model(MODEL_PATH)"
   ]
  },
  {
   "cell_type": "code",
   "execution_count": null,
   "metadata": {},
   "outputs": [],
   "source": [
    "def generate_summary(test_samples, model, tokenizer, encoder_max_length, decoder_max_length):\n",
    "\n",
    "    inputs = tokenizer(\n",
    "        test_samples[\"input_sequence\"],\n",
    "        padding=\"max_length\",\n",
    "        truncation=True,\n",
    "        max_length=encoder_max_length,\n",
    "        return_tensors=\"pt\",\n",
    "    )\n",
    "    input_ids = inputs.input_ids.to(model.device)\n",
    "    attention_mask = inputs.attention_mask.to(model.device)\n",
    "    outputs = model.generate(input_ids, attention_mask=attention_mask, max_new_tokens=decoder_max_length)\n",
    "    output_str = tokenizer.batch_decode(outputs, skip_special_tokens=True)\n",
    "    return outputs, output_str"
   ]
  },
  {
   "cell_type": "code",
   "execution_count": null,
   "metadata": {},
   "outputs": [],
   "source": [
    "model = AutoModelForSeq2SeqLM.from_pretrained(MODEL_PATH)\n",
    "tokenizer = AutoTokenizer.from_pretrained(MODEL_PATH, skip_special_tokens=False)"
   ]
  },
  {
   "cell_type": "code",
   "execution_count": null,
   "metadata": {},
   "outputs": [],
   "source": [
    "text = df.snippet.values\n",
    "summaries = generate_summary(test_data, model, tokenizer, 15, 20)\n",
    "\n",
    "df[\"temporal_prediction_nd\"] = \"USED IN TRAIN\"\n",
    "df.loc[df.time_batch!=0, \"temporal_prediction_nd\"] = summaries[1]"
   ]
  },
  {
   "cell_type": "code",
   "execution_count": null,
   "metadata": {},
   "outputs": [],
   "source": [
    "rouge = evaluate.load('rouge')\n",
    "\n",
    "df[\"temporal_prediction_nd_rouge\"] = -999\n",
    "df[\"temporal_prediction_nd_rouge\"] = df[df.time_batch!=0].progress_apply(lambda x: rouge.compute(predictions=[x[\"temporal_prediction_nd\"]], references=[x[\"intent\"]])[\"rouge1\"], axis=1)\n",
    "\n",
    "ind_av_rouge = {}\n",
    "batch_rouge_calculations = {}\n",
    "for t_batch in range(1, df.time_batch.max()+1):\n",
    "    ind_av_rouge[t_batch] = df.loc[df.time_batch==t_batch, \"temporal_prediction_nd_rouge\"].mean()\n",
    "    batch_rouge_calculations[t_batch] = rouge.compute(predictions=df.loc[df.time_batch==t_batch, \"temporal_prediction_nd\"].values, references=df.loc[df.time_batch==t_batch, \"intent\"].values)[\"rouge1\"]\n",
    "\n",
    "ind_av_rouge_nd = np.array(list(ind_av_rouge.values()))\n",
    "batch_rouge_calculations_nd = np.array(list(batch_rouge_calculations.values()))"
   ]
  },
  {
   "cell_type": "code",
   "execution_count": null,
   "metadata": {},
   "outputs": [],
   "source": [
    "sns.lineplot(x=range(1, 66), y=ind_av_rouge_nd)\n",
    "sns.lineplot(x=range(1, 66), y=batch_rouge_calculations_nd)"
   ]
  }
 ],
 "metadata": {
  "kernelspec": {
   "display_name": "dd_spek",
   "language": "python",
   "name": "python3"
  },
  "language_info": {
   "codemirror_mode": {
    "name": "ipython",
    "version": 3
   },
   "file_extension": ".py",
   "mimetype": "text/x-python",
   "name": "python",
   "nbconvert_exporter": "python",
   "pygments_lexer": "ipython3",
   "version": "3.11.8"
  }
 },
 "nbformat": 4,
 "nbformat_minor": 2
}
