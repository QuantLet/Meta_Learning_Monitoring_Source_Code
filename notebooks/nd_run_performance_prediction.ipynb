{
 "cells": [
  {
   "cell_type": "code",
   "execution_count": 16,
   "metadata": {},
   "outputs": [
    {
     "name": "stdout",
     "output_type": "stream",
     "text": [
      "Collecting lightgbm\n",
      "  Downloading lightgbm-4.3.0.tar.gz (1.7 MB)\n",
      "\u001b[2K     \u001b[90m━━━━━━━━━━━━━━━━━━━━━━━━━━━━━━━━━━━━━━━━\u001b[0m \u001b[32m1.7/1.7 MB\u001b[0m \u001b[31m19.7 MB/s\u001b[0m eta \u001b[36m0:00:00\u001b[0ma \u001b[36m0:00:01\u001b[0m\n",
      "\u001b[?25h  Installing build dependencies ... \u001b[?25ldone\n",
      "\u001b[?25h  Getting requirements to build wheel ... \u001b[?25ldone\n",
      "\u001b[?25h  Installing backend dependencies ... \u001b[?25ldone\n",
      "\u001b[?25h  Preparing metadata (pyproject.toml) ... \u001b[?25ldone\n",
      "\u001b[?25hRequirement already satisfied: numpy in /home/RDC/zinovyee.hub/.conda/envs/dd_spek/lib/python3.11/site-packages (from lightgbm) (1.26.4)\n",
      "Requirement already satisfied: scipy in /home/RDC/zinovyee.hub/.conda/envs/dd_spek/lib/python3.11/site-packages (from lightgbm) (1.13.0)\n",
      "Building wheels for collected packages: lightgbm\n",
      "  Building wheel for lightgbm (pyproject.toml) ... \u001b[?25l/"
     ]
    }
   ],
   "source": [
    "#%pip install scikit-learn\n",
    "#%pip install lightgbm"
   ]
  },
  {
   "cell_type": "code",
   "execution_count": 57,
   "metadata": {},
   "outputs": [],
   "source": [
    "import pandas as pd\n",
    "import numpy as np\n",
    "import matplotlib.pyplot as plt\n",
    "%matplotlib inline\n",
    "import os\n",
    "\n",
    "from sklearn.pipeline import Pipeline\n",
    "from sklearn.model_selection import GridSearchCV\n",
    "from sklearn.ensemble  import GradientBoostingClassifier, RandomForestClassifier, RandomForestRegressor\n",
    "from sklearn.model_selection import StratifiedKFold, cross_val_score, train_test_split, KFold\n",
    "from sklearn.linear_model import LogisticRegression, LinearRegression\n",
    "from sklearn.naive_bayes import GaussianNB\n",
    "import random\n",
    "\n",
    "from sklearn import metrics\n",
    "from collections import Counter\n",
    "import argparse\n",
    "from sklearn.model_selection import cross_validate\n",
    "from sklearn.metrics import roc_auc_score, average_precision_score, f1_score, precision_score, recall_score\n",
    "from sklearn.feature_extraction.text import TfidfVectorizer\n",
    "from sklearn.linear_model import SGDClassifier\n",
    "from sklearn.model_selection import ParameterGrid\n",
    "#import lightgbm as lgb"
   ]
  },
  {
   "cell_type": "code",
   "execution_count": 28,
   "metadata": {},
   "outputs": [],
   "source": [
    "df = pd.read_csv(\"reports/nd_infer/results.csv\")"
   ]
  },
  {
   "cell_type": "code",
   "execution_count": 29,
   "metadata": {},
   "outputs": [],
   "source": [
    "input_feat = df[\"snippet\"]\n",
    "output_feat = df[\"temporal_prediction_nd_rouge\"]"
   ]
  },
  {
   "cell_type": "code",
   "execution_count": 30,
   "metadata": {},
   "outputs": [],
   "source": [
    "train_mask = df[\"sudden_batch\"]<25"
   ]
  },
  {
   "cell_type": "code",
   "execution_count": 31,
   "metadata": {},
   "outputs": [],
   "source": [
    "train_df = df.loc[train_mask, :]"
   ]
  },
  {
   "cell_type": "code",
   "execution_count": 32,
   "metadata": {},
   "outputs": [],
   "source": [
    "rmse = []\n",
    "\n",
    "word_vectorizer   = TfidfVectorizer(\n",
    "    sublinear_tf  = True,\n",
    "    strip_accents = 'unicode',\n",
    "    analyzer      = 'word',\n",
    "    token_pattern = r'\\w{1,}',\n",
    "    stop_words    = 'english',\n",
    "    ngram_range   = (1, 1),\n",
    "    max_features  = 40000)\n",
    "\n",
    "c = 0\n",
    "C_parameter = np.arange(0.1, 1, 0.1) \n",
    "\n",
    "# use best C\n",
    "\n",
    "C_parameter = [1]"
   ]
  },
  {
   "cell_type": "code",
   "execution_count": 33,
   "metadata": {},
   "outputs": [
    {
     "data": {
      "text/plain": [
       "65"
      ]
     },
     "execution_count": 33,
     "metadata": {},
     "output_type": "execute_result"
    }
   ],
   "source": [
    "df.sudden_batch.max()"
   ]
  },
  {
   "cell_type": "code",
   "execution_count": 34,
   "metadata": {},
   "outputs": [],
   "source": [
    "RS = 42"
   ]
  },
  {
   "cell_type": "code",
   "execution_count": 35,
   "metadata": {},
   "outputs": [
    {
     "data": {
      "text/plain": [
       "26      0.000000\n",
       "30      0.000000\n",
       "31      0.000000\n",
       "45      0.000000\n",
       "46      0.000000\n",
       "          ...   \n",
       "2845    0.000000\n",
       "2854    0.105263\n",
       "2863    0.285714\n",
       "2864    0.400000\n",
       "2870    0.133333\n",
       "Name: temporal_prediction_nd_rouge, Length: 312, dtype: float64"
      ]
     },
     "execution_count": 35,
     "metadata": {},
     "output_type": "execute_result"
    }
   ],
   "source": [
    "df.loc[(df[\"sudden_batch\"]<batch_id) & (df[\"sudden_batch\"]>2), \"temporal_prediction_nd_rouge\"]"
   ]
  },
  {
   "cell_type": "code",
   "execution_count": 58,
   "metadata": {},
   "outputs": [
    {
     "name": "stdout",
     "output_type": "stream",
     "text": [
      "batch 11 mse 0.014\n",
      "batch 12 mse 0.032\n",
      "batch 13 mse 0.02\n",
      "batch 14 mse 0.024\n",
      "batch 15 mse 0.021\n",
      "batch 16 mse 0.02\n",
      "batch 17 mse 0.016\n",
      "batch 18 mse 0.018\n",
      "batch 19 mse 0.021\n",
      "batch 20 mse 0.027\n",
      "batch 21 mse 0.024\n",
      "batch 22 mse 0.028\n",
      "batch 23 mse 0.017\n",
      "batch 24 mse 0.019\n",
      "batch 25 mse 0.028\n",
      "batch 26 mse 0.017\n",
      "batch 27 mse 0.018\n",
      "batch 28 mse 0.024\n",
      "batch 29 mse 0.014\n",
      "batch 30 mse 0.026\n",
      "batch 31 mse 0.025\n",
      "batch 32 mse 0.019\n",
      "batch 33 mse 0.016\n",
      "batch 34 mse 0.025\n",
      "batch 35 mse 0.022\n",
      "batch 36 mse 0.012\n",
      "batch 37 mse 0.017\n",
      "batch 38 mse 0.028\n",
      "batch 39 mse 0.021\n",
      "batch 40 mse 0.017\n",
      "batch 41 mse 0.022\n",
      "batch 42 mse 0.024\n",
      "batch 43 mse 0.022\n",
      "batch 44 mse 0.018\n",
      "batch 45 mse 0.019\n",
      "batch 46 mse 0.024\n",
      "batch 47 mse 0.024\n",
      "batch 48 mse 0.017\n",
      "batch 49 mse 0.026\n",
      "batch 50 mse 0.017\n",
      "batch 51 mse 0.025\n",
      "batch 52 mse 0.02\n",
      "batch 53 mse 0.013\n",
      "batch 54 mse 0.025\n",
      "batch 55 mse 0.024\n",
      "batch 56 mse 0.016\n",
      "batch 57 mse 0.024\n",
      "batch 58 mse 0.025\n",
      "batch 59 mse 0.019\n",
      "batch 60 mse 0.034\n",
      "batch 61 mse 0.013\n",
      "batch 62 mse 0.022\n",
      "batch 63 mse 0.021\n",
      "batch 64 mse 0.02\n",
      "batch 65 mse 0.008\n"
     ]
    }
   ],
   "source": [
    "batch_probs_rouge = []\n",
    "\n",
    "for batch_id in range(11, df.sudden_batch.max()+1):  \n",
    "      X_train, X_val      = df.loc[(df[\"sudden_batch\"]<batch_id) & (df[\"sudden_batch\"]!=0), \"snippet\"], df.loc[df[\"sudden_batch\"]==batch_id, \"snippet\"]\n",
    "      y_train, y_val      = df.loc[(df[\"sudden_batch\"]<batch_id) & (df[\"sudden_batch\"]!=0), \"temporal_prediction_nd_rouge\"], df.loc[df[\"sudden_batch\"]==batch_id, \"temporal_prediction_nd_rouge\"]\n",
    "      \n",
    "      word_vectorizer.fit(X_train)\n",
    "      \n",
    "      train_word_features = word_vectorizer.transform(X_train)\n",
    "      val_word_features   = word_vectorizer.transform(X_val)\n",
    "      \n",
    "      \n",
    "      regressor = RandomForestRegressor()\n",
    "      regressor.fit(train_word_features, y_train)\n",
    "\n",
    "      probs = regressor.predict(val_word_features)\n",
    "\n",
    "      batch_probs_rouge.append(np.mean(probs))\n",
    "      \n",
    "      mse = metrics.mean_squared_error(y_val, probs)\n",
    "      \n",
    "      print(f'batch {batch_id} mse {round(mse, 3)}')"
   ]
  },
  {
   "cell_type": "code",
   "execution_count": 59,
   "metadata": {},
   "outputs": [],
   "source": [
    "import pickle"
   ]
  },
  {
   "cell_type": "code",
   "execution_count": 60,
   "metadata": {},
   "outputs": [],
   "source": [
    "with open('reports/nd_infer/ind_av_rouge_nd.pickle', 'rb') as handle:\n",
    "    ind_av_rouge_nd = pickle.load(handle)\n",
    "\n",
    "with open('reports/nd_infer/batch_rouge_calculations_nd.pickle', 'rb') as handle:\n",
    "    batch_rouge_calculations_nd = pickle.load(handle)"
   ]
  },
  {
   "cell_type": "code",
   "execution_count": 61,
   "metadata": {},
   "outputs": [
    {
     "data": {
      "text/plain": [
       "65"
      ]
     },
     "execution_count": 61,
     "metadata": {},
     "output_type": "execute_result"
    }
   ],
   "source": [
    "len(batch_rouge_calculations_nd)"
   ]
  },
  {
   "cell_type": "code",
   "execution_count": 62,
   "metadata": {},
   "outputs": [],
   "source": [
    "import seaborn as sns"
   ]
  },
  {
   "cell_type": "code",
   "execution_count": 63,
   "metadata": {},
   "outputs": [
    {
     "data": {
      "text/plain": [
       "array([0., 0., 0., 0., 0., 0., 0., 0., 0., 0.])"
      ]
     },
     "execution_count": 63,
     "metadata": {},
     "output_type": "execute_result"
    }
   ],
   "source": [
    "np.zeros(10)"
   ]
  },
  {
   "cell_type": "code",
   "execution_count": 64,
   "metadata": {},
   "outputs": [
    {
     "name": "stdout",
     "output_type": "stream",
     "text": [
      "65\n"
     ]
    }
   ],
   "source": [
    "len(batch_probs_rouge)\n",
    "full = np.concatenate((np.zeros(10), np.array(batch_probs_rouge)))\n",
    "print(len(full))"
   ]
  },
  {
   "cell_type": "code",
   "execution_count": 65,
   "metadata": {},
   "outputs": [
    {
     "data": {
      "text/plain": [
       "<Axes: >"
      ]
     },
     "execution_count": 65,
     "metadata": {},
     "output_type": "execute_result"
    },
    {
     "data": {
      "image/png": "[encoded data removed]",
      "text/plain": [
       "<Figure size 640x480 with 1 Axes>"
      ]
     },
     "metadata": {},
     "output_type": "display_data"
    }
   ],
   "source": [
    "sns.lineplot(x=range(1, 66), y=ind_av_rouge_nd)\n",
    "sns.lineplot(x=range(1, 66), y=batch_rouge_calculations_nd)\n",
    "sns.lineplot(x=range(1, 66), y=full)"
   ]
  },
  {
   "cell_type": "code",
   "execution_count": null,
   "metadata": {},
   "outputs": [],
   "source": []
  }
 ],
 "metadata": {
  "kernelspec": {
   "display_name": "dd_spek",
   "language": "python",
   "name": "python3"
  },
  "language_info": {
   "codemirror_mode": {
    "name": "ipython",
    "version": 3
   },
   "file_extension": ".py",
   "mimetype": "text/x-python",
   "name": "python",
   "nbconvert_exporter": "python",
   "pygments_lexer": "ipython3",
   "version": "3.11.8"
  }
 },
 "nbformat": 4,
 "nbformat_minor": 2
}
